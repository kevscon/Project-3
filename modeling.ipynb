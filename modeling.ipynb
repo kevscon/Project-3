{
 "cells": [
  {
   "cell_type": "markdown",
   "metadata": {},
   "source": [
    "This notebook models classifiers to detect if a given county is a close result in the 2016 election (labeled \"swing\") or not (labeled \"safe\"). Interpretable models will be used to investigate which features indicate a battleground county. Models prioritize sensitivity (higher true positive rate) with recall score."
   ]
  },
  {
   "cell_type": "markdown",
   "metadata": {},
   "source": [
    "# Imports"
   ]
  },
  {
   "cell_type": "code",
   "execution_count": 1,
   "metadata": {},
   "outputs": [],
   "source": [
    "import numpy as np\n",
    "import pandas as pd\n",
    "import matplotlib.pyplot as plt\n",
    "import matplotlib.patches as mpatches\n",
    "import seaborn as sns"
   ]
  },
  {
   "cell_type": "markdown",
   "metadata": {},
   "source": [
    "## sklearn"
   ]
  },
  {
   "cell_type": "code",
   "execution_count": 2,
   "metadata": {},
   "outputs": [],
   "source": [
    "from sklearn.model_selection import train_test_split\n",
    "from sklearn import preprocessing\n",
    "from sklearn.preprocessing import StandardScaler\n",
    "from sklearn.pipeline import Pipeline\n",
    "from sklearn import metrics\n",
    "from sklearn.metrics import precision_recall_curve\n",
    "from sklearn.metrics import auc\n",
    "from sklearn.metrics import roc_curve\n",
    "from sklearn.metrics import roc_auc_score\n",
    "# tuning\n",
    "from sklearn.model_selection import GridSearchCV\n",
    "from sklearn.model_selection import RandomizedSearchCV\n",
    "# pca\n",
    "from sklearn import decomposition\n",
    "# models\n",
    "from sklearn.linear_model import LogisticRegression\n",
    "from sklearn.ensemble import RandomForestClassifier\n",
    "# model saver\n",
    "from sklearn.externals import joblib"
   ]
  },
  {
   "cell_type": "markdown",
   "metadata": {},
   "source": [
    "## other"
   ]
  },
  {
   "cell_type": "code",
   "execution_count": 3,
   "metadata": {},
   "outputs": [],
   "source": [
    "# upsampling with SMOTE\n",
    "from imblearn import over_sampling\n",
    "from imblearn.pipeline import Pipeline as imbPipeline"
   ]
  },
  {
   "cell_type": "markdown",
   "metadata": {},
   "source": [
    "## Plot Settings"
   ]
  },
  {
   "cell_type": "code",
   "execution_count": 4,
   "metadata": {},
   "outputs": [],
   "source": [
    "# format style\n",
    "plt.style.use('fivethirtyeight')\n",
    "# lineweight\n",
    "plt.rc('lines', linewidth=3)\n",
    "# figure size\n",
    "plt.rc('figure', figsize=(12, 7))\n",
    "# title fontsize\n",
    "plt.rc('axes', titlesize=22) \n",
    "# axes label fontsize\n",
    "plt.rc('axes', labelsize=18)\n",
    "# axes values fontsize\n",
    "plt.rc('xtick', labelsize=12)\n",
    "plt.rc('ytick', labelsize=12)\n",
    "# legend fontsize\n",
    "plt.rc('legend', fontsize=16)"
   ]
  },
  {
   "cell_type": "markdown",
   "metadata": {},
   "source": [
    "# Custom Functions"
   ]
  },
  {
   "cell_type": "markdown",
   "metadata": {},
   "source": [
    "## Feature Weight Sorting"
   ]
  },
  {
   "cell_type": "code",
   "execution_count": 5,
   "metadata": {},
   "outputs": [],
   "source": [
    "def feat_sort(values, labels, ret_num='all'):\n",
    "    '''\n",
    "    Return dataframe of sorted (by absolute value) feature weights\n",
    "    values : feature weight values from analysis\n",
    "    labels : names of each feature\n",
    "    ret_num : number of top features to return\n",
    "    '''\n",
    "    \n",
    "    df = pd.DataFrame(values, index=labels, columns=['feat_wgt'])\n",
    "    # drop weights = 0\n",
    "    df = df[df['feat_wgt'] != 0]\n",
    "    # note which weights are positive\n",
    "    df['positive'] = df['feat_wgt'] > 0\n",
    "    # take absolute value of weights\n",
    "    df['feat_wgt'] = df['feat_wgt'].apply(abs)\n",
    "    # sort weights (largest to smalles)\n",
    "    df.sort_values(by='feat_wgt', ascending=False, inplace=True)\n",
    "    if ret_num == 'all':\n",
    "        return(df)\n",
    "    else:\n",
    "        return(df.iloc[:ret_num, :])"
   ]
  },
  {
   "cell_type": "markdown",
   "metadata": {},
   "source": [
    "## Space Log\n",
    "Return range of numbers between two values in a log scale"
   ]
  },
  {
   "cell_type": "code",
   "execution_count": 6,
   "metadata": {},
   "outputs": [],
   "source": [
    "def space_log(start, stop, number):\n",
    "    return(np.exp(np.linspace(np.log(start), np.log(stop), number)))"
   ]
  },
  {
   "cell_type": "markdown",
   "metadata": {},
   "source": [
    "# Data"
   ]
  },
  {
   "cell_type": "code",
   "execution_count": 7,
   "metadata": {},
   "outputs": [
    {
     "data": {
      "text/html": [
       "<div>\n",
       "<style scoped>\n",
       "    .dataframe tbody tr th:only-of-type {\n",
       "        vertical-align: middle;\n",
       "    }\n",
       "\n",
       "    .dataframe tbody tr th {\n",
       "        vertical-align: top;\n",
       "    }\n",
       "\n",
       "    .dataframe thead th {\n",
       "        text-align: right;\n",
       "    }\n",
       "</style>\n",
       "<table border=\"1\" class=\"dataframe\">\n",
       "  <thead>\n",
       "    <tr style=\"text-align: right;\">\n",
       "      <th></th>\n",
       "      <th>population</th>\n",
       "      <th>growth</th>\n",
       "      <th>households</th>\n",
       "      <th>median_age</th>\n",
       "      <th>per_cap_income</th>\n",
       "      <th>hh_income</th>\n",
       "      <th>unempl_rate</th>\n",
       "      <th>poverty_rate</th>\n",
       "      <th>hs_rate</th>\n",
       "      <th>college_rate</th>\n",
       "      <th>density</th>\n",
       "      <th>white_rate</th>\n",
       "      <th>hisp_rate</th>\n",
       "      <th>close_elect</th>\n",
       "    </tr>\n",
       "    <tr>\n",
       "      <th>code</th>\n",
       "      <th></th>\n",
       "      <th></th>\n",
       "      <th></th>\n",
       "      <th></th>\n",
       "      <th></th>\n",
       "      <th></th>\n",
       "      <th></th>\n",
       "      <th></th>\n",
       "      <th></th>\n",
       "      <th></th>\n",
       "      <th></th>\n",
       "      <th></th>\n",
       "      <th></th>\n",
       "      <th></th>\n",
       "    </tr>\n",
       "  </thead>\n",
       "  <tbody>\n",
       "    <tr>\n",
       "      <th>1001</th>\n",
       "      <td>55504.0</td>\n",
       "      <td>1.7</td>\n",
       "      <td>20800.0</td>\n",
       "      <td>37.8</td>\n",
       "      <td>39721.0</td>\n",
       "      <td>54487.0</td>\n",
       "      <td>3.9</td>\n",
       "      <td>13.5</td>\n",
       "      <td>87.6</td>\n",
       "      <td>24.6</td>\n",
       "      <td>93.371913</td>\n",
       "      <td>0.762305</td>\n",
       "      <td>0.025512</td>\n",
       "      <td>0</td>\n",
       "    </tr>\n",
       "    <tr>\n",
       "      <th>1003</th>\n",
       "      <td>212628.0</td>\n",
       "      <td>16.7</td>\n",
       "      <td>75149.0</td>\n",
       "      <td>42.3</td>\n",
       "      <td>41286.0</td>\n",
       "      <td>56460.0</td>\n",
       "      <td>4.0</td>\n",
       "      <td>11.7</td>\n",
       "      <td>90.0</td>\n",
       "      <td>29.5</td>\n",
       "      <td>133.746808</td>\n",
       "      <td>0.810999</td>\n",
       "      <td>0.040973</td>\n",
       "      <td>0</td>\n",
       "    </tr>\n",
       "    <tr>\n",
       "      <th>1005</th>\n",
       "      <td>25270.0</td>\n",
       "      <td>-8.0</td>\n",
       "      <td>9122.0</td>\n",
       "      <td>38.7</td>\n",
       "      <td>31788.0</td>\n",
       "      <td>32884.0</td>\n",
       "      <td>5.9</td>\n",
       "      <td>29.9</td>\n",
       "      <td>73.8</td>\n",
       "      <td>12.9</td>\n",
       "      <td>28.557545</td>\n",
       "      <td>0.491888</td>\n",
       "      <td>0.045390</td>\n",
       "      <td>0</td>\n",
       "    </tr>\n",
       "    <tr>\n",
       "      <th>1007</th>\n",
       "      <td>22668.0</td>\n",
       "      <td>-1.1</td>\n",
       "      <td>7048.0</td>\n",
       "      <td>40.2</td>\n",
       "      <td>29264.0</td>\n",
       "      <td>43079.0</td>\n",
       "      <td>4.4</td>\n",
       "      <td>20.1</td>\n",
       "      <td>80.7</td>\n",
       "      <td>12.0</td>\n",
       "      <td>36.409779</td>\n",
       "      <td>0.766278</td>\n",
       "      <td>0.022146</td>\n",
       "      <td>0</td>\n",
       "    </tr>\n",
       "    <tr>\n",
       "      <th>1009</th>\n",
       "      <td>58013.0</td>\n",
       "      <td>1.2</td>\n",
       "      <td>20619.0</td>\n",
       "      <td>40.8</td>\n",
       "      <td>31470.0</td>\n",
       "      <td>47213.0</td>\n",
       "      <td>4.0</td>\n",
       "      <td>14.1</td>\n",
       "      <td>80.0</td>\n",
       "      <td>13.0</td>\n",
       "      <td>89.973324</td>\n",
       "      <td>0.949322</td>\n",
       "      <td>0.086808</td>\n",
       "      <td>0</td>\n",
       "    </tr>\n",
       "  </tbody>\n",
       "</table>\n",
       "</div>"
      ],
      "text/plain": [
       "      population  growth  households  median_age  per_cap_income  hh_income  \\\n",
       "code                                                                          \n",
       "1001     55504.0     1.7     20800.0        37.8         39721.0    54487.0   \n",
       "1003    212628.0    16.7     75149.0        42.3         41286.0    56460.0   \n",
       "1005     25270.0    -8.0      9122.0        38.7         31788.0    32884.0   \n",
       "1007     22668.0    -1.1      7048.0        40.2         29264.0    43079.0   \n",
       "1009     58013.0     1.2     20619.0        40.8         31470.0    47213.0   \n",
       "\n",
       "      unempl_rate  poverty_rate  hs_rate  college_rate     density  \\\n",
       "code                                                                 \n",
       "1001          3.9          13.5     87.6          24.6   93.371913   \n",
       "1003          4.0          11.7     90.0          29.5  133.746808   \n",
       "1005          5.9          29.9     73.8          12.9   28.557545   \n",
       "1007          4.4          20.1     80.7          12.0   36.409779   \n",
       "1009          4.0          14.1     80.0          13.0   89.973324   \n",
       "\n",
       "      white_rate  hisp_rate  close_elect  \n",
       "code                                      \n",
       "1001    0.762305   0.025512            0  \n",
       "1003    0.810999   0.040973            0  \n",
       "1005    0.491888   0.045390            0  \n",
       "1007    0.766278   0.022146            0  \n",
       "1009    0.949322   0.086808            0  "
      ]
     },
     "execution_count": 7,
     "metadata": {},
     "output_type": "execute_result"
    }
   ],
   "source": [
    "df = pd.read_csv('data/county_data.csv', index_col=0)\n",
    "df.head()"
   ]
  },
  {
   "cell_type": "code",
   "execution_count": 8,
   "metadata": {},
   "outputs": [],
   "source": [
    "# drop nans\n",
    "df.dropna(inplace=True);"
   ]
  },
  {
   "cell_type": "markdown",
   "metadata": {},
   "source": [
    "## Dataframes"
   ]
  },
  {
   "cell_type": "code",
   "execution_count": 9,
   "metadata": {},
   "outputs": [],
   "source": [
    "# initialize feature dataframe and observed outcome\n",
    "X = df.iloc[:, 0:13]\n",
    "y = df.iloc[:, 13]"
   ]
  },
  {
   "cell_type": "markdown",
   "metadata": {},
   "source": [
    "## EDA"
   ]
  },
  {
   "cell_type": "code",
   "execution_count": 10,
   "metadata": {},
   "outputs": [],
   "source": [
    "# sns.pairplot(df);"
   ]
  },
  {
   "cell_type": "code",
   "execution_count": 11,
   "metadata": {},
   "outputs": [
    {
     "data": {
      "text/html": [
       "<div>\n",
       "<style scoped>\n",
       "    .dataframe tbody tr th:only-of-type {\n",
       "        vertical-align: middle;\n",
       "    }\n",
       "\n",
       "    .dataframe tbody tr th {\n",
       "        vertical-align: top;\n",
       "    }\n",
       "\n",
       "    .dataframe thead th {\n",
       "        text-align: right;\n",
       "    }\n",
       "</style>\n",
       "<table border=\"1\" class=\"dataframe\">\n",
       "  <thead>\n",
       "    <tr style=\"text-align: right;\">\n",
       "      <th></th>\n",
       "      <th>population</th>\n",
       "      <th>growth</th>\n",
       "      <th>households</th>\n",
       "      <th>median_age</th>\n",
       "      <th>per_cap_income</th>\n",
       "      <th>hh_income</th>\n",
       "      <th>unempl_rate</th>\n",
       "      <th>poverty_rate</th>\n",
       "      <th>hs_rate</th>\n",
       "      <th>college_rate</th>\n",
       "      <th>density</th>\n",
       "      <th>white_rate</th>\n",
       "      <th>hisp_rate</th>\n",
       "    </tr>\n",
       "    <tr>\n",
       "      <th>close_elect</th>\n",
       "      <th></th>\n",
       "      <th></th>\n",
       "      <th></th>\n",
       "      <th></th>\n",
       "      <th></th>\n",
       "      <th></th>\n",
       "      <th></th>\n",
       "      <th></th>\n",
       "      <th></th>\n",
       "      <th></th>\n",
       "      <th></th>\n",
       "      <th></th>\n",
       "      <th></th>\n",
       "    </tr>\n",
       "  </thead>\n",
       "  <tbody>\n",
       "    <tr>\n",
       "      <th>0</th>\n",
       "      <td>97754.622861</td>\n",
       "      <td>0.673854</td>\n",
       "      <td>35383.793292</td>\n",
       "      <td>41.180151</td>\n",
       "      <td>40647.942847</td>\n",
       "      <td>49173.193018</td>\n",
       "      <td>4.611328</td>\n",
       "      <td>15.914203</td>\n",
       "      <td>85.657392</td>\n",
       "      <td>20.269884</td>\n",
       "      <td>251.164202</td>\n",
       "      <td>0.838362</td>\n",
       "      <td>0.088684</td>\n",
       "    </tr>\n",
       "    <tr>\n",
       "      <th>1</th>\n",
       "      <td>213686.159236</td>\n",
       "      <td>2.568153</td>\n",
       "      <td>77334.891720</td>\n",
       "      <td>38.888535</td>\n",
       "      <td>42207.388535</td>\n",
       "      <td>53773.019108</td>\n",
       "      <td>4.530573</td>\n",
       "      <td>15.549045</td>\n",
       "      <td>88.495541</td>\n",
       "      <td>27.620382</td>\n",
       "      <td>317.779807</td>\n",
       "      <td>0.760183</td>\n",
       "      <td>0.095176</td>\n",
       "    </tr>\n",
       "  </tbody>\n",
       "</table>\n",
       "</div>"
      ],
      "text/plain": [
       "                population    growth    households  median_age  \\\n",
       "close_elect                                                      \n",
       "0             97754.622861  0.673854  35383.793292   41.180151   \n",
       "1            213686.159236  2.568153  77334.891720   38.888535   \n",
       "\n",
       "             per_cap_income     hh_income  unempl_rate  poverty_rate  \\\n",
       "close_elect                                                            \n",
       "0              40647.942847  49173.193018     4.611328     15.914203   \n",
       "1              42207.388535  53773.019108     4.530573     15.549045   \n",
       "\n",
       "               hs_rate  college_rate     density  white_rate  hisp_rate  \n",
       "close_elect                                                              \n",
       "0            85.657392     20.269884  251.164202    0.838362   0.088684  \n",
       "1            88.495541     27.620382  317.779807    0.760183   0.095176  "
      ]
     },
     "execution_count": 11,
     "metadata": {},
     "output_type": "execute_result"
    }
   ],
   "source": [
    "# inspect mean values of features for not-close vs close outcomes\n",
    "df.groupby('close_elect').mean()"
   ]
  },
  {
   "cell_type": "code",
   "execution_count": 12,
   "metadata": {},
   "outputs": [],
   "source": [
    "close = (df['close_elect'] == 1).sum()\n",
    "not_close = (df['close_elect'] == 0).sum()"
   ]
  },
  {
   "cell_type": "code",
   "execution_count": 13,
   "metadata": {},
   "outputs": [
    {
     "data": {
      "text/plain": [
       "0.9490094186424164"
      ]
     },
     "execution_count": 13,
     "metadata": {},
     "output_type": "execute_result"
    }
   ],
   "source": [
    "# baseline, null model accuracy - guess '0' every time\n",
    "(df['close_elect'] == 0).sum() / len(df)"
   ]
  },
  {
   "cell_type": "code",
   "execution_count": 14,
   "metadata": {},
   "outputs": [
    {
     "data": {
      "image/png": "[encoded data removed]",
      "text/plain": [
       "<Figure size 864x504 with 1 Axes>"
      ]
     },
     "metadata": {},
     "output_type": "display_data"
    }
   ],
   "source": [
    "# plot pie chart\n",
    "\n",
    "sizes = [not_close, close]\n",
    "explode = (0, 0.1)\n",
    "colors = ['black', 'purple']\n",
    "\n",
    "fig, ax = plt.subplots()\n",
    "ax.pie(sizes, labels=['Safe', 'Swing'], explode=explode, colors=colors,\n",
    "        shadow=True, startangle=90)\n",
    "ax.axis('equal') # circle shape\n",
    "ax.set_title('County Class Representation')\n",
    "ax.legend();\n",
    "# plt.savefig('model_output/cls_rep.png')"
   ]
  },
  {
   "cell_type": "markdown",
   "metadata": {},
   "source": [
    "**Notes**\n",
    "- Data is extremely unbalanced  \n",
    "- \"Safe\" counties are much more prevalent in data (about 95% of observations)\n",
    "- A model could attain 95% accuracy by always predicting \"safe\" counties!"
   ]
  },
  {
   "cell_type": "markdown",
   "metadata": {},
   "source": [
    "## Principle Component Analysis (PCA)\n",
    "Reduce dimensionality of data to 2-D so that grouping trends can potentially be visualized"
   ]
  },
  {
   "cell_type": "markdown",
   "metadata": {},
   "source": [
    "### Scaling"
   ]
  },
  {
   "cell_type": "code",
   "execution_count": 15,
   "metadata": {},
   "outputs": [],
   "source": [
    "# scale data to have mean = 0 and variance = 1\n",
    "scaler = preprocessing.StandardScaler()\n",
    "X_scl = scaler.fit_transform(X)"
   ]
  },
  {
   "cell_type": "code",
   "execution_count": 16,
   "metadata": {},
   "outputs": [],
   "source": [
    "# decomposition to 2-D\n",
    "pca = decomposition.PCA(n_components=2)\n",
    "pca_features = pca.fit_transform(X_scl)"
   ]
  },
  {
   "cell_type": "code",
   "execution_count": 17,
   "metadata": {
    "scrolled": false
   },
   "outputs": [
    {
     "data": {
      "image/png": "[encoded data removed]",
      "text/plain": [
       "<Figure size 864x504 with 1 Axes>"
      ]
     },
     "metadata": {},
     "output_type": "display_data"
    }
   ],
   "source": [
    "# plot components\n",
    "class_labels = ['Safe', 'Swing']\n",
    "colors = ['black', 'purple']\n",
    "\n",
    "plt.figure()\n",
    "for i, label in enumerate(class_labels):\n",
    "    plt.scatter(pca_features[y == i, 0], pca_features[y == i, 1],\n",
    "                label=label, c=colors[i])\n",
    "plt.xlabel('Principle Component 1')\n",
    "plt.ylabel('Principle Component 2')\n",
    "plt.title('PCA of County Features')\n",
    "plt.xticks([]) # component valuables not interpretable\n",
    "plt.yticks([]) # component valuables not interpretable\n",
    "plt.legend();\n",
    "# plt.savefig('model_output/pca.png')"
   ]
  },
  {
   "cell_type": "markdown",
   "metadata": {},
   "source": [
    "# Pre-processing"
   ]
  },
  {
   "cell_type": "markdown",
   "metadata": {},
   "source": [
    "## Train/test Split"
   ]
  },
  {
   "cell_type": "code",
   "execution_count": 10,
   "metadata": {},
   "outputs": [],
   "source": [
    "X_train, X_test, y_train, y_test = train_test_split(X, y, test_size=0.25, random_state=0)"
   ]
  },
  {
   "cell_type": "markdown",
   "metadata": {},
   "source": [
    "**Notes**  \n",
    "Swing counties seem to have a grouping trend but are not noticeably separated from safe counties"
   ]
  },
  {
   "cell_type": "markdown",
   "metadata": {},
   "source": [
    "# Logistic Regression Modeling"
   ]
  },
  {
   "cell_type": "code",
   "execution_count": 19,
   "metadata": {},
   "outputs": [],
   "source": [
    "# dictionary to record model results\n",
    "log_recalls = {}"
   ]
  },
  {
   "cell_type": "markdown",
   "metadata": {},
   "source": [
    "## Initial Model"
   ]
  },
  {
   "cell_type": "code",
   "execution_count": 20,
   "metadata": {},
   "outputs": [],
   "source": [
    "# model pipeline includes scaling\n",
    "log_pipe = Pipeline([\n",
    "    ('scaler', preprocessing.StandardScaler()),\n",
    "    ('model', LogisticRegression())\n",
    "])"
   ]
  },
  {
   "cell_type": "code",
   "execution_count": 21,
   "metadata": {},
   "outputs": [],
   "source": [
    "log_pipe.fit(X_train, y_train)\n",
    "log_pred = log_pipe.predict(X_test)"
   ]
  },
  {
   "cell_type": "code",
   "execution_count": 22,
   "metadata": {},
   "outputs": [
    {
     "name": "stdout",
     "output_type": "stream",
     "text": [
      "             precision    recall  f1-score   support\n",
      "\n",
      "          0       0.95      1.00      0.97       729\n",
      "          1       0.00      0.00      0.00        41\n",
      "\n",
      "avg / total       0.90      0.95      0.92       770\n",
      "\n"
     ]
    },
    {
     "name": "stderr",
     "output_type": "stream",
     "text": [
      "/home/kevcon/anaconda3/lib/python3.6/site-packages/sklearn/metrics/classification.py:1135: UndefinedMetricWarning: Precision and F-score are ill-defined and being set to 0.0 in labels with no predicted samples.\n",
      "  'precision', 'predicted', average, warn_for)\n"
     ]
    }
   ],
   "source": [
    "print(metrics.classification_report(y_test, log_pred))"
   ]
  },
  {
   "cell_type": "code",
   "execution_count": 23,
   "metadata": {},
   "outputs": [
    {
     "data": {
      "text/plain": [
       "array([[729,   0],\n",
       "       [ 41,   0]])"
      ]
     },
     "execution_count": 23,
     "metadata": {},
     "output_type": "execute_result"
    }
   ],
   "source": [
    "metrics.confusion_matrix(y_test, log_pred)"
   ]
  },
  {
   "cell_type": "markdown",
   "metadata": {},
   "source": [
    "**Notes**\n",
    "- model does not accurately predict any swing counties  \n",
    "    - this is a result of the severe imbalance of classes in the dataset\n",
    "- recall is to be prioritized\n",
    "    - this will help the model capture more swing counties (label 1)\n",
    "    - may result in more false positives and reduced overall accuracy"
   ]
  },
  {
   "cell_type": "markdown",
   "metadata": {},
   "source": [
    "## Tuning with GridSearch\n",
    "Tune model hyperparameter for optimal model performance"
   ]
  },
  {
   "cell_type": "code",
   "execution_count": 24,
   "metadata": {},
   "outputs": [],
   "source": [
    "# try range of values for C and penalty hyperparameters\n",
    "hyperparams = {'model__penalty':['l1', 'l2'], 'model__C': space_log(0.001, 100, 15)}"
   ]
  },
  {
   "cell_type": "code",
   "execution_count": 25,
   "metadata": {},
   "outputs": [],
   "source": [
    "# tune model pipeline for recall\n",
    "log_tune = GridSearchCV(log_pipe, hyperparams, cv=10, scoring='recall')"
   ]
  },
  {
   "cell_type": "code",
   "execution_count": 26,
   "metadata": {},
   "outputs": [
    {
     "data": {
      "text/plain": [
       "GridSearchCV(cv=10, error_score='raise',\n",
       "       estimator=Pipeline(memory=None,\n",
       "     steps=[('scaler', StandardScaler(copy=True, with_mean=True, with_std=True)), ('model', LogisticRegression(C=1.0, class_weight=None, dual=False, fit_intercept=True,\n",
       "          intercept_scaling=1, max_iter=100, multi_class='ovr', n_jobs=1,\n",
       "          penalty='l2', random_state=None, solver='liblinear', tol=0.0001,\n",
       "          verbose=0, warm_start=False))]),\n",
       "       fit_params=None, iid=True, n_jobs=1,\n",
       "       param_grid={'model__penalty': ['l1', 'l2'], 'model__C': array([1.00000e-03, 2.27585e-03, 5.17947e-03, 1.17877e-02, 2.68270e-02,\n",
       "       6.10540e-02, 1.38950e-01, 3.16228e-01, 7.19686e-01, 1.63789e+00,\n",
       "       3.72759e+00, 8.48343e+00, 1.93070e+01, 4.39397e+01, 1.00000e+02])},\n",
       "       pre_dispatch='2*n_jobs', refit=True, return_train_score='warn',\n",
       "       scoring='recall', verbose=0)"
      ]
     },
     "execution_count": 26,
     "metadata": {},
     "output_type": "execute_result"
    }
   ],
   "source": [
    "log_tune.fit(X_train, y_train)"
   ]
  },
  {
   "cell_type": "code",
   "execution_count": 27,
   "metadata": {},
   "outputs": [],
   "source": [
    "# assign best hyperparameter values from tuning\n",
    "best_penalty = log_tune.best_params_['model__penalty']\n",
    "best_C = log_tune.best_params_['model__C']"
   ]
  },
  {
   "cell_type": "code",
   "execution_count": 28,
   "metadata": {},
   "outputs": [],
   "source": [
    "# model pipeline with optimal hyperparameters\n",
    "log_pipe = Pipeline([\n",
    "    ('scaler', preprocessing.StandardScaler()),\n",
    "    ('model', LogisticRegression(penalty=best_penalty, C=best_C))\n",
    "])"
   ]
  },
  {
   "cell_type": "code",
   "execution_count": 29,
   "metadata": {},
   "outputs": [],
   "source": [
    "log_pipe.fit(X_train, y_train)\n",
    "log_pred = log_pipe.predict(X_test)"
   ]
  },
  {
   "cell_type": "code",
   "execution_count": 30,
   "metadata": {},
   "outputs": [
    {
     "name": "stderr",
     "output_type": "stream",
     "text": [
      "/home/kevcon/anaconda3/lib/python3.6/site-packages/sklearn/metrics/classification.py:1135: UndefinedMetricWarning: Precision and F-score are ill-defined and being set to 0.0 in labels with no predicted samples.\n",
      "  'precision', 'predicted', average, warn_for)\n"
     ]
    }
   ],
   "source": [
    "# record model recall results\n",
    "precision, recall, fscore, support = metrics.precision_recall_fscore_support(y_test, log_pred)\n",
    "log_recalls['initial'] = recall[1]"
   ]
  },
  {
   "cell_type": "code",
   "execution_count": 31,
   "metadata": {},
   "outputs": [
    {
     "name": "stdout",
     "output_type": "stream",
     "text": [
      "             precision    recall  f1-score   support\n",
      "\n",
      "          0       0.95      1.00      0.97       729\n",
      "          1       0.00      0.00      0.00        41\n",
      "\n",
      "avg / total       0.90      0.95      0.92       770\n",
      "\n"
     ]
    },
    {
     "name": "stderr",
     "output_type": "stream",
     "text": [
      "/home/kevcon/anaconda3/lib/python3.6/site-packages/sklearn/metrics/classification.py:1135: UndefinedMetricWarning: Precision and F-score are ill-defined and being set to 0.0 in labels with no predicted samples.\n",
      "  'precision', 'predicted', average, warn_for)\n"
     ]
    }
   ],
   "source": [
    "print(metrics.classification_report(y_test, log_pred))"
   ]
  },
  {
   "cell_type": "code",
   "execution_count": 32,
   "metadata": {},
   "outputs": [
    {
     "data": {
      "text/plain": [
       "array([[729,   0],\n",
       "       [ 41,   0]])"
      ]
     },
     "execution_count": 32,
     "metadata": {},
     "output_type": "execute_result"
    }
   ],
   "source": [
    "metrics.confusion_matrix(y_test, log_pred)"
   ]
  },
  {
   "cell_type": "markdown",
   "metadata": {},
   "source": [
    "**Notes**  \n",
    "Tuning did not increase recall for swing counties"
   ]
  },
  {
   "cell_type": "markdown",
   "metadata": {},
   "source": [
    "## Balanced Weights\n",
    "Modifies \"weights\" of classes in algorithm's cost function to place greater importance on minority class  \n",
    "Balanced weights are inversely proportional to the frequency of class observations"
   ]
  },
  {
   "cell_type": "code",
   "execution_count": 33,
   "metadata": {},
   "outputs": [],
   "source": [
    "# model pipeline with class weights set to balanced\n",
    "log_pipe = Pipeline([\n",
    "    ('scaler', preprocessing.StandardScaler()),\n",
    "    ('model', LogisticRegression(class_weight='balanced'))\n",
    "])"
   ]
  },
  {
   "cell_type": "code",
   "execution_count": 34,
   "metadata": {},
   "outputs": [],
   "source": [
    "log_pipe.fit(X_train, y_train)\n",
    "log_pred = log_pipe.predict(X_test)"
   ]
  },
  {
   "cell_type": "code",
   "execution_count": 35,
   "metadata": {},
   "outputs": [
    {
     "name": "stdout",
     "output_type": "stream",
     "text": [
      "             precision    recall  f1-score   support\n",
      "\n",
      "          0       0.98      0.77      0.86       729\n",
      "          1       0.15      0.71      0.24        41\n",
      "\n",
      "avg / total       0.93      0.77      0.83       770\n",
      "\n"
     ]
    }
   ],
   "source": [
    "print(metrics.classification_report(y_test, log_pred))"
   ]
  },
  {
   "cell_type": "code",
   "execution_count": 36,
   "metadata": {},
   "outputs": [
    {
     "data": {
      "text/plain": [
       "array([[562, 167],\n",
       "       [ 12,  29]])"
      ]
     },
     "execution_count": 36,
     "metadata": {},
     "output_type": "execute_result"
    }
   ],
   "source": [
    "metrics.confusion_matrix(y_test, log_pred)"
   ]
  },
  {
   "cell_type": "markdown",
   "metadata": {},
   "source": [
    "**Notes**  \n",
    "This greatly increased recall for label 1 classification  \n",
    "Try tuning this model"
   ]
  },
  {
   "cell_type": "code",
   "execution_count": 37,
   "metadata": {},
   "outputs": [],
   "source": [
    "hyperparams = {'model__penalty':['l1', 'l2'], 'model__C': space_log(0.001, 100, 15)}\n",
    "log_tune = GridSearchCV(log_pipe, hyperparams, cv=10, scoring='recall')\n",
    "log_tune.fit(X_train, y_train)\n",
    "best_penalty_bal = log_tune.best_params_['model__penalty']\n",
    "best_C_bal = log_tune.best_params_['model__C']"
   ]
  },
  {
   "cell_type": "code",
   "execution_count": 38,
   "metadata": {},
   "outputs": [],
   "source": [
    "# update hyperparameters in pipeline\n",
    "log_pipe = Pipeline([\n",
    "    ('scaler', preprocessing.StandardScaler()),\n",
    "    ('model', LogisticRegression(penalty=best_penalty_bal, C=best_C_bal, class_weight='balanced'))\n",
    "])"
   ]
  },
  {
   "cell_type": "code",
   "execution_count": 39,
   "metadata": {},
   "outputs": [],
   "source": [
    "log_pipe.fit(X_train, y_train)\n",
    "log_pred = log_pipe.predict(X_test)"
   ]
  },
  {
   "cell_type": "code",
   "execution_count": 40,
   "metadata": {},
   "outputs": [],
   "source": [
    "# record model recall results\n",
    "precision, recall, fscore, support = metrics.precision_recall_fscore_support(y_test, log_pred)\n",
    "log_recalls['balanced'] = recall[1]"
   ]
  },
  {
   "cell_type": "code",
   "execution_count": 41,
   "metadata": {},
   "outputs": [
    {
     "name": "stdout",
     "output_type": "stream",
     "text": [
      "             precision    recall  f1-score   support\n",
      "\n",
      "          0       0.98      0.71      0.82       729\n",
      "          1       0.13      0.78      0.22        41\n",
      "\n",
      "avg / total       0.94      0.71      0.79       770\n",
      "\n"
     ]
    }
   ],
   "source": [
    "print(metrics.classification_report(y_test, log_pred))"
   ]
  },
  {
   "cell_type": "code",
   "execution_count": 42,
   "metadata": {},
   "outputs": [
    {
     "data": {
      "text/plain": [
       "array([[516, 213],\n",
       "       [  9,  32]])"
      ]
     },
     "execution_count": 42,
     "metadata": {},
     "output_type": "execute_result"
    }
   ],
   "source": [
    "metrics.confusion_matrix(y_test, log_pred)"
   ]
  },
  {
   "cell_type": "markdown",
   "metadata": {},
   "source": [
    "**Notes**  \n",
    "Model performance increased with tuning"
   ]
  },
  {
   "cell_type": "markdown",
   "metadata": {},
   "source": [
    "## Synthetic Minority Over-sampling Technique (SMOTE)\n",
    "Oversampling method that generates synthetic samples of the minority class"
   ]
  },
  {
   "cell_type": "code",
   "execution_count": 43,
   "metadata": {},
   "outputs": [],
   "source": [
    "# model pipeline with SMOTE applied\n",
    "log_pipe = imbPipeline([\n",
    "    ('oversample', over_sampling.SMOTE(random_state=0)),\n",
    "    ('scaler', preprocessing.StandardScaler()),\n",
    "    ('model', LogisticRegression())    \n",
    "])"
   ]
  },
  {
   "cell_type": "code",
   "execution_count": 44,
   "metadata": {},
   "outputs": [],
   "source": [
    "log_pipe.fit(X_train, y_train)\n",
    "log_pred = log_pipe.predict(X_test)"
   ]
  },
  {
   "cell_type": "code",
   "execution_count": 45,
   "metadata": {},
   "outputs": [
    {
     "name": "stdout",
     "output_type": "stream",
     "text": [
      "             precision    recall  f1-score   support\n",
      "\n",
      "          0       0.97      0.78      0.86       729\n",
      "          1       0.13      0.59      0.21        41\n",
      "\n",
      "avg / total       0.93      0.76      0.83       770\n",
      "\n"
     ]
    }
   ],
   "source": [
    "print(metrics.classification_report(y_test, log_pred))"
   ]
  },
  {
   "cell_type": "code",
   "execution_count": 46,
   "metadata": {
    "scrolled": true
   },
   "outputs": [
    {
     "data": {
      "text/plain": [
       "array([[565, 164],\n",
       "       [ 17,  24]])"
      ]
     },
     "execution_count": 46,
     "metadata": {},
     "output_type": "execute_result"
    }
   ],
   "source": [
    "metrics.confusion_matrix(y_test, log_pred)"
   ]
  },
  {
   "cell_type": "markdown",
   "metadata": {},
   "source": [
    "**Notes**  \n",
    "This greatly increased recall for label 1 classification compared with initial model  \n",
    "Try tuning this model"
   ]
  },
  {
   "cell_type": "code",
   "execution_count": 47,
   "metadata": {},
   "outputs": [],
   "source": [
    "hyperparams = {'model__penalty':['l1', 'l2'], 'model__C': space_log(0.001, 100, 15)}\n",
    "log_tune = GridSearchCV(log_pipe, hyperparams, cv=10, scoring='recall')\n",
    "log_tune.fit(X_train, y_train)\n",
    "best_penalty_smt = log_tune.best_params_['model__penalty']\n",
    "best_C_smt = log_tune.best_params_['model__C']"
   ]
  },
  {
   "cell_type": "code",
   "execution_count": 48,
   "metadata": {},
   "outputs": [],
   "source": [
    "# update hyperparameters in pipeline\n",
    "log_pipe = imbPipeline([\n",
    "    ('oversample', over_sampling.SMOTE(random_state=0)),\n",
    "    ('scaler', preprocessing.StandardScaler()),\n",
    "    ('model', LogisticRegression(penalty=best_penalty_smt, C=best_C_smt))    \n",
    "])"
   ]
  },
  {
   "cell_type": "code",
   "execution_count": 49,
   "metadata": {},
   "outputs": [],
   "source": [
    "log_pipe.fit(X_train, y_train)\n",
    "log_pred = log_pipe.predict(X_test)"
   ]
  },
  {
   "cell_type": "code",
   "execution_count": 50,
   "metadata": {},
   "outputs": [],
   "source": [
    "# record model recall results\n",
    "precision, recall, fscore, support = metrics.precision_recall_fscore_support(y_test, log_pred)\n",
    "log_recalls['smote'] = recall[1]"
   ]
  },
  {
   "cell_type": "code",
   "execution_count": 51,
   "metadata": {},
   "outputs": [
    {
     "name": "stdout",
     "output_type": "stream",
     "text": [
      "             precision    recall  f1-score   support\n",
      "\n",
      "          0       0.97      0.77      0.86       729\n",
      "          1       0.13      0.63      0.22        41\n",
      "\n",
      "avg / total       0.93      0.76      0.82       770\n",
      "\n"
     ]
    }
   ],
   "source": [
    "print(metrics.classification_report(y_test, log_pred))"
   ]
  },
  {
   "cell_type": "code",
   "execution_count": 52,
   "metadata": {},
   "outputs": [
    {
     "data": {
      "text/plain": [
       "array([[559, 170],\n",
       "       [ 15,  26]])"
      ]
     },
     "execution_count": 52,
     "metadata": {},
     "output_type": "execute_result"
    }
   ],
   "source": [
    "metrics.confusion_matrix(y_test, log_pred)"
   ]
  },
  {
   "cell_type": "markdown",
   "metadata": {},
   "source": [
    "**Notes**  \n",
    "Model performance increased with tuning"
   ]
  },
  {
   "cell_type": "markdown",
   "metadata": {},
   "source": [
    "## Final Model\n",
    "Tuned model with balanced weights"
   ]
  },
  {
   "cell_type": "code",
   "execution_count": 53,
   "metadata": {},
   "outputs": [],
   "source": [
    "log_pipe = Pipeline([\n",
    "    ('scaler', preprocessing.StandardScaler()),\n",
    "    ('model', LogisticRegression(penalty=best_penalty_bal, C=best_C_bal, class_weight='balanced'))\n",
    "])"
   ]
  },
  {
   "cell_type": "code",
   "execution_count": 54,
   "metadata": {},
   "outputs": [],
   "source": [
    "log_pipe.fit(X_train, y_train)"
   ]
  },
  {
   "cell_type": "code",
   "execution_count": 12,
   "metadata": {},
   "outputs": [],
   "source": [
    "log_predict = log_pipe.predict(X_test)"
   ]
  },
  {
   "cell_type": "code",
   "execution_count": 55,
   "metadata": {},
   "outputs": [],
   "source": [
    "# save model\n",
    "# filename = 'model_output/log_reg.sav'\n",
    "# joblib.dump(log_pipe, filename)"
   ]
  },
  {
   "cell_type": "code",
   "execution_count": 11,
   "metadata": {},
   "outputs": [],
   "source": [
    "# load saved model\n",
    "# log_pipe = joblib.load('model_output/log_reg.sav')"
   ]
  },
  {
   "cell_type": "markdown",
   "metadata": {},
   "source": [
    "### Evaluation"
   ]
  },
  {
   "cell_type": "code",
   "execution_count": 13,
   "metadata": {},
   "outputs": [
    {
     "name": "stdout",
     "output_type": "stream",
     "text": [
      "             precision    recall  f1-score   support\n",
      "\n",
      "          0       0.98      0.71      0.82       729\n",
      "          1       0.13      0.78      0.22        41\n",
      "\n",
      "avg / total       0.94      0.71      0.79       770\n",
      "\n"
     ]
    }
   ],
   "source": [
    "print(metrics.classification_report(y_test, log_predict))"
   ]
  },
  {
   "cell_type": "code",
   "execution_count": 14,
   "metadata": {},
   "outputs": [
    {
     "data": {
      "text/plain": [
       "array([[516, 213],\n",
       "       [  9,  32]])"
      ]
     },
     "execution_count": 14,
     "metadata": {},
     "output_type": "execute_result"
    }
   ],
   "source": [
    "metrics.confusion_matrix(y_test, log_predict)"
   ]
  },
  {
   "cell_type": "code",
   "execution_count": 51,
   "metadata": {},
   "outputs": [],
   "source": [
    "# probabilities of swing county for each observation\n",
    "log_predict_proba = log_pipe.predict_proba(X_test)[:, 1]"
   ]
  },
  {
   "cell_type": "markdown",
   "metadata": {},
   "source": [
    "#### Receiver Operating Characteristic (ROC)"
   ]
  },
  {
   "cell_type": "code",
   "execution_count": 60,
   "metadata": {},
   "outputs": [],
   "source": [
    "# create ROC curve data\n",
    "# returns false positive rate, true positive rate for range of thresholds\n",
    "log_fpr, log_tpr, log_thresh = roc_curve(y_test, log_predict_proba)"
   ]
  },
  {
   "cell_type": "code",
   "execution_count": 61,
   "metadata": {},
   "outputs": [
    {
     "data": {
      "image/png": "[encoded data removed]",
      "text/plain": [
       "<Figure size 864x504 with 1 Axes>"
      ]
     },
     "metadata": {},
     "output_type": "display_data"
    }
   ],
   "source": [
    "plt.plot(log_fpr, log_tpr)\n",
    "plt.plot([0, 1], [0, 1], linestyle='--')\n",
    "plt.xlabel('False Positive Rate')\n",
    "plt.ylabel('True Positive Rate')\n",
    "plt.title('Logistic Regression ROC Curve');"
   ]
  },
  {
   "cell_type": "markdown",
   "metadata": {},
   "source": [
    "#### Area Under the Curve (AUC) Score"
   ]
  },
  {
   "cell_type": "code",
   "execution_count": 62,
   "metadata": {},
   "outputs": [
    {
     "data": {
      "text/plain": [
       "0.7865100873230955"
      ]
     },
     "execution_count": 62,
     "metadata": {},
     "output_type": "execute_result"
    }
   ],
   "source": [
    "roc_auc_score(y_test, log_predict_proba)"
   ]
  },
  {
   "cell_type": "markdown",
   "metadata": {},
   "source": [
    "**Notes**  \n",
    "Model performance appears to be pretty good based on the AUC. However, this is due to the high class imbalance in the dataset. This is not the best evaluation metric for this analysis."
   ]
  },
  {
   "cell_type": "markdown",
   "metadata": {},
   "source": [
    "#### Precision-Recall"
   ]
  },
  {
   "cell_type": "code",
   "execution_count": 63,
   "metadata": {},
   "outputs": [],
   "source": [
    "# create precision recall curve data\n",
    "# returns precision, recall for range of thresholds\n",
    "log_pre, log_rec, log_thresh = precision_recall_curve(y_test, log_predict_proba)"
   ]
  },
  {
   "cell_type": "code",
   "execution_count": 64,
   "metadata": {
    "scrolled": false
   },
   "outputs": [
    {
     "data": {
      "image/png": "[encoded data removed]",
      "text/plain": [
       "<Figure size 864x504 with 1 Axes>"
      ]
     },
     "metadata": {},
     "output_type": "display_data"
    }
   ],
   "source": [
    "plt.plot(log_rec, log_pre)\n",
    "plt.xlabel('Recall')\n",
    "plt.ylabel('Precision')\n",
    "plt.title('Logistic Regression Precision-Recall');"
   ]
  },
  {
   "cell_type": "markdown",
   "metadata": {},
   "source": [
    "#### Area Under the Curve (AUC) Score"
   ]
  },
  {
   "cell_type": "code",
   "execution_count": 65,
   "metadata": {},
   "outputs": [
    {
     "data": {
      "text/plain": [
       "0.11590327717655888"
      ]
     },
     "execution_count": 65,
     "metadata": {},
     "output_type": "execute_result"
    }
   ],
   "source": [
    "auc(log_rec, log_pre)"
   ]
  },
  {
   "cell_type": "markdown",
   "metadata": {},
   "source": [
    "**Notes**  \n",
    "The precision-recall curve gives a better representation of model performance."
   ]
  },
  {
   "cell_type": "markdown",
   "metadata": {},
   "source": [
    "# Random Forest Modeling"
   ]
  },
  {
   "cell_type": "code",
   "execution_count": 66,
   "metadata": {},
   "outputs": [],
   "source": [
    "# dictionary to record model results\n",
    "rf_recalls = {}"
   ]
  },
  {
   "cell_type": "markdown",
   "metadata": {},
   "source": [
    "## Initial Model"
   ]
  },
  {
   "cell_type": "code",
   "execution_count": 67,
   "metadata": {},
   "outputs": [],
   "source": [
    "rf = RandomForestClassifier(random_state=0) # note scaling not required"
   ]
  },
  {
   "cell_type": "code",
   "execution_count": 68,
   "metadata": {},
   "outputs": [],
   "source": [
    "rf.fit(X_train, y_train)\n",
    "rf_pred = rf.predict(X_test)"
   ]
  },
  {
   "cell_type": "code",
   "execution_count": 69,
   "metadata": {},
   "outputs": [
    {
     "name": "stdout",
     "output_type": "stream",
     "text": [
      "             precision    recall  f1-score   support\n",
      "\n",
      "          0       0.95      1.00      0.97       729\n",
      "          1       0.00      0.00      0.00        41\n",
      "\n",
      "avg / total       0.90      0.95      0.92       770\n",
      "\n"
     ]
    },
    {
     "name": "stderr",
     "output_type": "stream",
     "text": [
      "/home/kevcon/anaconda3/lib/python3.6/site-packages/sklearn/metrics/classification.py:1135: UndefinedMetricWarning: Precision and F-score are ill-defined and being set to 0.0 in labels with no predicted samples.\n",
      "  'precision', 'predicted', average, warn_for)\n"
     ]
    }
   ],
   "source": [
    "print(metrics.classification_report(y_test, rf_pred))"
   ]
  },
  {
   "cell_type": "code",
   "execution_count": 70,
   "metadata": {},
   "outputs": [
    {
     "data": {
      "text/plain": [
       "array([[729,   0],\n",
       "       [ 41,   0]])"
      ]
     },
     "execution_count": 70,
     "metadata": {},
     "output_type": "execute_result"
    }
   ],
   "source": [
    "metrics.confusion_matrix(y_test, rf_pred)"
   ]
  },
  {
   "cell_type": "markdown",
   "metadata": {},
   "source": [
    "**Notes**\n",
    "- model does not accurately predict many swing counties  \n",
    "    - this is a result of the severe imbalance of classes in the dataset\n",
    "- recall is to be prioritized\n",
    "    - this will help the model capture more swing counties (label 1)\n",
    "    - may result in more false positives and reduced overall accuracy"
   ]
  },
  {
   "cell_type": "markdown",
   "metadata": {},
   "source": [
    "## Tuning with RandomizedSearch\n",
    "Tune model hyperparameter for optimal model performance"
   ]
  },
  {
   "cell_type": "code",
   "execution_count": 71,
   "metadata": {},
   "outputs": [],
   "source": [
    "# try range of values for hyperparameters\n",
    "\n",
    "# number of trees in random forest\n",
    "n_estimators = [int(x) for x in np.linspace(start = 200, stop = 2000, num = 10)]\n",
    "# number of features to consider at every split\n",
    "max_features = np.arange(1, X.shape[1]+1)\n",
    "# maximum number of levels in tree\n",
    "max_depth = [int(x) for x in np.linspace(10, 110, num = 11)]\n",
    "max_depth.append(None)\n",
    "# minimum number of samples required to split a node\n",
    "min_samples_split = [2, 5, 10]\n",
    "# minimum number of samples required at each leaf node\n",
    "min_samples_leaf = [1, 2, 4]\n",
    "# method of selecting samples for training each tree\n",
    "bootstrap = [True, False]"
   ]
  },
  {
   "cell_type": "code",
   "execution_count": 72,
   "metadata": {},
   "outputs": [],
   "source": [
    "hyperparams = {\n",
    "    'n_estimators': n_estimators,\n",
    "    'max_features': max_features,\n",
    "    'max_depth': max_depth,\n",
    "    'min_samples_split': min_samples_split,\n",
    "    'min_samples_leaf': min_samples_leaf,\n",
    "    'bootstrap': bootstrap\n",
    "}"
   ]
  },
  {
   "cell_type": "code",
   "execution_count": 73,
   "metadata": {},
   "outputs": [],
   "source": [
    "# tune model pipeline for recall\n",
    "rf_tune = RandomizedSearchCV(RandomForestClassifier(random_state=0), hyperparams, \n",
    "                           scoring='recall', cv=5, random_state=0)"
   ]
  },
  {
   "cell_type": "code",
   "execution_count": 74,
   "metadata": {},
   "outputs": [
    {
     "data": {
      "text/plain": [
       "RandomizedSearchCV(cv=5, error_score='raise',\n",
       "          estimator=RandomForestClassifier(bootstrap=True, class_weight=None, criterion='gini',\n",
       "            max_depth=None, max_features='auto', max_leaf_nodes=None,\n",
       "            min_impurity_decrease=0.0, min_impurity_split=None,\n",
       "            min_samples_leaf=1, min_samples_split=2,\n",
       "            min_weight_fraction_leaf=0.0, n_estimators=10, n_jobs=1,\n",
       "            oob_score=False, random_state=0, verbose=0, warm_start=False),\n",
       "          fit_params=None, iid=True, n_iter=10, n_jobs=1,\n",
       "          param_distributions={'n_estimators': [200, 400, 600, 800, 1000, 1200, 1400, 1600, 1800, 2000], 'max_features': array([ 1,  2,  3,  4,  5,  6,  7,  8,  9, 10, 11, 12, 13]), 'max_depth': [10, 20, 30, 40, 50, 60, 70, 80, 90, 100, 110, None], 'min_samples_split': [2, 5, 10], 'min_samples_leaf': [1, 2, 4], 'bootstrap': [True, False]},\n",
       "          pre_dispatch='2*n_jobs', random_state=0, refit=True,\n",
       "          return_train_score='warn', scoring='recall', verbose=0)"
      ]
     },
     "execution_count": 74,
     "metadata": {},
     "output_type": "execute_result"
    }
   ],
   "source": [
    "rf_tune.fit(X_train, y_train)"
   ]
  },
  {
   "cell_type": "code",
   "execution_count": 75,
   "metadata": {},
   "outputs": [],
   "source": [
    "rf_pred = rf_tune.predict(X_test)"
   ]
  },
  {
   "cell_type": "code",
   "execution_count": 76,
   "metadata": {},
   "outputs": [],
   "source": [
    "# record model recall results\n",
    "precision, recall, fscore, support = metrics.precision_recall_fscore_support(y_test, rf_pred)\n",
    "rf_recalls['initial'] = recall[1]"
   ]
  },
  {
   "cell_type": "code",
   "execution_count": 77,
   "metadata": {},
   "outputs": [
    {
     "name": "stdout",
     "output_type": "stream",
     "text": [
      "             precision    recall  f1-score   support\n",
      "\n",
      "          0       0.95      0.99      0.97       729\n",
      "          1       0.00      0.00      0.00        41\n",
      "\n",
      "avg / total       0.90      0.93      0.91       770\n",
      "\n"
     ]
    }
   ],
   "source": [
    "print(metrics.classification_report(y_test, rf_pred))"
   ]
  },
  {
   "cell_type": "code",
   "execution_count": 78,
   "metadata": {},
   "outputs": [
    {
     "data": {
      "text/plain": [
       "array([[719,  10],\n",
       "       [ 41,   0]])"
      ]
     },
     "execution_count": 78,
     "metadata": {},
     "output_type": "execute_result"
    }
   ],
   "source": [
    "metrics.confusion_matrix(y_test, rf_pred)"
   ]
  },
  {
   "cell_type": "code",
   "execution_count": 79,
   "metadata": {},
   "outputs": [],
   "source": [
    "# assign best hyperparameter values from tuning\n",
    "best_n_estimators = rf_tune.best_params_['n_estimators']\n",
    "best_max_features = rf_tune.best_params_['max_features']\n",
    "best_max_depth = rf_tune.best_params_['max_depth']\n",
    "best_min_samples_split = rf_tune.best_params_['min_samples_split']\n",
    "best_min_samples_leaf = rf_tune.best_params_['min_samples_leaf']\n",
    "best_bootstrap = rf_tune.best_params_['bootstrap']"
   ]
  },
  {
   "cell_type": "markdown",
   "metadata": {},
   "source": [
    "**Notes**  \n",
    "Tuning produces no significant improvement in model"
   ]
  },
  {
   "cell_type": "markdown",
   "metadata": {},
   "source": [
    "## Balanced Weights\n",
    "Modifies \"weights\" of classes in algorithm's cost function to place greater importance on minority class  \n",
    "Balanced weights are inversely proportional to the frequency of class observations"
   ]
  },
  {
   "cell_type": "code",
   "execution_count": 80,
   "metadata": {},
   "outputs": [],
   "source": [
    "rf = RandomForestClassifier(random_state=0, class_weight='balanced')"
   ]
  },
  {
   "cell_type": "code",
   "execution_count": 81,
   "metadata": {},
   "outputs": [],
   "source": [
    "rf.fit(X_train, y_train)\n",
    "rf_pred = rf.predict(X_test)"
   ]
  },
  {
   "cell_type": "code",
   "execution_count": 82,
   "metadata": {},
   "outputs": [
    {
     "name": "stdout",
     "output_type": "stream",
     "text": [
      "             precision    recall  f1-score   support\n",
      "\n",
      "          0       0.95      1.00      0.97       729\n",
      "          1       0.00      0.00      0.00        41\n",
      "\n",
      "avg / total       0.90      0.95      0.92       770\n",
      "\n"
     ]
    },
    {
     "name": "stderr",
     "output_type": "stream",
     "text": [
      "/home/kevcon/anaconda3/lib/python3.6/site-packages/sklearn/metrics/classification.py:1135: UndefinedMetricWarning: Precision and F-score are ill-defined and being set to 0.0 in labels with no predicted samples.\n",
      "  'precision', 'predicted', average, warn_for)\n"
     ]
    }
   ],
   "source": [
    "print(metrics.classification_report(y_test, rf_pred))"
   ]
  },
  {
   "cell_type": "code",
   "execution_count": 83,
   "metadata": {},
   "outputs": [
    {
     "data": {
      "text/plain": [
       "array([[729,   0],\n",
       "       [ 41,   0]])"
      ]
     },
     "execution_count": 83,
     "metadata": {},
     "output_type": "execute_result"
    }
   ],
   "source": [
    "metrics.confusion_matrix(y_test, rf_pred)"
   ]
  },
  {
   "cell_type": "markdown",
   "metadata": {},
   "source": [
    "**Notes**  \n",
    "Balanced weights shows no improvement"
   ]
  },
  {
   "cell_type": "code",
   "execution_count": 84,
   "metadata": {},
   "outputs": [],
   "source": [
    "# try range of values for hyperparameters\n",
    "\n",
    "# number of trees in random forest\n",
    "n_estimators = [int(x) for x in np.linspace(start = 200, stop = 2000, num = 10)]\n",
    "# number of features to consider at every split\n",
    "max_features = np.arange(1, X.shape[1]+1)\n",
    "# maximum number of levels in tree\n",
    "max_depth = [int(x) for x in np.linspace(10, 110, num = 11)]\n",
    "max_depth.append(None)\n",
    "# minimum number of samples required to split a node\n",
    "min_samples_split = [2, 5, 10]\n",
    "# minimum number of samples required at each leaf node\n",
    "min_samples_leaf = [1, 2, 4]\n",
    "# method of selecting samples for training each tree\n",
    "bootstrap = [True, False]"
   ]
  },
  {
   "cell_type": "code",
   "execution_count": 85,
   "metadata": {},
   "outputs": [],
   "source": [
    "hyperparams = {\n",
    "    'n_estimators': n_estimators,\n",
    "    'max_features': max_features,\n",
    "    'max_depth': max_depth,\n",
    "    'min_samples_split': min_samples_split,\n",
    "    'min_samples_leaf': min_samples_leaf,\n",
    "    'bootstrap': bootstrap\n",
    "}\n",
    "\n",
    "rf_tune = RandomizedSearchCV(rf, hyperparams, scoring='recall', cv=5, random_state=0)\n",
    "rf_tune.fit(X_train, y_train)\n",
    "rf_pred = rf_tune.predict(X_test)"
   ]
  },
  {
   "cell_type": "code",
   "execution_count": 86,
   "metadata": {},
   "outputs": [],
   "source": [
    "# record model recall results\n",
    "precision, recall, fscore, support = metrics.precision_recall_fscore_support(y_test, rf_pred)\n",
    "rf_recalls['balanced'] = recall[1]"
   ]
  },
  {
   "cell_type": "code",
   "execution_count": 87,
   "metadata": {},
   "outputs": [
    {
     "name": "stdout",
     "output_type": "stream",
     "text": [
      "             precision    recall  f1-score   support\n",
      "\n",
      "          0       0.96      0.96      0.96       729\n",
      "          1       0.22      0.20      0.21        41\n",
      "\n",
      "avg / total       0.92      0.92      0.92       770\n",
      "\n"
     ]
    }
   ],
   "source": [
    "print(metrics.classification_report(y_test, rf_pred))"
   ]
  },
  {
   "cell_type": "code",
   "execution_count": 88,
   "metadata": {},
   "outputs": [
    {
     "data": {
      "text/plain": [
       "array([[701,  28],\n",
       "       [ 33,   8]])"
      ]
     },
     "execution_count": 88,
     "metadata": {},
     "output_type": "execute_result"
    }
   ],
   "source": [
    "metrics.confusion_matrix(y_test, rf_pred)"
   ]
  },
  {
   "cell_type": "markdown",
   "metadata": {},
   "source": [
    "**Notes**  \n",
    "Model performance increased with tuning"
   ]
  },
  {
   "cell_type": "code",
   "execution_count": 89,
   "metadata": {},
   "outputs": [],
   "source": [
    "best_n_estimators_bal = rf_tune.best_params_['n_estimators']\n",
    "best_max_features_bal = rf_tune.best_params_['max_features']\n",
    "best_max_depth_bal = rf_tune.best_params_['max_depth']\n",
    "best_min_samples_split_bal = rf_tune.best_params_['min_samples_split']\n",
    "best_min_samples_leaf_bal = rf_tune.best_params_['min_samples_leaf']\n",
    "best_bootstrap_bal = rf_tune.best_params_['bootstrap']"
   ]
  },
  {
   "cell_type": "markdown",
   "metadata": {},
   "source": [
    "## Synthetic Minority Over-sampling Technique (SMOTE)\n",
    "Oversampling method that generates synthetic samples of the minority class"
   ]
  },
  {
   "cell_type": "code",
   "execution_count": 90,
   "metadata": {},
   "outputs": [],
   "source": [
    "# model pipeline with SMOTE applied\n",
    "rf_pipe = imbPipeline([\n",
    "    ('oversample', over_sampling.SMOTE(random_state=0)),\n",
    "    ('model', RandomForestClassifier(random_state=0))    \n",
    "])"
   ]
  },
  {
   "cell_type": "code",
   "execution_count": 91,
   "metadata": {},
   "outputs": [],
   "source": [
    "rf_pipe.fit(X_train, y_train)\n",
    "rf_pred = rf_pipe.predict(X_test)"
   ]
  },
  {
   "cell_type": "code",
   "execution_count": 92,
   "metadata": {},
   "outputs": [
    {
     "name": "stdout",
     "output_type": "stream",
     "text": [
      "             precision    recall  f1-score   support\n",
      "\n",
      "          0       0.96      0.94      0.95       729\n",
      "          1       0.21      0.29      0.24        41\n",
      "\n",
      "avg / total       0.92      0.90      0.91       770\n",
      "\n"
     ]
    }
   ],
   "source": [
    "print(metrics.classification_report(y_test, rf_pred))"
   ]
  },
  {
   "cell_type": "code",
   "execution_count": 93,
   "metadata": {
    "scrolled": true
   },
   "outputs": [
    {
     "data": {
      "text/plain": [
       "array([[684,  45],\n",
       "       [ 29,  12]])"
      ]
     },
     "execution_count": 93,
     "metadata": {},
     "output_type": "execute_result"
    }
   ],
   "source": [
    "metrics.confusion_matrix(y_test, rf_pred)"
   ]
  },
  {
   "cell_type": "markdown",
   "metadata": {},
   "source": [
    "**Notes**  \n",
    "Some increased recall is observed for label 1 classification compared with initial model  \n",
    "Try tuning this model"
   ]
  },
  {
   "cell_type": "code",
   "execution_count": 94,
   "metadata": {},
   "outputs": [],
   "source": [
    "# try range of values for hyperparameters\n",
    "\n",
    "# number of trees in random forest\n",
    "n_estimators = [int(x) for x in np.linspace(start = 200, stop = 2000, num = 10)]\n",
    "# number of features to consider at every split\n",
    "max_features = np.arange(1, X.shape[1]+1)\n",
    "# maximum number of levels in tree\n",
    "max_depth = [int(x) for x in np.linspace(10, 110, num = 11)]\n",
    "max_depth.append(None)\n",
    "# minimum number of samples required to split a node\n",
    "min_samples_split = [2, 5, 10]\n",
    "# minimum number of samples required at each leaf node\n",
    "min_samples_leaf = [1, 2, 4]\n",
    "# method of selecting samples for training each tree\n",
    "bootstrap = [True, False]"
   ]
  },
  {
   "cell_type": "code",
   "execution_count": 95,
   "metadata": {},
   "outputs": [],
   "source": [
    "hyperparams = {\n",
    "    'model__n_estimators': n_estimators,\n",
    "    'model__max_features': max_features,\n",
    "    'model__max_depth': max_depth,\n",
    "    'model__min_samples_split': min_samples_split,\n",
    "    'model__min_samples_leaf': min_samples_leaf,\n",
    "    'model__bootstrap': bootstrap\n",
    "}\n",
    "\n",
    "rf_tune = RandomizedSearchCV(rf_pipe, hyperparams, scoring='recall', cv=5, random_state=0)\n",
    "rf_tune.fit(X_train, y_train)\n",
    "rf_pred = rf_tune.predict(X_test)"
   ]
  },
  {
   "cell_type": "code",
   "execution_count": 96,
   "metadata": {},
   "outputs": [],
   "source": [
    "# record model recall results\n",
    "precision, recall, fscore, support = metrics.precision_recall_fscore_support(y_test, rf_pred)\n",
    "rf_recalls['smote'] = recall[1]"
   ]
  },
  {
   "cell_type": "code",
   "execution_count": 97,
   "metadata": {},
   "outputs": [
    {
     "name": "stdout",
     "output_type": "stream",
     "text": [
      "             precision    recall  f1-score   support\n",
      "\n",
      "          0       0.96      0.91      0.93       729\n",
      "          1       0.17      0.34      0.23        41\n",
      "\n",
      "avg / total       0.92      0.88      0.90       770\n",
      "\n"
     ]
    }
   ],
   "source": [
    "print(metrics.classification_report(y_test, rf_pred))"
   ]
  },
  {
   "cell_type": "code",
   "execution_count": 98,
   "metadata": {},
   "outputs": [
    {
     "data": {
      "text/plain": [
       "array([[662,  67],\n",
       "       [ 27,  14]])"
      ]
     },
     "execution_count": 98,
     "metadata": {},
     "output_type": "execute_result"
    }
   ],
   "source": [
    "metrics.confusion_matrix(y_test, rf_pred)"
   ]
  },
  {
   "cell_type": "code",
   "execution_count": 99,
   "metadata": {},
   "outputs": [],
   "source": [
    "best_n_estimators_smt = rf_tune.best_params_['model__n_estimators']\n",
    "best_max_features_smt = rf_tune.best_params_['model__max_features']\n",
    "best_max_depth_smt = rf_tune.best_params_['model__max_depth']\n",
    "best_min_samples_split_smt = rf_tune.best_params_['model__min_samples_split']\n",
    "best_min_samples_leaf_smt = rf_tune.best_params_['model__min_samples_leaf']\n",
    "best_bootstrap_smt = rf_tune.best_params_['model__bootstrap']"
   ]
  },
  {
   "cell_type": "markdown",
   "metadata": {},
   "source": [
    "**Notes**  \n",
    "Tuning has increased swing recall"
   ]
  },
  {
   "cell_type": "markdown",
   "metadata": {},
   "source": [
    "## Final Model\n",
    "Tuned model with SMOTE"
   ]
  },
  {
   "cell_type": "code",
   "execution_count": 100,
   "metadata": {},
   "outputs": [],
   "source": [
    "rf_pipe = imbPipeline([\n",
    "    ('oversample', over_sampling.SMOTE(random_state=0)),\n",
    "    ('model', RandomForestClassifier(random_state=0,\n",
    "                                     n_estimators=best_n_estimators_smt,\n",
    "                                     max_features=best_max_features_smt,\n",
    "                                     max_depth=best_max_depth_smt,\n",
    "                                     min_samples_split=best_min_samples_split_smt,\n",
    "                                     min_samples_leaf=best_min_samples_leaf_smt,\n",
    "                                     bootstrap=best_bootstrap_smt)\n",
    "    )\n",
    "])"
   ]
  },
  {
   "cell_type": "code",
   "execution_count": 101,
   "metadata": {},
   "outputs": [],
   "source": [
    "rf_pipe.fit(X_train, y_train)\n",
    "rf_predict = rf_pipe.predict(X_test)"
   ]
  },
  {
   "cell_type": "code",
   "execution_count": 102,
   "metadata": {},
   "outputs": [],
   "source": [
    "# save model\n",
    "# filename = 'model_output/rf.sav'\n",
    "# joblib.dump(rf_pipe, filename)"
   ]
  },
  {
   "cell_type": "code",
   "execution_count": 103,
   "metadata": {},
   "outputs": [],
   "source": [
    "# load saved model\n",
    "# rf_pipe = joblib.load('model_output/rf.sav')"
   ]
  },
  {
   "cell_type": "markdown",
   "metadata": {},
   "source": [
    "### Evaluation"
   ]
  },
  {
   "cell_type": "code",
   "execution_count": 104,
   "metadata": {},
   "outputs": [
    {
     "name": "stdout",
     "output_type": "stream",
     "text": [
      "             precision    recall  f1-score   support\n",
      "\n",
      "          0       0.96      0.91      0.93       729\n",
      "          1       0.17      0.34      0.23        41\n",
      "\n",
      "avg / total       0.92      0.88      0.90       770\n",
      "\n"
     ]
    }
   ],
   "source": [
    "print(metrics.classification_report(y_test, rf_predict))"
   ]
  },
  {
   "cell_type": "code",
   "execution_count": 105,
   "metadata": {},
   "outputs": [
    {
     "data": {
      "text/plain": [
       "array([[662,  67],\n",
       "       [ 27,  14]])"
      ]
     },
     "execution_count": 105,
     "metadata": {},
     "output_type": "execute_result"
    }
   ],
   "source": [
    "metrics.confusion_matrix(y_test, rf_predict)"
   ]
  },
  {
   "cell_type": "code",
   "execution_count": 106,
   "metadata": {},
   "outputs": [],
   "source": [
    "# probabilities of swing county for each observation\n",
    "rf_predict_proba = rf_pipe.predict_proba(X_test)[:, 1]"
   ]
  },
  {
   "cell_type": "markdown",
   "metadata": {},
   "source": [
    "#### Receiver Operating Characteristic (ROC)"
   ]
  },
  {
   "cell_type": "code",
   "execution_count": 107,
   "metadata": {},
   "outputs": [],
   "source": [
    "# create ROC curve data\n",
    "# returns false positive rate, true positive rate for range of thresholds\n",
    "rf_fpr, rf_tpr, rf_thresh = roc_curve(y_test, rf_predict_proba)"
   ]
  },
  {
   "cell_type": "code",
   "execution_count": 108,
   "metadata": {},
   "outputs": [
    {
     "data": {
      "image/png": "[encoded data removed]",
      "text/plain": [
       "<Figure size 864x504 with 1 Axes>"
      ]
     },
     "metadata": {},
     "output_type": "display_data"
    }
   ],
   "source": [
    "plt.plot(rf_fpr, rf_tpr)\n",
    "plt.plot([0, 1], [0, 1], linestyle='--')\n",
    "plt.xlabel('False Positive Rate')\n",
    "plt.ylabel('True Positive Rate')\n",
    "plt.title('Random Forest ROC Curve');"
   ]
  },
  {
   "cell_type": "markdown",
   "metadata": {},
   "source": [
    "#### Area Under the Curve (AUC) Score"
   ]
  },
  {
   "cell_type": "code",
   "execution_count": 109,
   "metadata": {},
   "outputs": [
    {
     "data": {
      "text/plain": [
       "0.8127070159590485"
      ]
     },
     "execution_count": 109,
     "metadata": {},
     "output_type": "execute_result"
    }
   ],
   "source": [
    "roc_auc_score(y_test, rf_predict_proba)"
   ]
  },
  {
   "cell_type": "markdown",
   "metadata": {},
   "source": [
    "**Notes**  \n",
    "Model performance appears to be pretty good based on the AUC. However, this is due to the high class imbalance in the dataset. This is not the best evaluation metric for this analysis."
   ]
  },
  {
   "cell_type": "markdown",
   "metadata": {},
   "source": [
    "#### Precision-Recall"
   ]
  },
  {
   "cell_type": "code",
   "execution_count": 110,
   "metadata": {},
   "outputs": [],
   "source": [
    "# create precision recall curve data\n",
    "# returns precision, recall for range of thresholds\n",
    "rf_pre, rf_rec, rf_thresh = precision_recall_curve(y_test, rf_predict_proba)"
   ]
  },
  {
   "cell_type": "code",
   "execution_count": 111,
   "metadata": {
    "scrolled": false
   },
   "outputs": [
    {
     "data": {
      "image/png": "[encoded data removed]",
      "text/plain": [
       "<Figure size 864x504 with 1 Axes>"
      ]
     },
     "metadata": {},
     "output_type": "display_data"
    }
   ],
   "source": [
    "plt.plot(rf_rec, rf_pre)\n",
    "plt.xlabel('Recall')\n",
    "plt.ylabel('Precision')\n",
    "plt.title('Random Forest Precision-Recall');"
   ]
  },
  {
   "cell_type": "markdown",
   "metadata": {},
   "source": [
    "#### Area Under the Curve (AUC) Score"
   ]
  },
  {
   "cell_type": "code",
   "execution_count": 112,
   "metadata": {},
   "outputs": [
    {
     "data": {
      "text/plain": [
       "0.17166758692210235"
      ]
     },
     "execution_count": 112,
     "metadata": {},
     "output_type": "execute_result"
    }
   ],
   "source": [
    "auc(rf_rec, rf_pre)"
   ]
  },
  {
   "cell_type": "markdown",
   "metadata": {},
   "source": [
    "**Notes**  \n",
    "The precision-recall curve gives a better representation of model performance."
   ]
  },
  {
   "cell_type": "markdown",
   "metadata": {},
   "source": [
    "# Model Comparison"
   ]
  },
  {
   "cell_type": "markdown",
   "metadata": {},
   "source": [
    "## Recall"
   ]
  },
  {
   "cell_type": "code",
   "execution_count": 114,
   "metadata": {},
   "outputs": [
    {
     "data": {
      "image/png": "[encoded data removed]",
      "text/plain": [
       "<Figure size 864x504 with 1 Axes>"
      ]
     },
     "metadata": {},
     "output_type": "display_data"
    }
   ],
   "source": [
    "index = np.arange(len(log_recalls))\n",
    "bar_width = 0.35\n",
    "\n",
    "plt.bar(index, log_recalls.values(), width=bar_width, label='Logistic Regression')\n",
    "plt.bar(index + bar_width, rf_recalls.values(), width=bar_width, label='Random Forest')\n",
    "plt.title('Model vs Recall')\n",
    "plt.xlabel('Model Type')\n",
    "plt.ylabel('Recall Result')\n",
    "plt.legend()\n",
    "plt.xticks(index + bar_width/2, ['Initial', 'Balanced Weights', 'SMOTE']);\n",
    "# plt.savefig('model_output/recall.png')"
   ]
  },
  {
   "cell_type": "code",
   "execution_count": 115,
   "metadata": {},
   "outputs": [],
   "source": [
    "log_precision, log_recall, log_fscore, log_support = metrics.precision_recall_fscore_support(y_test, log_predict)\n",
    "rf_precision, rf_recall, rf_fscore, rf_support = metrics.precision_recall_fscore_support(y_test, rf_predict)"
   ]
  },
  {
   "cell_type": "code",
   "execution_count": 116,
   "metadata": {
    "scrolled": false
   },
   "outputs": [
    {
     "data": {
      "image/png": "[encoded data removed]",
      "text/plain": [
       "<Figure size 576x504 with 1 Axes>"
      ]
     },
     "metadata": {},
     "output_type": "display_data"
    }
   ],
   "source": [
    "plt.figure(figsize=(8, 7))\n",
    "plt.bar(range(2), [log_recall[1], rf_recall[1]], color=['b', 'r'])\n",
    "plt.xticks(range(2), ['Logistic Regression', 'Random Forest'])\n",
    "plt.xlabel('Model')\n",
    "plt.ylabel('Recall')\n",
    "plt.title('Optimal Recall Comparision');\n",
    "# plt.savefig('model_output/brecall.png')"
   ]
  },
  {
   "cell_type": "markdown",
   "metadata": {},
   "source": [
    "**Notes**  \n",
    "LR model has significantly better recall for identifying swing counties"
   ]
  },
  {
   "cell_type": "markdown",
   "metadata": {},
   "source": [
    "## ROC"
   ]
  },
  {
   "cell_type": "code",
   "execution_count": 117,
   "metadata": {},
   "outputs": [
    {
     "data": {
      "image/png": "[encoded data removed]",
      "text/plain": [
       "<Figure size 864x504 with 1 Axes>"
      ]
     },
     "metadata": {},
     "output_type": "display_data"
    }
   ],
   "source": [
    "fig, ax = plt.subplots()\n",
    "ax.plot(log_fpr, log_tpr, label='Logistic Regression')\n",
    "ax.plot(rf_fpr, rf_tpr, label='Random Forest')\n",
    "ax.plot([0, 1], [0, 1], linestyle='--')\n",
    "ax.set_xlabel('False Positive Rate')\n",
    "ax.set_ylabel('True Positive Rate')\n",
    "ax.set_title('ROC Curve')\n",
    "ax.legend();\n",
    "# plt.savefig('model_output/roc.png')"
   ]
  },
  {
   "cell_type": "code",
   "execution_count": 118,
   "metadata": {
    "scrolled": false
   },
   "outputs": [
    {
     "data": {
      "image/png": "[encoded data removed]",
      "text/plain": [
       "<Figure size 576x504 with 1 Axes>"
      ]
     },
     "metadata": {},
     "output_type": "display_data"
    }
   ],
   "source": [
    "auc_scores = [roc_auc_score(y_test, log_predict_proba), roc_auc_score(y_test, rf_predict_proba)]\n",
    "plt.figure(figsize=(8, 7))\n",
    "plt.bar(range(2), auc_scores, color=['b', 'r'])\n",
    "plt.xticks(range(2), ['Logistic Regression', 'Random Forest'])\n",
    "plt.xlabel('Model')\n",
    "plt.ylabel('AUC Score')\n",
    "plt.title('ROC Comparision');"
   ]
  },
  {
   "cell_type": "markdown",
   "metadata": {},
   "source": [
    "**Notes**  \n",
    "RF has a slightly better ROC score"
   ]
  },
  {
   "cell_type": "markdown",
   "metadata": {},
   "source": [
    "## Precision-Recall"
   ]
  },
  {
   "cell_type": "code",
   "execution_count": 119,
   "metadata": {},
   "outputs": [
    {
     "data": {
      "image/png": "[encoded data removed]",
      "text/plain": [
       "<Figure size 864x504 with 1 Axes>"
      ]
     },
     "metadata": {},
     "output_type": "display_data"
    }
   ],
   "source": [
    "fig, ax = plt.subplots()\n",
    "ax.plot(log_rec, log_pre, label='Logistic Regression')\n",
    "ax.plot(rf_rec, rf_pre, label='Random Forest')\n",
    "ax.set_xlabel('Recall')\n",
    "ax.set_ylabel('Precision')\n",
    "ax.set_title('Precision-Recall')\n",
    "ax.legend();\n",
    "# plt.savefig('model_output/pre_rec.png')"
   ]
  },
  {
   "cell_type": "code",
   "execution_count": 120,
   "metadata": {},
   "outputs": [
    {
     "data": {
      "image/png": "[encoded data removed]",
      "text/plain": [
       "<Figure size 576x504 with 1 Axes>"
      ]
     },
     "metadata": {},
     "output_type": "display_data"
    }
   ],
   "source": [
    "auc_scores = [auc(log_rec, log_pre), auc(rf_rec, rf_pre)]\n",
    "plt.figure(figsize=(8, 7))\n",
    "plt.bar(range(2), auc_scores, color=['b', 'r'])\n",
    "plt.xticks(range(2), ['Logistic Regression', 'Random Forest'])\n",
    "plt.xlabel('Model')\n",
    "plt.ylabel('AUC Score')\n",
    "plt.title('Precision-Recall Comparision');"
   ]
  },
  {
   "cell_type": "markdown",
   "metadata": {},
   "source": [
    "**Notes**  \n",
    "RF has significantly better performance with precision-recall"
   ]
  },
  {
   "cell_type": "markdown",
   "metadata": {},
   "source": [
    "# Final Analysis  \n",
    "Priority for project is identifying as many swing counties as possible\n",
    "- Logistic Regression model selected based on this metric"
   ]
  },
  {
   "cell_type": "code",
   "execution_count": 77,
   "metadata": {},
   "outputs": [],
   "source": [
    "# load saved model\n",
    "# log_pipe = joblib.load('model_output/log_reg.sav')\n",
    "log_predict = log_pipe.predict(X_test)"
   ]
  },
  {
   "cell_type": "markdown",
   "metadata": {},
   "source": [
    "## Confusion Matrix"
   ]
  },
  {
   "cell_type": "code",
   "execution_count": 78,
   "metadata": {},
   "outputs": [
    {
     "data": {
      "text/plain": [
       "array([[516, 213],\n",
       "       [  9,  32]])"
      ]
     },
     "execution_count": 78,
     "metadata": {},
     "output_type": "execute_result"
    }
   ],
   "source": [
    "metrics.confusion_matrix(y_test, log_predict)"
   ]
  },
  {
   "cell_type": "code",
   "execution_count": 79,
   "metadata": {},
   "outputs": [
    {
     "data": {
      "text/html": [
       "<div>\n",
       "<style scoped>\n",
       "    .dataframe tbody tr th:only-of-type {\n",
       "        vertical-align: middle;\n",
       "    }\n",
       "\n",
       "    .dataframe tbody tr th {\n",
       "        vertical-align: top;\n",
       "    }\n",
       "\n",
       "    .dataframe thead th {\n",
       "        text-align: right;\n",
       "    }\n",
       "</style>\n",
       "<table border=\"1\" class=\"dataframe\">\n",
       "  <thead>\n",
       "    <tr style=\"text-align: right;\">\n",
       "      <th></th>\n",
       "      <th>0</th>\n",
       "      <th>1</th>\n",
       "    </tr>\n",
       "  </thead>\n",
       "  <tbody>\n",
       "    <tr>\n",
       "      <th>0</th>\n",
       "      <td>516</td>\n",
       "      <td>213</td>\n",
       "    </tr>\n",
       "    <tr>\n",
       "      <th>1</th>\n",
       "      <td>9</td>\n",
       "      <td>32</td>\n",
       "    </tr>\n",
       "  </tbody>\n",
       "</table>\n",
       "</div>"
      ],
      "text/plain": [
       "     0    1\n",
       "0  516  213\n",
       "1    9   32"
      ]
     },
     "execution_count": 79,
     "metadata": {},
     "output_type": "execute_result"
    }
   ],
   "source": [
    "df_cm = pd.DataFrame(metrics.confusion_matrix(y_test, log_predict))\n",
    "df_cm"
   ]
  },
  {
   "cell_type": "code",
   "execution_count": 80,
   "metadata": {},
   "outputs": [
    {
     "data": {
      "text/html": [
       "<div>\n",
       "<style scoped>\n",
       "    .dataframe tbody tr th:only-of-type {\n",
       "        vertical-align: middle;\n",
       "    }\n",
       "\n",
       "    .dataframe tbody tr th {\n",
       "        vertical-align: top;\n",
       "    }\n",
       "\n",
       "    .dataframe thead th {\n",
       "        text-align: right;\n",
       "    }\n",
       "</style>\n",
       "<table border=\"1\" class=\"dataframe\">\n",
       "  <thead>\n",
       "    <tr style=\"text-align: right;\">\n",
       "      <th></th>\n",
       "      <th>0</th>\n",
       "      <th>1</th>\n",
       "    </tr>\n",
       "  </thead>\n",
       "  <tbody>\n",
       "    <tr>\n",
       "      <th>0</th>\n",
       "      <td>71.0</td>\n",
       "      <td>29.0</td>\n",
       "    </tr>\n",
       "    <tr>\n",
       "      <th>1</th>\n",
       "      <td>22.0</td>\n",
       "      <td>78.0</td>\n",
       "    </tr>\n",
       "  </tbody>\n",
       "</table>\n",
       "</div>"
      ],
      "text/plain": [
       "      0     1\n",
       "0  71.0  29.0\n",
       "1  22.0  78.0"
      ]
     },
     "execution_count": 80,
     "metadata": {},
     "output_type": "execute_result"
    }
   ],
   "source": [
    "# normalize by class totals\n",
    "df_cm = round(df_cm.div(df_cm.sum(axis=1), axis='rows')*100, 0)\n",
    "df_cm"
   ]
  },
  {
   "cell_type": "code",
   "execution_count": 82,
   "metadata": {},
   "outputs": [
    {
     "data": {
      "image/png": "[encoded data removed]",
      "text/plain": [
       "<Figure size 864x504 with 2 Axes>"
      ]
     },
     "metadata": {},
     "output_type": "display_data"
    }
   ],
   "source": [
    "sns.set(font_scale=3.2)\n",
    "sns_ax = sns.heatmap(df_cm, annot=True, cmap=sns.cm.rocket_r)\n",
    "sns_ax.set(title='Recall Confusion Matrix', \n",
    "           xticklabels=(['Safe', 'Swing']), yticklabels=(['Safe', 'Swing']),\n",
    "           xlabel='Prediction', ylabel='Actual'\n",
    "          )\n",
    "for t in sns_ax.texts: t.set_text(t.get_text() + \"%\");\n",
    "# plt.tight_layout()\n",
    "# plt.savefig('model_output/conf_mat.png')"
   ]
  },
  {
   "cell_type": "markdown",
   "metadata": {},
   "source": [
    "## Threshold Modification\n",
    "Modify decision threshold to capture more of the positive class"
   ]
  },
  {
   "cell_type": "code",
   "execution_count": 66,
   "metadata": {},
   "outputs": [],
   "source": [
    "# lower probability threshold\n",
    "threshold = 0.39\n",
    "log_thresh_predict = log_predict_proba >= threshold"
   ]
  },
  {
   "cell_type": "code",
   "execution_count": 67,
   "metadata": {},
   "outputs": [
    {
     "name": "stdout",
     "output_type": "stream",
     "text": [
      "             precision    recall  f1-score   support\n",
      "\n",
      "          0       1.00      0.46      0.63       729\n",
      "          1       0.09      1.00      0.17        41\n",
      "\n",
      "avg / total       0.95      0.49      0.61       770\n",
      "\n"
     ]
    }
   ],
   "source": [
    "print(metrics.classification_report(y_test, log_thresh_predict))"
   ]
  },
  {
   "cell_type": "code",
   "execution_count": 68,
   "metadata": {},
   "outputs": [
    {
     "data": {
      "text/plain": [
       "array([[337, 392],\n",
       "       [  0,  41]])"
      ]
     },
     "execution_count": 68,
     "metadata": {},
     "output_type": "execute_result"
    }
   ],
   "source": [
    "metrics.confusion_matrix(y_test, log_thresh_predict)"
   ]
  },
  {
   "cell_type": "code",
   "execution_count": 69,
   "metadata": {},
   "outputs": [
    {
     "data": {
      "text/html": [
       "<div>\n",
       "<style scoped>\n",
       "    .dataframe tbody tr th:only-of-type {\n",
       "        vertical-align: middle;\n",
       "    }\n",
       "\n",
       "    .dataframe tbody tr th {\n",
       "        vertical-align: top;\n",
       "    }\n",
       "\n",
       "    .dataframe thead th {\n",
       "        text-align: right;\n",
       "    }\n",
       "</style>\n",
       "<table border=\"1\" class=\"dataframe\">\n",
       "  <thead>\n",
       "    <tr style=\"text-align: right;\">\n",
       "      <th></th>\n",
       "      <th>0</th>\n",
       "      <th>1</th>\n",
       "    </tr>\n",
       "  </thead>\n",
       "  <tbody>\n",
       "    <tr>\n",
       "      <th>0</th>\n",
       "      <td>337</td>\n",
       "      <td>392</td>\n",
       "    </tr>\n",
       "    <tr>\n",
       "      <th>1</th>\n",
       "      <td>0</td>\n",
       "      <td>41</td>\n",
       "    </tr>\n",
       "  </tbody>\n",
       "</table>\n",
       "</div>"
      ],
      "text/plain": [
       "     0    1\n",
       "0  337  392\n",
       "1    0   41"
      ]
     },
     "execution_count": 69,
     "metadata": {},
     "output_type": "execute_result"
    }
   ],
   "source": [
    "df_cm = pd.DataFrame(metrics.confusion_matrix(y_test, log_thresh_predict))\n",
    "df_cm"
   ]
  },
  {
   "cell_type": "code",
   "execution_count": 70,
   "metadata": {},
   "outputs": [
    {
     "data": {
      "text/html": [
       "<div>\n",
       "<style scoped>\n",
       "    .dataframe tbody tr th:only-of-type {\n",
       "        vertical-align: middle;\n",
       "    }\n",
       "\n",
       "    .dataframe tbody tr th {\n",
       "        vertical-align: top;\n",
       "    }\n",
       "\n",
       "    .dataframe thead th {\n",
       "        text-align: right;\n",
       "    }\n",
       "</style>\n",
       "<table border=\"1\" class=\"dataframe\">\n",
       "  <thead>\n",
       "    <tr style=\"text-align: right;\">\n",
       "      <th></th>\n",
       "      <th>0</th>\n",
       "      <th>1</th>\n",
       "    </tr>\n",
       "  </thead>\n",
       "  <tbody>\n",
       "    <tr>\n",
       "      <th>0</th>\n",
       "      <td>46.0</td>\n",
       "      <td>54.0</td>\n",
       "    </tr>\n",
       "    <tr>\n",
       "      <th>1</th>\n",
       "      <td>0.0</td>\n",
       "      <td>100.0</td>\n",
       "    </tr>\n",
       "  </tbody>\n",
       "</table>\n",
       "</div>"
      ],
      "text/plain": [
       "      0      1\n",
       "0  46.0   54.0\n",
       "1   0.0  100.0"
      ]
     },
     "execution_count": 70,
     "metadata": {},
     "output_type": "execute_result"
    }
   ],
   "source": [
    "# normalize by class totals\n",
    "df_cm = round(df_cm.div(df_cm.sum(axis=1), axis='rows')*100, 0)\n",
    "df_cm"
   ]
  },
  {
   "cell_type": "code",
   "execution_count": 76,
   "metadata": {},
   "outputs": [
    {
     "data": {
      "image/png": "[encoded data removed]",
      "text/plain": [
       "<Figure size 864x504 with 2 Axes>"
      ]
     },
     "metadata": {},
     "output_type": "display_data"
    }
   ],
   "source": [
    "sns.set(font_scale=3.2)\n",
    "sns_ax = sns.heatmap(df_cm, annot=True, cmap=sns.cm.rocket_r, fmt='g')\n",
    "sns_ax.set(title='Recall Confusion Matrix', \n",
    "           xticklabels=(['Safe', 'Swing']), yticklabels=(['Safe', 'Swing']),\n",
    "           xlabel='Prediction', ylabel='Actual'\n",
    "          )\n",
    "for t in sns_ax.texts: t.set_text(t.get_text() + \"%\");\n",
    "# plt.tight_layout()\n",
    "# plt.savefig('model_output/thr_conf_mat.png')"
   ]
  },
  {
   "cell_type": "markdown",
   "metadata": {},
   "source": [
    "**Notes**  \n",
    "Model is able to identify all swing counties when threshold is lowered to 0.39"
   ]
  },
  {
   "cell_type": "markdown",
   "metadata": {},
   "source": [
    "## Logistic Regression Feature Interpretation\n",
    "Analyze features given highest weight in LR model"
   ]
  },
  {
   "cell_type": "code",
   "execution_count": 124,
   "metadata": {},
   "outputs": [
    {
     "data": {
      "text/html": [
       "<div>\n",
       "<style scoped>\n",
       "    .dataframe tbody tr th:only-of-type {\n",
       "        vertical-align: middle;\n",
       "    }\n",
       "\n",
       "    .dataframe tbody tr th {\n",
       "        vertical-align: top;\n",
       "    }\n",
       "\n",
       "    .dataframe thead th {\n",
       "        text-align: right;\n",
       "    }\n",
       "</style>\n",
       "<table border=\"1\" class=\"dataframe\">\n",
       "  <thead>\n",
       "    <tr style=\"text-align: right;\">\n",
       "      <th></th>\n",
       "      <th>feat_wgt</th>\n",
       "      <th>positive</th>\n",
       "    </tr>\n",
       "  </thead>\n",
       "  <tbody>\n",
       "    <tr>\n",
       "      <th>college_rate</th>\n",
       "      <td>0.676986</td>\n",
       "      <td>True</td>\n",
       "    </tr>\n",
       "    <tr>\n",
       "      <th>white_rate</th>\n",
       "      <td>0.393613</td>\n",
       "      <td>False</td>\n",
       "    </tr>\n",
       "    <tr>\n",
       "      <th>per_cap_income</th>\n",
       "      <td>0.003926</td>\n",
       "      <td>False</td>\n",
       "    </tr>\n",
       "    <tr>\n",
       "      <th>median_age</th>\n",
       "      <td>0.003361</td>\n",
       "      <td>False</td>\n",
       "    </tr>\n",
       "  </tbody>\n",
       "</table>\n",
       "</div>"
      ],
      "text/plain": [
       "                feat_wgt  positive\n",
       "college_rate    0.676986      True\n",
       "white_rate      0.393613     False\n",
       "per_cap_income  0.003926     False\n",
       "median_age      0.003361     False"
      ]
     },
     "execution_count": 124,
     "metadata": {},
     "output_type": "execute_result"
    }
   ],
   "source": [
    "log_coef = feat_sort(log_pipe.named_steps['model'].coef_[0], X_train.columns)\n",
    "log_coef"
   ]
  },
  {
   "cell_type": "code",
   "execution_count": 125,
   "metadata": {
    "scrolled": false
   },
   "outputs": [
    {
     "data": {
      "image/png": "[encoded data removed]",
      "text/plain": [
       "<Figure size 864x504 with 1 Axes>"
      ]
     },
     "metadata": {},
     "output_type": "display_data"
    }
   ],
   "source": [
    "ax = plt.gca()\n",
    "log_coef.iloc[:, 0].plot(kind='bar', ax=ax, color=log_coef.iloc[:, 1].map({True: 'g', False: 'r'}))\n",
    "ax.set_title('Logisitc Regression Feature Weights')\n",
    "ax.set_xlabel('Feature')\n",
    "ax.set_ylabel('Model Coefficient')\n",
    "ax.set_xticklabels(['College Rate', 'White %', 'Income', 'Age'], rotation=0)\n",
    "\n",
    "pos_patch = mpatches.Patch(color='green', label='Positive')\n",
    "neg_patch = mpatches.Patch(color='red', label='Negative')\n",
    "plt.legend(title='Correlation', handles=[pos_patch, neg_patch]);\n",
    "# plt.savefig('model_output/lr_feat.png')"
   ]
  },
  {
   "cell_type": "markdown",
   "metadata": {},
   "source": [
    "**Notes**  \n",
    "- LR model has a strong, positive correlation with a county's college rate\n",
    "- LR model has a strong, negative correlation with a county's white population rate\n",
    "- LR model has a small, negative correlation with a county's average income and average age\n",
    "- LR model dropped all other features, indicating no or low importance on swing county prediction"
   ]
  },
  {
   "cell_type": "markdown",
   "metadata": {},
   "source": [
    "## Random Forest Feature Interpretation\n",
    "For comparison, analyze features given high importanc in RF model"
   ]
  },
  {
   "cell_type": "code",
   "execution_count": 126,
   "metadata": {},
   "outputs": [
    {
     "data": {
      "text/html": [
       "<div>\n",
       "<style scoped>\n",
       "    .dataframe tbody tr th:only-of-type {\n",
       "        vertical-align: middle;\n",
       "    }\n",
       "\n",
       "    .dataframe tbody tr th {\n",
       "        vertical-align: top;\n",
       "    }\n",
       "\n",
       "    .dataframe thead th {\n",
       "        text-align: right;\n",
       "    }\n",
       "</style>\n",
       "<table border=\"1\" class=\"dataframe\">\n",
       "  <thead>\n",
       "    <tr style=\"text-align: right;\">\n",
       "      <th></th>\n",
       "      <th>feat_wgt</th>\n",
       "      <th>positive</th>\n",
       "    </tr>\n",
       "  </thead>\n",
       "  <tbody>\n",
       "    <tr>\n",
       "      <th>college_rate</th>\n",
       "      <td>0.279538</td>\n",
       "      <td>True</td>\n",
       "    </tr>\n",
       "    <tr>\n",
       "      <th>white_rate</th>\n",
       "      <td>0.202808</td>\n",
       "      <td>True</td>\n",
       "    </tr>\n",
       "    <tr>\n",
       "      <th>density</th>\n",
       "      <td>0.068064</td>\n",
       "      <td>True</td>\n",
       "    </tr>\n",
       "    <tr>\n",
       "      <th>households</th>\n",
       "      <td>0.061268</td>\n",
       "      <td>True</td>\n",
       "    </tr>\n",
       "    <tr>\n",
       "      <th>population</th>\n",
       "      <td>0.058695</td>\n",
       "      <td>True</td>\n",
       "    </tr>\n",
       "    <tr>\n",
       "      <th>per_cap_income</th>\n",
       "      <td>0.052871</td>\n",
       "      <td>True</td>\n",
       "    </tr>\n",
       "    <tr>\n",
       "      <th>hh_income</th>\n",
       "      <td>0.048652</td>\n",
       "      <td>True</td>\n",
       "    </tr>\n",
       "    <tr>\n",
       "      <th>hisp_rate</th>\n",
       "      <td>0.047634</td>\n",
       "      <td>True</td>\n",
       "    </tr>\n",
       "    <tr>\n",
       "      <th>growth</th>\n",
       "      <td>0.041947</td>\n",
       "      <td>True</td>\n",
       "    </tr>\n",
       "    <tr>\n",
       "      <th>poverty_rate</th>\n",
       "      <td>0.038594</td>\n",
       "      <td>True</td>\n",
       "    </tr>\n",
       "    <tr>\n",
       "      <th>unempl_rate</th>\n",
       "      <td>0.038529</td>\n",
       "      <td>True</td>\n",
       "    </tr>\n",
       "    <tr>\n",
       "      <th>median_age</th>\n",
       "      <td>0.033084</td>\n",
       "      <td>True</td>\n",
       "    </tr>\n",
       "    <tr>\n",
       "      <th>hs_rate</th>\n",
       "      <td>0.028315</td>\n",
       "      <td>True</td>\n",
       "    </tr>\n",
       "  </tbody>\n",
       "</table>\n",
       "</div>"
      ],
      "text/plain": [
       "                feat_wgt  positive\n",
       "college_rate    0.279538      True\n",
       "white_rate      0.202808      True\n",
       "density         0.068064      True\n",
       "households      0.061268      True\n",
       "population      0.058695      True\n",
       "per_cap_income  0.052871      True\n",
       "hh_income       0.048652      True\n",
       "hisp_rate       0.047634      True\n",
       "growth          0.041947      True\n",
       "poverty_rate    0.038594      True\n",
       "unempl_rate     0.038529      True\n",
       "median_age      0.033084      True\n",
       "hs_rate         0.028315      True"
      ]
     },
     "execution_count": 126,
     "metadata": {},
     "output_type": "execute_result"
    }
   ],
   "source": [
    "rf_imp = feat_sort(rf_pipe.named_steps['model'].feature_importances_, X_train.columns)\n",
    "rf_imp"
   ]
  },
  {
   "cell_type": "code",
   "execution_count": 127,
   "metadata": {
    "scrolled": false
   },
   "outputs": [
    {
     "data": {
      "image/png": "[encoded data removed]",
      "text/plain": [
       "<Figure size 864x504 with 1 Axes>"
      ]
     },
     "metadata": {},
     "output_type": "display_data"
    }
   ],
   "source": [
    "ax = plt.gca()\n",
    "rf_imp.plot(kind='bar', ax=ax, color='purple')\n",
    "ax.set_title('Random Forest Feature Importance')\n",
    "ax.set_xlabel('Feature')\n",
    "ax.set_ylabel('Importance');"
   ]
  },
  {
   "cell_type": "markdown",
   "metadata": {},
   "source": [
    "**Notes**  \n",
    "- RF model has strong correlation with a county's college rate and white population rate\n",
    "- RF model has much smaller correlation with all other county features"
   ]
  },
  {
   "cell_type": "markdown",
   "metadata": {},
   "source": [
    "## Averages of Classes\n",
    "Compare model feature weights against a simple difference of feature averages between classes"
   ]
  },
  {
   "cell_type": "code",
   "execution_count": 128,
   "metadata": {},
   "outputs": [
    {
     "data": {
      "text/html": [
       "<div>\n",
       "<style scoped>\n",
       "    .dataframe tbody tr th:only-of-type {\n",
       "        vertical-align: middle;\n",
       "    }\n",
       "\n",
       "    .dataframe tbody tr th {\n",
       "        vertical-align: top;\n",
       "    }\n",
       "\n",
       "    .dataframe thead th {\n",
       "        text-align: right;\n",
       "    }\n",
       "</style>\n",
       "<table border=\"1\" class=\"dataframe\">\n",
       "  <thead>\n",
       "    <tr style=\"text-align: right;\">\n",
       "      <th></th>\n",
       "      <th>population</th>\n",
       "      <th>growth</th>\n",
       "      <th>households</th>\n",
       "      <th>median_age</th>\n",
       "      <th>per_cap_income</th>\n",
       "      <th>hh_income</th>\n",
       "      <th>unempl_rate</th>\n",
       "      <th>poverty_rate</th>\n",
       "      <th>hs_rate</th>\n",
       "      <th>college_rate</th>\n",
       "      <th>density</th>\n",
       "      <th>white_rate</th>\n",
       "      <th>hisp_rate</th>\n",
       "    </tr>\n",
       "    <tr>\n",
       "      <th>close_elect</th>\n",
       "      <th></th>\n",
       "      <th></th>\n",
       "      <th></th>\n",
       "      <th></th>\n",
       "      <th></th>\n",
       "      <th></th>\n",
       "      <th></th>\n",
       "      <th></th>\n",
       "      <th></th>\n",
       "      <th></th>\n",
       "      <th></th>\n",
       "      <th></th>\n",
       "      <th></th>\n",
       "    </tr>\n",
       "  </thead>\n",
       "  <tbody>\n",
       "    <tr>\n",
       "      <th>0</th>\n",
       "      <td>97754.622861</td>\n",
       "      <td>0.673854</td>\n",
       "      <td>35383.793292</td>\n",
       "      <td>41.180151</td>\n",
       "      <td>40647.942847</td>\n",
       "      <td>49173.193018</td>\n",
       "      <td>4.611328</td>\n",
       "      <td>15.914203</td>\n",
       "      <td>85.657392</td>\n",
       "      <td>20.269884</td>\n",
       "      <td>251.164202</td>\n",
       "      <td>0.838362</td>\n",
       "      <td>0.088684</td>\n",
       "    </tr>\n",
       "    <tr>\n",
       "      <th>1</th>\n",
       "      <td>213686.159236</td>\n",
       "      <td>2.568153</td>\n",
       "      <td>77334.891720</td>\n",
       "      <td>38.888535</td>\n",
       "      <td>42207.388535</td>\n",
       "      <td>53773.019108</td>\n",
       "      <td>4.530573</td>\n",
       "      <td>15.549045</td>\n",
       "      <td>88.495541</td>\n",
       "      <td>27.620382</td>\n",
       "      <td>317.779807</td>\n",
       "      <td>0.760183</td>\n",
       "      <td>0.095176</td>\n",
       "    </tr>\n",
       "  </tbody>\n",
       "</table>\n",
       "</div>"
      ],
      "text/plain": [
       "                population    growth    households  median_age  \\\n",
       "close_elect                                                      \n",
       "0             97754.622861  0.673854  35383.793292   41.180151   \n",
       "1            213686.159236  2.568153  77334.891720   38.888535   \n",
       "\n",
       "             per_cap_income     hh_income  unempl_rate  poverty_rate  \\\n",
       "close_elect                                                            \n",
       "0              40647.942847  49173.193018     4.611328     15.914203   \n",
       "1              42207.388535  53773.019108     4.530573     15.549045   \n",
       "\n",
       "               hs_rate  college_rate     density  white_rate  hisp_rate  \n",
       "close_elect                                                              \n",
       "0            85.657392     20.269884  251.164202    0.838362   0.088684  \n",
       "1            88.495541     27.620382  317.779807    0.760183   0.095176  "
      ]
     },
     "execution_count": 128,
     "metadata": {},
     "output_type": "execute_result"
    }
   ],
   "source": [
    "cls_feat = df.groupby('close_elect').mean().copy()\n",
    "cls_feat"
   ]
  },
  {
   "cell_type": "code",
   "execution_count": 129,
   "metadata": {},
   "outputs": [
    {
     "data": {
      "text/plain": [
       "population        311440.782097\n",
       "growth                 3.242006\n",
       "households        112718.685012\n",
       "median_age            80.068686\n",
       "per_cap_income     82855.331382\n",
       "hh_income         102946.212127\n",
       "unempl_rate            9.141901\n",
       "poverty_rate          31.463247\n",
       "hs_rate              174.152934\n",
       "college_rate          47.890266\n",
       "density              568.944008\n",
       "white_rate             1.598546\n",
       "hisp_rate              0.183860\n",
       "dtype: float64"
      ]
     },
     "execution_count": 129,
     "metadata": {},
     "output_type": "execute_result"
    }
   ],
   "source": [
    "cls_feat.sum()"
   ]
  },
  {
   "cell_type": "code",
   "execution_count": 130,
   "metadata": {},
   "outputs": [
    {
     "data": {
      "text/html": [
       "<div>\n",
       "<style scoped>\n",
       "    .dataframe tbody tr th:only-of-type {\n",
       "        vertical-align: middle;\n",
       "    }\n",
       "\n",
       "    .dataframe tbody tr th {\n",
       "        vertical-align: top;\n",
       "    }\n",
       "\n",
       "    .dataframe thead th {\n",
       "        text-align: right;\n",
       "    }\n",
       "</style>\n",
       "<table border=\"1\" class=\"dataframe\">\n",
       "  <thead>\n",
       "    <tr style=\"text-align: right;\">\n",
       "      <th></th>\n",
       "      <th>population</th>\n",
       "      <th>growth</th>\n",
       "      <th>households</th>\n",
       "      <th>median_age</th>\n",
       "      <th>per_cap_income</th>\n",
       "      <th>hh_income</th>\n",
       "      <th>unempl_rate</th>\n",
       "      <th>poverty_rate</th>\n",
       "      <th>hs_rate</th>\n",
       "      <th>college_rate</th>\n",
       "      <th>density</th>\n",
       "      <th>white_rate</th>\n",
       "      <th>hisp_rate</th>\n",
       "    </tr>\n",
       "    <tr>\n",
       "      <th>close_elect</th>\n",
       "      <th></th>\n",
       "      <th></th>\n",
       "      <th></th>\n",
       "      <th></th>\n",
       "      <th></th>\n",
       "      <th></th>\n",
       "      <th></th>\n",
       "      <th></th>\n",
       "      <th></th>\n",
       "      <th></th>\n",
       "      <th></th>\n",
       "      <th></th>\n",
       "      <th></th>\n",
       "    </tr>\n",
       "  </thead>\n",
       "  <tbody>\n",
       "    <tr>\n",
       "      <th>0</th>\n",
       "      <td>0.313879</td>\n",
       "      <td>0.207851</td>\n",
       "      <td>0.313912</td>\n",
       "      <td>0.51431</td>\n",
       "      <td>0.490589</td>\n",
       "      <td>0.477659</td>\n",
       "      <td>0.504417</td>\n",
       "      <td>0.505803</td>\n",
       "      <td>0.491852</td>\n",
       "      <td>0.423257</td>\n",
       "      <td>0.441457</td>\n",
       "      <td>0.524453</td>\n",
       "      <td>0.482346</td>\n",
       "    </tr>\n",
       "    <tr>\n",
       "      <th>1</th>\n",
       "      <td>0.686121</td>\n",
       "      <td>0.792149</td>\n",
       "      <td>0.686088</td>\n",
       "      <td>0.48569</td>\n",
       "      <td>0.509411</td>\n",
       "      <td>0.522341</td>\n",
       "      <td>0.495583</td>\n",
       "      <td>0.494197</td>\n",
       "      <td>0.508148</td>\n",
       "      <td>0.576743</td>\n",
       "      <td>0.558543</td>\n",
       "      <td>0.475547</td>\n",
       "      <td>0.517654</td>\n",
       "    </tr>\n",
       "  </tbody>\n",
       "</table>\n",
       "</div>"
      ],
      "text/plain": [
       "             population    growth  households  median_age  per_cap_income  \\\n",
       "close_elect                                                                 \n",
       "0              0.313879  0.207851    0.313912     0.51431        0.490589   \n",
       "1              0.686121  0.792149    0.686088     0.48569        0.509411   \n",
       "\n",
       "             hh_income  unempl_rate  poverty_rate   hs_rate  college_rate  \\\n",
       "close_elect                                                                 \n",
       "0             0.477659     0.504417      0.505803  0.491852      0.423257   \n",
       "1             0.522341     0.495583      0.494197  0.508148      0.576743   \n",
       "\n",
       "              density  white_rate  hisp_rate  \n",
       "close_elect                                   \n",
       "0            0.441457    0.524453   0.482346  \n",
       "1            0.558543    0.475547   0.517654  "
      ]
     },
     "execution_count": 130,
     "metadata": {},
     "output_type": "execute_result"
    }
   ],
   "source": [
    "cls_feat.div(cls_feat.sum())"
   ]
  },
  {
   "cell_type": "code",
   "execution_count": 131,
   "metadata": {},
   "outputs": [
    {
     "data": {
      "text/html": [
       "<div>\n",
       "<style scoped>\n",
       "    .dataframe tbody tr th:only-of-type {\n",
       "        vertical-align: middle;\n",
       "    }\n",
       "\n",
       "    .dataframe tbody tr th {\n",
       "        vertical-align: top;\n",
       "    }\n",
       "\n",
       "    .dataframe thead th {\n",
       "        text-align: right;\n",
       "    }\n",
       "</style>\n",
       "<table border=\"1\" class=\"dataframe\">\n",
       "  <thead>\n",
       "    <tr style=\"text-align: right;\">\n",
       "      <th></th>\n",
       "      <th>population</th>\n",
       "      <th>growth</th>\n",
       "      <th>households</th>\n",
       "      <th>median_age</th>\n",
       "      <th>per_cap_income</th>\n",
       "      <th>hh_income</th>\n",
       "      <th>unempl_rate</th>\n",
       "      <th>poverty_rate</th>\n",
       "      <th>hs_rate</th>\n",
       "      <th>college_rate</th>\n",
       "      <th>density</th>\n",
       "      <th>white_rate</th>\n",
       "      <th>hisp_rate</th>\n",
       "    </tr>\n",
       "    <tr>\n",
       "      <th>close_elect</th>\n",
       "      <th></th>\n",
       "      <th></th>\n",
       "      <th></th>\n",
       "      <th></th>\n",
       "      <th></th>\n",
       "      <th></th>\n",
       "      <th></th>\n",
       "      <th></th>\n",
       "      <th></th>\n",
       "      <th></th>\n",
       "      <th></th>\n",
       "      <th></th>\n",
       "      <th></th>\n",
       "    </tr>\n",
       "  </thead>\n",
       "  <tbody>\n",
       "    <tr>\n",
       "      <th>0</th>\n",
       "      <td>NaN</td>\n",
       "      <td>NaN</td>\n",
       "      <td>NaN</td>\n",
       "      <td>NaN</td>\n",
       "      <td>NaN</td>\n",
       "      <td>NaN</td>\n",
       "      <td>NaN</td>\n",
       "      <td>NaN</td>\n",
       "      <td>NaN</td>\n",
       "      <td>NaN</td>\n",
       "      <td>NaN</td>\n",
       "      <td>NaN</td>\n",
       "      <td>NaN</td>\n",
       "    </tr>\n",
       "    <tr>\n",
       "      <th>1</th>\n",
       "      <td>0.372243</td>\n",
       "      <td>0.584298</td>\n",
       "      <td>0.372175</td>\n",
       "      <td>-0.028621</td>\n",
       "      <td>0.018821</td>\n",
       "      <td>0.044682</td>\n",
       "      <td>-0.008833</td>\n",
       "      <td>-0.011606</td>\n",
       "      <td>0.016297</td>\n",
       "      <td>0.153486</td>\n",
       "      <td>0.117086</td>\n",
       "      <td>-0.048906</td>\n",
       "      <td>0.035309</td>\n",
       "    </tr>\n",
       "  </tbody>\n",
       "</table>\n",
       "</div>"
      ],
      "text/plain": [
       "             population    growth  households  median_age  per_cap_income  \\\n",
       "close_elect                                                                 \n",
       "0                   NaN       NaN         NaN         NaN             NaN   \n",
       "1              0.372243  0.584298    0.372175   -0.028621        0.018821   \n",
       "\n",
       "             hh_income  unempl_rate  poverty_rate   hs_rate  college_rate  \\\n",
       "close_elect                                                                 \n",
       "0                  NaN          NaN           NaN       NaN           NaN   \n",
       "1             0.044682    -0.008833     -0.011606  0.016297      0.153486   \n",
       "\n",
       "              density  white_rate  hisp_rate  \n",
       "close_elect                                   \n",
       "0                 NaN         NaN        NaN  \n",
       "1            0.117086   -0.048906   0.035309  "
      ]
     },
     "execution_count": 131,
     "metadata": {},
     "output_type": "execute_result"
    }
   ],
   "source": [
    "cls_feat.div(cls_feat.sum()).diff()"
   ]
  },
  {
   "cell_type": "code",
   "execution_count": 132,
   "metadata": {},
   "outputs": [
    {
     "data": {
      "text/plain": [
       "population        0.372243\n",
       "growth            0.584298\n",
       "households        0.372175\n",
       "median_age       -0.028621\n",
       "per_cap_income    0.018821\n",
       "hh_income         0.044682\n",
       "unempl_rate      -0.008833\n",
       "poverty_rate     -0.011606\n",
       "hs_rate           0.016297\n",
       "college_rate      0.153486\n",
       "density           0.117086\n",
       "white_rate       -0.048906\n",
       "hisp_rate         0.035309\n",
       "Name: 1, dtype: float64"
      ]
     },
     "execution_count": 132,
     "metadata": {},
     "output_type": "execute_result"
    }
   ],
   "source": [
    "cls_feat.div(cls_feat.sum()).diff().iloc[1, :]"
   ]
  },
  {
   "cell_type": "code",
   "execution_count": 133,
   "metadata": {},
   "outputs": [
    {
     "data": {
      "text/html": [
       "<div>\n",
       "<style scoped>\n",
       "    .dataframe tbody tr th:only-of-type {\n",
       "        vertical-align: middle;\n",
       "    }\n",
       "\n",
       "    .dataframe tbody tr th {\n",
       "        vertical-align: top;\n",
       "    }\n",
       "\n",
       "    .dataframe thead th {\n",
       "        text-align: right;\n",
       "    }\n",
       "</style>\n",
       "<table border=\"1\" class=\"dataframe\">\n",
       "  <thead>\n",
       "    <tr style=\"text-align: right;\">\n",
       "      <th></th>\n",
       "      <th>feat_wgt</th>\n",
       "      <th>positive</th>\n",
       "    </tr>\n",
       "  </thead>\n",
       "  <tbody>\n",
       "    <tr>\n",
       "      <th>growth</th>\n",
       "      <td>0.584298</td>\n",
       "      <td>True</td>\n",
       "    </tr>\n",
       "    <tr>\n",
       "      <th>population</th>\n",
       "      <td>0.372243</td>\n",
       "      <td>True</td>\n",
       "    </tr>\n",
       "    <tr>\n",
       "      <th>households</th>\n",
       "      <td>0.372175</td>\n",
       "      <td>True</td>\n",
       "    </tr>\n",
       "    <tr>\n",
       "      <th>college_rate</th>\n",
       "      <td>0.153486</td>\n",
       "      <td>True</td>\n",
       "    </tr>\n",
       "    <tr>\n",
       "      <th>density</th>\n",
       "      <td>0.117086</td>\n",
       "      <td>True</td>\n",
       "    </tr>\n",
       "    <tr>\n",
       "      <th>white_rate</th>\n",
       "      <td>0.048906</td>\n",
       "      <td>False</td>\n",
       "    </tr>\n",
       "    <tr>\n",
       "      <th>hh_income</th>\n",
       "      <td>0.044682</td>\n",
       "      <td>True</td>\n",
       "    </tr>\n",
       "    <tr>\n",
       "      <th>hisp_rate</th>\n",
       "      <td>0.035309</td>\n",
       "      <td>True</td>\n",
       "    </tr>\n",
       "    <tr>\n",
       "      <th>median_age</th>\n",
       "      <td>0.028621</td>\n",
       "      <td>False</td>\n",
       "    </tr>\n",
       "    <tr>\n",
       "      <th>per_cap_income</th>\n",
       "      <td>0.018821</td>\n",
       "      <td>True</td>\n",
       "    </tr>\n",
       "    <tr>\n",
       "      <th>hs_rate</th>\n",
       "      <td>0.016297</td>\n",
       "      <td>True</td>\n",
       "    </tr>\n",
       "    <tr>\n",
       "      <th>poverty_rate</th>\n",
       "      <td>0.011606</td>\n",
       "      <td>False</td>\n",
       "    </tr>\n",
       "    <tr>\n",
       "      <th>unempl_rate</th>\n",
       "      <td>0.008833</td>\n",
       "      <td>False</td>\n",
       "    </tr>\n",
       "  </tbody>\n",
       "</table>\n",
       "</div>"
      ],
      "text/plain": [
       "                feat_wgt  positive\n",
       "growth          0.584298      True\n",
       "population      0.372243      True\n",
       "households      0.372175      True\n",
       "college_rate    0.153486      True\n",
       "density         0.117086      True\n",
       "white_rate      0.048906     False\n",
       "hh_income       0.044682      True\n",
       "hisp_rate       0.035309      True\n",
       "median_age      0.028621     False\n",
       "per_cap_income  0.018821      True\n",
       "hs_rate         0.016297      True\n",
       "poverty_rate    0.011606     False\n",
       "unempl_rate     0.008833     False"
      ]
     },
     "execution_count": 133,
     "metadata": {},
     "output_type": "execute_result"
    }
   ],
   "source": [
    "cls_avg = feat_sort(cls_feat.div(cls_feat.sum()).diff().iloc[1, :].values, X_train.columns)\n",
    "cls_avg"
   ]
  },
  {
   "cell_type": "code",
   "execution_count": 134,
   "metadata": {},
   "outputs": [
    {
     "data": {
      "image/png": "[encoded data removed]",
      "text/plain": [
       "<Figure size 864x504 with 1 Axes>"
      ]
     },
     "metadata": {},
     "output_type": "display_data"
    }
   ],
   "source": [
    "ax = plt.gca()\n",
    "cls_avg.iloc[:, 0].plot(kind='bar', ax=ax, color=cls_avg.iloc[:, 1].map({True: 'g', False: 'r'}))\n",
    "ax.set_title('Difference of Class Averages')\n",
    "ax.set_xlabel('Feature')\n",
    "ax.set_ylabel('Difference of Normalized Average')\n",
    "ax.set_xticklabels(cls_avg.index)\n",
    "\n",
    "pos_patch = mpatches.Patch(color='green', label='Positive')\n",
    "neg_patch = mpatches.Patch(color='red', label='Negative')\n",
    "plt.legend(title='Correlation', handles=[pos_patch, neg_patch]);"
   ]
  },
  {
   "cell_type": "markdown",
   "metadata": {},
   "source": [
    "**Notes**  \n",
    "- Plot shows strong, positive correlation with a county's growth rate, population and number of households\n",
    "- College rate correlation is smaller and positive\n",
    "- White population rate correlation is small and negative"
   ]
  },
  {
   "cell_type": "markdown",
   "metadata": {},
   "source": [
    "# Example Counties"
   ]
  },
  {
   "cell_type": "markdown",
   "metadata": {},
   "source": [
    "## PCA"
   ]
  },
  {
   "cell_type": "code",
   "execution_count": 135,
   "metadata": {},
   "outputs": [
    {
     "data": {
      "image/png": "[encoded data removed]",
      "text/plain": [
       "<Figure size 864x504 with 1 Axes>"
      ]
     },
     "metadata": {},
     "output_type": "display_data"
    }
   ],
   "source": [
    "# plot components\n",
    "class_labels = ['Safe', 'Swing']\n",
    "colors = ['black', 'purple']\n",
    "\n",
    "plt.figure()\n",
    "for i, label in enumerate(class_labels):\n",
    "    plt.scatter(pca_features[y == i, 0], pca_features[y == i, 1],\n",
    "                label=label, c=colors[i])\n",
    "plt.xlabel('Principle Component 1')\n",
    "plt.ylabel('Principle Component 2')\n",
    "plt.title('PCA of County Features')\n",
    "plt.legend();"
   ]
  },
  {
   "cell_type": "code",
   "execution_count": 136,
   "metadata": {},
   "outputs": [],
   "source": [
    "# target \"typical\" swing counties in pca plot\n",
    "\n",
    "# principle component 1 range\n",
    "comp1_min = 0\n",
    "comp1_max = 2.5\n",
    "# principle component 2 range\n",
    "comp2_min = -2.5\n",
    "comp2_max = 2.5"
   ]
  },
  {
   "cell_type": "code",
   "execution_count": 137,
   "metadata": {},
   "outputs": [],
   "source": [
    "df_pca = pd.DataFrame(pca_features, index=df.index)"
   ]
  },
  {
   "cell_type": "code",
   "execution_count": 138,
   "metadata": {},
   "outputs": [],
   "source": [
    "pca_conditions = (df_pca.iloc[:, 0] >= comp1_min) & (df_pca.iloc[:, 0] <= comp1_max) \\\n",
    "                  & (df_pca.iloc[:, 1] >= comp2_min) & (df_pca.iloc[:, 1] <= comp2_max)"
   ]
  },
  {
   "cell_type": "markdown",
   "metadata": {},
   "source": [
    "### \"Safe\" Counties"
   ]
  },
  {
   "cell_type": "code",
   "execution_count": 139,
   "metadata": {},
   "outputs": [],
   "source": [
    "df_safe = df_pca.loc[pca_conditions & (y == 0), :].index"
   ]
  },
  {
   "cell_type": "code",
   "execution_count": 140,
   "metadata": {},
   "outputs": [
    {
     "data": {
      "text/plain": [
       "population        70491.070461\n",
       "growth                1.800903\n",
       "households        26441.289973\n",
       "median_age           41.696296\n",
       "per_cap_income    44274.339657\n",
       "hh_income         54136.475158\n",
       "unempl_rate           3.765221\n",
       "poverty_rate         11.979584\n",
       "hs_rate              89.700813\n",
       "college_rate         22.887353\n",
       "density             122.339761\n",
       "white_rate            0.893603\n",
       "hisp_rate             0.068613\n",
       "close_elect           0.000000\n",
       "dtype: float64"
      ]
     },
     "execution_count": 140,
     "metadata": {},
     "output_type": "execute_result"
    }
   ],
   "source": [
    "df.loc[df_safe, :].mean()"
   ]
  },
  {
   "cell_type": "code",
   "execution_count": 141,
   "metadata": {},
   "outputs": [],
   "source": [
    "safe = df_safe[(df.loc[df_safe, :]['college_rate'] > 20) \\\n",
    "               & (df.loc[df_safe, :]['college_rate'] < 21) & (df.loc[df_safe, :]['population'] > 100000)]"
   ]
  },
  {
   "cell_type": "markdown",
   "metadata": {},
   "source": [
    "### Outliers"
   ]
  },
  {
   "cell_type": "code",
   "execution_count": 142,
   "metadata": {},
   "outputs": [],
   "source": [
    "outliers = []"
   ]
  },
  {
   "cell_type": "code",
   "execution_count": 143,
   "metadata": {
    "scrolled": true
   },
   "outputs": [
    {
     "data": {
      "text/plain": [
       "6037"
      ]
     },
     "execution_count": 143,
     "metadata": {},
     "output_type": "execute_result"
    }
   ],
   "source": [
    "# find index of max principle component 2\n",
    "df_pca.loc[:, 1].idxmax()"
   ]
  },
  {
   "cell_type": "code",
   "execution_count": 144,
   "metadata": {
    "scrolled": true
   },
   "outputs": [
    {
     "data": {
      "text/plain": [
       "0    13.519364\n",
       "1    27.906877\n",
       "Name: 6037, dtype: float64"
      ]
     },
     "execution_count": 144,
     "metadata": {},
     "output_type": "execute_result"
    }
   ],
   "source": [
    "# coordinate in pca\n",
    "df_pca.loc[df_pca.loc[:, 1].idxmax(), :]"
   ]
  },
  {
   "cell_type": "code",
   "execution_count": 145,
   "metadata": {},
   "outputs": [],
   "source": [
    "# add to example county list\n",
    "outliers.append(df_pca.loc[:, 1].idxmax())"
   ]
  },
  {
   "cell_type": "code",
   "execution_count": 146,
   "metadata": {},
   "outputs": [],
   "source": [
    "# max principle component 1\n",
    "outliers.append(df_pca.loc[:, 0].idxmax())"
   ]
  },
  {
   "cell_type": "code",
   "execution_count": 147,
   "metadata": {},
   "outputs": [],
   "source": [
    "# min principle component 1\n",
    "outliers.append(df_pca.loc[:, 0].idxmin())"
   ]
  },
  {
   "cell_type": "markdown",
   "metadata": {},
   "source": [
    "### \"Swing\" Counties"
   ]
  },
  {
   "cell_type": "code",
   "execution_count": 148,
   "metadata": {
    "scrolled": true
   },
   "outputs": [],
   "source": [
    "df_swing = df_pca.loc[pca_conditions & (y == 1), :].index"
   ]
  },
  {
   "cell_type": "code",
   "execution_count": 149,
   "metadata": {},
   "outputs": [
    {
     "data": {
      "text/plain": [
       "population        143607.898551\n",
       "growth                 2.566667\n",
       "households         55356.811594\n",
       "median_age            39.734783\n",
       "per_cap_income     43028.420290\n",
       "hh_income          54890.594203\n",
       "unempl_rate            4.166667\n",
       "poverty_rate          13.395652\n",
       "hs_rate               90.928986\n",
       "college_rate          29.482609\n",
       "density              253.702512\n",
       "white_rate             0.863252\n",
       "hisp_rate              0.075724\n",
       "close_elect            1.000000\n",
       "dtype: float64"
      ]
     },
     "execution_count": 149,
     "metadata": {},
     "output_type": "execute_result"
    }
   ],
   "source": [
    "df.loc[df_swing, :].mean()"
   ]
  },
  {
   "cell_type": "code",
   "execution_count": 150,
   "metadata": {},
   "outputs": [],
   "source": [
    "swing = df_swing[(df.loc[df_swing, :]['college_rate'] > 29) & (df.loc[df_swing, :]['college_rate'] < 30)]"
   ]
  },
  {
   "cell_type": "markdown",
   "metadata": {},
   "source": [
    "## County Location and Features"
   ]
  },
  {
   "cell_type": "code",
   "execution_count": 151,
   "metadata": {},
   "outputs": [
    {
     "data": {
      "text/html": [
       "<div>\n",
       "<style scoped>\n",
       "    .dataframe tbody tr th:only-of-type {\n",
       "        vertical-align: middle;\n",
       "    }\n",
       "\n",
       "    .dataframe tbody tr th {\n",
       "        vertical-align: top;\n",
       "    }\n",
       "\n",
       "    .dataframe thead th {\n",
       "        text-align: right;\n",
       "    }\n",
       "</style>\n",
       "<table border=\"1\" class=\"dataframe\">\n",
       "  <thead>\n",
       "    <tr style=\"text-align: right;\">\n",
       "      <th></th>\n",
       "      <th>Name</th>\n",
       "      <th>State</th>\n",
       "    </tr>\n",
       "    <tr>\n",
       "      <th>FIPS</th>\n",
       "      <th></th>\n",
       "      <th></th>\n",
       "    </tr>\n",
       "  </thead>\n",
       "  <tbody>\n",
       "    <tr>\n",
       "      <th>1001</th>\n",
       "      <td>Autauga</td>\n",
       "      <td>AL</td>\n",
       "    </tr>\n",
       "    <tr>\n",
       "      <th>1003</th>\n",
       "      <td>Baldwin</td>\n",
       "      <td>AL</td>\n",
       "    </tr>\n",
       "    <tr>\n",
       "      <th>1005</th>\n",
       "      <td>Barbour</td>\n",
       "      <td>AL</td>\n",
       "    </tr>\n",
       "    <tr>\n",
       "      <th>1007</th>\n",
       "      <td>Bibb</td>\n",
       "      <td>AL</td>\n",
       "    </tr>\n",
       "    <tr>\n",
       "      <th>1009</th>\n",
       "      <td>Blount</td>\n",
       "      <td>AL</td>\n",
       "    </tr>\n",
       "  </tbody>\n",
       "</table>\n",
       "</div>"
      ],
      "text/plain": [
       "          Name  State\n",
       "FIPS                 \n",
       "1001   Autauga     AL\n",
       "1003   Baldwin     AL\n",
       "1005   Barbour     AL\n",
       "1007      Bibb     AL\n",
       "1009    Blount     AL"
      ]
     },
     "execution_count": 151,
     "metadata": {},
     "output_type": "execute_result"
    }
   ],
   "source": [
    "# read in county code data\n",
    "df_county = pd.read_csv('data/us_county_codes.csv')\n",
    "df_county.set_index('FIPS ', inplace=True)\n",
    "df_county.head()"
   ]
  },
  {
   "cell_type": "code",
   "execution_count": 152,
   "metadata": {
    "scrolled": true
   },
   "outputs": [
    {
     "data": {
      "text/html": [
       "<div>\n",
       "<style scoped>\n",
       "    .dataframe tbody tr th:only-of-type {\n",
       "        vertical-align: middle;\n",
       "    }\n",
       "\n",
       "    .dataframe tbody tr th {\n",
       "        vertical-align: top;\n",
       "    }\n",
       "\n",
       "    .dataframe thead th {\n",
       "        text-align: right;\n",
       "    }\n",
       "</style>\n",
       "<table border=\"1\" class=\"dataframe\">\n",
       "  <thead>\n",
       "    <tr style=\"text-align: right;\">\n",
       "      <th></th>\n",
       "      <th>population</th>\n",
       "      <th>growth</th>\n",
       "      <th>households</th>\n",
       "      <th>median_age</th>\n",
       "      <th>per_cap_income</th>\n",
       "      <th>hh_income</th>\n",
       "      <th>unempl_rate</th>\n",
       "      <th>poverty_rate</th>\n",
       "      <th>hs_rate</th>\n",
       "      <th>college_rate</th>\n",
       "      <th>density</th>\n",
       "      <th>white_rate</th>\n",
       "      <th>hisp_rate</th>\n",
       "      <th>close_elect</th>\n",
       "      <th>Name</th>\n",
       "      <th>State</th>\n",
       "    </tr>\n",
       "  </thead>\n",
       "  <tbody>\n",
       "    <tr>\n",
       "      <th>1001</th>\n",
       "      <td>55504.0</td>\n",
       "      <td>1.7</td>\n",
       "      <td>20800.0</td>\n",
       "      <td>37.8</td>\n",
       "      <td>39721.0</td>\n",
       "      <td>54487.0</td>\n",
       "      <td>3.9</td>\n",
       "      <td>13.5</td>\n",
       "      <td>87.6</td>\n",
       "      <td>24.6</td>\n",
       "      <td>93.371913</td>\n",
       "      <td>0.762305</td>\n",
       "      <td>0.025512</td>\n",
       "      <td>0</td>\n",
       "      <td>Autauga</td>\n",
       "      <td>AL</td>\n",
       "    </tr>\n",
       "    <tr>\n",
       "      <th>1003</th>\n",
       "      <td>212628.0</td>\n",
       "      <td>16.7</td>\n",
       "      <td>75149.0</td>\n",
       "      <td>42.3</td>\n",
       "      <td>41286.0</td>\n",
       "      <td>56460.0</td>\n",
       "      <td>4.0</td>\n",
       "      <td>11.7</td>\n",
       "      <td>90.0</td>\n",
       "      <td>29.5</td>\n",
       "      <td>133.746808</td>\n",
       "      <td>0.810999</td>\n",
       "      <td>0.040973</td>\n",
       "      <td>0</td>\n",
       "      <td>Baldwin</td>\n",
       "      <td>AL</td>\n",
       "    </tr>\n",
       "    <tr>\n",
       "      <th>1005</th>\n",
       "      <td>25270.0</td>\n",
       "      <td>-8.0</td>\n",
       "      <td>9122.0</td>\n",
       "      <td>38.7</td>\n",
       "      <td>31788.0</td>\n",
       "      <td>32884.0</td>\n",
       "      <td>5.9</td>\n",
       "      <td>29.9</td>\n",
       "      <td>73.8</td>\n",
       "      <td>12.9</td>\n",
       "      <td>28.557545</td>\n",
       "      <td>0.491888</td>\n",
       "      <td>0.045390</td>\n",
       "      <td>0</td>\n",
       "      <td>Barbour</td>\n",
       "      <td>AL</td>\n",
       "    </tr>\n",
       "    <tr>\n",
       "      <th>1007</th>\n",
       "      <td>22668.0</td>\n",
       "      <td>-1.1</td>\n",
       "      <td>7048.0</td>\n",
       "      <td>40.2</td>\n",
       "      <td>29264.0</td>\n",
       "      <td>43079.0</td>\n",
       "      <td>4.4</td>\n",
       "      <td>20.1</td>\n",
       "      <td>80.7</td>\n",
       "      <td>12.0</td>\n",
       "      <td>36.409779</td>\n",
       "      <td>0.766278</td>\n",
       "      <td>0.022146</td>\n",
       "      <td>0</td>\n",
       "      <td>Bibb</td>\n",
       "      <td>AL</td>\n",
       "    </tr>\n",
       "    <tr>\n",
       "      <th>1009</th>\n",
       "      <td>58013.0</td>\n",
       "      <td>1.2</td>\n",
       "      <td>20619.0</td>\n",
       "      <td>40.8</td>\n",
       "      <td>31470.0</td>\n",
       "      <td>47213.0</td>\n",
       "      <td>4.0</td>\n",
       "      <td>14.1</td>\n",
       "      <td>80.0</td>\n",
       "      <td>13.0</td>\n",
       "      <td>89.973324</td>\n",
       "      <td>0.949322</td>\n",
       "      <td>0.086808</td>\n",
       "      <td>0</td>\n",
       "      <td>Blount</td>\n",
       "      <td>AL</td>\n",
       "    </tr>\n",
       "  </tbody>\n",
       "</table>\n",
       "</div>"
      ],
      "text/plain": [
       "      population  growth  households  median_age  per_cap_income  hh_income  \\\n",
       "1001     55504.0     1.7     20800.0        37.8         39721.0    54487.0   \n",
       "1003    212628.0    16.7     75149.0        42.3         41286.0    56460.0   \n",
       "1005     25270.0    -8.0      9122.0        38.7         31788.0    32884.0   \n",
       "1007     22668.0    -1.1      7048.0        40.2         29264.0    43079.0   \n",
       "1009     58013.0     1.2     20619.0        40.8         31470.0    47213.0   \n",
       "\n",
       "      unempl_rate  poverty_rate  hs_rate  college_rate     density  \\\n",
       "1001          3.9          13.5     87.6          24.6   93.371913   \n",
       "1003          4.0          11.7     90.0          29.5  133.746808   \n",
       "1005          5.9          29.9     73.8          12.9   28.557545   \n",
       "1007          4.4          20.1     80.7          12.0   36.409779   \n",
       "1009          4.0          14.1     80.0          13.0   89.973324   \n",
       "\n",
       "      white_rate  hisp_rate  close_elect     Name  State  \n",
       "1001    0.762305   0.025512            0  Autauga     AL  \n",
       "1003    0.810999   0.040973            0  Baldwin     AL  \n",
       "1005    0.491888   0.045390            0  Barbour     AL  \n",
       "1007    0.766278   0.022146            0     Bibb     AL  \n",
       "1009    0.949322   0.086808            0   Blount     AL  "
      ]
     },
     "execution_count": 152,
     "metadata": {},
     "output_type": "execute_result"
    }
   ],
   "source": [
    "# merge county feature data and county code data on county code (indicies)\n",
    "df_feat_cty = pd.merge(df, df_county, left_index=True, right_index=True)\n",
    "df_feat_cty.head()"
   ]
  },
  {
   "cell_type": "code",
   "execution_count": 153,
   "metadata": {},
   "outputs": [
    {
     "data": {
      "text/html": [
       "<div>\n",
       "<style scoped>\n",
       "    .dataframe tbody tr th:only-of-type {\n",
       "        vertical-align: middle;\n",
       "    }\n",
       "\n",
       "    .dataframe tbody tr th {\n",
       "        vertical-align: top;\n",
       "    }\n",
       "\n",
       "    .dataframe thead th {\n",
       "        text-align: right;\n",
       "    }\n",
       "</style>\n",
       "<table border=\"1\" class=\"dataframe\">\n",
       "  <thead>\n",
       "    <tr style=\"text-align: right;\">\n",
       "      <th></th>\n",
       "      <th>population</th>\n",
       "      <th>growth</th>\n",
       "      <th>households</th>\n",
       "      <th>median_age</th>\n",
       "      <th>per_cap_income</th>\n",
       "      <th>hh_income</th>\n",
       "      <th>unempl_rate</th>\n",
       "      <th>poverty_rate</th>\n",
       "      <th>hs_rate</th>\n",
       "      <th>college_rate</th>\n",
       "      <th>density</th>\n",
       "      <th>white_rate</th>\n",
       "      <th>hisp_rate</th>\n",
       "      <th>close_elect</th>\n",
       "      <th>Name</th>\n",
       "      <th>State</th>\n",
       "    </tr>\n",
       "    <tr>\n",
       "      <th>code</th>\n",
       "      <th></th>\n",
       "      <th></th>\n",
       "      <th></th>\n",
       "      <th></th>\n",
       "      <th></th>\n",
       "      <th></th>\n",
       "      <th></th>\n",
       "      <th></th>\n",
       "      <th></th>\n",
       "      <th></th>\n",
       "      <th></th>\n",
       "      <th></th>\n",
       "      <th></th>\n",
       "      <th></th>\n",
       "      <th></th>\n",
       "      <th></th>\n",
       "    </tr>\n",
       "  </thead>\n",
       "  <tbody>\n",
       "    <tr>\n",
       "      <th>2170</th>\n",
       "      <td>106532.0</td>\n",
       "      <td>19.7</td>\n",
       "      <td>30839.0</td>\n",
       "      <td>34.8</td>\n",
       "      <td>44880.0</td>\n",
       "      <td>71793.0</td>\n",
       "      <td>8.7</td>\n",
       "      <td>9.5</td>\n",
       "      <td>92.4</td>\n",
       "      <td>20.6</td>\n",
       "      <td>4.329179</td>\n",
       "      <td>0.775082</td>\n",
       "      <td>0.041894</td>\n",
       "      <td>0</td>\n",
       "      <td>Matanuska-Susitna</td>\n",
       "      <td>AK</td>\n",
       "    </tr>\n",
       "    <tr>\n",
       "      <th>6089</th>\n",
       "      <td>179921.0</td>\n",
       "      <td>1.5</td>\n",
       "      <td>69713.0</td>\n",
       "      <td>42.3</td>\n",
       "      <td>42411.0</td>\n",
       "      <td>46663.0</td>\n",
       "      <td>5.8</td>\n",
       "      <td>17.2</td>\n",
       "      <td>90.0</td>\n",
       "      <td>20.1</td>\n",
       "      <td>47.656142</td>\n",
       "      <td>0.866736</td>\n",
       "      <td>0.092835</td>\n",
       "      <td>0</td>\n",
       "      <td>Shasta</td>\n",
       "      <td>CA</td>\n",
       "    </tr>\n",
       "    <tr>\n",
       "      <th>18019</th>\n",
       "      <td>116973.0</td>\n",
       "      <td>6.1</td>\n",
       "      <td>43074.0</td>\n",
       "      <td>38.8</td>\n",
       "      <td>41026.0</td>\n",
       "      <td>51837.0</td>\n",
       "      <td>3.5</td>\n",
       "      <td>10.5</td>\n",
       "      <td>87.9</td>\n",
       "      <td>20.2</td>\n",
       "      <td>313.718286</td>\n",
       "      <td>0.859224</td>\n",
       "      <td>0.049866</td>\n",
       "      <td>0</td>\n",
       "      <td>Clark</td>\n",
       "      <td>IN</td>\n",
       "    </tr>\n",
       "    <tr>\n",
       "      <th>18089</th>\n",
       "      <td>485640.0</td>\n",
       "      <td>-2.1</td>\n",
       "      <td>184140.0</td>\n",
       "      <td>38.2</td>\n",
       "      <td>40628.0</td>\n",
       "      <td>53600.0</td>\n",
       "      <td>5.1</td>\n",
       "      <td>16.6</td>\n",
       "      <td>87.6</td>\n",
       "      <td>20.9</td>\n",
       "      <td>973.304473</td>\n",
       "      <td>0.623645</td>\n",
       "      <td>0.181906</td>\n",
       "      <td>0</td>\n",
       "      <td>Lake</td>\n",
       "      <td>IN</td>\n",
       "    </tr>\n",
       "    <tr>\n",
       "      <th>22019</th>\n",
       "      <td>202445.0</td>\n",
       "      <td>5.0</td>\n",
       "      <td>76270.0</td>\n",
       "      <td>36.1</td>\n",
       "      <td>44743.0</td>\n",
       "      <td>47052.0</td>\n",
       "      <td>3.9</td>\n",
       "      <td>19.9</td>\n",
       "      <td>85.4</td>\n",
       "      <td>20.6</td>\n",
       "      <td>190.328676</td>\n",
       "      <td>0.688982</td>\n",
       "      <td>0.029549</td>\n",
       "      <td>0</td>\n",
       "      <td>Calcasieu</td>\n",
       "      <td>LA</td>\n",
       "    </tr>\n",
       "    <tr>\n",
       "      <th>23001</th>\n",
       "      <td>107651.0</td>\n",
       "      <td>0.0</td>\n",
       "      <td>44747.0</td>\n",
       "      <td>40.7</td>\n",
       "      <td>38091.0</td>\n",
       "      <td>48494.0</td>\n",
       "      <td>3.1</td>\n",
       "      <td>12.7</td>\n",
       "      <td>89.4</td>\n",
       "      <td>20.7</td>\n",
       "      <td>230.057915</td>\n",
       "      <td>0.920279</td>\n",
       "      <td>0.017287</td>\n",
       "      <td>0</td>\n",
       "      <td>Androscoggin</td>\n",
       "      <td>ME</td>\n",
       "    </tr>\n",
       "    <tr>\n",
       "      <th>24043</th>\n",
       "      <td>150578.0</td>\n",
       "      <td>2.1</td>\n",
       "      <td>56094.0</td>\n",
       "      <td>40.7</td>\n",
       "      <td>43470.0</td>\n",
       "      <td>54643.0</td>\n",
       "      <td>4.6</td>\n",
       "      <td>13.2</td>\n",
       "      <td>86.9</td>\n",
       "      <td>20.1</td>\n",
       "      <td>328.930928</td>\n",
       "      <td>0.829490</td>\n",
       "      <td>0.041726</td>\n",
       "      <td>0</td>\n",
       "      <td>Washington</td>\n",
       "      <td>MD</td>\n",
       "    </tr>\n",
       "    <tr>\n",
       "      <th>26075</th>\n",
       "      <td>158640.0</td>\n",
       "      <td>-1.0</td>\n",
       "      <td>60803.0</td>\n",
       "      <td>40.8</td>\n",
       "      <td>38331.0</td>\n",
       "      <td>50809.0</td>\n",
       "      <td>4.7</td>\n",
       "      <td>13.6</td>\n",
       "      <td>89.8</td>\n",
       "      <td>20.6</td>\n",
       "      <td>226.089187</td>\n",
       "      <td>0.879343</td>\n",
       "      <td>0.033453</td>\n",
       "      <td>0</td>\n",
       "      <td>Jackson</td>\n",
       "      <td>MI</td>\n",
       "    </tr>\n",
       "    <tr>\n",
       "      <th>42055</th>\n",
       "      <td>154234.0</td>\n",
       "      <td>3.1</td>\n",
       "      <td>59392.0</td>\n",
       "      <td>40.9</td>\n",
       "      <td>42275.0</td>\n",
       "      <td>59474.0</td>\n",
       "      <td>4.5</td>\n",
       "      <td>9.1</td>\n",
       "      <td>86.5</td>\n",
       "      <td>20.1</td>\n",
       "      <td>199.728057</td>\n",
       "      <td>0.921321</td>\n",
       "      <td>0.050080</td>\n",
       "      <td>0</td>\n",
       "      <td>Franklin</td>\n",
       "      <td>PA</td>\n",
       "    </tr>\n",
       "    <tr>\n",
       "      <th>42081</th>\n",
       "      <td>113841.0</td>\n",
       "      <td>-2.0</td>\n",
       "      <td>45587.0</td>\n",
       "      <td>41.2</td>\n",
       "      <td>40185.0</td>\n",
       "      <td>48962.0</td>\n",
       "      <td>5.6</td>\n",
       "      <td>14.6</td>\n",
       "      <td>88.9</td>\n",
       "      <td>20.6</td>\n",
       "      <td>92.659878</td>\n",
       "      <td>0.938801</td>\n",
       "      <td>0.018227</td>\n",
       "      <td>0</td>\n",
       "      <td>Lycoming</td>\n",
       "      <td>PA</td>\n",
       "    </tr>\n",
       "    <tr>\n",
       "      <th>47011</th>\n",
       "      <td>105560.0</td>\n",
       "      <td>6.7</td>\n",
       "      <td>39178.0</td>\n",
       "      <td>39.3</td>\n",
       "      <td>37941.0</td>\n",
       "      <td>45326.0</td>\n",
       "      <td>3.7</td>\n",
       "      <td>14.2</td>\n",
       "      <td>83.5</td>\n",
       "      <td>20.9</td>\n",
       "      <td>321.085290</td>\n",
       "      <td>0.894771</td>\n",
       "      <td>0.054272</td>\n",
       "      <td>0</td>\n",
       "      <td>Bradley</td>\n",
       "      <td>TN</td>\n",
       "    </tr>\n",
       "    <tr>\n",
       "      <th>48181</th>\n",
       "      <td>131140.0</td>\n",
       "      <td>8.5</td>\n",
       "      <td>47161.0</td>\n",
       "      <td>40.2</td>\n",
       "      <td>38932.0</td>\n",
       "      <td>51808.0</td>\n",
       "      <td>3.5</td>\n",
       "      <td>13.2</td>\n",
       "      <td>87.6</td>\n",
       "      <td>20.2</td>\n",
       "      <td>140.587479</td>\n",
       "      <td>0.822045</td>\n",
       "      <td>0.117096</td>\n",
       "      <td>0</td>\n",
       "      <td>Grayson</td>\n",
       "      <td>TX</td>\n",
       "    </tr>\n",
       "    <tr>\n",
       "      <th>54003</th>\n",
       "      <td>114920.0</td>\n",
       "      <td>10.3</td>\n",
       "      <td>41720.0</td>\n",
       "      <td>38.4</td>\n",
       "      <td>37576.0</td>\n",
       "      <td>56966.0</td>\n",
       "      <td>3.7</td>\n",
       "      <td>12.9</td>\n",
       "      <td>87.2</td>\n",
       "      <td>20.3</td>\n",
       "      <td>357.850159</td>\n",
       "      <td>0.840663</td>\n",
       "      <td>0.037287</td>\n",
       "      <td>0</td>\n",
       "      <td>Berkeley</td>\n",
       "      <td>WV</td>\n",
       "    </tr>\n",
       "    <tr>\n",
       "      <th>55105</th>\n",
       "      <td>162309.0</td>\n",
       "      <td>1.2</td>\n",
       "      <td>63941.0</td>\n",
       "      <td>39.1</td>\n",
       "      <td>40477.0</td>\n",
       "      <td>51573.0</td>\n",
       "      <td>3.7</td>\n",
       "      <td>12.9</td>\n",
       "      <td>89.4</td>\n",
       "      <td>20.8</td>\n",
       "      <td>226.013034</td>\n",
       "      <td>0.887154</td>\n",
       "      <td>0.081406</td>\n",
       "      <td>0</td>\n",
       "      <td>Rock</td>\n",
       "      <td>WI</td>\n",
       "    </tr>\n",
       "  </tbody>\n",
       "</table>\n",
       "</div>"
      ],
      "text/plain": [
       "       population  growth  households  median_age  per_cap_income  hh_income  \\\n",
       "code                                                                           \n",
       "2170     106532.0    19.7     30839.0        34.8         44880.0    71793.0   \n",
       "6089     179921.0     1.5     69713.0        42.3         42411.0    46663.0   \n",
       "18019    116973.0     6.1     43074.0        38.8         41026.0    51837.0   \n",
       "18089    485640.0    -2.1    184140.0        38.2         40628.0    53600.0   \n",
       "22019    202445.0     5.0     76270.0        36.1         44743.0    47052.0   \n",
       "23001    107651.0     0.0     44747.0        40.7         38091.0    48494.0   \n",
       "24043    150578.0     2.1     56094.0        40.7         43470.0    54643.0   \n",
       "26075    158640.0    -1.0     60803.0        40.8         38331.0    50809.0   \n",
       "42055    154234.0     3.1     59392.0        40.9         42275.0    59474.0   \n",
       "42081    113841.0    -2.0     45587.0        41.2         40185.0    48962.0   \n",
       "47011    105560.0     6.7     39178.0        39.3         37941.0    45326.0   \n",
       "48181    131140.0     8.5     47161.0        40.2         38932.0    51808.0   \n",
       "54003    114920.0    10.3     41720.0        38.4         37576.0    56966.0   \n",
       "55105    162309.0     1.2     63941.0        39.1         40477.0    51573.0   \n",
       "\n",
       "       unempl_rate  poverty_rate  hs_rate  college_rate     density  \\\n",
       "code                                                                  \n",
       "2170           8.7           9.5     92.4          20.6    4.329179   \n",
       "6089           5.8          17.2     90.0          20.1   47.656142   \n",
       "18019          3.5          10.5     87.9          20.2  313.718286   \n",
       "18089          5.1          16.6     87.6          20.9  973.304473   \n",
       "22019          3.9          19.9     85.4          20.6  190.328676   \n",
       "23001          3.1          12.7     89.4          20.7  230.057915   \n",
       "24043          4.6          13.2     86.9          20.1  328.930928   \n",
       "26075          4.7          13.6     89.8          20.6  226.089187   \n",
       "42055          4.5           9.1     86.5          20.1  199.728057   \n",
       "42081          5.6          14.6     88.9          20.6   92.659878   \n",
       "47011          3.7          14.2     83.5          20.9  321.085290   \n",
       "48181          3.5          13.2     87.6          20.2  140.587479   \n",
       "54003          3.7          12.9     87.2          20.3  357.850159   \n",
       "55105          3.7          12.9     89.4          20.8  226.013034   \n",
       "\n",
       "       white_rate  hisp_rate  close_elect               Name  State  \n",
       "code                                                                 \n",
       "2170     0.775082   0.041894            0  Matanuska-Susitna     AK  \n",
       "6089     0.866736   0.092835            0             Shasta     CA  \n",
       "18019    0.859224   0.049866            0              Clark     IN  \n",
       "18089    0.623645   0.181906            0               Lake     IN  \n",
       "22019    0.688982   0.029549            0          Calcasieu     LA  \n",
       "23001    0.920279   0.017287            0       Androscoggin     ME  \n",
       "24043    0.829490   0.041726            0         Washington     MD  \n",
       "26075    0.879343   0.033453            0            Jackson     MI  \n",
       "42055    0.921321   0.050080            0           Franklin     PA  \n",
       "42081    0.938801   0.018227            0           Lycoming     PA  \n",
       "47011    0.894771   0.054272            0            Bradley     TN  \n",
       "48181    0.822045   0.117096            0            Grayson     TX  \n",
       "54003    0.840663   0.037287            0           Berkeley     WV  \n",
       "55105    0.887154   0.081406            0               Rock     WI  "
      ]
     },
     "execution_count": 153,
     "metadata": {},
     "output_type": "execute_result"
    }
   ],
   "source": [
    "# example safe features\n",
    "df_feat_cty.loc[safe, :]"
   ]
  },
  {
   "cell_type": "code",
   "execution_count": 154,
   "metadata": {},
   "outputs": [],
   "source": [
    "safe_ex = [6037, 36061, 18019, 42055, 55105]"
   ]
  },
  {
   "cell_type": "code",
   "execution_count": 155,
   "metadata": {},
   "outputs": [
    {
     "data": {
      "text/html": [
       "<div>\n",
       "<style scoped>\n",
       "    .dataframe tbody tr th:only-of-type {\n",
       "        vertical-align: middle;\n",
       "    }\n",
       "\n",
       "    .dataframe tbody tr th {\n",
       "        vertical-align: top;\n",
       "    }\n",
       "\n",
       "    .dataframe thead th {\n",
       "        text-align: right;\n",
       "    }\n",
       "</style>\n",
       "<table border=\"1\" class=\"dataframe\">\n",
       "  <thead>\n",
       "    <tr style=\"text-align: right;\">\n",
       "      <th></th>\n",
       "      <th>Name</th>\n",
       "      <th>State</th>\n",
       "    </tr>\n",
       "    <tr>\n",
       "      <th>FIPS</th>\n",
       "      <th></th>\n",
       "      <th></th>\n",
       "    </tr>\n",
       "  </thead>\n",
       "  <tbody>\n",
       "    <tr>\n",
       "      <th>6037</th>\n",
       "      <td>Los Angeles</td>\n",
       "      <td>CA</td>\n",
       "    </tr>\n",
       "    <tr>\n",
       "      <th>36061</th>\n",
       "      <td>New York</td>\n",
       "      <td>NY</td>\n",
       "    </tr>\n",
       "    <tr>\n",
       "      <th>18019</th>\n",
       "      <td>Clark</td>\n",
       "      <td>IN</td>\n",
       "    </tr>\n",
       "    <tr>\n",
       "      <th>42055</th>\n",
       "      <td>Franklin</td>\n",
       "      <td>PA</td>\n",
       "    </tr>\n",
       "    <tr>\n",
       "      <th>55105</th>\n",
       "      <td>Rock</td>\n",
       "      <td>WI</td>\n",
       "    </tr>\n",
       "  </tbody>\n",
       "</table>\n",
       "</div>"
      ],
      "text/plain": [
       "              Name  State\n",
       "FIPS                     \n",
       "6037   Los Angeles     CA\n",
       "36061     New York     NY\n",
       "18019        Clark     IN\n",
       "42055     Franklin     PA\n",
       "55105         Rock     WI"
      ]
     },
     "execution_count": 155,
     "metadata": {},
     "output_type": "execute_result"
    }
   ],
   "source": [
    "df_county.loc[safe_ex, :]"
   ]
  },
  {
   "cell_type": "code",
   "execution_count": 156,
   "metadata": {},
   "outputs": [
    {
     "data": {
      "text/html": [
       "<div>\n",
       "<style scoped>\n",
       "    .dataframe tbody tr th:only-of-type {\n",
       "        vertical-align: middle;\n",
       "    }\n",
       "\n",
       "    .dataframe tbody tr th {\n",
       "        vertical-align: top;\n",
       "    }\n",
       "\n",
       "    .dataframe thead th {\n",
       "        text-align: right;\n",
       "    }\n",
       "</style>\n",
       "<table border=\"1\" class=\"dataframe\">\n",
       "  <thead>\n",
       "    <tr style=\"text-align: right;\">\n",
       "      <th></th>\n",
       "      <th>population</th>\n",
       "      <th>growth</th>\n",
       "      <th>households</th>\n",
       "      <th>median_age</th>\n",
       "      <th>per_cap_income</th>\n",
       "      <th>hh_income</th>\n",
       "      <th>unempl_rate</th>\n",
       "      <th>poverty_rate</th>\n",
       "      <th>hs_rate</th>\n",
       "      <th>college_rate</th>\n",
       "      <th>density</th>\n",
       "      <th>white_rate</th>\n",
       "      <th>hisp_rate</th>\n",
       "      <th>close_elect</th>\n",
       "      <th>Name</th>\n",
       "      <th>State</th>\n",
       "    </tr>\n",
       "    <tr>\n",
       "      <th>code</th>\n",
       "      <th></th>\n",
       "      <th></th>\n",
       "      <th></th>\n",
       "      <th></th>\n",
       "      <th></th>\n",
       "      <th></th>\n",
       "      <th></th>\n",
       "      <th></th>\n",
       "      <th></th>\n",
       "      <th></th>\n",
       "      <th></th>\n",
       "      <th></th>\n",
       "      <th></th>\n",
       "      <th></th>\n",
       "      <th></th>\n",
       "      <th></th>\n",
       "    </tr>\n",
       "  </thead>\n",
       "  <tbody>\n",
       "    <tr>\n",
       "      <th>17143</th>\n",
       "      <td>183011.0</td>\n",
       "      <td>-1.9</td>\n",
       "      <td>75406.0</td>\n",
       "      <td>36.9</td>\n",
       "      <td>47673.0</td>\n",
       "      <td>52380.0</td>\n",
       "      <td>5.8</td>\n",
       "      <td>15.2</td>\n",
       "      <td>90.3</td>\n",
       "      <td>29.8</td>\n",
       "      <td>295.555627</td>\n",
       "      <td>0.750649</td>\n",
       "      <td>0.045658</td>\n",
       "      <td>1</td>\n",
       "      <td>Peoria</td>\n",
       "      <td>IL</td>\n",
       "    </tr>\n",
       "    <tr>\n",
       "      <th>19061</th>\n",
       "      <td>97041.0</td>\n",
       "      <td>3.6</td>\n",
       "      <td>38006.0</td>\n",
       "      <td>38.5</td>\n",
       "      <td>45068.0</td>\n",
       "      <td>59403.0</td>\n",
       "      <td>3.0</td>\n",
       "      <td>10.5</td>\n",
       "      <td>92.3</td>\n",
       "      <td>29.2</td>\n",
       "      <td>159.528193</td>\n",
       "      <td>0.927185</td>\n",
       "      <td>0.021908</td>\n",
       "      <td>1</td>\n",
       "      <td>Dubuque</td>\n",
       "      <td>IA</td>\n",
       "    </tr>\n",
       "    <tr>\n",
       "      <th>20177</th>\n",
       "      <td>178187.0</td>\n",
       "      <td>0.1</td>\n",
       "      <td>71015.0</td>\n",
       "      <td>38.8</td>\n",
       "      <td>44504.0</td>\n",
       "      <td>55387.0</td>\n",
       "      <td>3.7</td>\n",
       "      <td>10.9</td>\n",
       "      <td>91.1</td>\n",
       "      <td>29.3</td>\n",
       "      <td>327.537591</td>\n",
       "      <td>0.829595</td>\n",
       "      <td>0.117309</td>\n",
       "      <td>1</td>\n",
       "      <td>Shawnee</td>\n",
       "      <td>KS</td>\n",
       "    </tr>\n",
       "    <tr>\n",
       "      <th>23027</th>\n",
       "      <td>39832.0</td>\n",
       "      <td>2.7</td>\n",
       "      <td>16820.0</td>\n",
       "      <td>45.4</td>\n",
       "      <td>37334.0</td>\n",
       "      <td>48422.0</td>\n",
       "      <td>3.6</td>\n",
       "      <td>14.3</td>\n",
       "      <td>91.9</td>\n",
       "      <td>29.2</td>\n",
       "      <td>54.570364</td>\n",
       "      <td>0.948710</td>\n",
       "      <td>0.011197</td>\n",
       "      <td>1</td>\n",
       "      <td>Waldo</td>\n",
       "      <td>ME</td>\n",
       "    </tr>\n",
       "    <tr>\n",
       "      <th>27169</th>\n",
       "      <td>50873.0</td>\n",
       "      <td>-1.1</td>\n",
       "      <td>19078.0</td>\n",
       "      <td>34.0</td>\n",
       "      <td>44354.0</td>\n",
       "      <td>56499.0</td>\n",
       "      <td>3.1</td>\n",
       "      <td>11.5</td>\n",
       "      <td>92.5</td>\n",
       "      <td>29.3</td>\n",
       "      <td>81.239520</td>\n",
       "      <td>0.944194</td>\n",
       "      <td>0.027520</td>\n",
       "      <td>1</td>\n",
       "      <td>Winona</td>\n",
       "      <td>MN</td>\n",
       "    </tr>\n",
       "    <tr>\n",
       "      <th>35043</th>\n",
       "      <td>142507.0</td>\n",
       "      <td>8.3</td>\n",
       "      <td>48534.0</td>\n",
       "      <td>39.4</td>\n",
       "      <td>38677.0</td>\n",
       "      <td>58621.0</td>\n",
       "      <td>6.2</td>\n",
       "      <td>14.5</td>\n",
       "      <td>90.8</td>\n",
       "      <td>29.7</td>\n",
       "      <td>38.404862</td>\n",
       "      <td>0.678472</td>\n",
       "      <td>0.361049</td>\n",
       "      <td>1</td>\n",
       "      <td>Sandoval</td>\n",
       "      <td>NM</td>\n",
       "    </tr>\n",
       "    <tr>\n",
       "      <th>36021</th>\n",
       "      <td>60604.0</td>\n",
       "      <td>-3.9</td>\n",
       "      <td>25295.0</td>\n",
       "      <td>47.0</td>\n",
       "      <td>50935.0</td>\n",
       "      <td>57579.0</td>\n",
       "      <td>3.8</td>\n",
       "      <td>12.7</td>\n",
       "      <td>88.9</td>\n",
       "      <td>29.5</td>\n",
       "      <td>95.482976</td>\n",
       "      <td>0.913851</td>\n",
       "      <td>0.044205</td>\n",
       "      <td>1</td>\n",
       "      <td>Columbia</td>\n",
       "      <td>NY</td>\n",
       "    </tr>\n",
       "    <tr>\n",
       "      <th>36083</th>\n",
       "      <td>159722.0</td>\n",
       "      <td>0.2</td>\n",
       "      <td>63553.0</td>\n",
       "      <td>39.8</td>\n",
       "      <td>45212.0</td>\n",
       "      <td>63174.0</td>\n",
       "      <td>4.5</td>\n",
       "      <td>11.6</td>\n",
       "      <td>91.3</td>\n",
       "      <td>29.3</td>\n",
       "      <td>244.810938</td>\n",
       "      <td>0.870350</td>\n",
       "      <td>0.044966</td>\n",
       "      <td>1</td>\n",
       "      <td>Rensselaer</td>\n",
       "      <td>NY</td>\n",
       "    </tr>\n",
       "    <tr>\n",
       "      <th>42043</th>\n",
       "      <td>275710.0</td>\n",
       "      <td>2.8</td>\n",
       "      <td>110211.0</td>\n",
       "      <td>39.6</td>\n",
       "      <td>47864.0</td>\n",
       "      <td>59958.0</td>\n",
       "      <td>4.5</td>\n",
       "      <td>11.3</td>\n",
       "      <td>89.1</td>\n",
       "      <td>29.3</td>\n",
       "      <td>525.111894</td>\n",
       "      <td>0.707983</td>\n",
       "      <td>0.081299</td>\n",
       "      <td>1</td>\n",
       "      <td>Dauphin</td>\n",
       "      <td>PA</td>\n",
       "    </tr>\n",
       "    <tr>\n",
       "      <th>50021</th>\n",
       "      <td>59087.0</td>\n",
       "      <td>-4.1</td>\n",
       "      <td>25317.0</td>\n",
       "      <td>45.9</td>\n",
       "      <td>49375.0</td>\n",
       "      <td>50569.0</td>\n",
       "      <td>3.5</td>\n",
       "      <td>13.3</td>\n",
       "      <td>90.9</td>\n",
       "      <td>29.2</td>\n",
       "      <td>63.546708</td>\n",
       "      <td>0.985005</td>\n",
       "      <td>0.013624</td>\n",
       "      <td>1</td>\n",
       "      <td>Rutland</td>\n",
       "      <td>VT</td>\n",
       "    </tr>\n",
       "  </tbody>\n",
       "</table>\n",
       "</div>"
      ],
      "text/plain": [
       "       population  growth  households  median_age  per_cap_income  hh_income  \\\n",
       "code                                                                           \n",
       "17143    183011.0    -1.9     75406.0        36.9         47673.0    52380.0   \n",
       "19061     97041.0     3.6     38006.0        38.5         45068.0    59403.0   \n",
       "20177    178187.0     0.1     71015.0        38.8         44504.0    55387.0   \n",
       "23027     39832.0     2.7     16820.0        45.4         37334.0    48422.0   \n",
       "27169     50873.0    -1.1     19078.0        34.0         44354.0    56499.0   \n",
       "35043    142507.0     8.3     48534.0        39.4         38677.0    58621.0   \n",
       "36021     60604.0    -3.9     25295.0        47.0         50935.0    57579.0   \n",
       "36083    159722.0     0.2     63553.0        39.8         45212.0    63174.0   \n",
       "42043    275710.0     2.8    110211.0        39.6         47864.0    59958.0   \n",
       "50021     59087.0    -4.1     25317.0        45.9         49375.0    50569.0   \n",
       "\n",
       "       unempl_rate  poverty_rate  hs_rate  college_rate     density  \\\n",
       "code                                                                  \n",
       "17143          5.8          15.2     90.3          29.8  295.555627   \n",
       "19061          3.0          10.5     92.3          29.2  159.528193   \n",
       "20177          3.7          10.9     91.1          29.3  327.537591   \n",
       "23027          3.6          14.3     91.9          29.2   54.570364   \n",
       "27169          3.1          11.5     92.5          29.3   81.239520   \n",
       "35043          6.2          14.5     90.8          29.7   38.404862   \n",
       "36021          3.8          12.7     88.9          29.5   95.482976   \n",
       "36083          4.5          11.6     91.3          29.3  244.810938   \n",
       "42043          4.5          11.3     89.1          29.3  525.111894   \n",
       "50021          3.5          13.3     90.9          29.2   63.546708   \n",
       "\n",
       "       white_rate  hisp_rate  close_elect        Name  State  \n",
       "code                                                          \n",
       "17143    0.750649   0.045658            1      Peoria     IL  \n",
       "19061    0.927185   0.021908            1     Dubuque     IA  \n",
       "20177    0.829595   0.117309            1     Shawnee     KS  \n",
       "23027    0.948710   0.011197            1       Waldo     ME  \n",
       "27169    0.944194   0.027520            1      Winona     MN  \n",
       "35043    0.678472   0.361049            1    Sandoval     NM  \n",
       "36021    0.913851   0.044205            1    Columbia     NY  \n",
       "36083    0.870350   0.044966            1  Rensselaer     NY  \n",
       "42043    0.707983   0.081299            1     Dauphin     PA  \n",
       "50021    0.985005   0.013624            1     Rutland     VT  "
      ]
     },
     "execution_count": 156,
     "metadata": {},
     "output_type": "execute_result"
    }
   ],
   "source": [
    "# example swing features\n",
    "df_feat_cty.loc[swing, :]"
   ]
  },
  {
   "cell_type": "code",
   "execution_count": 157,
   "metadata": {},
   "outputs": [],
   "source": [
    "swing_ex = [17143, 20177, 42043]"
   ]
  },
  {
   "cell_type": "code",
   "execution_count": 158,
   "metadata": {},
   "outputs": [
    {
     "data": {
      "text/html": [
       "<div>\n",
       "<style scoped>\n",
       "    .dataframe tbody tr th:only-of-type {\n",
       "        vertical-align: middle;\n",
       "    }\n",
       "\n",
       "    .dataframe tbody tr th {\n",
       "        vertical-align: top;\n",
       "    }\n",
       "\n",
       "    .dataframe thead th {\n",
       "        text-align: right;\n",
       "    }\n",
       "</style>\n",
       "<table border=\"1\" class=\"dataframe\">\n",
       "  <thead>\n",
       "    <tr style=\"text-align: right;\">\n",
       "      <th></th>\n",
       "      <th>Name</th>\n",
       "      <th>State</th>\n",
       "    </tr>\n",
       "    <tr>\n",
       "      <th>FIPS</th>\n",
       "      <th></th>\n",
       "      <th></th>\n",
       "    </tr>\n",
       "  </thead>\n",
       "  <tbody>\n",
       "    <tr>\n",
       "      <th>17143</th>\n",
       "      <td>Peoria</td>\n",
       "      <td>IL</td>\n",
       "    </tr>\n",
       "    <tr>\n",
       "      <th>20177</th>\n",
       "      <td>Shawnee</td>\n",
       "      <td>KS</td>\n",
       "    </tr>\n",
       "    <tr>\n",
       "      <th>42043</th>\n",
       "      <td>Dauphin</td>\n",
       "      <td>PA</td>\n",
       "    </tr>\n",
       "  </tbody>\n",
       "</table>\n",
       "</div>"
      ],
      "text/plain": [
       "          Name  State\n",
       "FIPS                 \n",
       "17143   Peoria     IL\n",
       "20177  Shawnee     KS\n",
       "42043  Dauphin     PA"
      ]
     },
     "execution_count": 158,
     "metadata": {},
     "output_type": "execute_result"
    }
   ],
   "source": [
    "df_county.loc[swing_ex, :]"
   ]
  },
  {
   "cell_type": "code",
   "execution_count": null,
   "metadata": {},
   "outputs": [],
   "source": []
  }
 ],
 "metadata": {
  "kernelspec": {
   "display_name": "Python 3",
   "language": "python",
   "name": "python3"
  },
  "language_info": {
   "codemirror_mode": {
    "name": "ipython",
    "version": 3
   },
   "file_extension": ".py",
   "mimetype": "text/x-python",
   "name": "python",
   "nbconvert_exporter": "python",
   "pygments_lexer": "ipython3",
   "version": "3.6.5"
  }
 },
 "nbformat": 4,
 "nbformat_minor": 2
}
