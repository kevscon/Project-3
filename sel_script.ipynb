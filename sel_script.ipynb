{
 "cells": [
  {
   "cell_type": "markdown",
   "metadata": {},
   "source": [
    "# Census Data Import and Cleaning"
   ]
  },
  {
   "cell_type": "markdown",
   "metadata": {},
   "source": [
    "## Import county code list"
   ]
  },
  {
   "cell_type": "code",
   "execution_count": 1,
   "metadata": {},
   "outputs": [],
   "source": [
    "import pandas as pd\n",
    "import numpy as np\n",
    "import matplotlib.pyplot as plt"
   ]
  },
  {
   "cell_type": "code",
   "execution_count": 2,
   "metadata": {},
   "outputs": [],
   "source": [
    "df_counties = pd.read_csv('us_county_codes.csv')"
   ]
  },
  {
   "cell_type": "code",
   "execution_count": 3,
   "metadata": {},
   "outputs": [
    {
     "data": {
      "text/html": [
       "<div>\n",
       "<style scoped>\n",
       "    .dataframe tbody tr th:only-of-type {\n",
       "        vertical-align: middle;\n",
       "    }\n",
       "\n",
       "    .dataframe tbody tr th {\n",
       "        vertical-align: top;\n",
       "    }\n",
       "\n",
       "    .dataframe thead th {\n",
       "        text-align: right;\n",
       "    }\n",
       "</style>\n",
       "<table border=\"1\" class=\"dataframe\">\n",
       "  <thead>\n",
       "    <tr style=\"text-align: right;\">\n",
       "      <th></th>\n",
       "      <th>FIPS</th>\n",
       "      <th>Name</th>\n",
       "      <th>State</th>\n",
       "    </tr>\n",
       "  </thead>\n",
       "  <tbody>\n",
       "    <tr>\n",
       "      <th>3227</th>\n",
       "      <td>72151</td>\n",
       "      <td>Yabucoa</td>\n",
       "      <td>PR</td>\n",
       "    </tr>\n",
       "    <tr>\n",
       "      <th>3228</th>\n",
       "      <td>72153</td>\n",
       "      <td>Yauco</td>\n",
       "      <td>PR</td>\n",
       "    </tr>\n",
       "    <tr>\n",
       "      <th>3229</th>\n",
       "      <td>78010</td>\n",
       "      <td>St. Croix</td>\n",
       "      <td>VI</td>\n",
       "    </tr>\n",
       "    <tr>\n",
       "      <th>3230</th>\n",
       "      <td>78020</td>\n",
       "      <td>St. John</td>\n",
       "      <td>VI</td>\n",
       "    </tr>\n",
       "    <tr>\n",
       "      <th>3231</th>\n",
       "      <td>78030</td>\n",
       "      <td>St. Thomas</td>\n",
       "      <td>VI</td>\n",
       "    </tr>\n",
       "  </tbody>\n",
       "</table>\n",
       "</div>"
      ],
      "text/plain": [
       "      FIPS         Name  State\n",
       "3227  72151     Yabucoa     PR\n",
       "3228  72153       Yauco     PR\n",
       "3229  78010   St. Croix     VI\n",
       "3230  78020    St. John     VI\n",
       "3231  78030  St. Thomas     VI"
      ]
     },
     "execution_count": 3,
     "metadata": {},
     "output_type": "execute_result"
    }
   ],
   "source": [
    "df_counties.tail()"
   ]
  },
  {
   "cell_type": "code",
   "execution_count": 4,
   "metadata": {},
   "outputs": [
    {
     "name": "stdout",
     "output_type": "stream",
     "text": [
      "<class 'pandas.core.frame.DataFrame'>\n",
      "RangeIndex: 3232 entries, 0 to 3231\n",
      "Data columns (total 3 columns):\n",
      "FIPS     3232 non-null int64\n",
      "Name     3232 non-null object\n",
      "State    3232 non-null object\n",
      "dtypes: int64(1), object(2)\n",
      "memory usage: 75.8+ KB\n"
     ]
    }
   ],
   "source": [
    "df_counties.info()"
   ]
  },
  {
   "cell_type": "code",
   "execution_count": 5,
   "metadata": {},
   "outputs": [
    {
     "data": {
      "text/plain": [
       "array(['AL', 'AK', 'AZ', 'AR', 'CA', 'CO', 'CT', 'DE', 'DC', 'FL', 'GA',\n",
       "       'HI', 'ID', 'IL', 'IN', 'IA', 'KS', 'KY', 'LA', 'ME', 'MD', 'MA',\n",
       "       'MI', 'MN', 'MS', 'MO', 'MT', 'NE', 'NV', 'NH', 'NJ', 'NM', 'NY',\n",
       "       'NC', 'ND', 'OH', 'OK', 'OR', 'PA', 'RI', 'SC', 'SD', 'TN', 'TX',\n",
       "       'UT', 'VT', 'VA', 'WA', 'WV', 'WI', 'WY', 'AS', 'MP', 'GU', 'PR',\n",
       "       'VI'], dtype=object)"
      ]
     },
     "execution_count": 5,
     "metadata": {},
     "output_type": "execute_result"
    }
   ],
   "source": [
    "df_counties['State'].unique()"
   ]
  },
  {
   "cell_type": "code",
   "execution_count": 6,
   "metadata": {},
   "outputs": [],
   "source": [
    "# remove US territory data\n",
    "df_counties = df_counties[(df_counties['State'] != 'AS') & (df_counties['State'] != 'MP') \n",
    "            & (df_counties['State'] != 'GU') & (df_counties['State'] != 'PR') & (df_counties['State'] != 'VI')]            "
   ]
  },
  {
   "cell_type": "code",
   "execution_count": 7,
   "metadata": {},
   "outputs": [
    {
     "name": "stdout",
     "output_type": "stream",
     "text": [
      "<class 'pandas.core.frame.DataFrame'>\n",
      "Int64Index: 3142 entries, 0 to 3141\n",
      "Data columns (total 3 columns):\n",
      "FIPS     3142 non-null int64\n",
      "Name     3142 non-null object\n",
      "State    3142 non-null object\n",
      "dtypes: int64(1), object(2)\n",
      "memory usage: 98.2+ KB\n"
     ]
    }
   ],
   "source": [
    "df_counties.info()"
   ]
  },
  {
   "cell_type": "code",
   "execution_count": 8,
   "metadata": {},
   "outputs": [
    {
     "data": {
      "text/html": [
       "<div>\n",
       "<style scoped>\n",
       "    .dataframe tbody tr th:only-of-type {\n",
       "        vertical-align: middle;\n",
       "    }\n",
       "\n",
       "    .dataframe tbody tr th {\n",
       "        vertical-align: top;\n",
       "    }\n",
       "\n",
       "    .dataframe thead th {\n",
       "        text-align: right;\n",
       "    }\n",
       "</style>\n",
       "<table border=\"1\" class=\"dataframe\">\n",
       "  <thead>\n",
       "    <tr style=\"text-align: right;\">\n",
       "      <th></th>\n",
       "      <th>FIPS</th>\n",
       "      <th>Name</th>\n",
       "      <th>State</th>\n",
       "    </tr>\n",
       "  </thead>\n",
       "  <tbody>\n",
       "    <tr>\n",
       "      <th>3137</th>\n",
       "      <td>56037</td>\n",
       "      <td>Sweetwater</td>\n",
       "      <td>WY</td>\n",
       "    </tr>\n",
       "    <tr>\n",
       "      <th>3138</th>\n",
       "      <td>56039</td>\n",
       "      <td>Teton</td>\n",
       "      <td>WY</td>\n",
       "    </tr>\n",
       "    <tr>\n",
       "      <th>3139</th>\n",
       "      <td>56041</td>\n",
       "      <td>Uinta</td>\n",
       "      <td>WY</td>\n",
       "    </tr>\n",
       "    <tr>\n",
       "      <th>3140</th>\n",
       "      <td>56043</td>\n",
       "      <td>Washakie</td>\n",
       "      <td>WY</td>\n",
       "    </tr>\n",
       "    <tr>\n",
       "      <th>3141</th>\n",
       "      <td>56045</td>\n",
       "      <td>Weston</td>\n",
       "      <td>WY</td>\n",
       "    </tr>\n",
       "  </tbody>\n",
       "</table>\n",
       "</div>"
      ],
      "text/plain": [
       "      FIPS         Name  State\n",
       "3137  56037  Sweetwater     WY\n",
       "3138  56039       Teton     WY\n",
       "3139  56041       Uinta     WY\n",
       "3140  56043    Washakie     WY\n",
       "3141  56045      Weston     WY"
      ]
     },
     "execution_count": 8,
     "metadata": {},
     "output_type": "execute_result"
    }
   ],
   "source": [
    "df_counties.tail()"
   ]
  },
  {
   "cell_type": "code",
   "execution_count": 9,
   "metadata": {},
   "outputs": [
    {
     "data": {
      "text/plain": [
       "array(['AL', 'AK', 'AZ', 'AR', 'CA', 'CO', 'CT', 'DE', 'DC', 'FL', 'GA',\n",
       "       'HI', 'ID', 'IL', 'IN', 'IA', 'KS', 'KY', 'LA', 'ME', 'MD', 'MA',\n",
       "       'MI', 'MN', 'MS', 'MO', 'MT', 'NE', 'NV', 'NH', 'NJ', 'NM', 'NY',\n",
       "       'NC', 'ND', 'OH', 'OK', 'OR', 'PA', 'RI', 'SC', 'SD', 'TN', 'TX',\n",
       "       'UT', 'VT', 'VA', 'WA', 'WV', 'WI', 'WY'], dtype=object)"
      ]
     },
     "execution_count": 9,
     "metadata": {},
     "output_type": "execute_result"
    }
   ],
   "source": [
    "df_counties['State'].unique()"
   ]
  },
  {
   "cell_type": "code",
   "execution_count": 10,
   "metadata": {},
   "outputs": [],
   "source": [
    "# create dictionary of state codes and names\n",
    "\n",
    "state_name_list = {'AL':'Alabama', 'AK':'Alaska', 'AZ':'Arizona', 'AR':'Arkansas', \n",
    "                   'CA':'California', 'CO':'Colorado', 'CT':'Connecticut', 'DE':'Delaware', \n",
    "                   'DC':'District of Columbia', 'FL':'Florida', 'GA':'Georgia',\n",
    "                   'HI':'Hawaii', 'ID':'Idaho', 'IL':'Illinois', 'IN':'Indiana', 'IA':'Iowa', \n",
    "                   'KS':'Kansas', 'KY':'Kentucky', 'LA':'Louisiana', 'ME':'Maine', 'MD':'Maryland', \n",
    "                   'MA':'Massachusetts', 'MI':'Michigan', 'MN':'Minnesota', 'MS':'Mississippi', \n",
    "                   'MO':'Missouri', 'MT':'Montana', 'NE':'Nebraska', 'NV':'Nevada', 'NH':'New Hampshire', \n",
    "                   'NJ':'New Jersey', 'NM':'New Mexico', 'NY':'New York', 'NC':'North Carolina', \n",
    "                   'ND':'North Dakota', 'OH':'Ohio', 'OK':'Oklahoma', 'OR':'Oregon', 'PA':'Pennsylvania', \n",
    "                   'RI':'Rhode Island', 'SC':'South Carolina', 'SD':'South Dakota', 'TN':'Tennessee', 'TX':'Texas', \n",
    "                   'UT':'Utah', 'VT':'Vermont', 'VA':'Virginia', 'WA':'Washington', 'WV':'West Virginia', \n",
    "                   'WI':'Wisconsin', 'WY':'Wyoming'}"
   ]
  },
  {
   "cell_type": "code",
   "execution_count": 11,
   "metadata": {},
   "outputs": [],
   "source": [
    "# create function to assign state name for state code input\n",
    "def state_name(state_code):\n",
    "    return state_name_list[state_code]"
   ]
  },
  {
   "cell_type": "code",
   "execution_count": 12,
   "metadata": {},
   "outputs": [],
   "source": [
    "# remove trailing whitespace from column titles\n",
    "df_counties.columns = df_counties.columns.str.strip()"
   ]
  },
  {
   "cell_type": "code",
   "execution_count": 13,
   "metadata": {},
   "outputs": [],
   "source": [
    "# create new column for call in correct format for scraping ACS data from website\n",
    "df_counties['Call'] = df_counties['Name'].map(str) + 'County, ' + df_counties['State'].apply(state_name)"
   ]
  },
  {
   "cell_type": "code",
   "execution_count": 14,
   "metadata": {},
   "outputs": [
    {
     "data": {
      "text/html": [
       "<div>\n",
       "<style scoped>\n",
       "    .dataframe tbody tr th:only-of-type {\n",
       "        vertical-align: middle;\n",
       "    }\n",
       "\n",
       "    .dataframe tbody tr th {\n",
       "        vertical-align: top;\n",
       "    }\n",
       "\n",
       "    .dataframe thead th {\n",
       "        text-align: right;\n",
       "    }\n",
       "</style>\n",
       "<table border=\"1\" class=\"dataframe\">\n",
       "  <thead>\n",
       "    <tr style=\"text-align: right;\">\n",
       "      <th></th>\n",
       "      <th>FIPS</th>\n",
       "      <th>Name</th>\n",
       "      <th>State</th>\n",
       "      <th>Call</th>\n",
       "    </tr>\n",
       "  </thead>\n",
       "  <tbody>\n",
       "    <tr>\n",
       "      <th>0</th>\n",
       "      <td>1001</td>\n",
       "      <td>Autauga</td>\n",
       "      <td>AL</td>\n",
       "      <td>Autauga County, Alabama</td>\n",
       "    </tr>\n",
       "    <tr>\n",
       "      <th>1</th>\n",
       "      <td>1003</td>\n",
       "      <td>Baldwin</td>\n",
       "      <td>AL</td>\n",
       "      <td>Baldwin County, Alabama</td>\n",
       "    </tr>\n",
       "    <tr>\n",
       "      <th>2</th>\n",
       "      <td>1005</td>\n",
       "      <td>Barbour</td>\n",
       "      <td>AL</td>\n",
       "      <td>Barbour County, Alabama</td>\n",
       "    </tr>\n",
       "    <tr>\n",
       "      <th>3</th>\n",
       "      <td>1007</td>\n",
       "      <td>Bibb</td>\n",
       "      <td>AL</td>\n",
       "      <td>Bibb County, Alabama</td>\n",
       "    </tr>\n",
       "    <tr>\n",
       "      <th>4</th>\n",
       "      <td>1009</td>\n",
       "      <td>Blount</td>\n",
       "      <td>AL</td>\n",
       "      <td>Blount County, Alabama</td>\n",
       "    </tr>\n",
       "  </tbody>\n",
       "</table>\n",
       "</div>"
      ],
      "text/plain": [
       "   FIPS      Name State                     Call\n",
       "0  1001  Autauga     AL  Autauga County, Alabama\n",
       "1  1003  Baldwin     AL  Baldwin County, Alabama\n",
       "2  1005  Barbour     AL  Barbour County, Alabama\n",
       "3  1007     Bibb     AL     Bibb County, Alabama\n",
       "4  1009   Blount     AL   Blount County, Alabama"
      ]
     },
     "execution_count": 14,
     "metadata": {},
     "output_type": "execute_result"
    }
   ],
   "source": [
    "df_counties.head()"
   ]
  },
  {
   "cell_type": "markdown",
   "metadata": {},
   "source": [
    "## Scrape ACS data"
   ]
  },
  {
   "cell_type": "code",
   "execution_count": null,
   "metadata": {},
   "outputs": [],
   "source": []
  },
  {
   "cell_type": "code",
   "execution_count": null,
   "metadata": {},
   "outputs": [],
   "source": []
  },
  {
   "cell_type": "code",
   "execution_count": 15,
   "metadata": {},
   "outputs": [],
   "source": [
    "from selenium import webdriver\n",
    "from selenium.webdriver.common.keys import Keys\n",
    "import time\n",
    "\n",
    "import os\n",
    "chromedriver = \"/Applications/chromedriver\" # path to the chromedriver executable\n",
    "os.environ[\"webdriver.chrome.driver\"] = chromedriver\n",
    "\n",
    "driver = webdriver.Chrome(chromedriver)\n",
    "driver.get(\"http://www.statsamerica.org/USCP/\")\n",
    "\n",
    "time.sleep(6)\n"
   ]
  },
  {
   "cell_type": "code",
   "execution_count": 16,
   "metadata": {},
   "outputs": [
    {
     "ename": "NoSuchWindowException",
     "evalue": "Message: no such window: target window already closed\nfrom unknown error: web view not found\n  (Session info: chrome=66.0.3359.139)\n  (Driver info: chromedriver=2.36.540469 (1881fd7f8641508feb5166b7cae561d87723cfa8),platform=Mac OS X 10.13.4 x86_64)\n",
     "output_type": "error",
     "traceback": [
      "\u001b[0;31m---------------------------------------------------------------------------\u001b[0m",
      "\u001b[0;31mNoSuchWindowException\u001b[0m                     Traceback (most recent call last)",
      "\u001b[0;32m<ipython-input-16-6d1ba351aca6>\u001b[0m in \u001b[0;36m<module>\u001b[0;34m()\u001b[0m\n\u001b[1;32m     23\u001b[0m \u001b[0;34m\u001b[0m\u001b[0m\n\u001b[1;32m     24\u001b[0m     \u001b[0;31m# enter formatted county name in search bar\u001b[0m\u001b[0;34m\u001b[0m\u001b[0;34m\u001b[0m\u001b[0m\n\u001b[0;32m---> 25\u001b[0;31m     \u001b[0mdriver\u001b[0m\u001b[0;34m.\u001b[0m\u001b[0mrefresh\u001b[0m\u001b[0;34m(\u001b[0m\u001b[0;34m)\u001b[0m\u001b[0;34m\u001b[0m\u001b[0m\n\u001b[0m\u001b[1;32m     26\u001b[0m     \u001b[0mquery\u001b[0m \u001b[0;34m=\u001b[0m \u001b[0mdriver\u001b[0m\u001b[0;34m.\u001b[0m\u001b[0mfind_element_by_id\u001b[0m\u001b[0;34m(\u001b[0m\u001b[0;34m\"zt\"\u001b[0m\u001b[0;34m)\u001b[0m\u001b[0;34m\u001b[0m\u001b[0m\n\u001b[1;32m     27\u001b[0m     \u001b[0mquery\u001b[0m\u001b[0;34m.\u001b[0m\u001b[0msend_keys\u001b[0m\u001b[0;34m(\u001b[0m\u001b[0mdf_counties\u001b[0m\u001b[0;34m.\u001b[0m\u001b[0miloc\u001b[0m\u001b[0;34m[\u001b[0m\u001b[0mindex\u001b[0m\u001b[0;34m,\u001b[0m \u001b[0;36m3\u001b[0m\u001b[0;34m]\u001b[0m\u001b[0;34m)\u001b[0m\u001b[0;34m\u001b[0m\u001b[0m\n",
      "\u001b[0;32m/anaconda3/lib/python3.6/site-packages/selenium/webdriver/remote/webdriver.py\u001b[0m in \u001b[0;36mrefresh\u001b[0;34m(self)\u001b[0m\n\u001b[1;32m    813\u001b[0m             \u001b[0mdriver\u001b[0m\u001b[0;34m.\u001b[0m\u001b[0mrefresh\u001b[0m\u001b[0;34m(\u001b[0m\u001b[0;34m)\u001b[0m\u001b[0;34m\u001b[0m\u001b[0m\n\u001b[1;32m    814\u001b[0m         \"\"\"\n\u001b[0;32m--> 815\u001b[0;31m         \u001b[0mself\u001b[0m\u001b[0;34m.\u001b[0m\u001b[0mexecute\u001b[0m\u001b[0;34m(\u001b[0m\u001b[0mCommand\u001b[0m\u001b[0;34m.\u001b[0m\u001b[0mREFRESH\u001b[0m\u001b[0;34m)\u001b[0m\u001b[0;34m\u001b[0m\u001b[0m\n\u001b[0m\u001b[1;32m    816\u001b[0m \u001b[0;34m\u001b[0m\u001b[0m\n\u001b[1;32m    817\u001b[0m     \u001b[0;31m# Options\u001b[0m\u001b[0;34m\u001b[0m\u001b[0;34m\u001b[0m\u001b[0m\n",
      "\u001b[0;32m/anaconda3/lib/python3.6/site-packages/selenium/webdriver/remote/webdriver.py\u001b[0m in \u001b[0;36mexecute\u001b[0;34m(self, driver_command, params)\u001b[0m\n\u001b[1;32m    310\u001b[0m         \u001b[0mresponse\u001b[0m \u001b[0;34m=\u001b[0m \u001b[0mself\u001b[0m\u001b[0;34m.\u001b[0m\u001b[0mcommand_executor\u001b[0m\u001b[0;34m.\u001b[0m\u001b[0mexecute\u001b[0m\u001b[0;34m(\u001b[0m\u001b[0mdriver_command\u001b[0m\u001b[0;34m,\u001b[0m \u001b[0mparams\u001b[0m\u001b[0;34m)\u001b[0m\u001b[0;34m\u001b[0m\u001b[0m\n\u001b[1;32m    311\u001b[0m         \u001b[0;32mif\u001b[0m \u001b[0mresponse\u001b[0m\u001b[0;34m:\u001b[0m\u001b[0;34m\u001b[0m\u001b[0m\n\u001b[0;32m--> 312\u001b[0;31m             \u001b[0mself\u001b[0m\u001b[0;34m.\u001b[0m\u001b[0merror_handler\u001b[0m\u001b[0;34m.\u001b[0m\u001b[0mcheck_response\u001b[0m\u001b[0;34m(\u001b[0m\u001b[0mresponse\u001b[0m\u001b[0;34m)\u001b[0m\u001b[0;34m\u001b[0m\u001b[0m\n\u001b[0m\u001b[1;32m    313\u001b[0m             response['value'] = self._unwrap_value(\n\u001b[1;32m    314\u001b[0m                 response.get('value', None))\n",
      "\u001b[0;32m/anaconda3/lib/python3.6/site-packages/selenium/webdriver/remote/errorhandler.py\u001b[0m in \u001b[0;36mcheck_response\u001b[0;34m(self, response)\u001b[0m\n\u001b[1;32m    240\u001b[0m                 \u001b[0malert_text\u001b[0m \u001b[0;34m=\u001b[0m \u001b[0mvalue\u001b[0m\u001b[0;34m[\u001b[0m\u001b[0;34m'alert'\u001b[0m\u001b[0;34m]\u001b[0m\u001b[0;34m.\u001b[0m\u001b[0mget\u001b[0m\u001b[0;34m(\u001b[0m\u001b[0;34m'text'\u001b[0m\u001b[0;34m)\u001b[0m\u001b[0;34m\u001b[0m\u001b[0m\n\u001b[1;32m    241\u001b[0m             \u001b[0;32mraise\u001b[0m \u001b[0mexception_class\u001b[0m\u001b[0;34m(\u001b[0m\u001b[0mmessage\u001b[0m\u001b[0;34m,\u001b[0m \u001b[0mscreen\u001b[0m\u001b[0;34m,\u001b[0m \u001b[0mstacktrace\u001b[0m\u001b[0;34m,\u001b[0m \u001b[0malert_text\u001b[0m\u001b[0;34m)\u001b[0m\u001b[0;34m\u001b[0m\u001b[0m\n\u001b[0;32m--> 242\u001b[0;31m         \u001b[0;32mraise\u001b[0m \u001b[0mexception_class\u001b[0m\u001b[0;34m(\u001b[0m\u001b[0mmessage\u001b[0m\u001b[0;34m,\u001b[0m \u001b[0mscreen\u001b[0m\u001b[0;34m,\u001b[0m \u001b[0mstacktrace\u001b[0m\u001b[0;34m)\u001b[0m\u001b[0;34m\u001b[0m\u001b[0m\n\u001b[0m\u001b[1;32m    243\u001b[0m \u001b[0;34m\u001b[0m\u001b[0m\n\u001b[1;32m    244\u001b[0m     \u001b[0;32mdef\u001b[0m \u001b[0m_value_or_default\u001b[0m\u001b[0;34m(\u001b[0m\u001b[0mself\u001b[0m\u001b[0;34m,\u001b[0m \u001b[0mobj\u001b[0m\u001b[0;34m,\u001b[0m \u001b[0mkey\u001b[0m\u001b[0;34m,\u001b[0m \u001b[0mdefault\u001b[0m\u001b[0;34m)\u001b[0m\u001b[0;34m:\u001b[0m\u001b[0;34m\u001b[0m\u001b[0m\n",
      "\u001b[0;31mNoSuchWindowException\u001b[0m: Message: no such window: target window already closed\nfrom unknown error: web view not found\n  (Session info: chrome=66.0.3359.139)\n  (Driver info: chromedriver=2.36.540469 (1881fd7f8641508feb5166b7cae561d87723cfa8),platform=Mac OS X 10.13.4 x86_64)\n"
     ]
    }
   ],
   "source": [
    "# collect data for all counties in counties dataframe\n",
    "\n",
    "# ID items\n",
    "state = []\n",
    "county_num = []\n",
    "county_name = []\n",
    "\n",
    "# items to collect\n",
    "county_name_re = []\n",
    "population = []\n",
    "growth = []\n",
    "households = []\n",
    "labor = []\n",
    "unemployment = []\n",
    "per_capita = []\n",
    "median_income = []\n",
    "poverty = []\n",
    "high_school = []\n",
    "college = []\n",
    "\n",
    "# for loop to iterate through every county\n",
    "for index in df_counties.index:\n",
    "    \n",
    "    # enter formatted county name in search bar\n",
    "    driver.refresh()\n",
    "    query = driver.find_element_by_id(\"zt\")\n",
    "    query.send_keys(df_counties.iloc[index, 3])\n",
    "    time.sleep(1)\n",
    "    query.send_keys(Keys.DOWN)\n",
    "    query.send_keys(Keys.RETURN)\n",
    "    time.sleep(2)\n",
    "    \n",
    "    try:\n",
    "        \n",
    "        # retrieve data from populated table for county and append to lists\n",
    "        county_name_re.append(driver.find_element_by_xpath('//h2[@class=\"no_gap\"]').text)\n",
    "        population.append(driver.find_element_by_xpath('//tr/td[contains(text(), \"Population\")]/following-sibling::td').text)\n",
    "        growth.append(driver.find_element_by_xpath('//tr/td[contains(text(), \"Growth\")]/following-sibling::td').text)\n",
    "        households.append(driver.find_element_by_xpath('//tr/td[contains(text(), \"Households\")]/following-sibling::td').text)\n",
    "        labor.append(driver.find_element_by_xpath('//tr/td[contains(text(), \"Labor Force\")]/following-sibling::td').text)\n",
    "        unemployment.append(driver.find_element_by_xpath('//tr/td[contains(text(), \"Unemployment Rate\")]/following-sibling::td').text)\n",
    "        per_capita.append(driver.find_element_by_xpath('//tr/td[contains(text(), \"Per Capita\")]/following-sibling::td').text)\n",
    "        median_income.append(driver.find_element_by_xpath('//tr/td[contains(text(), \"Median\")]/following-sibling::td').text)\n",
    "        poverty.append(driver.find_element_by_xpath('//tr/td[contains(text(), \"Poverty\")]/following-sibling::td').text)\n",
    "        high_school.append(driver.find_element_by_xpath('//tr/td[contains(text(), \"High School\")]/following-sibling::td').text)\n",
    "        college.append(driver.find_element_by_xpath('//tr/td[contains(text(), \"Bachelor\")]/following-sibling::td').text)\n",
    "\n",
    "        # populate ID data for county\n",
    "        state.append(df_counties.iloc[index, 2])\n",
    "        county_num.append(df_counties.iloc[index, 0])\n",
    "        county_name.append(df_counties.iloc[index, 1])\n",
    "        \n",
    "    # exception case to handle errors if county not found\n",
    "    except:\n",
    "        \n",
    "        time.sleep(3)\n",
    "    \n",
    "        try:\n",
    "\n",
    "            # retrieve data from populated table for county and append to lists\n",
    "            county_name_re.append(driver.find_element_by_xpath('//h2[@class=\"no_gap\"]').text)\n",
    "            population.append(driver.find_element_by_xpath('//tr/td[contains(text(), \"Population\")]/following-sibling::td').text)\n",
    "            growth.append(driver.find_element_by_xpath('//tr/td[contains(text(), \"Growth\")]/following-sibling::td').text)\n",
    "            households.append(driver.find_element_by_xpath('//tr/td[contains(text(), \"Households\")]/following-sibling::td').text)\n",
    "            labor.append(driver.find_element_by_xpath('//tr/td[contains(text(), \"Labor Force\")]/following-sibling::td').text)\n",
    "            unemployment.append(driver.find_element_by_xpath('//tr/td[contains(text(), \"Unemployment Rate\")]/following-sibling::td').text)\n",
    "            per_capita.append(driver.find_element_by_xpath('//tr/td[contains(text(), \"Per Capita\")]/following-sibling::td').text)\n",
    "            median_income.append(driver.find_element_by_xpath('//tr/td[contains(text(), \"Median\")]/following-sibling::td').text)\n",
    "            poverty.append(driver.find_element_by_xpath('//tr/td[contains(text(), \"Poverty\")]/following-sibling::td').text)\n",
    "            high_school.append(driver.find_element_by_xpath('//tr/td[contains(text(), \"High School\")]/following-sibling::td').text)\n",
    "            college.append(driver.find_element_by_xpath('//tr/td[contains(text(), \"Bachelor\")]/following-sibling::td').text)\n",
    "\n",
    "            # populate ID data for county\n",
    "            state.append(df_counties.iloc[index, 2])\n",
    "            county_num.append(df_counties.iloc[index, 0])\n",
    "            county_name.append(df_counties.iloc[index, 1])\n",
    "        \n",
    "        \n",
    "        except:\n",
    "            \n",
    "            try:\n",
    "                \n",
    "                # enter formatted county name in search bar\n",
    "                driver.refresh()\n",
    "                query = driver.find_element_by_id(\"zt\")\n",
    "                query.send_keys(df_counties.iloc[index, 1])\n",
    "                time.sleep(1)\n",
    "                query.send_keys(Keys.DOWN)\n",
    "                query.send_keys(Keys.RETURN)\n",
    "                time.sleep(4)\n",
    "                \n",
    "                # retrieve data from populated table for county and append to lists\n",
    "                county_name_re.append(driver.find_element_by_xpath('//h2[@class=\"no_gap\"]').text)\n",
    "                population.append(driver.find_element_by_xpath('//tr/td[contains(text(), \"Population\")]/following-sibling::td').text)\n",
    "                growth.append(driver.find_element_by_xpath('//tr/td[contains(text(), \"Growth\")]/following-sibling::td').text)\n",
    "                households.append(driver.find_element_by_xpath('//tr/td[contains(text(), \"Households\")]/following-sibling::td').text)\n",
    "                labor.append(driver.find_element_by_xpath('//tr/td[contains(text(), \"Labor Force\")]/following-sibling::td').text)\n",
    "                unemployment.append(driver.find_element_by_xpath('//tr/td[contains(text(), \"Unemployment Rate\")]/following-sibling::td').text)\n",
    "                per_capita.append(driver.find_element_by_xpath('//tr/td[contains(text(), \"Per Capita\")]/following-sibling::td').text)\n",
    "                median_income.append(driver.find_element_by_xpath('//tr/td[contains(text(), \"Median\")]/following-sibling::td').text)\n",
    "                poverty.append(driver.find_element_by_xpath('//tr/td[contains(text(), \"Poverty\")]/following-sibling::td').text)\n",
    "                high_school.append(driver.find_element_by_xpath('//tr/td[contains(text(), \"High School\")]/following-sibling::td').text)\n",
    "                college.append(driver.find_element_by_xpath('//tr/td[contains(text(), \"Bachelor\")]/following-sibling::td').text)\n",
    "\n",
    "                # populate ID data for county\n",
    "                state.append(df_counties.iloc[index, 2])\n",
    "                county_num.append(df_counties.iloc[index, 0])\n",
    "                county_name.append(df_counties.iloc[index, 1])                \n",
    "                \n",
    "            except:\n",
    "                \n",
    "                # fill in variables as \"Error!\"\n",
    "                county_name_re.append('Error!')\n",
    "                population.append('Error!')\n",
    "                growth.append('Error!')\n",
    "                households.append('Error!')\n",
    "                labor.append('Error!')\n",
    "                unemployment.append('Error!')\n",
    "                per_capita.append('Error!')\n",
    "                median_income.append('Error!')\n",
    "                poverty.append('Error!')\n",
    "                high_school.append('Error!')\n",
    "                college.append('Error!')\n",
    "\n",
    "                state.append(df_counties.iloc[index, 2])\n",
    "                county_num.append(df_counties.iloc[index, 0])\n",
    "                county_name.append(df_counties.iloc[index, 1])"
   ]
  },
  {
   "cell_type": "code",
   "execution_count": 17,
   "metadata": {},
   "outputs": [],
   "source": [
    "# build county data library from scraped data\n",
    "\n",
    "df_county_data = pd.DataFrame({\n",
    "        'number':county_num,\n",
    "        'name':county_name,\n",
    "        'state':state,\n",
    "        'combine':county_name_re,\n",
    "        'total_population':population,\n",
    "        'growth_rate':growth,\n",
    "        'num_households':households,\n",
    "        'labor_force':labor,\n",
    "        'unemployment_rate':unemployment,\n",
    "        'per_capita_income':per_capita,\n",
    "        'median_hh_income':median_income,\n",
    "        'poverty_rate':poverty,\n",
    "        'hs_deg_rate':high_school,\n",
    "        'college_deg_rate':college\n",
    "    })"
   ]
  },
  {
   "cell_type": "code",
   "execution_count": 18,
   "metadata": {},
   "outputs": [],
   "source": [
    "# output county data to csv file\n",
    "\n",
    "df_county_data.to_csv('county_out.csv')"
   ]
  },
  {
   "cell_type": "code",
   "execution_count": 19,
   "metadata": {},
   "outputs": [
    {
     "data": {
      "text/plain": [
       "955"
      ]
     },
     "execution_count": 19,
     "metadata": {},
     "output_type": "execute_result"
    }
   ],
   "source": [
    "len(state)"
   ]
  },
  {
   "cell_type": "code",
   "execution_count": 21,
   "metadata": {},
   "outputs": [
    {
     "data": {
      "text/html": [
       "<div>\n",
       "<style scoped>\n",
       "    .dataframe tbody tr th:only-of-type {\n",
       "        vertical-align: middle;\n",
       "    }\n",
       "\n",
       "    .dataframe tbody tr th {\n",
       "        vertical-align: top;\n",
       "    }\n",
       "\n",
       "    .dataframe thead th {\n",
       "        text-align: right;\n",
       "    }\n",
       "</style>\n",
       "<table border=\"1\" class=\"dataframe\">\n",
       "  <thead>\n",
       "    <tr style=\"text-align: right;\">\n",
       "      <th></th>\n",
       "      <th>college_deg_rate</th>\n",
       "      <th>combine</th>\n",
       "      <th>growth_rate</th>\n",
       "      <th>hs_deg_rate</th>\n",
       "      <th>labor_force</th>\n",
       "      <th>median_hh_income</th>\n",
       "      <th>name</th>\n",
       "      <th>num_households</th>\n",
       "      <th>number</th>\n",
       "      <th>per_capita_income</th>\n",
       "      <th>poverty_rate</th>\n",
       "      <th>state</th>\n",
       "      <th>total_population</th>\n",
       "      <th>unemployment_rate</th>\n",
       "    </tr>\n",
       "  </thead>\n",
       "  <tbody>\n",
       "    <tr>\n",
       "      <th>950</th>\n",
       "      <td>Error!</td>\n",
       "      <td>Error!</td>\n",
       "      <td>Error!</td>\n",
       "      <td>Error!</td>\n",
       "      <td>Error!</td>\n",
       "      <td>Error!</td>\n",
       "      <td>Neosho</td>\n",
       "      <td>Error!</td>\n",
       "      <td>20133</td>\n",
       "      <td>Error!</td>\n",
       "      <td>Error!</td>\n",
       "      <td>KS</td>\n",
       "      <td>Error!</td>\n",
       "      <td>Error!</td>\n",
       "    </tr>\n",
       "    <tr>\n",
       "      <th>951</th>\n",
       "      <td>Error!</td>\n",
       "      <td>Error!</td>\n",
       "      <td>Error!</td>\n",
       "      <td>Error!</td>\n",
       "      <td>Error!</td>\n",
       "      <td>Error!</td>\n",
       "      <td>Ness</td>\n",
       "      <td>Error!</td>\n",
       "      <td>20135</td>\n",
       "      <td>Error!</td>\n",
       "      <td>Error!</td>\n",
       "      <td>KS</td>\n",
       "      <td>Error!</td>\n",
       "      <td>Error!</td>\n",
       "    </tr>\n",
       "    <tr>\n",
       "      <th>952</th>\n",
       "      <td>Error!</td>\n",
       "      <td>Error!</td>\n",
       "      <td>Error!</td>\n",
       "      <td>Error!</td>\n",
       "      <td>Error!</td>\n",
       "      <td>Error!</td>\n",
       "      <td>Norton</td>\n",
       "      <td>Error!</td>\n",
       "      <td>20137</td>\n",
       "      <td>Error!</td>\n",
       "      <td>Error!</td>\n",
       "      <td>KS</td>\n",
       "      <td>Error!</td>\n",
       "      <td>Error!</td>\n",
       "    </tr>\n",
       "    <tr>\n",
       "      <th>953</th>\n",
       "      <td>Error!</td>\n",
       "      <td>Error!</td>\n",
       "      <td>Error!</td>\n",
       "      <td>Error!</td>\n",
       "      <td>Error!</td>\n",
       "      <td>Error!</td>\n",
       "      <td>Osage</td>\n",
       "      <td>Error!</td>\n",
       "      <td>20139</td>\n",
       "      <td>Error!</td>\n",
       "      <td>Error!</td>\n",
       "      <td>KS</td>\n",
       "      <td>Error!</td>\n",
       "      <td>Error!</td>\n",
       "    </tr>\n",
       "    <tr>\n",
       "      <th>954</th>\n",
       "      <td>Error!</td>\n",
       "      <td>Error!</td>\n",
       "      <td>Error!</td>\n",
       "      <td>Error!</td>\n",
       "      <td>Error!</td>\n",
       "      <td>Error!</td>\n",
       "      <td>Osborne</td>\n",
       "      <td>Error!</td>\n",
       "      <td>20141</td>\n",
       "      <td>Error!</td>\n",
       "      <td>Error!</td>\n",
       "      <td>KS</td>\n",
       "      <td>Error!</td>\n",
       "      <td>Error!</td>\n",
       "    </tr>\n",
       "  </tbody>\n",
       "</table>\n",
       "</div>"
      ],
      "text/plain": [
       "    college_deg_rate combine growth_rate hs_deg_rate labor_force  \\\n",
       "950           Error!  Error!      Error!      Error!      Error!   \n",
       "951           Error!  Error!      Error!      Error!      Error!   \n",
       "952           Error!  Error!      Error!      Error!      Error!   \n",
       "953           Error!  Error!      Error!      Error!      Error!   \n",
       "954           Error!  Error!      Error!      Error!      Error!   \n",
       "\n",
       "    median_hh_income      name num_households  number per_capita_income  \\\n",
       "950           Error!   Neosho          Error!   20133            Error!   \n",
       "951           Error!     Ness          Error!   20135            Error!   \n",
       "952           Error!   Norton          Error!   20137            Error!   \n",
       "953           Error!    Osage          Error!   20139            Error!   \n",
       "954           Error!  Osborne          Error!   20141            Error!   \n",
       "\n",
       "    poverty_rate state total_population unemployment_rate  \n",
       "950       Error!    KS           Error!            Error!  \n",
       "951       Error!    KS           Error!            Error!  \n",
       "952       Error!    KS           Error!            Error!  \n",
       "953       Error!    KS           Error!            Error!  \n",
       "954       Error!    KS           Error!            Error!  "
      ]
     },
     "execution_count": 21,
     "metadata": {},
     "output_type": "execute_result"
    }
   ],
   "source": [
    "df_county_data.tail()"
   ]
  },
  {
   "cell_type": "code",
   "execution_count": 93,
   "metadata": {},
   "outputs": [],
   "source": [
    "df_county_data = df_county_data[['number', 'combine', 'name', 'state', 'total_population', 'growth_rate', \n",
    "                                 'num_households', 'per_capita_income', 'median_hh_income', 'labor_force', \n",
    "                                 'unemployment_rate', 'poverty_rate', 'hs_deg_rate', 'college_deg_rate']]"
   ]
  },
  {
   "cell_type": "code",
   "execution_count": 22,
   "metadata": {},
   "outputs": [
    {
     "data": {
      "text/plain": [
       "Int64Index([ 57,  81,  85,  87,  91, 170, 238, 254, 326, 358,\n",
       "            ...\n",
       "            945, 946, 947, 948, 949, 950, 951, 952, 953, 954],\n",
       "           dtype='int64', length=213)"
      ]
     },
     "execution_count": 22,
     "metadata": {},
     "output_type": "execute_result"
    }
   ],
   "source": [
    "# find indicies of error values\n",
    "df_county_data.index[df_county_data['total_population'] == 'Error!']"
   ]
  },
  {
   "cell_type": "code",
   "execution_count": null,
   "metadata": {},
   "outputs": [],
   "source": [
    "# drop error rows\n"
   ]
  },
  {
   "cell_type": "code",
   "execution_count": 83,
   "metadata": {},
   "outputs": [],
   "source": [
    "# define function to reformat monetary and count values\n",
    "\n",
    "def clean_num(num_str):\n",
    "    return int(num_str.replace('$','').replace(',',''))"
   ]
  },
  {
   "cell_type": "code",
   "execution_count": 84,
   "metadata": {},
   "outputs": [],
   "source": [
    "# define function to reformat rate values\n",
    "\n",
    "def clean_rate(rate_str):\n",
    "    return float(rate_str.replace('%', '').strip())"
   ]
  },
  {
   "cell_type": "code",
   "execution_count": 80,
   "metadata": {},
   "outputs": [],
   "source": [
    "# define function to reformat combine column\n",
    "\n",
    "def clean_combine(combine):\n",
    "    cleaning = combine.replace('Overview for ', '').replace(' County', '')\n",
    "    cleaning = cleaning.split(',')\n",
    "    return cleaning"
   ]
  },
  {
   "cell_type": "code",
   "execution_count": 88,
   "metadata": {},
   "outputs": [
    {
     "data": {
      "text/plain": [
       "0    13.4\n",
       "1    19.0\n",
       "2    13.0\n",
       "3    13.6\n",
       "4    21.6\n",
       "5    13.2\n",
       "6    42.5\n",
       "7    13.7\n",
       "8    14.8\n",
       "9     8.9\n",
       "Name: college_deg_rate, dtype: float64"
      ]
     },
     "execution_count": 88,
     "metadata": {},
     "output_type": "execute_result"
    }
   ],
   "source": [
    "# create new dataframe and clean data\n",
    "df_county_data_clean = df_county_data['number']\n",
    "df_county_data_clean = df_county_data['name']\n",
    "df_county_data_clean = df_county_data['state']\n",
    "\n",
    "df_county_data_clean = df_county_data['combine'].apply(clean_combine)\n",
    "df_county_data_clean = df_county_data['total_population'].apply(clean_num)\n",
    "df_county_data_clean = df_county_data['growth_rate'].apply(clean_rate)\n",
    "df_county_data_clean = df_county_data['num_households'].apply(clean_num)\n",
    "df_county_data_clean = df_county_data['per_capita_income'].apply(clean_num)\n",
    "df_county_data_clean = df_county_data['median_hh_income'].apply(clean_num)\n",
    "df_county_data_clean = df_county_data['labor_force'].apply(clean_num)\n",
    "df_county_data_clean = df_county_data['unemployment_rate'].apply(clean_rate)\n",
    "df_county_data_clean = df_county_data['poverty_rate'].apply(clean_rate)\n",
    "df_county_data_clean = df_county_data['hs_deg_rate'].apply(clean_rate)\n",
    "df_county_data_clean = df_county_data['college_deg_rate'].apply(clean_rate)\n"
   ]
  },
  {
   "cell_type": "code",
   "execution_count": null,
   "metadata": {
    "scrolled": false
   },
   "outputs": [],
   "source": []
  },
  {
   "cell_type": "code",
   "execution_count": null,
   "metadata": {},
   "outputs": [],
   "source": []
  }
 ],
 "metadata": {
  "kernelspec": {
   "display_name": "Python 3",
   "language": "python",
   "name": "python3"
  },
  "language_info": {
   "codemirror_mode": {
    "name": "ipython",
    "version": 3
   },
   "file_extension": ".py",
   "mimetype": "text/x-python",
   "name": "python",
   "nbconvert_exporter": "python",
   "pygments_lexer": "ipython3",
   "version": "3.6.4"
  }
 },
 "nbformat": 4,
 "nbformat_minor": 2
}
