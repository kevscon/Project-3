{
 "cells": [
  {
   "cell_type": "markdown",
   "metadata": {},
   "source": [
    "This notebook models classifiers to detect if a given county is a close result in the 2016 election (labeled \"swing\") or not (labeled \"safe\"). Interpretable models will be used to investigate which features indicate a battleground county. Models prioritize sensitivity (higher true positive rate) with recall score."
   ]
  },
  {
   "cell_type": "markdown",
   "metadata": {},
   "source": [
    "# Imports"
   ]
  },
  {
   "cell_type": "code",
   "execution_count": 314,
   "metadata": {},
   "outputs": [],
   "source": [
    "import numpy as np\n",
    "import pandas as pd\n",
    "import matplotlib.pyplot as plt\n",
    "import matplotlib.patches as mpatches\n",
    "import seaborn as sns"
   ]
  },
  {
   "cell_type": "markdown",
   "metadata": {},
   "source": [
    "## sklearn"
   ]
  },
  {
   "cell_type": "code",
   "execution_count": 334,
   "metadata": {},
   "outputs": [],
   "source": [
    "from sklearn.model_selection import train_test_split\n",
    "from sklearn import preprocessing\n",
    "from sklearn.preprocessing import StandardScaler\n",
    "from sklearn.pipeline import Pipeline\n",
    "from sklearn import metrics\n",
    "from sklearn.metrics import precision_recall_curve\n",
    "from sklearn.metrics import auc\n",
    "from sklearn.metrics import roc_curve\n",
    "from sklearn.metrics import roc_auc_score\n",
    "# tuning\n",
    "from sklearn.model_selection import GridSearchCV\n",
    "from sklearn.model_selection import RandomizedSearchCV\n",
    "# pca\n",
    "from sklearn import decomposition\n",
    "# models\n",
    "from sklearn.linear_model import LogisticRegression\n",
    "from sklearn.ensemble import RandomForestClassifier"
   ]
  },
  {
   "cell_type": "markdown",
   "metadata": {},
   "source": [
    "## other"
   ]
  },
  {
   "cell_type": "code",
   "execution_count": 3,
   "metadata": {},
   "outputs": [],
   "source": [
    "# upsampling with SMOTE\n",
    "from imblearn import over_sampling\n",
    "from imblearn.pipeline import Pipeline as imbPipeline"
   ]
  },
  {
   "cell_type": "markdown",
   "metadata": {},
   "source": [
    "## Plot Settings"
   ]
  },
  {
   "cell_type": "code",
   "execution_count": 4,
   "metadata": {},
   "outputs": [],
   "source": [
    "# format style\n",
    "plt.style.use('fivethirtyeight')\n",
    "# lineweight\n",
    "plt.rc('lines', linewidth=3)\n",
    "# figure size\n",
    "plt.rc('figure', figsize=(12, 7))\n",
    "# title fontsize\n",
    "plt.rc('axes', titlesize=22) \n",
    "# axes label fontsize\n",
    "plt.rc('axes', labelsize=18)\n",
    "# axes values fontsize\n",
    "plt.rc('xtick', labelsize=12)\n",
    "plt.rc('ytick', labelsize=12)\n",
    "# legend fontsize\n",
    "plt.rc('legend', fontsize=16)"
   ]
  },
  {
   "cell_type": "markdown",
   "metadata": {},
   "source": [
    "# Custom Functions"
   ]
  },
  {
   "cell_type": "markdown",
   "metadata": {},
   "source": [
    "## Space Log\n",
    "Return range of numbers between two values in a log scale"
   ]
  },
  {
   "cell_type": "code",
   "execution_count": 5,
   "metadata": {},
   "outputs": [],
   "source": [
    "def space_log(start, stop, number):\n",
    "    return(np.exp(np.linspace(np.log(start), np.log(stop), number)))"
   ]
  },
  {
   "cell_type": "markdown",
   "metadata": {},
   "source": [
    "# Data"
   ]
  },
  {
   "cell_type": "code",
   "execution_count": 6,
   "metadata": {},
   "outputs": [
    {
     "data": {
      "text/html": [
       "<div>\n",
       "<style scoped>\n",
       "    .dataframe tbody tr th:only-of-type {\n",
       "        vertical-align: middle;\n",
       "    }\n",
       "\n",
       "    .dataframe tbody tr th {\n",
       "        vertical-align: top;\n",
       "    }\n",
       "\n",
       "    .dataframe thead th {\n",
       "        text-align: right;\n",
       "    }\n",
       "</style>\n",
       "<table border=\"1\" class=\"dataframe\">\n",
       "  <thead>\n",
       "    <tr style=\"text-align: right;\">\n",
       "      <th></th>\n",
       "      <th>population</th>\n",
       "      <th>growth</th>\n",
       "      <th>households</th>\n",
       "      <th>median_age</th>\n",
       "      <th>per_cap_income</th>\n",
       "      <th>hh_income</th>\n",
       "      <th>unempl_rate</th>\n",
       "      <th>poverty_rate</th>\n",
       "      <th>hs_rate</th>\n",
       "      <th>college_rate</th>\n",
       "      <th>density</th>\n",
       "      <th>white_rate</th>\n",
       "      <th>hisp_rate</th>\n",
       "      <th>close_elect</th>\n",
       "    </tr>\n",
       "  </thead>\n",
       "  <tbody>\n",
       "    <tr>\n",
       "      <th>0</th>\n",
       "      <td>55504.0</td>\n",
       "      <td>1.7</td>\n",
       "      <td>20800.0</td>\n",
       "      <td>37.8</td>\n",
       "      <td>39721.0</td>\n",
       "      <td>54487.0</td>\n",
       "      <td>3.9</td>\n",
       "      <td>13.5</td>\n",
       "      <td>87.6</td>\n",
       "      <td>24.6</td>\n",
       "      <td>93.371913</td>\n",
       "      <td>0.762305</td>\n",
       "      <td>0.025512</td>\n",
       "      <td>0</td>\n",
       "    </tr>\n",
       "    <tr>\n",
       "      <th>1</th>\n",
       "      <td>212628.0</td>\n",
       "      <td>16.7</td>\n",
       "      <td>75149.0</td>\n",
       "      <td>42.3</td>\n",
       "      <td>41286.0</td>\n",
       "      <td>56460.0</td>\n",
       "      <td>4.0</td>\n",
       "      <td>11.7</td>\n",
       "      <td>90.0</td>\n",
       "      <td>29.5</td>\n",
       "      <td>133.746808</td>\n",
       "      <td>0.810999</td>\n",
       "      <td>0.040973</td>\n",
       "      <td>0</td>\n",
       "    </tr>\n",
       "    <tr>\n",
       "      <th>2</th>\n",
       "      <td>25270.0</td>\n",
       "      <td>-8.0</td>\n",
       "      <td>9122.0</td>\n",
       "      <td>38.7</td>\n",
       "      <td>31788.0</td>\n",
       "      <td>32884.0</td>\n",
       "      <td>5.9</td>\n",
       "      <td>29.9</td>\n",
       "      <td>73.8</td>\n",
       "      <td>12.9</td>\n",
       "      <td>28.557545</td>\n",
       "      <td>0.491888</td>\n",
       "      <td>0.045390</td>\n",
       "      <td>0</td>\n",
       "    </tr>\n",
       "    <tr>\n",
       "      <th>3</th>\n",
       "      <td>22668.0</td>\n",
       "      <td>-1.1</td>\n",
       "      <td>7048.0</td>\n",
       "      <td>40.2</td>\n",
       "      <td>29264.0</td>\n",
       "      <td>43079.0</td>\n",
       "      <td>4.4</td>\n",
       "      <td>20.1</td>\n",
       "      <td>80.7</td>\n",
       "      <td>12.0</td>\n",
       "      <td>36.409779</td>\n",
       "      <td>0.766278</td>\n",
       "      <td>0.022146</td>\n",
       "      <td>0</td>\n",
       "    </tr>\n",
       "    <tr>\n",
       "      <th>4</th>\n",
       "      <td>58013.0</td>\n",
       "      <td>1.2</td>\n",
       "      <td>20619.0</td>\n",
       "      <td>40.8</td>\n",
       "      <td>31470.0</td>\n",
       "      <td>47213.0</td>\n",
       "      <td>4.0</td>\n",
       "      <td>14.1</td>\n",
       "      <td>80.0</td>\n",
       "      <td>13.0</td>\n",
       "      <td>89.973324</td>\n",
       "      <td>0.949322</td>\n",
       "      <td>0.086808</td>\n",
       "      <td>0</td>\n",
       "    </tr>\n",
       "  </tbody>\n",
       "</table>\n",
       "</div>"
      ],
      "text/plain": [
       "   population  growth  households  median_age  per_cap_income  hh_income  \\\n",
       "0     55504.0     1.7     20800.0        37.8         39721.0    54487.0   \n",
       "1    212628.0    16.7     75149.0        42.3         41286.0    56460.0   \n",
       "2     25270.0    -8.0      9122.0        38.7         31788.0    32884.0   \n",
       "3     22668.0    -1.1      7048.0        40.2         29264.0    43079.0   \n",
       "4     58013.0     1.2     20619.0        40.8         31470.0    47213.0   \n",
       "\n",
       "   unempl_rate  poverty_rate  hs_rate  college_rate     density  white_rate  \\\n",
       "0          3.9          13.5     87.6          24.6   93.371913    0.762305   \n",
       "1          4.0          11.7     90.0          29.5  133.746808    0.810999   \n",
       "2          5.9          29.9     73.8          12.9   28.557545    0.491888   \n",
       "3          4.4          20.1     80.7          12.0   36.409779    0.766278   \n",
       "4          4.0          14.1     80.0          13.0   89.973324    0.949322   \n",
       "\n",
       "   hisp_rate  close_elect  \n",
       "0   0.025512            0  \n",
       "1   0.040973            0  \n",
       "2   0.045390            0  \n",
       "3   0.022146            0  \n",
       "4   0.086808            0  "
      ]
     },
     "execution_count": 6,
     "metadata": {},
     "output_type": "execute_result"
    }
   ],
   "source": [
    "df = pd.read_pickle('data/dataframe.pkl')\n",
    "df.head()"
   ]
  },
  {
   "cell_type": "markdown",
   "metadata": {},
   "source": [
    "## NaN values"
   ]
  },
  {
   "cell_type": "code",
   "execution_count": 7,
   "metadata": {},
   "outputs": [],
   "source": [
    "# drop rows with nans\n",
    "df = df.dropna()"
   ]
  },
  {
   "cell_type": "markdown",
   "metadata": {},
   "source": [
    "## EDA"
   ]
  },
  {
   "cell_type": "code",
   "execution_count": 8,
   "metadata": {},
   "outputs": [],
   "source": [
    "# sns.pairplot(df);"
   ]
  },
  {
   "cell_type": "code",
   "execution_count": 9,
   "metadata": {},
   "outputs": [
    {
     "data": {
      "text/html": [
       "<div>\n",
       "<style scoped>\n",
       "    .dataframe tbody tr th:only-of-type {\n",
       "        vertical-align: middle;\n",
       "    }\n",
       "\n",
       "    .dataframe tbody tr th {\n",
       "        vertical-align: top;\n",
       "    }\n",
       "\n",
       "    .dataframe thead th {\n",
       "        text-align: right;\n",
       "    }\n",
       "</style>\n",
       "<table border=\"1\" class=\"dataframe\">\n",
       "  <thead>\n",
       "    <tr style=\"text-align: right;\">\n",
       "      <th></th>\n",
       "      <th>population</th>\n",
       "      <th>growth</th>\n",
       "      <th>households</th>\n",
       "      <th>median_age</th>\n",
       "      <th>per_cap_income</th>\n",
       "      <th>hh_income</th>\n",
       "      <th>unempl_rate</th>\n",
       "      <th>poverty_rate</th>\n",
       "      <th>hs_rate</th>\n",
       "      <th>college_rate</th>\n",
       "      <th>density</th>\n",
       "      <th>white_rate</th>\n",
       "      <th>hisp_rate</th>\n",
       "    </tr>\n",
       "    <tr>\n",
       "      <th>close_elect</th>\n",
       "      <th></th>\n",
       "      <th></th>\n",
       "      <th></th>\n",
       "      <th></th>\n",
       "      <th></th>\n",
       "      <th></th>\n",
       "      <th></th>\n",
       "      <th></th>\n",
       "      <th></th>\n",
       "      <th></th>\n",
       "      <th></th>\n",
       "      <th></th>\n",
       "      <th></th>\n",
       "    </tr>\n",
       "  </thead>\n",
       "  <tbody>\n",
       "    <tr>\n",
       "      <th>0</th>\n",
       "      <td>97754.622861</td>\n",
       "      <td>0.673854</td>\n",
       "      <td>35383.793292</td>\n",
       "      <td>41.180151</td>\n",
       "      <td>40647.942847</td>\n",
       "      <td>49173.193018</td>\n",
       "      <td>4.611328</td>\n",
       "      <td>15.914203</td>\n",
       "      <td>85.657392</td>\n",
       "      <td>20.269884</td>\n",
       "      <td>251.164202</td>\n",
       "      <td>0.838362</td>\n",
       "      <td>0.088684</td>\n",
       "    </tr>\n",
       "    <tr>\n",
       "      <th>1</th>\n",
       "      <td>213686.159236</td>\n",
       "      <td>2.568153</td>\n",
       "      <td>77334.891720</td>\n",
       "      <td>38.888535</td>\n",
       "      <td>42207.388535</td>\n",
       "      <td>53773.019108</td>\n",
       "      <td>4.530573</td>\n",
       "      <td>15.549045</td>\n",
       "      <td>88.495541</td>\n",
       "      <td>27.620382</td>\n",
       "      <td>317.779807</td>\n",
       "      <td>0.760183</td>\n",
       "      <td>0.095176</td>\n",
       "    </tr>\n",
       "  </tbody>\n",
       "</table>\n",
       "</div>"
      ],
      "text/plain": [
       "                population    growth    households  median_age  \\\n",
       "close_elect                                                      \n",
       "0             97754.622861  0.673854  35383.793292   41.180151   \n",
       "1            213686.159236  2.568153  77334.891720   38.888535   \n",
       "\n",
       "             per_cap_income     hh_income  unempl_rate  poverty_rate  \\\n",
       "close_elect                                                            \n",
       "0              40647.942847  49173.193018     4.611328     15.914203   \n",
       "1              42207.388535  53773.019108     4.530573     15.549045   \n",
       "\n",
       "               hs_rate  college_rate     density  white_rate  hisp_rate  \n",
       "close_elect                                                              \n",
       "0            85.657392     20.269884  251.164202    0.838362   0.088684  \n",
       "1            88.495541     27.620382  317.779807    0.760183   0.095176  "
      ]
     },
     "execution_count": 9,
     "metadata": {},
     "output_type": "execute_result"
    }
   ],
   "source": [
    "# inspect mean values of features for not-close vs close outcomes\n",
    "df.groupby('close_elect').mean()"
   ]
  },
  {
   "cell_type": "code",
   "execution_count": 10,
   "metadata": {},
   "outputs": [],
   "source": [
    "close = (df['close_elect'] == 1).sum()\n",
    "not_close = (df['close_elect'] == 0).sum()"
   ]
  },
  {
   "cell_type": "code",
   "execution_count": 11,
   "metadata": {},
   "outputs": [
    {
     "data": {
      "text/plain": [
       "0.9490094186424164"
      ]
     },
     "execution_count": 11,
     "metadata": {},
     "output_type": "execute_result"
    }
   ],
   "source": [
    "# baseline, null model accuracy - guess '0' every time\n",
    "(df['close_elect'] == 0).sum() / len(df)"
   ]
  },
  {
   "cell_type": "code",
   "execution_count": 12,
   "metadata": {},
   "outputs": [
    {
     "data": {
      "image/png": "[encoded data removed]",
      "text/plain": [
       "<Figure size 864x504 with 1 Axes>"
      ]
     },
     "metadata": {},
     "output_type": "display_data"
    }
   ],
   "source": [
    "# plot pie chart\n",
    "\n",
    "sizes = [not_close, close]\n",
    "explode = (0, 0.1)\n",
    "colors = ['black', 'purple']\n",
    "\n",
    "fig, ax = plt.subplots()\n",
    "ax.pie(sizes, labels=['Safe', 'Swing'], explode=explode, colors=colors,\n",
    "        shadow=True, startangle=90)\n",
    "ax.axis('equal') # circle shape\n",
    "ax.set_title('County Class Representation')\n",
    "ax.legend();"
   ]
  },
  {
   "cell_type": "markdown",
   "metadata": {},
   "source": [
    "**Notes**\n",
    "- Data is extremely unbalanced  \n",
    "- \"Safe\" counties are much more prevalent in data (about 95% of observations)\n",
    "- A model could attain 95% accuracy by always predicting \"safe\" counties!"
   ]
  },
  {
   "cell_type": "markdown",
   "metadata": {},
   "source": [
    "# Pre-processing"
   ]
  },
  {
   "cell_type": "code",
   "execution_count": 13,
   "metadata": {},
   "outputs": [],
   "source": [
    "# initialize feature dataframe and observed outcome\n",
    "X = df.iloc[:, 0:13]\n",
    "y = df.iloc[:, 13]"
   ]
  },
  {
   "cell_type": "markdown",
   "metadata": {},
   "source": [
    "## Train/test Split"
   ]
  },
  {
   "cell_type": "code",
   "execution_count": 14,
   "metadata": {},
   "outputs": [],
   "source": [
    "X_train, X_test, y_train, y_test = train_test_split(X, y, test_size=0.25, random_state=0)"
   ]
  },
  {
   "cell_type": "markdown",
   "metadata": {},
   "source": [
    "## Scaling"
   ]
  },
  {
   "cell_type": "code",
   "execution_count": 15,
   "metadata": {},
   "outputs": [],
   "source": [
    "# scale data to have mean = 0 and variance = 1\n",
    "scaler = preprocessing.StandardScaler()\n",
    "X_train_scl = scaler.fit_transform(X_train)\n",
    "X_test_scl = scaler.transform(X_test)"
   ]
  },
  {
   "cell_type": "markdown",
   "metadata": {},
   "source": [
    "## Principle Component Analysis (PCA)\n",
    "Reduce dimensionality of data to 2-D so that grouping trends can potentially be visualized"
   ]
  },
  {
   "cell_type": "code",
   "execution_count": 16,
   "metadata": {},
   "outputs": [],
   "source": [
    "# decomposition to 2-D\n",
    "pca = decomposition.PCA(n_components=2)\n",
    "pca_features = pca.fit_transform(X_train_scl)"
   ]
  },
  {
   "cell_type": "code",
   "execution_count": 17,
   "metadata": {
    "scrolled": false
   },
   "outputs": [
    {
     "data": {
      "image/png": "[encoded data removed]",
      "text/plain": [
       "<Figure size 864x504 with 1 Axes>"
      ]
     },
     "metadata": {},
     "output_type": "display_data"
    }
   ],
   "source": [
    "# plot components\n",
    "class_labels = ['Safe', 'Swing']\n",
    "colors = ['black', 'purple']\n",
    "\n",
    "plt.figure()\n",
    "for i, label in enumerate(class_labels):\n",
    "    plt.scatter(pca_features[y_train == i, 0], pca_features[y_train == i, 1],\n",
    "                label=label, c=colors[i])\n",
    "plt.xlabel('Principle Component 1')\n",
    "plt.ylabel('Principle Component 2')\n",
    "plt.title('PCA of County Features')\n",
    "plt.xticks([]) # component valuables not interpretable\n",
    "plt.yticks([]) # component valuables not interpretable\n",
    "plt.legend();"
   ]
  },
  {
   "cell_type": "markdown",
   "metadata": {},
   "source": [
    "**Notes**  \n",
    "Swing counties seem to have a grouping trend but are not separated from safe counties"
   ]
  },
  {
   "cell_type": "markdown",
   "metadata": {},
   "source": [
    "# Logistic Regression Modeling"
   ]
  },
  {
   "cell_type": "markdown",
   "metadata": {},
   "source": [
    "## Initial Model"
   ]
  },
  {
   "cell_type": "code",
   "execution_count": 18,
   "metadata": {},
   "outputs": [],
   "source": [
    "# model pipeline includes scaling\n",
    "log_pipe = Pipeline([\n",
    "    ('scaler', preprocessing.StandardScaler()),\n",
    "    ('model', LogisticRegression())\n",
    "])"
   ]
  },
  {
   "cell_type": "code",
   "execution_count": 19,
   "metadata": {},
   "outputs": [],
   "source": [
    "log_pipe.fit(X_train, y_train)\n",
    "log_pred = log_pipe.predict(X_test)"
   ]
  },
  {
   "cell_type": "code",
   "execution_count": 20,
   "metadata": {},
   "outputs": [
    {
     "name": "stdout",
     "output_type": "stream",
     "text": [
      "             precision    recall  f1-score   support\n",
      "\n",
      "          0       0.95      1.00      0.97       729\n",
      "          1       0.00      0.00      0.00        41\n",
      "\n",
      "avg / total       0.90      0.95      0.92       770\n",
      "\n"
     ]
    },
    {
     "name": "stderr",
     "output_type": "stream",
     "text": [
      "/home/kevcon/anaconda3/lib/python3.6/site-packages/sklearn/metrics/classification.py:1135: UndefinedMetricWarning: Precision and F-score are ill-defined and being set to 0.0 in labels with no predicted samples.\n",
      "  'precision', 'predicted', average, warn_for)\n"
     ]
    }
   ],
   "source": [
    "print(metrics.classification_report(y_test, log_pred))"
   ]
  },
  {
   "cell_type": "code",
   "execution_count": 21,
   "metadata": {},
   "outputs": [
    {
     "data": {
      "text/plain": [
       "array([[729,   0],\n",
       "       [ 41,   0]])"
      ]
     },
     "execution_count": 21,
     "metadata": {},
     "output_type": "execute_result"
    }
   ],
   "source": [
    "metrics.confusion_matrix(y_test, log_pred)"
   ]
  },
  {
   "cell_type": "markdown",
   "metadata": {},
   "source": [
    "**Notes**\n",
    "- model does not accurately predict any swing counties  \n",
    "    - this is a result of the severe imbalance of classes in the dataset\n",
    "- recall is to be prioritized\n",
    "    - this will help the model capture more swing counties (label 1)\n",
    "    - may result in more false positives and reduced overall accuracy"
   ]
  },
  {
   "cell_type": "markdown",
   "metadata": {},
   "source": [
    "## Tuning with GridSearch\n",
    "Tune model hyperparameter for optimal model performance"
   ]
  },
  {
   "cell_type": "code",
   "execution_count": 22,
   "metadata": {},
   "outputs": [],
   "source": [
    "# try range of values for C and penalty hyperparameters\n",
    "hyperparams = {'model__penalty':['l1', 'l2'], 'model__C': space_log(0.001, 100, 15)}"
   ]
  },
  {
   "cell_type": "code",
   "execution_count": 23,
   "metadata": {},
   "outputs": [],
   "source": [
    "# tune model pipeline for recall\n",
    "log_tune = GridSearchCV(log_pipe, hyperparams, cv=10, scoring='recall')"
   ]
  },
  {
   "cell_type": "code",
   "execution_count": 24,
   "metadata": {},
   "outputs": [
    {
     "data": {
      "text/plain": [
       "GridSearchCV(cv=10, error_score='raise',\n",
       "       estimator=Pipeline(memory=None,\n",
       "     steps=[('scaler', StandardScaler(copy=True, with_mean=True, with_std=True)), ('model', LogisticRegression(C=1.0, class_weight=None, dual=False, fit_intercept=True,\n",
       "          intercept_scaling=1, max_iter=100, multi_class='ovr', n_jobs=1,\n",
       "          penalty='l2', random_state=None, solver='liblinear', tol=0.0001,\n",
       "          verbose=0, warm_start=False))]),\n",
       "       fit_params=None, iid=True, n_jobs=1,\n",
       "       param_grid={'model__penalty': ['l1', 'l2'], 'model__C': array([1.00000e-03, 2.27585e-03, 5.17947e-03, 1.17877e-02, 2.68270e-02,\n",
       "       6.10540e-02, 1.38950e-01, 3.16228e-01, 7.19686e-01, 1.63789e+00,\n",
       "       3.72759e+00, 8.48343e+00, 1.93070e+01, 4.39397e+01, 1.00000e+02])},\n",
       "       pre_dispatch='2*n_jobs', refit=True, return_train_score='warn',\n",
       "       scoring='recall', verbose=0)"
      ]
     },
     "execution_count": 24,
     "metadata": {},
     "output_type": "execute_result"
    }
   ],
   "source": [
    "log_tune.fit(X_train, y_train)"
   ]
  },
  {
   "cell_type": "code",
   "execution_count": 25,
   "metadata": {},
   "outputs": [],
   "source": [
    "# assign best hyperparameter values from tuning\n",
    "best_penalty = log_tune.best_params_['model__penalty']\n",
    "best_C = log_tune.best_params_['model__C']"
   ]
  },
  {
   "cell_type": "code",
   "execution_count": 26,
   "metadata": {},
   "outputs": [],
   "source": [
    "# model pipeline with optimal hyperparameters\n",
    "log_pipe = Pipeline([\n",
    "    ('scaler', preprocessing.StandardScaler()),\n",
    "    ('model', LogisticRegression(penalty=best_penalty, C=best_C))\n",
    "])"
   ]
  },
  {
   "cell_type": "code",
   "execution_count": 27,
   "metadata": {},
   "outputs": [],
   "source": [
    "log_pipe.fit(X_train, y_train)\n",
    "log_pred = log_pipe.predict(X_test)"
   ]
  },
  {
   "cell_type": "code",
   "execution_count": 28,
   "metadata": {},
   "outputs": [
    {
     "name": "stdout",
     "output_type": "stream",
     "text": [
      "             precision    recall  f1-score   support\n",
      "\n",
      "          0       0.95      1.00      0.97       729\n",
      "          1       0.00      0.00      0.00        41\n",
      "\n",
      "avg / total       0.90      0.95      0.92       770\n",
      "\n"
     ]
    },
    {
     "name": "stderr",
     "output_type": "stream",
     "text": [
      "/home/kevcon/anaconda3/lib/python3.6/site-packages/sklearn/metrics/classification.py:1135: UndefinedMetricWarning: Precision and F-score are ill-defined and being set to 0.0 in labels with no predicted samples.\n",
      "  'precision', 'predicted', average, warn_for)\n"
     ]
    }
   ],
   "source": [
    "print(metrics.classification_report(y_test, log_pred))"
   ]
  },
  {
   "cell_type": "code",
   "execution_count": 29,
   "metadata": {},
   "outputs": [
    {
     "data": {
      "text/plain": [
       "array([[729,   0],\n",
       "       [ 41,   0]])"
      ]
     },
     "execution_count": 29,
     "metadata": {},
     "output_type": "execute_result"
    }
   ],
   "source": [
    "metrics.confusion_matrix(y_test, log_pred)"
   ]
  },
  {
   "cell_type": "markdown",
   "metadata": {},
   "source": [
    "**Notes**  \n",
    "Tuning did not increase recall for swing counties"
   ]
  },
  {
   "cell_type": "markdown",
   "metadata": {},
   "source": [
    "## Balanced Weights\n",
    "Modifies \"weights\" of classes in algorithm's cost function to place greater importance on minority class  \n",
    "Balanced weights are inversly proportional to the frequency of class observations"
   ]
  },
  {
   "cell_type": "code",
   "execution_count": 30,
   "metadata": {},
   "outputs": [],
   "source": [
    "# model pipeline with class weights set to balanced\n",
    "log_pipe = Pipeline([\n",
    "    ('scaler', preprocessing.StandardScaler()),\n",
    "    ('model', LogisticRegression(class_weight='balanced'))\n",
    "])"
   ]
  },
  {
   "cell_type": "code",
   "execution_count": 31,
   "metadata": {},
   "outputs": [],
   "source": [
    "log_pipe.fit(X_train, y_train)\n",
    "log_pred = log_pipe.predict(X_test)"
   ]
  },
  {
   "cell_type": "code",
   "execution_count": 32,
   "metadata": {},
   "outputs": [
    {
     "name": "stdout",
     "output_type": "stream",
     "text": [
      "             precision    recall  f1-score   support\n",
      "\n",
      "          0       0.98      0.77      0.86       729\n",
      "          1       0.15      0.71      0.24        41\n",
      "\n",
      "avg / total       0.93      0.77      0.83       770\n",
      "\n"
     ]
    }
   ],
   "source": [
    "print(metrics.classification_report(y_test, log_pred))"
   ]
  },
  {
   "cell_type": "code",
   "execution_count": 33,
   "metadata": {},
   "outputs": [
    {
     "data": {
      "text/plain": [
       "array([[562, 167],\n",
       "       [ 12,  29]])"
      ]
     },
     "execution_count": 33,
     "metadata": {},
     "output_type": "execute_result"
    }
   ],
   "source": [
    "metrics.confusion_matrix(y_test, log_pred)"
   ]
  },
  {
   "cell_type": "markdown",
   "metadata": {},
   "source": [
    "**Notes**  \n",
    "This greatly increased recall for label 1 classification  \n",
    "Try tuning this model"
   ]
  },
  {
   "cell_type": "code",
   "execution_count": 34,
   "metadata": {},
   "outputs": [],
   "source": [
    "hyperparams = {'model__penalty':['l1', 'l2'], 'model__C': space_log(0.001, 100, 15)}\n",
    "log_tune = GridSearchCV(log_pipe, hyperparams, cv=10, scoring='recall')\n",
    "log_tune.fit(X_train, y_train)\n",
    "best_penalty_bal = log_tune.best_params_['model__penalty']\n",
    "best_C_bal = log_tune.best_params_['model__C']"
   ]
  },
  {
   "cell_type": "code",
   "execution_count": 35,
   "metadata": {},
   "outputs": [],
   "source": [
    "# update hyperparameters in pipeline\n",
    "log_pipe = Pipeline([\n",
    "    ('scaler', preprocessing.StandardScaler()),\n",
    "    ('model', LogisticRegression(penalty=best_penalty_bal, C=best_C_bal, class_weight='balanced'))\n",
    "])"
   ]
  },
  {
   "cell_type": "code",
   "execution_count": 36,
   "metadata": {},
   "outputs": [],
   "source": [
    "log_pipe.fit(X_train, y_train)\n",
    "log_pred = log_pipe.predict(X_test)"
   ]
  },
  {
   "cell_type": "code",
   "execution_count": 37,
   "metadata": {},
   "outputs": [
    {
     "name": "stdout",
     "output_type": "stream",
     "text": [
      "             precision    recall  f1-score   support\n",
      "\n",
      "          0       0.98      0.71      0.82       729\n",
      "          1       0.13      0.78      0.22        41\n",
      "\n",
      "avg / total       0.94      0.71      0.79       770\n",
      "\n"
     ]
    }
   ],
   "source": [
    "print(metrics.classification_report(y_test, log_pred))"
   ]
  },
  {
   "cell_type": "code",
   "execution_count": 38,
   "metadata": {},
   "outputs": [
    {
     "data": {
      "text/plain": [
       "array([[516, 213],\n",
       "       [  9,  32]])"
      ]
     },
     "execution_count": 38,
     "metadata": {},
     "output_type": "execute_result"
    }
   ],
   "source": [
    "metrics.confusion_matrix(y_test, log_pred)"
   ]
  },
  {
   "cell_type": "markdown",
   "metadata": {},
   "source": [
    "**Notes**  \n",
    "Model performance increased with tuning"
   ]
  },
  {
   "cell_type": "markdown",
   "metadata": {},
   "source": [
    "## Synthetic Minority Over-sampling Technique (SMOTE)\n",
    "Oversampling method that generates synthetic samples of the minority class"
   ]
  },
  {
   "cell_type": "code",
   "execution_count": 39,
   "metadata": {},
   "outputs": [],
   "source": [
    "# model pipeline with SMOTE applied\n",
    "log_pipe = imbPipeline([\n",
    "    ('oversample', over_sampling.SMOTE(random_state=0)),\n",
    "    ('scaler', preprocessing.StandardScaler()),\n",
    "    ('model', LogisticRegression())    \n",
    "])"
   ]
  },
  {
   "cell_type": "code",
   "execution_count": 40,
   "metadata": {},
   "outputs": [],
   "source": [
    "log_pipe.fit(X_train, y_train)\n",
    "log_pred = log_pipe.predict(X_test)"
   ]
  },
  {
   "cell_type": "code",
   "execution_count": 41,
   "metadata": {},
   "outputs": [
    {
     "name": "stdout",
     "output_type": "stream",
     "text": [
      "             precision    recall  f1-score   support\n",
      "\n",
      "          0       0.97      0.78      0.86       729\n",
      "          1       0.13      0.59      0.21        41\n",
      "\n",
      "avg / total       0.93      0.76      0.83       770\n",
      "\n"
     ]
    }
   ],
   "source": [
    "print(metrics.classification_report(y_test, log_pred))"
   ]
  },
  {
   "cell_type": "code",
   "execution_count": 42,
   "metadata": {
    "scrolled": true
   },
   "outputs": [
    {
     "data": {
      "text/plain": [
       "array([[565, 164],\n",
       "       [ 17,  24]])"
      ]
     },
     "execution_count": 42,
     "metadata": {},
     "output_type": "execute_result"
    }
   ],
   "source": [
    "metrics.confusion_matrix(y_test, log_pred)"
   ]
  },
  {
   "cell_type": "markdown",
   "metadata": {},
   "source": [
    "**Notes**  \n",
    "This greatly increased recall for label 1 classification compared with initial model  \n",
    "Try tuning this model"
   ]
  },
  {
   "cell_type": "code",
   "execution_count": 43,
   "metadata": {},
   "outputs": [],
   "source": [
    "hyperparams = {'model__penalty':['l1', 'l2'], 'model__C': space_log(0.001, 100, 15)}\n",
    "log_tune = GridSearchCV(log_pipe, hyperparams, cv=10, scoring='recall')\n",
    "log_tune.fit(X_train, y_train)\n",
    "best_penalty_smt = log_tune.best_params_['model__penalty']\n",
    "best_C_smt = log_tune.best_params_['model__C']"
   ]
  },
  {
   "cell_type": "code",
   "execution_count": 44,
   "metadata": {},
   "outputs": [],
   "source": [
    "# update hyperparameters in pipeline\n",
    "log_pipe = imbPipeline([\n",
    "    ('oversample', over_sampling.SMOTE(random_state=0)),\n",
    "    ('scaler', preprocessing.StandardScaler()),\n",
    "    ('model', LogisticRegression(penalty=best_penalty_smt, C=best_C_smt))    \n",
    "])"
   ]
  },
  {
   "cell_type": "code",
   "execution_count": 45,
   "metadata": {},
   "outputs": [],
   "source": [
    "log_pipe.fit(X_train, y_train)\n",
    "log_pred = log_pipe.predict(X_test)"
   ]
  },
  {
   "cell_type": "code",
   "execution_count": 46,
   "metadata": {},
   "outputs": [
    {
     "name": "stdout",
     "output_type": "stream",
     "text": [
      "             precision    recall  f1-score   support\n",
      "\n",
      "          0       0.97      0.77      0.86       729\n",
      "          1       0.13      0.63      0.22        41\n",
      "\n",
      "avg / total       0.93      0.76      0.82       770\n",
      "\n"
     ]
    }
   ],
   "source": [
    "print(metrics.classification_report(y_test, log_pred))"
   ]
  },
  {
   "cell_type": "code",
   "execution_count": 47,
   "metadata": {},
   "outputs": [
    {
     "data": {
      "text/plain": [
       "array([[559, 170],\n",
       "       [ 15,  26]])"
      ]
     },
     "execution_count": 47,
     "metadata": {},
     "output_type": "execute_result"
    }
   ],
   "source": [
    "metrics.confusion_matrix(y_test, log_pred)"
   ]
  },
  {
   "cell_type": "markdown",
   "metadata": {},
   "source": [
    "**Notes**  \n",
    "Model performance increased with tuning"
   ]
  },
  {
   "cell_type": "markdown",
   "metadata": {},
   "source": [
    "## Final Model\n",
    "Tuned model with balanced weights"
   ]
  },
  {
   "cell_type": "code",
   "execution_count": 275,
   "metadata": {},
   "outputs": [],
   "source": [
    "log_pipe = Pipeline([\n",
    "    ('scaler', preprocessing.StandardScaler()),\n",
    "    ('model', LogisticRegression(penalty=best_penalty_bal, C=best_C_bal, class_weight='balanced'))\n",
    "])"
   ]
  },
  {
   "cell_type": "code",
   "execution_count": 276,
   "metadata": {},
   "outputs": [],
   "source": [
    "log_pipe.fit(X_train, y_train)\n",
    "log_predict = log_pipe.predict(X_test)"
   ]
  },
  {
   "cell_type": "markdown",
   "metadata": {},
   "source": [
    "### Evaluation"
   ]
  },
  {
   "cell_type": "code",
   "execution_count": 277,
   "metadata": {},
   "outputs": [
    {
     "name": "stdout",
     "output_type": "stream",
     "text": [
      "             precision    recall  f1-score   support\n",
      "\n",
      "          0       0.98      0.71      0.82       729\n",
      "          1       0.13      0.78      0.22        41\n",
      "\n",
      "avg / total       0.94      0.71      0.79       770\n",
      "\n"
     ]
    }
   ],
   "source": [
    "print(metrics.classification_report(y_test, log_predict))"
   ]
  },
  {
   "cell_type": "code",
   "execution_count": 278,
   "metadata": {},
   "outputs": [
    {
     "data": {
      "text/plain": [
       "array([[516, 213],\n",
       "       [  9,  32]])"
      ]
     },
     "execution_count": 278,
     "metadata": {},
     "output_type": "execute_result"
    }
   ],
   "source": [
    "metrics.confusion_matrix(y_test, log_predict)"
   ]
  },
  {
   "cell_type": "code",
   "execution_count": 52,
   "metadata": {},
   "outputs": [],
   "source": [
    "# probabilities of swing county for each observation\n",
    "log_predict_proba = log_pipe.predict_proba(X_test)[:, 1]"
   ]
  },
  {
   "cell_type": "markdown",
   "metadata": {},
   "source": [
    "#### Receiver Operating Characteristic (ROC)"
   ]
  },
  {
   "cell_type": "code",
   "execution_count": 53,
   "metadata": {},
   "outputs": [],
   "source": [
    "# create ROC curve data\n",
    "# returns false positive rate, true positive rate for range of thresholds\n",
    "log_fpr, log_tpr, log_thresh = roc_curve(y_test, log_predict_proba)"
   ]
  },
  {
   "cell_type": "code",
   "execution_count": 54,
   "metadata": {},
   "outputs": [
    {
     "data": {
      "image/png": "[encoded data removed]",
      "text/plain": [
       "<Figure size 864x504 with 1 Axes>"
      ]
     },
     "metadata": {},
     "output_type": "display_data"
    }
   ],
   "source": [
    "plt.plot(log_fpr, log_tpr)\n",
    "plt.plot([0, 1], [0, 1], linestyle='--')\n",
    "plt.xlabel('False Positive Rate')\n",
    "plt.ylabel('True Positive Rate')\n",
    "plt.title('Logistic Regression ROC Curve');"
   ]
  },
  {
   "cell_type": "markdown",
   "metadata": {},
   "source": [
    "#### Area Under the Curve (AUC) Score"
   ]
  },
  {
   "cell_type": "code",
   "execution_count": 55,
   "metadata": {},
   "outputs": [
    {
     "data": {
      "text/plain": [
       "0.7865100873230955"
      ]
     },
     "execution_count": 55,
     "metadata": {},
     "output_type": "execute_result"
    }
   ],
   "source": [
    "roc_auc_score(y_test, log_predict_proba)"
   ]
  },
  {
   "cell_type": "markdown",
   "metadata": {},
   "source": [
    "**Notes**  \n",
    "Model performance appears to be pretty good based on the AUC. However, this is due to the high class imbalance in the dataset. This is not the best evaluation metric for this analysis."
   ]
  },
  {
   "cell_type": "markdown",
   "metadata": {},
   "source": [
    "#### Precision-Recall"
   ]
  },
  {
   "cell_type": "code",
   "execution_count": 56,
   "metadata": {},
   "outputs": [],
   "source": [
    "# create precision recall curve data\n",
    "# returns precision, recall for range of thresholds\n",
    "log_pre, log_rec, log_thresh = precision_recall_curve(y_test, log_predict_proba)"
   ]
  },
  {
   "cell_type": "code",
   "execution_count": 57,
   "metadata": {
    "scrolled": false
   },
   "outputs": [
    {
     "data": {
      "image/png": "[encoded data removed]",
      "text/plain": [
       "<Figure size 864x504 with 1 Axes>"
      ]
     },
     "metadata": {},
     "output_type": "display_data"
    }
   ],
   "source": [
    "plt.plot(log_rec, log_pre)\n",
    "plt.xlabel('Recall')\n",
    "plt.ylabel('Precision')\n",
    "plt.title('Logistic Regression Precision-Recall');"
   ]
  },
  {
   "cell_type": "markdown",
   "metadata": {},
   "source": [
    "#### Area Under the Curve (AUC) Score"
   ]
  },
  {
   "cell_type": "code",
   "execution_count": 58,
   "metadata": {},
   "outputs": [
    {
     "data": {
      "text/plain": [
       "0.11590327717655888"
      ]
     },
     "execution_count": 58,
     "metadata": {},
     "output_type": "execute_result"
    }
   ],
   "source": [
    "auc(log_rec, log_pre)"
   ]
  },
  {
   "cell_type": "markdown",
   "metadata": {},
   "source": [
    "**Notes**  \n",
    "The precision-recall curve gives a better representation of model performance."
   ]
  },
  {
   "cell_type": "markdown",
   "metadata": {},
   "source": [
    "# Random Forest Modeling"
   ]
  },
  {
   "cell_type": "markdown",
   "metadata": {},
   "source": [
    "## Initial Model"
   ]
  },
  {
   "cell_type": "code",
   "execution_count": 59,
   "metadata": {},
   "outputs": [],
   "source": [
    "rf = RandomForestClassifier(random_state=0) # note scaling not required"
   ]
  },
  {
   "cell_type": "code",
   "execution_count": 60,
   "metadata": {},
   "outputs": [],
   "source": [
    "rf.fit(X_train, y_train)\n",
    "rf_pred = rf.predict(X_test)"
   ]
  },
  {
   "cell_type": "code",
   "execution_count": 61,
   "metadata": {},
   "outputs": [
    {
     "name": "stdout",
     "output_type": "stream",
     "text": [
      "             precision    recall  f1-score   support\n",
      "\n",
      "          0       0.95      1.00      0.97       729\n",
      "          1       0.00      0.00      0.00        41\n",
      "\n",
      "avg / total       0.90      0.95      0.92       770\n",
      "\n"
     ]
    },
    {
     "name": "stderr",
     "output_type": "stream",
     "text": [
      "/home/kevcon/anaconda3/lib/python3.6/site-packages/sklearn/metrics/classification.py:1135: UndefinedMetricWarning: Precision and F-score are ill-defined and being set to 0.0 in labels with no predicted samples.\n",
      "  'precision', 'predicted', average, warn_for)\n"
     ]
    }
   ],
   "source": [
    "print(metrics.classification_report(y_test, rf_pred))"
   ]
  },
  {
   "cell_type": "code",
   "execution_count": 62,
   "metadata": {},
   "outputs": [
    {
     "data": {
      "text/plain": [
       "array([[729,   0],\n",
       "       [ 41,   0]])"
      ]
     },
     "execution_count": 62,
     "metadata": {},
     "output_type": "execute_result"
    }
   ],
   "source": [
    "metrics.confusion_matrix(y_test, rf_pred)"
   ]
  },
  {
   "cell_type": "markdown",
   "metadata": {},
   "source": [
    "**Notes**\n",
    "- model does not accurately predict many swing counties  \n",
    "    - this is a result of the severe imbalance of classes in the dataset\n",
    "- recall is to be prioritized\n",
    "    - this will help the model capture more swing counties (label 1)\n",
    "    - may result in more false positives and reduced overall accuracy"
   ]
  },
  {
   "cell_type": "markdown",
   "metadata": {},
   "source": [
    "## Tuning with RandomizedSearch\n",
    "Tune model hyperparameter for optimal model performance"
   ]
  },
  {
   "cell_type": "code",
   "execution_count": 63,
   "metadata": {},
   "outputs": [],
   "source": [
    "# try range of values for hyperparameters\n",
    "\n",
    "# number of trees in random forest\n",
    "n_estimators = [int(x) for x in np.linspace(start = 200, stop = 2000, num = 10)]\n",
    "# number of features to consider at every split\n",
    "max_features = np.arange(1, X.shape[1]+1)\n",
    "# maximum number of levels in tree\n",
    "max_depth = [int(x) for x in np.linspace(10, 110, num = 11)]\n",
    "max_depth.append(None)\n",
    "# minimum number of samples required to split a node\n",
    "min_samples_split = [2, 5, 10]\n",
    "# minimum number of samples required at each leaf node\n",
    "min_samples_leaf = [1, 2, 4]\n",
    "# method of selecting samples for training each tree\n",
    "bootstrap = [True, False]"
   ]
  },
  {
   "cell_type": "code",
   "execution_count": 64,
   "metadata": {},
   "outputs": [],
   "source": [
    "hyperparams = {\n",
    "    'n_estimators': n_estimators,\n",
    "    'max_features': max_features,\n",
    "    'max_depth': max_depth,\n",
    "    'min_samples_split': min_samples_split,\n",
    "    'min_samples_leaf': min_samples_leaf,\n",
    "    'bootstrap': bootstrap\n",
    "}"
   ]
  },
  {
   "cell_type": "code",
   "execution_count": 65,
   "metadata": {},
   "outputs": [],
   "source": [
    "# tune model pipeline for recall\n",
    "rf_tune = RandomizedSearchCV(RandomForestClassifier(random_state=0), hyperparams, \n",
    "                           scoring='recall', cv=5, random_state=0)"
   ]
  },
  {
   "cell_type": "code",
   "execution_count": 66,
   "metadata": {},
   "outputs": [
    {
     "data": {
      "text/plain": [
       "RandomizedSearchCV(cv=5, error_score='raise',\n",
       "          estimator=RandomForestClassifier(bootstrap=True, class_weight=None, criterion='gini',\n",
       "            max_depth=None, max_features='auto', max_leaf_nodes=None,\n",
       "            min_impurity_decrease=0.0, min_impurity_split=None,\n",
       "            min_samples_leaf=1, min_samples_split=2,\n",
       "            min_weight_fraction_leaf=0.0, n_estimators=10, n_jobs=1,\n",
       "            oob_score=False, random_state=0, verbose=0, warm_start=False),\n",
       "          fit_params=None, iid=True, n_iter=10, n_jobs=1,\n",
       "          param_distributions={'n_estimators': [200, 400, 600, 800, 1000, 1200, 1400, 1600, 1800, 2000], 'max_features': array([ 1,  2,  3,  4,  5,  6,  7,  8,  9, 10, 11, 12, 13]), 'max_depth': [10, 20, 30, 40, 50, 60, 70, 80, 90, 100, 110, None], 'min_samples_split': [2, 5, 10], 'min_samples_leaf': [1, 2, 4], 'bootstrap': [True, False]},\n",
       "          pre_dispatch='2*n_jobs', random_state=0, refit=True,\n",
       "          return_train_score='warn', scoring='recall', verbose=0)"
      ]
     },
     "execution_count": 66,
     "metadata": {},
     "output_type": "execute_result"
    }
   ],
   "source": [
    "rf_tune.fit(X_train, y_train)"
   ]
  },
  {
   "cell_type": "code",
   "execution_count": 67,
   "metadata": {},
   "outputs": [],
   "source": [
    "rf_pred = rf_tune.predict(X_test)"
   ]
  },
  {
   "cell_type": "code",
   "execution_count": 68,
   "metadata": {},
   "outputs": [
    {
     "name": "stdout",
     "output_type": "stream",
     "text": [
      "             precision    recall  f1-score   support\n",
      "\n",
      "          0       0.95      0.99      0.97       729\n",
      "          1       0.00      0.00      0.00        41\n",
      "\n",
      "avg / total       0.90      0.93      0.91       770\n",
      "\n"
     ]
    }
   ],
   "source": [
    "print(metrics.classification_report(y_test, rf_pred))"
   ]
  },
  {
   "cell_type": "code",
   "execution_count": 69,
   "metadata": {},
   "outputs": [
    {
     "data": {
      "text/plain": [
       "array([[719,  10],\n",
       "       [ 41,   0]])"
      ]
     },
     "execution_count": 69,
     "metadata": {},
     "output_type": "execute_result"
    }
   ],
   "source": [
    "metrics.confusion_matrix(y_test, rf_pred)"
   ]
  },
  {
   "cell_type": "code",
   "execution_count": 70,
   "metadata": {},
   "outputs": [],
   "source": [
    "# assign best hyperparameter values from tuning\n",
    "best_n_estimators = rf_tune.best_params_['n_estimators']\n",
    "best_max_features = rf_tune.best_params_['max_features']\n",
    "best_max_depth = rf_tune.best_params_['max_depth']\n",
    "best_min_samples_split = rf_tune.best_params_['min_samples_split']\n",
    "best_min_samples_leaf = rf_tune.best_params_['min_samples_leaf']\n",
    "best_bootstrap = rf_tune.best_params_['bootstrap']"
   ]
  },
  {
   "cell_type": "markdown",
   "metadata": {},
   "source": [
    "**Notes**  \n",
    "Tuning produces no significant improvement in model"
   ]
  },
  {
   "cell_type": "markdown",
   "metadata": {},
   "source": [
    "## Balanced Weights\n",
    "Modifies \"weights\" of classes in algorithm's cost function to place greater importance on minority class  \n",
    "Balanced weights are inversly proportional to the frequency of class observations"
   ]
  },
  {
   "cell_type": "code",
   "execution_count": 71,
   "metadata": {},
   "outputs": [],
   "source": [
    "rf = RandomForestClassifier(random_state=0, class_weight='balanced')"
   ]
  },
  {
   "cell_type": "code",
   "execution_count": 72,
   "metadata": {},
   "outputs": [],
   "source": [
    "rf.fit(X_train, y_train)\n",
    "rf_pred = rf.predict(X_test)"
   ]
  },
  {
   "cell_type": "code",
   "execution_count": 73,
   "metadata": {},
   "outputs": [
    {
     "name": "stdout",
     "output_type": "stream",
     "text": [
      "             precision    recall  f1-score   support\n",
      "\n",
      "          0       0.95      1.00      0.97       729\n",
      "          1       0.00      0.00      0.00        41\n",
      "\n",
      "avg / total       0.90      0.95      0.92       770\n",
      "\n"
     ]
    },
    {
     "name": "stderr",
     "output_type": "stream",
     "text": [
      "/home/kevcon/anaconda3/lib/python3.6/site-packages/sklearn/metrics/classification.py:1135: UndefinedMetricWarning: Precision and F-score are ill-defined and being set to 0.0 in labels with no predicted samples.\n",
      "  'precision', 'predicted', average, warn_for)\n"
     ]
    }
   ],
   "source": [
    "print(metrics.classification_report(y_test, rf_pred))"
   ]
  },
  {
   "cell_type": "code",
   "execution_count": 74,
   "metadata": {},
   "outputs": [
    {
     "data": {
      "text/plain": [
       "array([[729,   0],\n",
       "       [ 41,   0]])"
      ]
     },
     "execution_count": 74,
     "metadata": {},
     "output_type": "execute_result"
    }
   ],
   "source": [
    "metrics.confusion_matrix(y_test, rf_pred)"
   ]
  },
  {
   "cell_type": "markdown",
   "metadata": {},
   "source": [
    "**Notes**  \n",
    "Balanced weights shows no improvement"
   ]
  },
  {
   "cell_type": "code",
   "execution_count": 75,
   "metadata": {},
   "outputs": [],
   "source": [
    "# try range of values for hyperparameters\n",
    "\n",
    "# number of trees in random forest\n",
    "n_estimators = [int(x) for x in np.linspace(start = 200, stop = 2000, num = 10)]\n",
    "# number of features to consider at every split\n",
    "max_features = np.arange(1, X.shape[1]+1)\n",
    "# maximum number of levels in tree\n",
    "max_depth = [int(x) for x in np.linspace(10, 110, num = 11)]\n",
    "max_depth.append(None)\n",
    "# minimum number of samples required to split a node\n",
    "min_samples_split = [2, 5, 10]\n",
    "# minimum number of samples required at each leaf node\n",
    "min_samples_leaf = [1, 2, 4]\n",
    "# method of selecting samples for training each tree\n",
    "bootstrap = [True, False]"
   ]
  },
  {
   "cell_type": "code",
   "execution_count": 76,
   "metadata": {},
   "outputs": [],
   "source": [
    "hyperparams = {\n",
    "    'n_estimators': n_estimators,\n",
    "    'max_features': max_features,\n",
    "    'max_depth': max_depth,\n",
    "    'min_samples_split': min_samples_split,\n",
    "    'min_samples_leaf': min_samples_leaf,\n",
    "    'bootstrap': bootstrap\n",
    "}\n",
    "\n",
    "rf_tune = RandomizedSearchCV(rf, hyperparams, scoring='recall', cv=5, random_state=0)\n",
    "rf_tune.fit(X_train, y_train)\n",
    "rf_pred = rf_tune.predict(X_test)"
   ]
  },
  {
   "cell_type": "code",
   "execution_count": 77,
   "metadata": {},
   "outputs": [
    {
     "name": "stdout",
     "output_type": "stream",
     "text": [
      "             precision    recall  f1-score   support\n",
      "\n",
      "          0       0.96      0.96      0.96       729\n",
      "          1       0.22      0.20      0.21        41\n",
      "\n",
      "avg / total       0.92      0.92      0.92       770\n",
      "\n"
     ]
    }
   ],
   "source": [
    "print(metrics.classification_report(y_test, rf_pred))"
   ]
  },
  {
   "cell_type": "code",
   "execution_count": 78,
   "metadata": {},
   "outputs": [
    {
     "data": {
      "text/plain": [
       "array([[701,  28],\n",
       "       [ 33,   8]])"
      ]
     },
     "execution_count": 78,
     "metadata": {},
     "output_type": "execute_result"
    }
   ],
   "source": [
    "metrics.confusion_matrix(y_test, rf_pred)"
   ]
  },
  {
   "cell_type": "markdown",
   "metadata": {},
   "source": [
    "**Notes**  \n",
    "Model performance increased with tuning"
   ]
  },
  {
   "cell_type": "code",
   "execution_count": 80,
   "metadata": {},
   "outputs": [],
   "source": [
    "best_n_estimators_bal = rf_tune.best_params_['n_estimators']\n",
    "best_max_features_bal = rf_tune.best_params_['max_features']\n",
    "best_max_depth_bal = rf_tune.best_params_['max_depth']\n",
    "best_min_samples_split_bal = rf_tune.best_params_['min_samples_split']\n",
    "best_min_samples_leaf_bal = rf_tune.best_params_['min_samples_leaf']\n",
    "best_bootstrap_bal = rf_tune.best_params_['bootstrap']"
   ]
  },
  {
   "cell_type": "markdown",
   "metadata": {},
   "source": [
    "## Synthetic Minority Over-sampling Technique (SMOTE)\n",
    "Oversampling method that generates synthetic samples of the minority class"
   ]
  },
  {
   "cell_type": "code",
   "execution_count": 81,
   "metadata": {},
   "outputs": [],
   "source": [
    "# model pipeline with SMOTE applied\n",
    "rf_pipe = imbPipeline([\n",
    "    ('oversample', over_sampling.SMOTE(random_state=0)),\n",
    "    ('model', RandomForestClassifier(random_state=0))    \n",
    "])"
   ]
  },
  {
   "cell_type": "code",
   "execution_count": 82,
   "metadata": {},
   "outputs": [],
   "source": [
    "rf_pipe.fit(X_train, y_train)\n",
    "rf_pred = rf_pipe.predict(X_test)"
   ]
  },
  {
   "cell_type": "code",
   "execution_count": 83,
   "metadata": {},
   "outputs": [
    {
     "name": "stdout",
     "output_type": "stream",
     "text": [
      "             precision    recall  f1-score   support\n",
      "\n",
      "          0       0.96      0.94      0.95       729\n",
      "          1       0.21      0.29      0.24        41\n",
      "\n",
      "avg / total       0.92      0.90      0.91       770\n",
      "\n"
     ]
    }
   ],
   "source": [
    "print(metrics.classification_report(y_test, rf_pred))"
   ]
  },
  {
   "cell_type": "code",
   "execution_count": 84,
   "metadata": {
    "scrolled": true
   },
   "outputs": [
    {
     "data": {
      "text/plain": [
       "array([[684,  45],\n",
       "       [ 29,  12]])"
      ]
     },
     "execution_count": 84,
     "metadata": {},
     "output_type": "execute_result"
    }
   ],
   "source": [
    "metrics.confusion_matrix(y_test, rf_pred)"
   ]
  },
  {
   "cell_type": "markdown",
   "metadata": {},
   "source": [
    "**Notes**  \n",
    "Some increased recall is observed for label 1 classification compared with initial model  \n",
    "Try tuning this model"
   ]
  },
  {
   "cell_type": "code",
   "execution_count": 85,
   "metadata": {},
   "outputs": [],
   "source": [
    "# try range of values for hyperparameters\n",
    "\n",
    "# number of trees in random forest\n",
    "n_estimators = [int(x) for x in np.linspace(start = 200, stop = 2000, num = 10)]\n",
    "# number of features to consider at every split\n",
    "max_features = np.arange(1, X.shape[1]+1)\n",
    "# maximum number of levels in tree\n",
    "max_depth = [int(x) for x in np.linspace(10, 110, num = 11)]\n",
    "max_depth.append(None)\n",
    "# minimum number of samples required to split a node\n",
    "min_samples_split = [2, 5, 10]\n",
    "# minimum number of samples required at each leaf node\n",
    "min_samples_leaf = [1, 2, 4]\n",
    "# method of selecting samples for training each tree\n",
    "bootstrap = [True, False]"
   ]
  },
  {
   "cell_type": "code",
   "execution_count": 86,
   "metadata": {},
   "outputs": [],
   "source": [
    "hyperparams = {\n",
    "    'model__n_estimators': n_estimators,\n",
    "    'model__max_features': max_features,\n",
    "    'model__max_depth': max_depth,\n",
    "    'model__min_samples_split': min_samples_split,\n",
    "    'model__min_samples_leaf': min_samples_leaf,\n",
    "    'model__bootstrap': bootstrap\n",
    "}\n",
    "\n",
    "rf_tune = RandomizedSearchCV(rf_pipe, hyperparams, scoring='recall', cv=5, random_state=0)\n",
    "rf_tune.fit(X_train, y_train)\n",
    "rf_pred = rf_tune.predict(X_test)"
   ]
  },
  {
   "cell_type": "code",
   "execution_count": 87,
   "metadata": {},
   "outputs": [
    {
     "name": "stdout",
     "output_type": "stream",
     "text": [
      "             precision    recall  f1-score   support\n",
      "\n",
      "          0       0.96      0.91      0.93       729\n",
      "          1       0.17      0.34      0.23        41\n",
      "\n",
      "avg / total       0.92      0.88      0.90       770\n",
      "\n"
     ]
    }
   ],
   "source": [
    "print(metrics.classification_report(y_test, rf_pred))"
   ]
  },
  {
   "cell_type": "code",
   "execution_count": 88,
   "metadata": {},
   "outputs": [
    {
     "data": {
      "text/plain": [
       "array([[662,  67],\n",
       "       [ 27,  14]])"
      ]
     },
     "execution_count": 88,
     "metadata": {},
     "output_type": "execute_result"
    }
   ],
   "source": [
    "metrics.confusion_matrix(y_test, rf_pred)"
   ]
  },
  {
   "cell_type": "code",
   "execution_count": 91,
   "metadata": {},
   "outputs": [],
   "source": [
    "best_n_estimators_smt = rf_tune.best_params_['model__n_estimators']\n",
    "best_max_features_smt = rf_tune.best_params_['model__max_features']\n",
    "best_max_depth_smt = rf_tune.best_params_['model__max_depth']\n",
    "best_min_samples_split_smt = rf_tune.best_params_['model__min_samples_split']\n",
    "best_min_samples_leaf_smt = rf_tune.best_params_['model__min_samples_leaf']\n",
    "best_bootstrap_smt = rf_tune.best_params_['model__bootstrap']"
   ]
  },
  {
   "cell_type": "markdown",
   "metadata": {},
   "source": [
    "**Notes**  \n",
    "Tuning has increased swing recall"
   ]
  },
  {
   "cell_type": "markdown",
   "metadata": {},
   "source": [
    "## Final Model\n",
    "Tuned model with SMOTE"
   ]
  },
  {
   "cell_type": "code",
   "execution_count": 92,
   "metadata": {},
   "outputs": [],
   "source": [
    "rf_pipe = imbPipeline([\n",
    "    ('oversample', over_sampling.SMOTE(random_state=0)),\n",
    "    ('model', RandomForestClassifier(random_state=0,\n",
    "                                     n_estimators=best_n_estimators_smt,\n",
    "                                     max_features=best_max_features_smt,\n",
    "                                     max_depth=best_max_depth_smt,\n",
    "                                     min_samples_split=best_min_samples_split_smt,\n",
    "                                     min_samples_leaf=best_min_samples_leaf_smt,\n",
    "                                     bootstrap=best_bootstrap_smt)\n",
    "    )\n",
    "])"
   ]
  },
  {
   "cell_type": "code",
   "execution_count": 96,
   "metadata": {},
   "outputs": [],
   "source": [
    "rf_pipe.fit(X_train, y_train)\n",
    "rf_predict = rf_pipe.predict(X_test)"
   ]
  },
  {
   "cell_type": "markdown",
   "metadata": {},
   "source": [
    "### Evaluation"
   ]
  },
  {
   "cell_type": "code",
   "execution_count": 97,
   "metadata": {},
   "outputs": [
    {
     "name": "stdout",
     "output_type": "stream",
     "text": [
      "             precision    recall  f1-score   support\n",
      "\n",
      "          0       0.96      0.91      0.93       729\n",
      "          1       0.17      0.34      0.23        41\n",
      "\n",
      "avg / total       0.92      0.88      0.90       770\n",
      "\n"
     ]
    }
   ],
   "source": [
    "print(metrics.classification_report(y_test, rf_predict))"
   ]
  },
  {
   "cell_type": "code",
   "execution_count": 98,
   "metadata": {},
   "outputs": [
    {
     "data": {
      "text/plain": [
       "array([[662,  67],\n",
       "       [ 27,  14]])"
      ]
     },
     "execution_count": 98,
     "metadata": {},
     "output_type": "execute_result"
    }
   ],
   "source": [
    "metrics.confusion_matrix(y_test, rf_predict)"
   ]
  },
  {
   "cell_type": "code",
   "execution_count": 99,
   "metadata": {},
   "outputs": [],
   "source": [
    "# probabilities of swing county for each observation\n",
    "rf_predict_proba = rf_pipe.predict_proba(X_test)[:, 1]"
   ]
  },
  {
   "cell_type": "markdown",
   "metadata": {},
   "source": [
    "#### Receiver Operating Characteristic (ROC)"
   ]
  },
  {
   "cell_type": "code",
   "execution_count": 100,
   "metadata": {},
   "outputs": [],
   "source": [
    "# create ROC curve data\n",
    "# returns false positive rate, true positive rate for range of thresholds\n",
    "rf_fpr, rf_tpr, rf_thresh = roc_curve(y_test, rf_predict_proba)"
   ]
  },
  {
   "cell_type": "code",
   "execution_count": 101,
   "metadata": {},
   "outputs": [
    {
     "data": {
      "image/png": "[encoded data removed]",
      "text/plain": [
       "<Figure size 864x504 with 1 Axes>"
      ]
     },
     "metadata": {},
     "output_type": "display_data"
    }
   ],
   "source": [
    "plt.plot(rf_fpr, rf_tpr)\n",
    "plt.plot([0, 1], [0, 1], linestyle='--')\n",
    "plt.xlabel('False Positive Rate')\n",
    "plt.ylabel('True Positive Rate')\n",
    "plt.title('Random Forest ROC Curve');"
   ]
  },
  {
   "cell_type": "markdown",
   "metadata": {},
   "source": [
    "#### Area Under the Curve (AUC) Score"
   ]
  },
  {
   "cell_type": "code",
   "execution_count": 102,
   "metadata": {},
   "outputs": [
    {
     "data": {
      "text/plain": [
       "0.8127070159590485"
      ]
     },
     "execution_count": 102,
     "metadata": {},
     "output_type": "execute_result"
    }
   ],
   "source": [
    "roc_auc_score(y_test, rf_predict_proba)"
   ]
  },
  {
   "cell_type": "markdown",
   "metadata": {},
   "source": [
    "**Notes**  \n",
    "Model performance appears to be pretty good based on the AUC. However, this is due to the high class imbalance in the dataset. This is not the best evaluation metric for this analysis."
   ]
  },
  {
   "cell_type": "markdown",
   "metadata": {},
   "source": [
    "#### Precision-Recall"
   ]
  },
  {
   "cell_type": "code",
   "execution_count": 103,
   "metadata": {},
   "outputs": [],
   "source": [
    "# create precision recall curve data\n",
    "# returns precision, recall for range of thresholds\n",
    "rf_pre, rf_rec, rf_thresh = precision_recall_curve(y_test, rf_predict_proba)"
   ]
  },
  {
   "cell_type": "code",
   "execution_count": 104,
   "metadata": {
    "scrolled": false
   },
   "outputs": [
    {
     "data": {
      "image/png": "[encoded data removed]",
      "text/plain": [
       "<Figure size 864x504 with 1 Axes>"
      ]
     },
     "metadata": {},
     "output_type": "display_data"
    }
   ],
   "source": [
    "plt.plot(rf_rec, rf_pre)\n",
    "plt.xlabel('Recall')\n",
    "plt.ylabel('Precision')\n",
    "plt.title('Random Forest Precision-Recall');"
   ]
  },
  {
   "cell_type": "markdown",
   "metadata": {},
   "source": [
    "#### Area Under the Curve (AUC) Score"
   ]
  },
  {
   "cell_type": "code",
   "execution_count": 105,
   "metadata": {},
   "outputs": [
    {
     "data": {
      "text/plain": [
       "0.17166758692210235"
      ]
     },
     "execution_count": 105,
     "metadata": {},
     "output_type": "execute_result"
    }
   ],
   "source": [
    "auc(rf_rec, rf_pre)"
   ]
  },
  {
   "cell_type": "markdown",
   "metadata": {},
   "source": [
    "**Notes**  \n",
    "The precision-recall curve gives a better representation of model performance."
   ]
  },
  {
   "cell_type": "markdown",
   "metadata": {},
   "source": [
    "# Model Comparison"
   ]
  },
  {
   "cell_type": "markdown",
   "metadata": {},
   "source": [
    "## Metrics"
   ]
  },
  {
   "cell_type": "code",
   "execution_count": 171,
   "metadata": {},
   "outputs": [],
   "source": [
    "log_precision, log_recall, log_fscore, log_support = metrics.precision_recall_fscore_support(y_test, log_predict)\n",
    "rf_precision, rf_recall, rf_fscore, rf_support = metrics.precision_recall_fscore_support(y_test, rf_predict)"
   ]
  },
  {
   "cell_type": "code",
   "execution_count": 176,
   "metadata": {},
   "outputs": [
    {
     "data": {
      "image/png": "[encoded data removed]",
      "text/plain": [
       "<Figure size 576x504 with 1 Axes>"
      ]
     },
     "metadata": {},
     "output_type": "display_data"
    }
   ],
   "source": [
    "plt.figure(figsize=(8, 7))\n",
    "plt.bar(range(2), [log_recall[1], rf_recall[1]], color=['b', 'r'])\n",
    "plt.xticks(range(2), ['Logistic Regression', 'Random Forest'])\n",
    "plt.xlabel('Model')\n",
    "plt.ylabel('Recall')\n",
    "plt.title('Recall Comparision');"
   ]
  },
  {
   "cell_type": "markdown",
   "metadata": {},
   "source": [
    "## ROC"
   ]
  },
  {
   "cell_type": "code",
   "execution_count": 123,
   "metadata": {},
   "outputs": [
    {
     "data": {
      "image/png": "[encoded data removed]",
      "text/plain": [
       "<Figure size 864x504 with 1 Axes>"
      ]
     },
     "metadata": {},
     "output_type": "display_data"
    }
   ],
   "source": [
    "fig, ax = plt.subplots()\n",
    "ax.plot(log_fpr, log_tpr, label='Logistic Regression')\n",
    "ax.plot(rf_fpr, rf_tpr, label='Random Forest')\n",
    "ax.plot([0, 1], [0, 1], linestyle='--')\n",
    "ax.set_xlabel('False Positive Rate')\n",
    "ax.set_ylabel('True Positive Rate')\n",
    "ax.set_title('ROC Curve')\n",
    "ax.legend();"
   ]
  },
  {
   "cell_type": "code",
   "execution_count": 144,
   "metadata": {},
   "outputs": [
    {
     "data": {
      "image/png": "[encoded data removed]",
      "text/plain": [
       "<Figure size 576x504 with 1 Axes>"
      ]
     },
     "metadata": {},
     "output_type": "display_data"
    }
   ],
   "source": [
    "auc_scores = [roc_auc_score(y_test, log_predict_proba), roc_auc_score(y_test, rf_predict_proba)]\n",
    "plt.figure(figsize=(8, 7))\n",
    "plt.bar(range(2), auc_scores, color=['b', 'r'])\n",
    "plt.xticks(range(2), ['Logistic Regression', 'Random Forest'])\n",
    "plt.xlabel('Model')\n",
    "plt.ylabel('AUC Score')\n",
    "plt.title('ROC Comparision');"
   ]
  },
  {
   "cell_type": "markdown",
   "metadata": {},
   "source": [
    "## Precision-Recall"
   ]
  },
  {
   "cell_type": "code",
   "execution_count": 109,
   "metadata": {},
   "outputs": [
    {
     "data": {
      "image/png": "[encoded data removed]",
      "text/plain": [
       "<Figure size 864x504 with 1 Axes>"
      ]
     },
     "metadata": {},
     "output_type": "display_data"
    }
   ],
   "source": [
    "fig, ax = plt.subplots()\n",
    "ax.plot(log_rec, log_pre, label='Logistic Regression')\n",
    "ax.plot(rf_rec, rf_pre, label='Random Forest')\n",
    "ax.set_xlabel('Recall')\n",
    "ax.set_ylabel('Precision')\n",
    "ax.set_title('Precision-Recall')\n",
    "ax.legend();"
   ]
  },
  {
   "cell_type": "code",
   "execution_count": 143,
   "metadata": {},
   "outputs": [
    {
     "data": {
      "image/png": "[encoded data removed]",
      "text/plain": [
       "<Figure size 576x504 with 1 Axes>"
      ]
     },
     "metadata": {},
     "output_type": "display_data"
    }
   ],
   "source": [
    "auc_scores = [auc(log_rec, log_pre), auc(rf_rec, rf_pre)]\n",
    "plt.figure(figsize=(8, 7))\n",
    "plt.bar(range(2), auc_scores, color=['b', 'r'])\n",
    "plt.xticks(range(2), ['Logistic Regression', 'Random Forest'])\n",
    "plt.xlabel('Model')\n",
    "plt.ylabel('AUC Score')\n",
    "plt.title('Precision-Recall Comparision');"
   ]
  },
  {
   "cell_type": "markdown",
   "metadata": {},
   "source": [
    "# Final Analysis\n",
    "Analysis with Logistic Regression model"
   ]
  },
  {
   "cell_type": "markdown",
   "metadata": {},
   "source": [
    "## Threshold Modification\n",
    "Modify decision threshold to capture more of the positive class"
   ]
  },
  {
   "cell_type": "code",
   "execution_count": 206,
   "metadata": {},
   "outputs": [
    {
     "name": "stdout",
     "output_type": "stream",
     "text": [
      "             precision    recall  f1-score   support\n",
      "\n",
      "          0       1.00      0.46      0.63       729\n",
      "          1       0.09      1.00      0.17        41\n",
      "\n",
      "avg / total       0.95      0.49      0.61       770\n",
      "\n"
     ]
    }
   ],
   "source": [
    "# lower probability threshold\n",
    "threshold = 0.39\n",
    "log_thresh_predict = log_predict_proba >= threshold"
   ]
  },
  {
   "cell_type": "code",
   "execution_count": null,
   "metadata": {},
   "outputs": [],
   "source": [
    "print(metrics.classification_report(y_test, log_thresh_predict))"
   ]
  },
  {
   "cell_type": "code",
   "execution_count": 207,
   "metadata": {},
   "outputs": [
    {
     "data": {
      "text/plain": [
       "array([[337, 392],\n",
       "       [  0,  41]])"
      ]
     },
     "execution_count": 207,
     "metadata": {},
     "output_type": "execute_result"
    }
   ],
   "source": [
    "metrics.confusion_matrix(y_test, log_thresh_predict)"
   ]
  },
  {
   "cell_type": "markdown",
   "metadata": {},
   "source": [
    "## Logistic Regression Feature Interpretation"
   ]
  },
  {
   "cell_type": "code",
   "execution_count": 290,
   "metadata": {},
   "outputs": [
    {
     "data": {
      "text/plain": [
       "array([[ 0.        ,  0.        ,  0.        , -0.00336436, -0.00391475,\n",
       "         0.        ,  0.        ,  0.        ,  0.        ,  0.67697765,\n",
       "         0.        , -0.39361472,  0.        ]])"
      ]
     },
     "execution_count": 290,
     "metadata": {},
     "output_type": "execute_result"
    }
   ],
   "source": [
    "log_pipe.named_steps['model'].coef_"
   ]
  },
  {
   "cell_type": "code",
   "execution_count": 291,
   "metadata": {},
   "outputs": [
    {
     "data": {
      "text/plain": [
       "Index(['population', 'growth', 'households', 'median_age', 'per_cap_income',\n",
       "       'hh_income', 'unempl_rate', 'poverty_rate', 'hs_rate', 'college_rate',\n",
       "       'density', 'white_rate', 'hisp_rate'],\n",
       "      dtype='object')"
      ]
     },
     "execution_count": 291,
     "metadata": {},
     "output_type": "execute_result"
    }
   ],
   "source": [
    "X_train.columns"
   ]
  },
  {
   "cell_type": "code",
   "execution_count": 292,
   "metadata": {},
   "outputs": [
    {
     "data": {
      "text/html": [
       "<div>\n",
       "<style scoped>\n",
       "    .dataframe tbody tr th:only-of-type {\n",
       "        vertical-align: middle;\n",
       "    }\n",
       "\n",
       "    .dataframe tbody tr th {\n",
       "        vertical-align: top;\n",
       "    }\n",
       "\n",
       "    .dataframe thead th {\n",
       "        text-align: right;\n",
       "    }\n",
       "</style>\n",
       "<table border=\"1\" class=\"dataframe\">\n",
       "  <thead>\n",
       "    <tr style=\"text-align: right;\">\n",
       "      <th></th>\n",
       "      <th>coefficient</th>\n",
       "      <th>positive</th>\n",
       "    </tr>\n",
       "  </thead>\n",
       "  <tbody>\n",
       "    <tr>\n",
       "      <th>college_rate</th>\n",
       "      <td>0.676978</td>\n",
       "      <td>True</td>\n",
       "    </tr>\n",
       "    <tr>\n",
       "      <th>white_rate</th>\n",
       "      <td>0.393615</td>\n",
       "      <td>False</td>\n",
       "    </tr>\n",
       "    <tr>\n",
       "      <th>per_cap_income</th>\n",
       "      <td>0.003915</td>\n",
       "      <td>False</td>\n",
       "    </tr>\n",
       "    <tr>\n",
       "      <th>median_age</th>\n",
       "      <td>0.003364</td>\n",
       "      <td>False</td>\n",
       "    </tr>\n",
       "  </tbody>\n",
       "</table>\n",
       "</div>"
      ],
      "text/plain": [
       "                coefficient  positive\n",
       "college_rate       0.676978      True\n",
       "white_rate         0.393615     False\n",
       "per_cap_income     0.003915     False\n",
       "median_age         0.003364     False"
      ]
     },
     "execution_count": 292,
     "metadata": {},
     "output_type": "execute_result"
    }
   ],
   "source": [
    "df_coef = pd.DataFrame(log_pipe.named_steps['model'].coef_, columns=X_train.columns, index=['coefficient']).T\n",
    "df_coef = df_coef[df_coef['coefficient'] != 0]\n",
    "df_coef['positive'] = df_coef['coefficient'] > 0\n",
    "df_coef['coefficient'] = df_coef['coefficient'].apply(abs)\n",
    "df_coef.sort_values(by='coefficient', ascending=False, inplace=True)\n",
    "df_coef"
   ]
  },
  {
   "cell_type": "code",
   "execution_count": 310,
   "metadata": {
    "scrolled": false
   },
   "outputs": [
    {
     "data": {
      "image/png": "[encoded data removed]",
      "text/plain": [
       "<Figure size 864x504 with 1 Axes>"
      ]
     },
     "metadata": {},
     "output_type": "display_data"
    }
   ],
   "source": [
    "ax = plt.gca()\n",
    "df_coef['coefficient'].plot(kind='bar', ax=ax, color=df_coef['positive'].map({True: 'g', False: 'r'}))\n",
    "ax.set_title('Feature Weights')\n",
    "ax.set_xlabel('Feature')\n",
    "ax.set_ylabel('Model Coefficient')\n",
    "ax.set_xticklabels(['College Rate', 'White %', 'Income', 'Age'], rotation=0)\n",
    "\n",
    "pos_patch = mpatches.Patch(color='green', label='Positive')\n",
    "neg_patch = mpatches.Patch(color='red', label='Negative')\n",
    "plt.legend(title='Correlation', handles=[pos_patch, neg_patch]);"
   ]
  },
  {
   "cell_type": "markdown",
   "metadata": {},
   "source": [
    "## Random Forest Feature Interpretation"
   ]
  },
  {
   "cell_type": "code",
   "execution_count": 315,
   "metadata": {},
   "outputs": [
    {
     "data": {
      "text/plain": [
       "array([0.05869482, 0.04194692, 0.06126835, 0.0330841 , 0.05287077,\n",
       "       0.04865192, 0.03852907, 0.03859433, 0.0283154 , 0.27953846,\n",
       "       0.06806361, 0.20280839, 0.04763388])"
      ]
     },
     "execution_count": 315,
     "metadata": {},
     "output_type": "execute_result"
    }
   ],
   "source": [
    "rf_pipe.named_steps['model'].feature_importances_"
   ]
  },
  {
   "cell_type": "code",
   "execution_count": 316,
   "metadata": {},
   "outputs": [
    {
     "data": {
      "text/plain": [
       "Index(['population', 'growth', 'households', 'median_age', 'per_cap_income',\n",
       "       'hh_income', 'unempl_rate', 'poverty_rate', 'hs_rate', 'college_rate',\n",
       "       'density', 'white_rate', 'hisp_rate'],\n",
       "      dtype='object')"
      ]
     },
     "execution_count": 316,
     "metadata": {},
     "output_type": "execute_result"
    }
   ],
   "source": [
    "X_train.columns"
   ]
  },
  {
   "cell_type": "code",
   "execution_count": 321,
   "metadata": {},
   "outputs": [
    {
     "data": {
      "text/html": [
       "<div>\n",
       "<style scoped>\n",
       "    .dataframe tbody tr th:only-of-type {\n",
       "        vertical-align: middle;\n",
       "    }\n",
       "\n",
       "    .dataframe tbody tr th {\n",
       "        vertical-align: top;\n",
       "    }\n",
       "\n",
       "    .dataframe thead th {\n",
       "        text-align: right;\n",
       "    }\n",
       "</style>\n",
       "<table border=\"1\" class=\"dataframe\">\n",
       "  <thead>\n",
       "    <tr style=\"text-align: right;\">\n",
       "      <th></th>\n",
       "      <th>feat_imp</th>\n",
       "    </tr>\n",
       "  </thead>\n",
       "  <tbody>\n",
       "    <tr>\n",
       "      <th>college_rate</th>\n",
       "      <td>0.279538</td>\n",
       "    </tr>\n",
       "    <tr>\n",
       "      <th>white_rate</th>\n",
       "      <td>0.202808</td>\n",
       "    </tr>\n",
       "    <tr>\n",
       "      <th>density</th>\n",
       "      <td>0.068064</td>\n",
       "    </tr>\n",
       "    <tr>\n",
       "      <th>households</th>\n",
       "      <td>0.061268</td>\n",
       "    </tr>\n",
       "    <tr>\n",
       "      <th>population</th>\n",
       "      <td>0.058695</td>\n",
       "    </tr>\n",
       "    <tr>\n",
       "      <th>per_cap_income</th>\n",
       "      <td>0.052871</td>\n",
       "    </tr>\n",
       "    <tr>\n",
       "      <th>hh_income</th>\n",
       "      <td>0.048652</td>\n",
       "    </tr>\n",
       "    <tr>\n",
       "      <th>hisp_rate</th>\n",
       "      <td>0.047634</td>\n",
       "    </tr>\n",
       "    <tr>\n",
       "      <th>growth</th>\n",
       "      <td>0.041947</td>\n",
       "    </tr>\n",
       "    <tr>\n",
       "      <th>poverty_rate</th>\n",
       "      <td>0.038594</td>\n",
       "    </tr>\n",
       "    <tr>\n",
       "      <th>unempl_rate</th>\n",
       "      <td>0.038529</td>\n",
       "    </tr>\n",
       "    <tr>\n",
       "      <th>median_age</th>\n",
       "      <td>0.033084</td>\n",
       "    </tr>\n",
       "    <tr>\n",
       "      <th>hs_rate</th>\n",
       "      <td>0.028315</td>\n",
       "    </tr>\n",
       "  </tbody>\n",
       "</table>\n",
       "</div>"
      ],
      "text/plain": [
       "                feat_imp\n",
       "college_rate    0.279538\n",
       "white_rate      0.202808\n",
       "density         0.068064\n",
       "households      0.061268\n",
       "population      0.058695\n",
       "per_cap_income  0.052871\n",
       "hh_income       0.048652\n",
       "hisp_rate       0.047634\n",
       "growth          0.041947\n",
       "poverty_rate    0.038594\n",
       "unempl_rate     0.038529\n",
       "median_age      0.033084\n",
       "hs_rate         0.028315"
      ]
     },
     "execution_count": 321,
     "metadata": {},
     "output_type": "execute_result"
    }
   ],
   "source": [
    "df_imp = pd.DataFrame(rf_pipe.named_steps['model'].feature_importances_, \n",
    "                      index=X_train.columns, columns=['feat_imp'])\n",
    "df_imp.sort_values(by='feat_imp', ascending=False, inplace=True)\n",
    "df_imp"
   ]
  },
  {
   "cell_type": "code",
   "execution_count": 347,
   "metadata": {},
   "outputs": [
    {
     "data": {
      "image/png": "[encoded data removed]",
      "text/plain": [
       "<Figure size 864x504 with 1 Axes>"
      ]
     },
     "metadata": {},
     "output_type": "display_data"
    }
   ],
   "source": [
    "ax = plt.gca()\n",
    "df_imp['feat_imp'].plot(kind='bar', ax=ax, color='purple')\n",
    "ax.set_title('Feature Importance')\n",
    "ax.set_xlabel('Feature')\n",
    "ax.set_ylabel('Importance');"
   ]
  },
  {
   "cell_type": "markdown",
   "metadata": {},
   "source": [
    "## Averages of Classes"
   ]
  },
  {
   "cell_type": "code",
   "execution_count": 330,
   "metadata": {},
   "outputs": [
    {
     "data": {
      "text/html": [
       "<div>\n",
       "<style scoped>\n",
       "    .dataframe tbody tr th:only-of-type {\n",
       "        vertical-align: middle;\n",
       "    }\n",
       "\n",
       "    .dataframe tbody tr th {\n",
       "        vertical-align: top;\n",
       "    }\n",
       "\n",
       "    .dataframe thead th {\n",
       "        text-align: right;\n",
       "    }\n",
       "</style>\n",
       "<table border=\"1\" class=\"dataframe\">\n",
       "  <thead>\n",
       "    <tr style=\"text-align: right;\">\n",
       "      <th></th>\n",
       "      <th>population</th>\n",
       "      <th>growth</th>\n",
       "      <th>households</th>\n",
       "      <th>median_age</th>\n",
       "      <th>per_cap_income</th>\n",
       "      <th>hh_income</th>\n",
       "      <th>unempl_rate</th>\n",
       "      <th>poverty_rate</th>\n",
       "      <th>hs_rate</th>\n",
       "      <th>college_rate</th>\n",
       "      <th>density</th>\n",
       "      <th>white_rate</th>\n",
       "      <th>hisp_rate</th>\n",
       "    </tr>\n",
       "    <tr>\n",
       "      <th>close_elect</th>\n",
       "      <th></th>\n",
       "      <th></th>\n",
       "      <th></th>\n",
       "      <th></th>\n",
       "      <th></th>\n",
       "      <th></th>\n",
       "      <th></th>\n",
       "      <th></th>\n",
       "      <th></th>\n",
       "      <th></th>\n",
       "      <th></th>\n",
       "      <th></th>\n",
       "      <th></th>\n",
       "    </tr>\n",
       "  </thead>\n",
       "  <tbody>\n",
       "    <tr>\n",
       "      <th>0</th>\n",
       "      <td>97754.622861</td>\n",
       "      <td>0.673854</td>\n",
       "      <td>35383.793292</td>\n",
       "      <td>41.180151</td>\n",
       "      <td>40647.942847</td>\n",
       "      <td>49173.193018</td>\n",
       "      <td>4.611328</td>\n",
       "      <td>15.914203</td>\n",
       "      <td>85.657392</td>\n",
       "      <td>20.269884</td>\n",
       "      <td>251.164202</td>\n",
       "      <td>0.838362</td>\n",
       "      <td>0.088684</td>\n",
       "    </tr>\n",
       "    <tr>\n",
       "      <th>1</th>\n",
       "      <td>213686.159236</td>\n",
       "      <td>2.568153</td>\n",
       "      <td>77334.891720</td>\n",
       "      <td>38.888535</td>\n",
       "      <td>42207.388535</td>\n",
       "      <td>53773.019108</td>\n",
       "      <td>4.530573</td>\n",
       "      <td>15.549045</td>\n",
       "      <td>88.495541</td>\n",
       "      <td>27.620382</td>\n",
       "      <td>317.779807</td>\n",
       "      <td>0.760183</td>\n",
       "      <td>0.095176</td>\n",
       "    </tr>\n",
       "  </tbody>\n",
       "</table>\n",
       "</div>"
      ],
      "text/plain": [
       "                population    growth    households  median_age  \\\n",
       "close_elect                                                      \n",
       "0             97754.622861  0.673854  35383.793292   41.180151   \n",
       "1            213686.159236  2.568153  77334.891720   38.888535   \n",
       "\n",
       "             per_cap_income     hh_income  unempl_rate  poverty_rate  \\\n",
       "close_elect                                                            \n",
       "0              40647.942847  49173.193018     4.611328     15.914203   \n",
       "1              42207.388535  53773.019108     4.530573     15.549045   \n",
       "\n",
       "               hs_rate  college_rate     density  white_rate  hisp_rate  \n",
       "close_elect                                                              \n",
       "0            85.657392     20.269884  251.164202    0.838362   0.088684  \n",
       "1            88.495541     27.620382  317.779807    0.760183   0.095176  "
      ]
     },
     "execution_count": 330,
     "metadata": {},
     "output_type": "execute_result"
    }
   ],
   "source": [
    "cls_feat = df.groupby('close_elect').mean().copy()\n",
    "cls_feat"
   ]
  },
  {
   "cell_type": "code",
   "execution_count": 337,
   "metadata": {},
   "outputs": [
    {
     "data": {
      "text/plain": [
       "population        311440.782097\n",
       "growth                 3.242006\n",
       "households        112718.685012\n",
       "median_age            80.068686\n",
       "per_cap_income     82855.331382\n",
       "hh_income         102946.212127\n",
       "unempl_rate            9.141901\n",
       "poverty_rate          31.463247\n",
       "hs_rate              174.152934\n",
       "college_rate          47.890266\n",
       "density              568.944008\n",
       "white_rate             1.598546\n",
       "hisp_rate              0.183860\n",
       "dtype: float64"
      ]
     },
     "execution_count": 337,
     "metadata": {},
     "output_type": "execute_result"
    }
   ],
   "source": [
    "cls_feat.sum()"
   ]
  },
  {
   "cell_type": "code",
   "execution_count": 342,
   "metadata": {},
   "outputs": [
    {
     "data": {
      "text/html": [
       "<div>\n",
       "<style scoped>\n",
       "    .dataframe tbody tr th:only-of-type {\n",
       "        vertical-align: middle;\n",
       "    }\n",
       "\n",
       "    .dataframe tbody tr th {\n",
       "        vertical-align: top;\n",
       "    }\n",
       "\n",
       "    .dataframe thead th {\n",
       "        text-align: right;\n",
       "    }\n",
       "</style>\n",
       "<table border=\"1\" class=\"dataframe\">\n",
       "  <thead>\n",
       "    <tr style=\"text-align: right;\">\n",
       "      <th></th>\n",
       "      <th>population</th>\n",
       "      <th>growth</th>\n",
       "      <th>households</th>\n",
       "      <th>median_age</th>\n",
       "      <th>per_cap_income</th>\n",
       "      <th>hh_income</th>\n",
       "      <th>unempl_rate</th>\n",
       "      <th>poverty_rate</th>\n",
       "      <th>hs_rate</th>\n",
       "      <th>college_rate</th>\n",
       "      <th>density</th>\n",
       "      <th>white_rate</th>\n",
       "      <th>hisp_rate</th>\n",
       "    </tr>\n",
       "    <tr>\n",
       "      <th>close_elect</th>\n",
       "      <th></th>\n",
       "      <th></th>\n",
       "      <th></th>\n",
       "      <th></th>\n",
       "      <th></th>\n",
       "      <th></th>\n",
       "      <th></th>\n",
       "      <th></th>\n",
       "      <th></th>\n",
       "      <th></th>\n",
       "      <th></th>\n",
       "      <th></th>\n",
       "      <th></th>\n",
       "    </tr>\n",
       "  </thead>\n",
       "  <tbody>\n",
       "    <tr>\n",
       "      <th>0</th>\n",
       "      <td>0.313879</td>\n",
       "      <td>0.207851</td>\n",
       "      <td>0.313912</td>\n",
       "      <td>0.51431</td>\n",
       "      <td>0.490589</td>\n",
       "      <td>0.477659</td>\n",
       "      <td>0.504417</td>\n",
       "      <td>0.505803</td>\n",
       "      <td>0.491852</td>\n",
       "      <td>0.423257</td>\n",
       "      <td>0.441457</td>\n",
       "      <td>0.524453</td>\n",
       "      <td>0.482346</td>\n",
       "    </tr>\n",
       "    <tr>\n",
       "      <th>1</th>\n",
       "      <td>0.686121</td>\n",
       "      <td>0.792149</td>\n",
       "      <td>0.686088</td>\n",
       "      <td>0.48569</td>\n",
       "      <td>0.509411</td>\n",
       "      <td>0.522341</td>\n",
       "      <td>0.495583</td>\n",
       "      <td>0.494197</td>\n",
       "      <td>0.508148</td>\n",
       "      <td>0.576743</td>\n",
       "      <td>0.558543</td>\n",
       "      <td>0.475547</td>\n",
       "      <td>0.517654</td>\n",
       "    </tr>\n",
       "  </tbody>\n",
       "</table>\n",
       "</div>"
      ],
      "text/plain": [
       "             population    growth  households  median_age  per_cap_income  \\\n",
       "close_elect                                                                 \n",
       "0              0.313879  0.207851    0.313912     0.51431        0.490589   \n",
       "1              0.686121  0.792149    0.686088     0.48569        0.509411   \n",
       "\n",
       "             hh_income  unempl_rate  poverty_rate   hs_rate  college_rate  \\\n",
       "close_elect                                                                 \n",
       "0             0.477659     0.504417      0.505803  0.491852      0.423257   \n",
       "1             0.522341     0.495583      0.494197  0.508148      0.576743   \n",
       "\n",
       "              density  white_rate  hisp_rate  \n",
       "close_elect                                   \n",
       "0            0.441457    0.524453   0.482346  \n",
       "1            0.558543    0.475547   0.517654  "
      ]
     },
     "execution_count": 342,
     "metadata": {},
     "output_type": "execute_result"
    }
   ],
   "source": [
    "cls_feat.div(cls_feat.sum())"
   ]
  },
  {
   "cell_type": "code",
   "execution_count": 344,
   "metadata": {},
   "outputs": [
    {
     "data": {
      "text/html": [
       "<div>\n",
       "<style scoped>\n",
       "    .dataframe tbody tr th:only-of-type {\n",
       "        vertical-align: middle;\n",
       "    }\n",
       "\n",
       "    .dataframe tbody tr th {\n",
       "        vertical-align: top;\n",
       "    }\n",
       "\n",
       "    .dataframe thead th {\n",
       "        text-align: right;\n",
       "    }\n",
       "</style>\n",
       "<table border=\"1\" class=\"dataframe\">\n",
       "  <thead>\n",
       "    <tr style=\"text-align: right;\">\n",
       "      <th></th>\n",
       "      <th>population</th>\n",
       "      <th>growth</th>\n",
       "      <th>households</th>\n",
       "      <th>median_age</th>\n",
       "      <th>per_cap_income</th>\n",
       "      <th>hh_income</th>\n",
       "      <th>unempl_rate</th>\n",
       "      <th>poverty_rate</th>\n",
       "      <th>hs_rate</th>\n",
       "      <th>college_rate</th>\n",
       "      <th>density</th>\n",
       "      <th>white_rate</th>\n",
       "      <th>hisp_rate</th>\n",
       "    </tr>\n",
       "    <tr>\n",
       "      <th>close_elect</th>\n",
       "      <th></th>\n",
       "      <th></th>\n",
       "      <th></th>\n",
       "      <th></th>\n",
       "      <th></th>\n",
       "      <th></th>\n",
       "      <th></th>\n",
       "      <th></th>\n",
       "      <th></th>\n",
       "      <th></th>\n",
       "      <th></th>\n",
       "      <th></th>\n",
       "      <th></th>\n",
       "    </tr>\n",
       "  </thead>\n",
       "  <tbody>\n",
       "    <tr>\n",
       "      <th>0</th>\n",
       "      <td>NaN</td>\n",
       "      <td>NaN</td>\n",
       "      <td>NaN</td>\n",
       "      <td>NaN</td>\n",
       "      <td>NaN</td>\n",
       "      <td>NaN</td>\n",
       "      <td>NaN</td>\n",
       "      <td>NaN</td>\n",
       "      <td>NaN</td>\n",
       "      <td>NaN</td>\n",
       "      <td>NaN</td>\n",
       "      <td>NaN</td>\n",
       "      <td>NaN</td>\n",
       "    </tr>\n",
       "    <tr>\n",
       "      <th>1</th>\n",
       "      <td>0.372243</td>\n",
       "      <td>0.584298</td>\n",
       "      <td>0.372175</td>\n",
       "      <td>-0.028621</td>\n",
       "      <td>0.018821</td>\n",
       "      <td>0.044682</td>\n",
       "      <td>-0.008833</td>\n",
       "      <td>-0.011606</td>\n",
       "      <td>0.016297</td>\n",
       "      <td>0.153486</td>\n",
       "      <td>0.117086</td>\n",
       "      <td>-0.048906</td>\n",
       "      <td>0.035309</td>\n",
       "    </tr>\n",
       "  </tbody>\n",
       "</table>\n",
       "</div>"
      ],
      "text/plain": [
       "             population    growth  households  median_age  per_cap_income  \\\n",
       "close_elect                                                                 \n",
       "0                   NaN       NaN         NaN         NaN             NaN   \n",
       "1              0.372243  0.584298    0.372175   -0.028621        0.018821   \n",
       "\n",
       "             hh_income  unempl_rate  poverty_rate   hs_rate  college_rate  \\\n",
       "close_elect                                                                 \n",
       "0                  NaN          NaN           NaN       NaN           NaN   \n",
       "1             0.044682    -0.008833     -0.011606  0.016297      0.153486   \n",
       "\n",
       "              density  white_rate  hisp_rate  \n",
       "close_elect                                   \n",
       "0                 NaN         NaN        NaN  \n",
       "1            0.117086   -0.048906   0.035309  "
      ]
     },
     "execution_count": 344,
     "metadata": {},
     "output_type": "execute_result"
    }
   ],
   "source": [
    "cls_feat.div(cls_feat.sum()).diff()"
   ]
  },
  {
   "cell_type": "code",
   "execution_count": 345,
   "metadata": {},
   "outputs": [
    {
     "data": {
      "text/plain": [
       "population        0.372243\n",
       "growth            0.584298\n",
       "households        0.372175\n",
       "median_age       -0.028621\n",
       "per_cap_income    0.018821\n",
       "hh_income         0.044682\n",
       "unempl_rate      -0.008833\n",
       "poverty_rate     -0.011606\n",
       "hs_rate           0.016297\n",
       "college_rate      0.153486\n",
       "density           0.117086\n",
       "white_rate       -0.048906\n",
       "hisp_rate         0.035309\n",
       "Name: 1, dtype: float64"
      ]
     },
     "execution_count": 345,
     "metadata": {},
     "output_type": "execute_result"
    }
   ],
   "source": [
    "cls_feat.div(cls_feat.sum()).diff().iloc[1, :]"
   ]
  },
  {
   "cell_type": "code",
   "execution_count": null,
   "metadata": {},
   "outputs": [],
   "source": []
  }
 ],
 "metadata": {
  "kernelspec": {
   "display_name": "Python 3",
   "language": "python",
   "name": "python3"
  },
  "language_info": {
   "codemirror_mode": {
    "name": "ipython",
    "version": 3
   },
   "file_extension": ".py",
   "mimetype": "text/x-python",
   "name": "python",
   "nbconvert_exporter": "python",
   "pygments_lexer": "ipython3",
   "version": "3.6.5"
  }
 },
 "nbformat": 4,
 "nbformat_minor": 2
}
