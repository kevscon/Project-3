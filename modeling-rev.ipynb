{
 "cells": [
  {
   "cell_type": "markdown",
   "metadata": {},
   "source": [
    "This notebook models classifiers to detect if a given county is a close result in the 2016 election (labeled \"swing\") or not (labeled \"safe\"). Interpretable models will be used to investigate which features indicate a battleground county."
   ]
  },
  {
   "cell_type": "markdown",
   "metadata": {},
   "source": [
    "# Imports"
   ]
  },
  {
   "cell_type": "code",
   "execution_count": 1,
   "metadata": {},
   "outputs": [],
   "source": [
    "import numpy as np\n",
    "import pandas as pd\n",
    "import matplotlib.pyplot as plt\n",
    "import seaborn as sns"
   ]
  },
  {
   "cell_type": "markdown",
   "metadata": {},
   "source": [
    "## sklearn"
   ]
  },
  {
   "cell_type": "code",
   "execution_count": 2,
   "metadata": {},
   "outputs": [],
   "source": [
    "from sklearn.model_selection import train_test_split\n",
    "from sklearn import preprocessing\n",
    "from sklearn.pipeline import Pipeline\n",
    "from sklearn import metrics\n",
    "from sklearn.metrics import precision_recall_curve\n",
    "from sklearn.metrics import roc_curve\n",
    "from sklearn.metrics import roc_auc_score\n",
    "# tuning\n",
    "from sklearn.model_selection import GridSearchCV\n",
    "# pca\n",
    "from sklearn import decomposition\n",
    "# models\n",
    "from sklearn.linear_model import LogisticRegression"
   ]
  },
  {
   "cell_type": "markdown",
   "metadata": {},
   "source": [
    "## other"
   ]
  },
  {
   "cell_type": "code",
   "execution_count": 3,
   "metadata": {},
   "outputs": [],
   "source": [
    "# upsampling\n",
    "from imblearn import over_sampling\n",
    "from imblearn.pipeline import Pipeline as imbPipeline"
   ]
  },
  {
   "cell_type": "markdown",
   "metadata": {},
   "source": [
    "## Plot Settings"
   ]
  },
  {
   "cell_type": "code",
   "execution_count": 4,
   "metadata": {},
   "outputs": [],
   "source": [
    "# format style\n",
    "plt.style.use('fivethirtyeight')\n",
    "# lineweight\n",
    "plt.rc('lines', linewidth=3)\n",
    "# figure size\n",
    "plt.rc('figure', figsize=(12, 7))\n",
    "# title fontsize\n",
    "plt.rc('axes', titlesize=22) \n",
    "# axes label fontsize\n",
    "plt.rc('axes', labelsize=18)\n",
    "# axes values fontsize\n",
    "plt.rc('xtick', labelsize=12)\n",
    "plt.rc('ytick', labelsize=12)\n",
    "# legend fontsize\n",
    "plt.rc('legend', fontsize=16)"
   ]
  },
  {
   "cell_type": "markdown",
   "metadata": {},
   "source": [
    "# Custom Functions"
   ]
  },
  {
   "cell_type": "markdown",
   "metadata": {},
   "source": [
    "## Space Log\n",
    "Return range of numbers between two values in a log scale"
   ]
  },
  {
   "cell_type": "code",
   "execution_count": 5,
   "metadata": {},
   "outputs": [],
   "source": [
    "def space_log(start, stop, number):\n",
    "    return(np.exp(np.linspace(np.log(start), np.log(stop), number)))"
   ]
  },
  {
   "cell_type": "markdown",
   "metadata": {},
   "source": [
    "# Data"
   ]
  },
  {
   "cell_type": "code",
   "execution_count": 6,
   "metadata": {},
   "outputs": [
    {
     "data": {
      "text/html": [
       "<div>\n",
       "<style scoped>\n",
       "    .dataframe tbody tr th:only-of-type {\n",
       "        vertical-align: middle;\n",
       "    }\n",
       "\n",
       "    .dataframe tbody tr th {\n",
       "        vertical-align: top;\n",
       "    }\n",
       "\n",
       "    .dataframe thead th {\n",
       "        text-align: right;\n",
       "    }\n",
       "</style>\n",
       "<table border=\"1\" class=\"dataframe\">\n",
       "  <thead>\n",
       "    <tr style=\"text-align: right;\">\n",
       "      <th></th>\n",
       "      <th>population</th>\n",
       "      <th>growth</th>\n",
       "      <th>households</th>\n",
       "      <th>median_age</th>\n",
       "      <th>per_cap_income</th>\n",
       "      <th>hh_income</th>\n",
       "      <th>unempl_rate</th>\n",
       "      <th>poverty_rate</th>\n",
       "      <th>hs_rate</th>\n",
       "      <th>college_rate</th>\n",
       "      <th>density</th>\n",
       "      <th>white_rate</th>\n",
       "      <th>hisp_rate</th>\n",
       "      <th>close_elect</th>\n",
       "    </tr>\n",
       "  </thead>\n",
       "  <tbody>\n",
       "    <tr>\n",
       "      <th>0</th>\n",
       "      <td>55504.0</td>\n",
       "      <td>1.7</td>\n",
       "      <td>20800.0</td>\n",
       "      <td>37.8</td>\n",
       "      <td>39721.0</td>\n",
       "      <td>54487.0</td>\n",
       "      <td>3.9</td>\n",
       "      <td>13.5</td>\n",
       "      <td>87.6</td>\n",
       "      <td>24.6</td>\n",
       "      <td>93.371913</td>\n",
       "      <td>0.762305</td>\n",
       "      <td>0.025512</td>\n",
       "      <td>0</td>\n",
       "    </tr>\n",
       "    <tr>\n",
       "      <th>1</th>\n",
       "      <td>212628.0</td>\n",
       "      <td>16.7</td>\n",
       "      <td>75149.0</td>\n",
       "      <td>42.3</td>\n",
       "      <td>41286.0</td>\n",
       "      <td>56460.0</td>\n",
       "      <td>4.0</td>\n",
       "      <td>11.7</td>\n",
       "      <td>90.0</td>\n",
       "      <td>29.5</td>\n",
       "      <td>133.746808</td>\n",
       "      <td>0.810999</td>\n",
       "      <td>0.040973</td>\n",
       "      <td>0</td>\n",
       "    </tr>\n",
       "    <tr>\n",
       "      <th>2</th>\n",
       "      <td>25270.0</td>\n",
       "      <td>-8.0</td>\n",
       "      <td>9122.0</td>\n",
       "      <td>38.7</td>\n",
       "      <td>31788.0</td>\n",
       "      <td>32884.0</td>\n",
       "      <td>5.9</td>\n",
       "      <td>29.9</td>\n",
       "      <td>73.8</td>\n",
       "      <td>12.9</td>\n",
       "      <td>28.557545</td>\n",
       "      <td>0.491888</td>\n",
       "      <td>0.045390</td>\n",
       "      <td>0</td>\n",
       "    </tr>\n",
       "    <tr>\n",
       "      <th>3</th>\n",
       "      <td>22668.0</td>\n",
       "      <td>-1.1</td>\n",
       "      <td>7048.0</td>\n",
       "      <td>40.2</td>\n",
       "      <td>29264.0</td>\n",
       "      <td>43079.0</td>\n",
       "      <td>4.4</td>\n",
       "      <td>20.1</td>\n",
       "      <td>80.7</td>\n",
       "      <td>12.0</td>\n",
       "      <td>36.409779</td>\n",
       "      <td>0.766278</td>\n",
       "      <td>0.022146</td>\n",
       "      <td>0</td>\n",
       "    </tr>\n",
       "    <tr>\n",
       "      <th>4</th>\n",
       "      <td>58013.0</td>\n",
       "      <td>1.2</td>\n",
       "      <td>20619.0</td>\n",
       "      <td>40.8</td>\n",
       "      <td>31470.0</td>\n",
       "      <td>47213.0</td>\n",
       "      <td>4.0</td>\n",
       "      <td>14.1</td>\n",
       "      <td>80.0</td>\n",
       "      <td>13.0</td>\n",
       "      <td>89.973324</td>\n",
       "      <td>0.949322</td>\n",
       "      <td>0.086808</td>\n",
       "      <td>0</td>\n",
       "    </tr>\n",
       "  </tbody>\n",
       "</table>\n",
       "</div>"
      ],
      "text/plain": [
       "   population  growth  households  median_age  per_cap_income  hh_income  \\\n",
       "0     55504.0     1.7     20800.0        37.8         39721.0    54487.0   \n",
       "1    212628.0    16.7     75149.0        42.3         41286.0    56460.0   \n",
       "2     25270.0    -8.0      9122.0        38.7         31788.0    32884.0   \n",
       "3     22668.0    -1.1      7048.0        40.2         29264.0    43079.0   \n",
       "4     58013.0     1.2     20619.0        40.8         31470.0    47213.0   \n",
       "\n",
       "   unempl_rate  poverty_rate  hs_rate  college_rate     density  white_rate  \\\n",
       "0          3.9          13.5     87.6          24.6   93.371913    0.762305   \n",
       "1          4.0          11.7     90.0          29.5  133.746808    0.810999   \n",
       "2          5.9          29.9     73.8          12.9   28.557545    0.491888   \n",
       "3          4.4          20.1     80.7          12.0   36.409779    0.766278   \n",
       "4          4.0          14.1     80.0          13.0   89.973324    0.949322   \n",
       "\n",
       "   hisp_rate  close_elect  \n",
       "0   0.025512            0  \n",
       "1   0.040973            0  \n",
       "2   0.045390            0  \n",
       "3   0.022146            0  \n",
       "4   0.086808            0  "
      ]
     },
     "execution_count": 6,
     "metadata": {},
     "output_type": "execute_result"
    }
   ],
   "source": [
    "df = pd.read_pickle('data/dataframe.pkl')\n",
    "df.head()"
   ]
  },
  {
   "cell_type": "markdown",
   "metadata": {},
   "source": [
    "## NaN values"
   ]
  },
  {
   "cell_type": "code",
   "execution_count": 7,
   "metadata": {},
   "outputs": [],
   "source": [
    "# drop rows with nans\n",
    "df = df.dropna()"
   ]
  },
  {
   "cell_type": "markdown",
   "metadata": {},
   "source": [
    "## EDA"
   ]
  },
  {
   "cell_type": "code",
   "execution_count": 8,
   "metadata": {},
   "outputs": [],
   "source": [
    "# sns.pairplot(df);"
   ]
  },
  {
   "cell_type": "code",
   "execution_count": 9,
   "metadata": {},
   "outputs": [
    {
     "data": {
      "text/html": [
       "<div>\n",
       "<style scoped>\n",
       "    .dataframe tbody tr th:only-of-type {\n",
       "        vertical-align: middle;\n",
       "    }\n",
       "\n",
       "    .dataframe tbody tr th {\n",
       "        vertical-align: top;\n",
       "    }\n",
       "\n",
       "    .dataframe thead th {\n",
       "        text-align: right;\n",
       "    }\n",
       "</style>\n",
       "<table border=\"1\" class=\"dataframe\">\n",
       "  <thead>\n",
       "    <tr style=\"text-align: right;\">\n",
       "      <th></th>\n",
       "      <th>population</th>\n",
       "      <th>growth</th>\n",
       "      <th>households</th>\n",
       "      <th>median_age</th>\n",
       "      <th>per_cap_income</th>\n",
       "      <th>hh_income</th>\n",
       "      <th>unempl_rate</th>\n",
       "      <th>poverty_rate</th>\n",
       "      <th>hs_rate</th>\n",
       "      <th>college_rate</th>\n",
       "      <th>density</th>\n",
       "      <th>white_rate</th>\n",
       "      <th>hisp_rate</th>\n",
       "    </tr>\n",
       "    <tr>\n",
       "      <th>close_elect</th>\n",
       "      <th></th>\n",
       "      <th></th>\n",
       "      <th></th>\n",
       "      <th></th>\n",
       "      <th></th>\n",
       "      <th></th>\n",
       "      <th></th>\n",
       "      <th></th>\n",
       "      <th></th>\n",
       "      <th></th>\n",
       "      <th></th>\n",
       "      <th></th>\n",
       "      <th></th>\n",
       "    </tr>\n",
       "  </thead>\n",
       "  <tbody>\n",
       "    <tr>\n",
       "      <th>0</th>\n",
       "      <td>97754.622861</td>\n",
       "      <td>0.673854</td>\n",
       "      <td>35383.793292</td>\n",
       "      <td>41.180151</td>\n",
       "      <td>40647.942847</td>\n",
       "      <td>49173.193018</td>\n",
       "      <td>4.611328</td>\n",
       "      <td>15.914203</td>\n",
       "      <td>85.657392</td>\n",
       "      <td>20.269884</td>\n",
       "      <td>251.164202</td>\n",
       "      <td>0.838362</td>\n",
       "      <td>0.088684</td>\n",
       "    </tr>\n",
       "    <tr>\n",
       "      <th>1</th>\n",
       "      <td>213686.159236</td>\n",
       "      <td>2.568153</td>\n",
       "      <td>77334.891720</td>\n",
       "      <td>38.888535</td>\n",
       "      <td>42207.388535</td>\n",
       "      <td>53773.019108</td>\n",
       "      <td>4.530573</td>\n",
       "      <td>15.549045</td>\n",
       "      <td>88.495541</td>\n",
       "      <td>27.620382</td>\n",
       "      <td>317.779807</td>\n",
       "      <td>0.760183</td>\n",
       "      <td>0.095176</td>\n",
       "    </tr>\n",
       "  </tbody>\n",
       "</table>\n",
       "</div>"
      ],
      "text/plain": [
       "                population    growth    households  median_age  \\\n",
       "close_elect                                                      \n",
       "0             97754.622861  0.673854  35383.793292   41.180151   \n",
       "1            213686.159236  2.568153  77334.891720   38.888535   \n",
       "\n",
       "             per_cap_income     hh_income  unempl_rate  poverty_rate  \\\n",
       "close_elect                                                            \n",
       "0              40647.942847  49173.193018     4.611328     15.914203   \n",
       "1              42207.388535  53773.019108     4.530573     15.549045   \n",
       "\n",
       "               hs_rate  college_rate     density  white_rate  hisp_rate  \n",
       "close_elect                                                              \n",
       "0            85.657392     20.269884  251.164202    0.838362   0.088684  \n",
       "1            88.495541     27.620382  317.779807    0.760183   0.095176  "
      ]
     },
     "execution_count": 9,
     "metadata": {},
     "output_type": "execute_result"
    }
   ],
   "source": [
    "# inspect mean values of features for not-close vs close outcomes\n",
    "df.groupby('close_elect').mean()"
   ]
  },
  {
   "cell_type": "code",
   "execution_count": 10,
   "metadata": {},
   "outputs": [],
   "source": [
    "close = (df['close_elect'] == 1).sum()\n",
    "not_close = (df['close_elect'] == 0).sum()"
   ]
  },
  {
   "cell_type": "code",
   "execution_count": 11,
   "metadata": {},
   "outputs": [
    {
     "data": {
      "text/plain": [
       "0.9490094186424164"
      ]
     },
     "execution_count": 11,
     "metadata": {},
     "output_type": "execute_result"
    }
   ],
   "source": [
    "# baseline, null model accuracy - guess '0' every time\n",
    "(df['close_elect'] == 0).sum() / len(df)"
   ]
  },
  {
   "cell_type": "code",
   "execution_count": 12,
   "metadata": {},
   "outputs": [
    {
     "data": {
      "image/png": "[encoded data removed]",
      "text/plain": [
       "<Figure size 864x504 with 1 Axes>"
      ]
     },
     "metadata": {},
     "output_type": "display_data"
    }
   ],
   "source": [
    "# plot pie chart\n",
    "\n",
    "sizes = [not_close, close]\n",
    "explode = (0, 0.1)\n",
    "colors = ['black', 'purple']\n",
    "\n",
    "fig, ax = plt.subplots()\n",
    "ax.pie(sizes, labels=['Safe', 'Swing'], explode=explode, colors=colors,\n",
    "        shadow=True, startangle=90)\n",
    "ax.axis('equal') # circle shape\n",
    "ax.set_title('County Class Representation')\n",
    "ax.legend();\n",
    "\n",
    "# plt.savefig(\"presentation/class_rep.png\");"
   ]
  },
  {
   "cell_type": "markdown",
   "metadata": {},
   "source": [
    "**Notes**\n",
    "- Data is extremely unbalanced  \n",
    "- \"Safe\" counties are much more prevalent in data (about 95% of observations)\n",
    "- A model could attain 95% accuracy by always predicting \"safe\" counties!"
   ]
  },
  {
   "cell_type": "markdown",
   "metadata": {},
   "source": [
    "# Pre-processing"
   ]
  },
  {
   "cell_type": "code",
   "execution_count": 13,
   "metadata": {},
   "outputs": [],
   "source": [
    "# initialize feature dataframe and observed outcome\n",
    "X = df.iloc[:, 0:13]\n",
    "y = df.iloc[:, 13]"
   ]
  },
  {
   "cell_type": "markdown",
   "metadata": {},
   "source": [
    "## Train/test Split"
   ]
  },
  {
   "cell_type": "code",
   "execution_count": 14,
   "metadata": {},
   "outputs": [],
   "source": [
    "X_train, X_test, y_train, y_test = train_test_split(X, y, test_size=0.25, random_state=0)"
   ]
  },
  {
   "cell_type": "markdown",
   "metadata": {},
   "source": [
    "## Scaling"
   ]
  },
  {
   "cell_type": "code",
   "execution_count": 15,
   "metadata": {},
   "outputs": [],
   "source": [
    "# scale data to have mean = 0 and variance = 1\n",
    "scaler = preprocessing.StandardScaler()\n",
    "X_train_scl = scaler.fit_transform(X_train)\n",
    "X_test_scl = scaler.transform(X_test)"
   ]
  },
  {
   "cell_type": "markdown",
   "metadata": {},
   "source": [
    "## Principle Component Analysis (PCA)\n",
    "Reduce dimensionality of data to 2-D so that grouping trends can potentially be visualized"
   ]
  },
  {
   "cell_type": "code",
   "execution_count": 16,
   "metadata": {},
   "outputs": [],
   "source": [
    "# decomposition to 2-D\n",
    "pca = decomposition.PCA(n_components=2)\n",
    "pca_features = pca.fit_transform(X_train_scl)"
   ]
  },
  {
   "cell_type": "code",
   "execution_count": 17,
   "metadata": {},
   "outputs": [
    {
     "data": {
      "image/png": "[encoded data removed]",
      "text/plain": [
       "<Figure size 864x504 with 1 Axes>"
      ]
     },
     "metadata": {},
     "output_type": "display_data"
    }
   ],
   "source": [
    "# plot components\n",
    "class_labels = ['Safe', 'Swing']\n",
    "colors = ['black', 'purple']\n",
    "\n",
    "plt.figure()\n",
    "for i, label in enumerate(class_labels):\n",
    "    plt.scatter(pca_features[y_train == i, 0], pca_features[y_train == i, 1],\n",
    "                label=label, c=colors[i])\n",
    "plt.xlabel('Principle Component 1')\n",
    "plt.ylabel('Principle Component 2')\n",
    "plt.title('PCA of County Features')\n",
    "plt.xticks([]) # component valuables not interpretable\n",
    "plt.yticks([]) # component valuables not interpretable\n",
    "plt.legend();"
   ]
  },
  {
   "cell_type": "markdown",
   "metadata": {},
   "source": [
    "# Logistic Regression Modeling"
   ]
  },
  {
   "cell_type": "markdown",
   "metadata": {},
   "source": [
    "## Initial Model"
   ]
  },
  {
   "cell_type": "code",
   "execution_count": 18,
   "metadata": {},
   "outputs": [],
   "source": [
    "# model pipeline includes scaling\n",
    "log_pipe = Pipeline([\n",
    "    ('scaler', preprocessing.StandardScaler()),\n",
    "    ('model', LogisticRegression())\n",
    "])"
   ]
  },
  {
   "cell_type": "code",
   "execution_count": 19,
   "metadata": {},
   "outputs": [],
   "source": [
    "log_pipe.fit(X_train, y_train)\n",
    "log_pred = log_pipe.predict(X_test)"
   ]
  },
  {
   "cell_type": "code",
   "execution_count": 20,
   "metadata": {},
   "outputs": [
    {
     "name": "stdout",
     "output_type": "stream",
     "text": [
      "             precision    recall  f1-score   support\n",
      "\n",
      "          0       0.95      1.00      0.97       729\n",
      "          1       0.00      0.00      0.00        41\n",
      "\n",
      "avg / total       0.90      0.95      0.92       770\n",
      "\n"
     ]
    },
    {
     "name": "stderr",
     "output_type": "stream",
     "text": [
      "/home/kevcon/anaconda3/lib/python3.6/site-packages/sklearn/metrics/classification.py:1135: UndefinedMetricWarning: Precision and F-score are ill-defined and being set to 0.0 in labels with no predicted samples.\n",
      "  'precision', 'predicted', average, warn_for)\n"
     ]
    }
   ],
   "source": [
    "print(metrics.classification_report(y_test, log_pred))"
   ]
  },
  {
   "cell_type": "code",
   "execution_count": 21,
   "metadata": {},
   "outputs": [
    {
     "data": {
      "text/plain": [
       "array([[729,   0],\n",
       "       [ 41,   0]])"
      ]
     },
     "execution_count": 21,
     "metadata": {},
     "output_type": "execute_result"
    }
   ],
   "source": [
    "metrics.confusion_matrix(y_test, log_pred)"
   ]
  },
  {
   "cell_type": "markdown",
   "metadata": {},
   "source": [
    "**Notes**\n",
    "- model does not accurately predict any swing counties  \n",
    "    - this is a result of the severe imbalance of classes in the dataset\n",
    "- recall is to be prioritized\n",
    "    - this will help the model capture more swing counties (label 1)\n",
    "    - may result in more false positives and reduced overall accuracy"
   ]
  },
  {
   "cell_type": "markdown",
   "metadata": {},
   "source": [
    "## Tuning with GridSearch\n",
    "Tune model hyperparameter for optimal model performance"
   ]
  },
  {
   "cell_type": "code",
   "execution_count": 22,
   "metadata": {},
   "outputs": [],
   "source": [
    "# try range of values for C and penalty hyperparameters\n",
    "hyperparams = {'model__penalty':['l1', 'l2'], 'model__C': space_log(0.001, 100, 15)}"
   ]
  },
  {
   "cell_type": "code",
   "execution_count": 23,
   "metadata": {},
   "outputs": [],
   "source": [
    "# tune model pipeline for recall\n",
    "log_gs = GridSearchCV(log_pipe, hyperparams, cv=10, scoring='recall')"
   ]
  },
  {
   "cell_type": "code",
   "execution_count": 24,
   "metadata": {},
   "outputs": [
    {
     "data": {
      "text/plain": [
       "GridSearchCV(cv=10, error_score='raise',\n",
       "       estimator=Pipeline(memory=None,\n",
       "     steps=[('scaler', StandardScaler(copy=True, with_mean=True, with_std=True)), ('model', LogisticRegression(C=1.0, class_weight=None, dual=False, fit_intercept=True,\n",
       "          intercept_scaling=1, max_iter=100, multi_class='ovr', n_jobs=1,\n",
       "          penalty='l2', random_state=None, solver='liblinear', tol=0.0001,\n",
       "          verbose=0, warm_start=False))]),\n",
       "       fit_params=None, iid=True, n_jobs=1,\n",
       "       param_grid={'model__penalty': ['l1', 'l2'], 'model__C': array([1.00000e-03, 2.27585e-03, 5.17947e-03, 1.17877e-02, 2.68270e-02,\n",
       "       6.10540e-02, 1.38950e-01, 3.16228e-01, 7.19686e-01, 1.63789e+00,\n",
       "       3.72759e+00, 8.48343e+00, 1.93070e+01, 4.39397e+01, 1.00000e+02])},\n",
       "       pre_dispatch='2*n_jobs', refit=True, return_train_score='warn',\n",
       "       scoring='recall', verbose=0)"
      ]
     },
     "execution_count": 24,
     "metadata": {},
     "output_type": "execute_result"
    }
   ],
   "source": [
    "log_gs.fit(X_train, y_train)"
   ]
  },
  {
   "cell_type": "code",
   "execution_count": 25,
   "metadata": {},
   "outputs": [],
   "source": [
    "# assign best hyperparameter values from tuning\n",
    "best_penalty = log_gs.best_params_['model__penalty']\n",
    "best_C = log_gs.best_params_['model__C']"
   ]
  },
  {
   "cell_type": "code",
   "execution_count": 26,
   "metadata": {},
   "outputs": [],
   "source": [
    "# model pipeline with optimal hyperparameters\n",
    "log_pipe = Pipeline([\n",
    "    ('scaler', preprocessing.StandardScaler()),\n",
    "    ('model', LogisticRegression(penalty=best_penalty, C=best_C))\n",
    "])"
   ]
  },
  {
   "cell_type": "code",
   "execution_count": 27,
   "metadata": {},
   "outputs": [],
   "source": [
    "log_pipe.fit(X_train, y_train)\n",
    "log_pred = log_pipe.predict(X_test)"
   ]
  },
  {
   "cell_type": "code",
   "execution_count": 28,
   "metadata": {},
   "outputs": [
    {
     "name": "stdout",
     "output_type": "stream",
     "text": [
      "             precision    recall  f1-score   support\n",
      "\n",
      "          0       0.95      1.00      0.97       729\n",
      "          1       0.00      0.00      0.00        41\n",
      "\n",
      "avg / total       0.90      0.95      0.92       770\n",
      "\n"
     ]
    },
    {
     "name": "stderr",
     "output_type": "stream",
     "text": [
      "/home/kevcon/anaconda3/lib/python3.6/site-packages/sklearn/metrics/classification.py:1135: UndefinedMetricWarning: Precision and F-score are ill-defined and being set to 0.0 in labels with no predicted samples.\n",
      "  'precision', 'predicted', average, warn_for)\n"
     ]
    }
   ],
   "source": [
    "print(metrics.classification_report(y_test, log_pred))"
   ]
  },
  {
   "cell_type": "code",
   "execution_count": 29,
   "metadata": {},
   "outputs": [
    {
     "data": {
      "text/plain": [
       "array([[729,   0],\n",
       "       [ 41,   0]])"
      ]
     },
     "execution_count": 29,
     "metadata": {},
     "output_type": "execute_result"
    }
   ],
   "source": [
    "metrics.confusion_matrix(y_test, log_pred)"
   ]
  },
  {
   "cell_type": "markdown",
   "metadata": {},
   "source": [
    "**Notes**  \n",
    "Tuning did not increase recall for swing counties"
   ]
  },
  {
   "cell_type": "markdown",
   "metadata": {},
   "source": [
    "## Balanced Weights\n",
    "Modifies \"weights\" of classes in algorithm's cost function to place greater importance on minority class  \n",
    "Balanced weights are inversly proportional to the frequency of class observations"
   ]
  },
  {
   "cell_type": "code",
   "execution_count": 30,
   "metadata": {},
   "outputs": [],
   "source": [
    "# model pipeline with class weights set to balanced\n",
    "log_pipe = Pipeline([\n",
    "    ('scaler', preprocessing.StandardScaler()),\n",
    "    ('model', LogisticRegression(class_weight='balanced'))\n",
    "])"
   ]
  },
  {
   "cell_type": "code",
   "execution_count": 31,
   "metadata": {},
   "outputs": [],
   "source": [
    "log_pipe.fit(X_train, y_train)\n",
    "log_predict = log_pipe.predict(X_test)"
   ]
  },
  {
   "cell_type": "code",
   "execution_count": 32,
   "metadata": {},
   "outputs": [
    {
     "name": "stdout",
     "output_type": "stream",
     "text": [
      "             precision    recall  f1-score   support\n",
      "\n",
      "          0       0.98      0.77      0.86       729\n",
      "          1       0.15      0.71      0.24        41\n",
      "\n",
      "avg / total       0.93      0.77      0.83       770\n",
      "\n"
     ]
    }
   ],
   "source": [
    "print(metrics.classification_report(y_test, log_predict))"
   ]
  },
  {
   "cell_type": "code",
   "execution_count": 33,
   "metadata": {},
   "outputs": [
    {
     "data": {
      "text/plain": [
       "array([[562, 167],\n",
       "       [ 12,  29]])"
      ]
     },
     "execution_count": 33,
     "metadata": {},
     "output_type": "execute_result"
    }
   ],
   "source": [
    "metrics.confusion_matrix(y_test, log_predict)"
   ]
  },
  {
   "cell_type": "markdown",
   "metadata": {},
   "source": [
    "**Notes**  \n",
    "This greatly increased recall for label 1 classification  \n",
    "Try tuning this model"
   ]
  },
  {
   "cell_type": "code",
   "execution_count": 34,
   "metadata": {},
   "outputs": [],
   "source": [
    "hyperparams = {'model__penalty':['l1', 'l2'], 'model__C': space_log(0.001, 100, 15)}\n",
    "log_gs = GridSearchCV(log_pipe, hyperparams, cv=10, scoring='recall')\n",
    "log_gs.fit(X_train, y_train)\n",
    "best_penalty_bal = log_gs.best_params_['model__penalty']\n",
    "best_C_bal = log_gs.best_params_['model__C']"
   ]
  },
  {
   "cell_type": "code",
   "execution_count": 35,
   "metadata": {},
   "outputs": [],
   "source": [
    "# update hyperparameters in pipeline\n",
    "log_pipe = Pipeline([\n",
    "    ('scaler', preprocessing.StandardScaler()),\n",
    "    ('model', LogisticRegression(penalty=best_penalty_bal, C=best_C_bal, class_weight='balanced'))\n",
    "])"
   ]
  },
  {
   "cell_type": "code",
   "execution_count": 36,
   "metadata": {},
   "outputs": [],
   "source": [
    "log_pipe.fit(X_train, y_train)\n",
    "log_pred = log_pipe.predict(X_test)"
   ]
  },
  {
   "cell_type": "code",
   "execution_count": 37,
   "metadata": {},
   "outputs": [
    {
     "name": "stdout",
     "output_type": "stream",
     "text": [
      "             precision    recall  f1-score   support\n",
      "\n",
      "          0       0.98      0.71      0.82       729\n",
      "          1       0.13      0.78      0.22        41\n",
      "\n",
      "avg / total       0.94      0.71      0.79       770\n",
      "\n"
     ]
    }
   ],
   "source": [
    "print(metrics.classification_report(y_test, log_pred))"
   ]
  },
  {
   "cell_type": "code",
   "execution_count": 38,
   "metadata": {},
   "outputs": [
    {
     "data": {
      "text/plain": [
       "array([[516, 213],\n",
       "       [  9,  32]])"
      ]
     },
     "execution_count": 38,
     "metadata": {},
     "output_type": "execute_result"
    }
   ],
   "source": [
    "metrics.confusion_matrix(y_test, log_pred)"
   ]
  },
  {
   "cell_type": "markdown",
   "metadata": {},
   "source": [
    "**Notes**  \n",
    "Model performance increased with tuning"
   ]
  },
  {
   "cell_type": "markdown",
   "metadata": {},
   "source": [
    "## Synthetic Minority Over-sampling Technique (SMOTE)\n",
    "Oversampling method that generates synthetic samples of the minority class"
   ]
  },
  {
   "cell_type": "code",
   "execution_count": 39,
   "metadata": {},
   "outputs": [],
   "source": [
    "# model pipeline with SMOTE applied\n",
    "log_pipe = imbPipeline([\n",
    "    ('oversample', over_sampling.SMOTE(random_state=0)),\n",
    "    ('scaler', preprocessing.StandardScaler()),\n",
    "    ('model', LogisticRegression())    \n",
    "])"
   ]
  },
  {
   "cell_type": "code",
   "execution_count": 40,
   "metadata": {},
   "outputs": [],
   "source": [
    "log_pipe.fit(X_train, y_train)\n",
    "log_predict = log_pipe.predict(X_test)"
   ]
  },
  {
   "cell_type": "code",
   "execution_count": 41,
   "metadata": {},
   "outputs": [
    {
     "name": "stdout",
     "output_type": "stream",
     "text": [
      "             precision    recall  f1-score   support\n",
      "\n",
      "          0       0.97      0.78      0.86       729\n",
      "          1       0.13      0.59      0.21        41\n",
      "\n",
      "avg / total       0.93      0.76      0.83       770\n",
      "\n"
     ]
    }
   ],
   "source": [
    "print(metrics.classification_report(y_test, log_predict))"
   ]
  },
  {
   "cell_type": "code",
   "execution_count": 42,
   "metadata": {
    "scrolled": true
   },
   "outputs": [
    {
     "data": {
      "text/plain": [
       "array([[565, 164],\n",
       "       [ 17,  24]])"
      ]
     },
     "execution_count": 42,
     "metadata": {},
     "output_type": "execute_result"
    }
   ],
   "source": [
    "metrics.confusion_matrix(y_test, log_predict)"
   ]
  },
  {
   "cell_type": "markdown",
   "metadata": {},
   "source": [
    "**Notes**  \n",
    "This greatly increased recall for label 1 classification compared with initial model  \n",
    "Try tuning this model"
   ]
  },
  {
   "cell_type": "code",
   "execution_count": 43,
   "metadata": {},
   "outputs": [],
   "source": [
    "hyperparams = {'model__penalty':['l1', 'l2'], 'model__C': space_log(0.001, 100, 15)}\n",
    "log_gs = GridSearchCV(log_pipe, hyperparams, cv=10, scoring='recall')\n",
    "log_gs.fit(X_train, y_train)\n",
    "best_penalty_smt = log_gs.best_params_['model__penalty']\n",
    "best_C_smt = log_gs.best_params_['model__C']"
   ]
  },
  {
   "cell_type": "code",
   "execution_count": 44,
   "metadata": {},
   "outputs": [],
   "source": [
    "# update hyperparameters in pipeline\n",
    "log_pipe = imbPipeline([\n",
    "    ('oversample', over_sampling.SMOTE(random_state=0)),\n",
    "    ('scaler', preprocessing.StandardScaler()),\n",
    "    ('model', LogisticRegression(penalty=best_penalty_smt, C=best_C_smt))    \n",
    "])"
   ]
  },
  {
   "cell_type": "code",
   "execution_count": 45,
   "metadata": {},
   "outputs": [],
   "source": [
    "log_pipe.fit(X_train, y_train)\n",
    "log_pred = log_pipe.predict(X_test)"
   ]
  },
  {
   "cell_type": "code",
   "execution_count": 46,
   "metadata": {},
   "outputs": [
    {
     "name": "stdout",
     "output_type": "stream",
     "text": [
      "             precision    recall  f1-score   support\n",
      "\n",
      "          0       0.97      0.77      0.86       729\n",
      "          1       0.13      0.63      0.22        41\n",
      "\n",
      "avg / total       0.93      0.76      0.82       770\n",
      "\n"
     ]
    }
   ],
   "source": [
    "print(metrics.classification_report(y_test, log_pred))"
   ]
  },
  {
   "cell_type": "code",
   "execution_count": 47,
   "metadata": {},
   "outputs": [
    {
     "data": {
      "text/plain": [
       "array([[559, 170],\n",
       "       [ 15,  26]])"
      ]
     },
     "execution_count": 47,
     "metadata": {},
     "output_type": "execute_result"
    }
   ],
   "source": [
    "metrics.confusion_matrix(y_test, log_pred)"
   ]
  },
  {
   "cell_type": "markdown",
   "metadata": {},
   "source": [
    "**Notes**  \n",
    "Model performance increased with tuning"
   ]
  },
  {
   "cell_type": "markdown",
   "metadata": {},
   "source": [
    "## Final Model"
   ]
  },
  {
   "cell_type": "code",
   "execution_count": 48,
   "metadata": {},
   "outputs": [],
   "source": [
    "log_pipe = Pipeline([\n",
    "    ('scaler', preprocessing.StandardScaler()),\n",
    "    ('model', LogisticRegression(penalty=best_penalty_bal, C=best_C_bal, class_weight='balanced'))\n",
    "])"
   ]
  },
  {
   "cell_type": "code",
   "execution_count": 49,
   "metadata": {},
   "outputs": [],
   "source": [
    "log_pipe.fit(X_train, y_train)\n",
    "log_predict = log_pipe.predict(X_test)"
   ]
  },
  {
   "cell_type": "markdown",
   "metadata": {},
   "source": [
    "### Evaluation"
   ]
  },
  {
   "cell_type": "code",
   "execution_count": 50,
   "metadata": {},
   "outputs": [
    {
     "name": "stdout",
     "output_type": "stream",
     "text": [
      "             precision    recall  f1-score   support\n",
      "\n",
      "          0       0.98      0.71      0.82       729\n",
      "          1       0.13      0.78      0.22        41\n",
      "\n",
      "avg / total       0.94      0.71      0.79       770\n",
      "\n"
     ]
    }
   ],
   "source": [
    "print(metrics.classification_report(y_test, log_predict))"
   ]
  },
  {
   "cell_type": "code",
   "execution_count": 51,
   "metadata": {},
   "outputs": [
    {
     "data": {
      "text/plain": [
       "array([[516, 213],\n",
       "       [  9,  32]])"
      ]
     },
     "execution_count": 51,
     "metadata": {},
     "output_type": "execute_result"
    }
   ],
   "source": [
    "metrics.confusion_matrix(y_test, log_predict)"
   ]
  },
  {
   "cell_type": "code",
   "execution_count": 52,
   "metadata": {},
   "outputs": [],
   "source": [
    "# probabilities of swing county for each observation\n",
    "log_predict_proba = log_pipe.predict_proba(X_test)[:, 1]"
   ]
  },
  {
   "cell_type": "markdown",
   "metadata": {},
   "source": [
    "#### Precision-Recall"
   ]
  },
  {
   "cell_type": "code",
   "execution_count": 53,
   "metadata": {},
   "outputs": [],
   "source": [
    "# create precision recall curve data\n",
    "# returns precision, recall for range of thresholds\n",
    "log_pre, log_rec, log_thresh = precision_recall_curve(y_test, log_predict_proba)"
   ]
  },
  {
   "cell_type": "code",
   "execution_count": 54,
   "metadata": {},
   "outputs": [
    {
     "data": {
      "image/png": "[encoded data removed]",
      "text/plain": [
       "<Figure size 864x504 with 1 Axes>"
      ]
     },
     "metadata": {},
     "output_type": "display_data"
    }
   ],
   "source": [
    "plt.plot(np.append(log_thresh, 1), log_pre, label='precision')\n",
    "plt.plot(np.append(log_thresh, 1), log_rec, label='recall')\n",
    "plt.xlabel('Threshold')\n",
    "plt.ylabel('Threshold')\n",
    "plt.title('Precision-Recall Curve')\n",
    "plt.legend();"
   ]
  },
  {
   "cell_type": "markdown",
   "metadata": {},
   "source": [
    "#### Receiver Operating Characteristic (ROC)"
   ]
  },
  {
   "cell_type": "code",
   "execution_count": 55,
   "metadata": {},
   "outputs": [],
   "source": [
    "# create ROC curve data\n",
    "# returns false positive rate, true positive rate for range of thresholds\n",
    "log_fpr, log_tpr, log_thresh = roc_curve(y_test, log_predict_proba)"
   ]
  },
  {
   "cell_type": "code",
   "execution_count": 56,
   "metadata": {},
   "outputs": [
    {
     "data": {
      "image/png": "[encoded data removed]",
      "text/plain": [
       "<Figure size 864x504 with 1 Axes>"
      ]
     },
     "metadata": {},
     "output_type": "display_data"
    }
   ],
   "source": [
    "plt.plot(log_thresh, log_fpr, label='false positive rate')\n",
    "plt.plot(log_thresh, log_tpr, label='true positive rate')\n",
    "plt.xlabel('Threshold')\n",
    "plt.ylabel('Threshold')\n",
    "plt.title('ROC Curve')\n",
    "plt.legend();"
   ]
  },
  {
   "cell_type": "markdown",
   "metadata": {},
   "source": [
    "#### AUC Score"
   ]
  },
  {
   "cell_type": "code",
   "execution_count": 57,
   "metadata": {},
   "outputs": [
    {
     "data": {
      "text/plain": [
       "0.7865100873230955"
      ]
     },
     "execution_count": 57,
     "metadata": {},
     "output_type": "execute_result"
    }
   ],
   "source": [
    "roc_auc_score(y_test, log_predict_proba)"
   ]
  },
  {
   "cell_type": "code",
   "execution_count": null,
   "metadata": {},
   "outputs": [],
   "source": []
  },
  {
   "cell_type": "markdown",
   "metadata": {},
   "source": [
    "# OLD!"
   ]
  },
  {
   "cell_type": "code",
   "execution_count": 16,
   "metadata": {},
   "outputs": [],
   "source": [
    "from sklearn.model_selection import cross_val_score\n",
    "from sklearn.model_selection import cross_val_predict"
   ]
  },
  {
   "cell_type": "markdown",
   "metadata": {},
   "source": [
    "## Logistic Regression"
   ]
  },
  {
   "cell_type": "markdown",
   "metadata": {},
   "source": [
    "### Initial Model"
   ]
  },
  {
   "cell_type": "code",
   "execution_count": 21,
   "metadata": {},
   "outputs": [],
   "source": [
    "from sklearn.linear_model import LogisticRegression\n",
    "\n",
    "logreg = LogisticRegression()\n",
    "logreg.fit(X_train_mod, y_train_mod)\n",
    "y_pred = logreg.predict(X_test_mod)"
   ]
  },
  {
   "cell_type": "code",
   "execution_count": 22,
   "metadata": {},
   "outputs": [
    {
     "name": "stdout",
     "output_type": "stream",
     "text": [
      "             precision    recall  f1-score   support\n",
      "\n",
      "          0       0.95      1.00      0.97       876\n",
      "          1       0.00      0.00      0.00        48\n",
      "\n",
      "avg / total       0.90      0.95      0.92       924\n",
      "\n"
     ]
    },
    {
     "name": "stderr",
     "output_type": "stream",
     "text": [
      "/home/kevcon/anaconda3/lib/python3.6/site-packages/sklearn/metrics/classification.py:1135: UndefinedMetricWarning: Precision and F-score are ill-defined and being set to 0.0 in labels with no predicted samples.\n",
      "  'precision', 'predicted', average, warn_for)\n"
     ]
    }
   ],
   "source": [
    "print(metrics.classification_report(y_test_mod, y_pred))"
   ]
  },
  {
   "cell_type": "code",
   "execution_count": 23,
   "metadata": {},
   "outputs": [
    {
     "data": {
      "text/plain": [
       "array([[876,   0],\n",
       "       [ 48,   0]])"
      ]
     },
     "execution_count": 23,
     "metadata": {},
     "output_type": "execute_result"
    }
   ],
   "source": [
    "metrics.confusion_matrix(y_test_mod, y_pred)"
   ]
  },
  {
   "cell_type": "markdown",
   "metadata": {},
   "source": [
    "### Precision/Recall"
   ]
  },
  {
   "cell_type": "code",
   "execution_count": 24,
   "metadata": {},
   "outputs": [],
   "source": [
    "y_prob_logreg = logreg.predict_proba(X_test_mod)[:,1]"
   ]
  },
  {
   "cell_type": "code",
   "execution_count": 25,
   "metadata": {},
   "outputs": [],
   "source": [
    "# for plot\n",
    "\n",
    "logreg_p, logreg_r, logreg_t = precision_recall_curve(y_test_mod, y_prob_logreg)"
   ]
  },
  {
   "cell_type": "markdown",
   "metadata": {},
   "source": [
    "### Grid Search"
   ]
  },
  {
   "cell_type": "code",
   "execution_count": 26,
   "metadata": {},
   "outputs": [],
   "source": [
    "# try parameter on best model\n",
    "param_grid = {'C': np.logspace(-5, 5, 100)}\n",
    "grid_search = GridSearchCV(logreg, param_grid, cv=5, scoring=\"recall\")"
   ]
  },
  {
   "cell_type": "code",
   "execution_count": 27,
   "metadata": {},
   "outputs": [],
   "source": [
    "best_model = grid_search.fit(X_train_mod, y_train_mod)"
   ]
  },
  {
   "cell_type": "code",
   "execution_count": 28,
   "metadata": {},
   "outputs": [
    {
     "data": {
      "text/plain": [
       "{'C': 0.3511191734215127}"
      ]
     },
     "execution_count": 28,
     "metadata": {},
     "output_type": "execute_result"
    }
   ],
   "source": [
    "grid_search.best_params_"
   ]
  },
  {
   "cell_type": "code",
   "execution_count": 29,
   "metadata": {},
   "outputs": [],
   "source": [
    "logreg_grid = LogisticRegression(C=0.3511191734215127)\n",
    "logreg_grid.fit(X_train_mod, y_train_mod)\n",
    "y_pred = logreg_grid.predict(X_test_mod)"
   ]
  },
  {
   "cell_type": "code",
   "execution_count": 30,
   "metadata": {
    "scrolled": false
   },
   "outputs": [
    {
     "name": "stdout",
     "output_type": "stream",
     "text": [
      "             precision    recall  f1-score   support\n",
      "\n",
      "          0       0.95      1.00      0.97       876\n",
      "          1       0.00      0.00      0.00        48\n",
      "\n",
      "avg / total       0.90      0.95      0.92       924\n",
      "\n"
     ]
    },
    {
     "name": "stderr",
     "output_type": "stream",
     "text": [
      "/home/kevcon/anaconda3/lib/python3.6/site-packages/sklearn/metrics/classification.py:1135: UndefinedMetricWarning: Precision and F-score are ill-defined and being set to 0.0 in labels with no predicted samples.\n",
      "  'precision', 'predicted', average, warn_for)\n"
     ]
    }
   ],
   "source": [
    "print(metrics.classification_report(y_test_mod, y_pred))"
   ]
  },
  {
   "cell_type": "markdown",
   "metadata": {},
   "source": [
    "### Threshold Model"
   ]
  },
  {
   "cell_type": "code",
   "execution_count": 31,
   "metadata": {},
   "outputs": [],
   "source": [
    "y_pred_proba = logreg_grid.predict_proba(X_test_mod)"
   ]
  },
  {
   "cell_type": "code",
   "execution_count": 32,
   "metadata": {},
   "outputs": [],
   "source": [
    "y_pred = y_pred_proba >= 0.1"
   ]
  },
  {
   "cell_type": "code",
   "execution_count": 33,
   "metadata": {},
   "outputs": [
    {
     "name": "stdout",
     "output_type": "stream",
     "text": [
      "             precision    recall  f1-score   support\n",
      "\n",
      "          0       0.96      0.89      0.93       876\n",
      "          1       0.15      0.33      0.20        48\n",
      "\n",
      "avg / total       0.92      0.86      0.89       924\n",
      "\n"
     ]
    }
   ],
   "source": [
    "print(metrics.classification_report(y_test_mod, y_pred[:, 1]))"
   ]
  },
  {
   "cell_type": "code",
   "execution_count": 34,
   "metadata": {},
   "outputs": [
    {
     "data": {
      "text/plain": [
       "array([[783,  93],\n",
       "       [ 32,  16]])"
      ]
     },
     "execution_count": 34,
     "metadata": {},
     "output_type": "execute_result"
    }
   ],
   "source": [
    "metrics.confusion_matrix(y_test_mod, y_pred[:, 1])"
   ]
  },
  {
   "cell_type": "markdown",
   "metadata": {},
   "source": [
    "### Weighted Model"
   ]
  },
  {
   "cell_type": "code",
   "execution_count": 35,
   "metadata": {},
   "outputs": [],
   "source": [
    "logreg_wgt = LogisticRegression(C=0.3511191734215127, class_weight=\"balanced\")\n",
    "logreg_wgt.fit(X_train_mod, y_train_mod)\n",
    "y_pred = logreg_wgt.predict(X_test_mod)"
   ]
  },
  {
   "cell_type": "code",
   "execution_count": 36,
   "metadata": {},
   "outputs": [
    {
     "name": "stdout",
     "output_type": "stream",
     "text": [
      "             precision    recall  f1-score   support\n",
      "\n",
      "          0       0.98      0.77      0.86       876\n",
      "          1       0.14      0.69      0.23        48\n",
      "\n",
      "avg / total       0.93      0.77      0.83       924\n",
      "\n"
     ]
    }
   ],
   "source": [
    "print(metrics.classification_report(y_test_mod, y_pred))"
   ]
  },
  {
   "cell_type": "code",
   "execution_count": 37,
   "metadata": {
    "scrolled": true
   },
   "outputs": [
    {
     "data": {
      "text/plain": [
       "array([[674, 202],\n",
       "       [ 15,  33]])"
      ]
     },
     "execution_count": 37,
     "metadata": {},
     "output_type": "execute_result"
    }
   ],
   "source": [
    "metrics.confusion_matrix(y_test_mod, y_pred)"
   ]
  },
  {
   "cell_type": "code",
   "execution_count": 38,
   "metadata": {},
   "outputs": [],
   "source": [
    "y_prob_logreg_wgt = logreg_wgt.predict_proba(X_test_mod)[:,1]"
   ]
  },
  {
   "cell_type": "code",
   "execution_count": 39,
   "metadata": {},
   "outputs": [],
   "source": [
    "logreg_wgt_p, logreg_wgt_r, logreg_wgt_t = precision_recall_curve(y_test_mod, y_prob_logreg_wgt)"
   ]
  },
  {
   "cell_type": "code",
   "execution_count": 40,
   "metadata": {},
   "outputs": [
    {
     "data": {
      "image/png": "[encoded data removed]",
      "text/plain": [
       "<Figure size 864x576 with 1 Axes>"
      ]
     },
     "metadata": {},
     "output_type": "display_data"
    }
   ],
   "source": [
    "plt.plot(np.append(logreg_wgt_t, 1), logreg_wgt_p)\n",
    "plt.plot(np.append(logreg_wgt_t, 1), logreg_wgt_r);"
   ]
  },
  {
   "cell_type": "code",
   "execution_count": 41,
   "metadata": {},
   "outputs": [],
   "source": [
    "y_pred_proba = logreg_wgt.predict_proba(X_test_mod)"
   ]
  },
  {
   "cell_type": "code",
   "execution_count": 42,
   "metadata": {},
   "outputs": [],
   "source": [
    "y_pred = y_pred_proba >= 0.5"
   ]
  },
  {
   "cell_type": "code",
   "execution_count": 43,
   "metadata": {},
   "outputs": [
    {
     "data": {
      "text/plain": [
       "array([[674, 202],\n",
       "       [ 15,  33]])"
      ]
     },
     "execution_count": 43,
     "metadata": {},
     "output_type": "execute_result"
    }
   ],
   "source": [
    "metrics.confusion_matrix(y_test_mod, y_pred[:,1])"
   ]
  },
  {
   "cell_type": "code",
   "execution_count": 44,
   "metadata": {},
   "outputs": [
    {
     "name": "stdout",
     "output_type": "stream",
     "text": [
      "             precision    recall  f1-score   support\n",
      "\n",
      "          0       0.98      0.77      0.86       876\n",
      "          1       0.14      0.69      0.23        48\n",
      "\n",
      "avg / total       0.93      0.77      0.83       924\n",
      "\n"
     ]
    }
   ],
   "source": [
    "print(metrics.classification_report(y_test_mod, y_pred[:, 1]))"
   ]
  },
  {
   "cell_type": "code",
   "execution_count": 45,
   "metadata": {},
   "outputs": [],
   "source": [
    "y_pred_proba = logreg_wgt.predict_proba(X_test_mod)"
   ]
  },
  {
   "cell_type": "code",
   "execution_count": 46,
   "metadata": {},
   "outputs": [],
   "source": [
    "y_pred = y_pred_proba >= 0.3"
   ]
  },
  {
   "cell_type": "code",
   "execution_count": 47,
   "metadata": {},
   "outputs": [
    {
     "data": {
      "text/plain": [
       "array([[505, 371],\n",
       "       [  6,  42]])"
      ]
     },
     "execution_count": 47,
     "metadata": {},
     "output_type": "execute_result"
    }
   ],
   "source": [
    "metrics.confusion_matrix(y_test_mod, y_pred[:,1])"
   ]
  },
  {
   "cell_type": "code",
   "execution_count": 48,
   "metadata": {
    "scrolled": true
   },
   "outputs": [
    {
     "name": "stdout",
     "output_type": "stream",
     "text": [
      "             precision    recall  f1-score   support\n",
      "\n",
      "          0       0.99      0.58      0.73       876\n",
      "          1       0.10      0.88      0.18        48\n",
      "\n",
      "avg / total       0.94      0.59      0.70       924\n",
      "\n"
     ]
    }
   ],
   "source": [
    "print(metrics.classification_report(y_test_mod, y_pred[:, 1]))"
   ]
  },
  {
   "cell_type": "code",
   "execution_count": 49,
   "metadata": {},
   "outputs": [],
   "source": [
    "y_pred_proba = logreg_wgt.predict_proba(X_test_mod)"
   ]
  },
  {
   "cell_type": "code",
   "execution_count": 50,
   "metadata": {},
   "outputs": [],
   "source": [
    "y_pred = y_pred_proba >= 0.20"
   ]
  },
  {
   "cell_type": "code",
   "execution_count": 51,
   "metadata": {},
   "outputs": [
    {
     "data": {
      "text/plain": [
       "array([[351, 525],\n",
       "       [  0,  48]])"
      ]
     },
     "execution_count": 51,
     "metadata": {},
     "output_type": "execute_result"
    }
   ],
   "source": [
    "metrics.confusion_matrix(y_test_mod, y_pred[:,1])"
   ]
  },
  {
   "cell_type": "code",
   "execution_count": 52,
   "metadata": {
    "scrolled": true
   },
   "outputs": [
    {
     "name": "stdout",
     "output_type": "stream",
     "text": [
      "             precision    recall  f1-score   support\n",
      "\n",
      "          0       1.00      0.40      0.57       876\n",
      "          1       0.08      1.00      0.15        48\n",
      "\n",
      "avg / total       0.95      0.43      0.55       924\n",
      "\n"
     ]
    }
   ],
   "source": [
    "print(metrics.classification_report(y_test_mod, y_pred[:, 1]))"
   ]
  },
  {
   "cell_type": "markdown",
   "metadata": {},
   "source": [
    "### SMOTE"
   ]
  },
  {
   "cell_type": "code",
   "execution_count": 53,
   "metadata": {},
   "outputs": [],
   "source": [
    "logreg_smote = LogisticRegression(C=0.3511191734215127)\n",
    "logreg_smote.fit(X_train_smote, y_train_smote)\n",
    "y_pred = logreg_smote.predict(X_test_smote)"
   ]
  },
  {
   "cell_type": "code",
   "execution_count": 54,
   "metadata": {
    "scrolled": false
   },
   "outputs": [
    {
     "name": "stdout",
     "output_type": "stream",
     "text": [
      "             precision    recall  f1-score   support\n",
      "\n",
      "          0       0.97      0.78      0.86       876\n",
      "          1       0.13      0.60      0.21        48\n",
      "\n",
      "avg / total       0.93      0.77      0.83       924\n",
      "\n"
     ]
    }
   ],
   "source": [
    "print(metrics.classification_report(y_test_smote, y_pred))"
   ]
  },
  {
   "cell_type": "markdown",
   "metadata": {},
   "source": [
    "### Feature Importance"
   ]
  },
  {
   "cell_type": "code",
   "execution_count": 55,
   "metadata": {},
   "outputs": [
    {
     "data": {
      "text/plain": [
       "array([[-0.86139946, -0.5356733 ,  1.06441557,  0.09853371, -1.16323717,\n",
       "         0.22393825,  0.15048069, -0.17791089,  0.5699169 ,  1.48526821,\n",
       "        -0.69534937, -0.94675162,  0.37327196]])"
      ]
     },
     "execution_count": 55,
     "metadata": {},
     "output_type": "execute_result"
    }
   ],
   "source": [
    "logreg_wgt.coef_"
   ]
  },
  {
   "cell_type": "code",
   "execution_count": 56,
   "metadata": {},
   "outputs": [
    {
     "data": {
      "image/png": "[encoded data removed]",
      "text/plain": [
       "<Figure size 864x576 with 1 Axes>"
      ]
     },
     "metadata": {},
     "output_type": "display_data"
    }
   ],
   "source": [
    "plt.bar(df.columns[0:-1], logreg_wgt.coef_[0])\n",
    "plt.xticks(rotation=90);"
   ]
  },
  {
   "cell_type": "code",
   "execution_count": 57,
   "metadata": {},
   "outputs": [
    {
     "data": {
      "image/png": "[encoded data removed]",
      "text/plain": [
       "<Figure size 864x576 with 1 Axes>"
      ]
     },
     "metadata": {},
     "output_type": "display_data"
    }
   ],
   "source": [
    "plt.bar(df.columns[0:-1], logreg_wgt.coef_[0])\n",
    "#plt.xticks(rotation=90)\n",
    "plt.xticks([])\n",
    "plt.xlabel('Features', fontsize=18)\n",
    "plt.ylabel('Coefficient', fontsize=18)\n",
    "plt.title('Feature Coefficients', fontsize=22)\n",
    "plt.grid()\n",
    "# plt.savefig(\"presentation/feat.png\")"
   ]
  },
  {
   "cell_type": "code",
   "execution_count": 58,
   "metadata": {},
   "outputs": [],
   "source": [
    "log_feat = logreg_grid.coef_"
   ]
  },
  {
   "cell_type": "code",
   "execution_count": 59,
   "metadata": {
    "scrolled": true
   },
   "outputs": [],
   "source": [
    "log_feat_order = np.argsort(np.abs(log_feat.flat))[::-1]\n",
    "betas = list(zip(X.columns[log_feat_order],log_feat.flat[log_feat_order]))"
   ]
  },
  {
   "cell_type": "code",
   "execution_count": 60,
   "metadata": {},
   "outputs": [
    {
     "data": {
      "text/plain": [
       "'college_rate'"
      ]
     },
     "execution_count": 60,
     "metadata": {},
     "output_type": "execute_result"
    }
   ],
   "source": [
    "betas[0][0]"
   ]
  },
  {
   "cell_type": "code",
   "execution_count": 61,
   "metadata": {},
   "outputs": [
    {
     "data": {
      "image/png": "[encoded data removed]",
      "text/plain": [
       "<Figure size 864x576 with 1 Axes>"
      ]
     },
     "metadata": {},
     "output_type": "display_data"
    }
   ],
   "source": [
    "plt.bar(df.columns[0:-1][log_feat_order], abs(logreg_grid.coef_[0][log_feat_order]));"
   ]
  },
  {
   "cell_type": "markdown",
   "metadata": {},
   "source": [
    "## Random Forest"
   ]
  },
  {
   "cell_type": "markdown",
   "metadata": {},
   "source": [
    "### Initial Model"
   ]
  },
  {
   "cell_type": "code",
   "execution_count": 62,
   "metadata": {},
   "outputs": [],
   "source": [
    "from sklearn.ensemble import RandomForestClassifier"
   ]
  },
  {
   "cell_type": "code",
   "execution_count": 63,
   "metadata": {},
   "outputs": [],
   "source": [
    "random_forest = RandomForestClassifier()\n",
    "random_forest.fit(X_train_mod, y_train_mod)\n",
    "y_pred = random_forest.predict(X_test_mod)"
   ]
  },
  {
   "cell_type": "code",
   "execution_count": 64,
   "metadata": {
    "scrolled": true
   },
   "outputs": [
    {
     "name": "stdout",
     "output_type": "stream",
     "text": [
      "             precision    recall  f1-score   support\n",
      "\n",
      "          0       0.95      1.00      0.97       876\n",
      "          1       0.00      0.00      0.00        48\n",
      "\n",
      "avg / total       0.90      0.95      0.92       924\n",
      "\n"
     ]
    }
   ],
   "source": [
    "print(metrics.classification_report(y_test_mod, y_pred))"
   ]
  },
  {
   "cell_type": "code",
   "execution_count": 65,
   "metadata": {},
   "outputs": [
    {
     "data": {
      "text/plain": [
       "array([[874,   2],\n",
       "       [ 48,   0]])"
      ]
     },
     "execution_count": 65,
     "metadata": {},
     "output_type": "execute_result"
    }
   ],
   "source": [
    "metrics.confusion_matrix(y_test_mod, y_pred)"
   ]
  },
  {
   "cell_type": "code",
   "execution_count": 66,
   "metadata": {},
   "outputs": [
    {
     "data": {
      "text/plain": [
       "0.0018561484918793504"
      ]
     },
     "execution_count": 66,
     "metadata": {},
     "output_type": "execute_result"
    }
   ],
   "source": [
    "y_scores = cross_val_predict(random_forest, X_train_mod, y_train_mod, cv=10)\n",
    "np.mean(y_scores)"
   ]
  },
  {
   "cell_type": "markdown",
   "metadata": {},
   "source": [
    "### Grid Search"
   ]
  },
  {
   "cell_type": "code",
   "execution_count": 67,
   "metadata": {},
   "outputs": [],
   "source": [
    "# try on best model\n",
    "param_grid = {'n_estimators': range(20, 40), 'max_features': np.linspace(1, 40, 1)}\n",
    "grid_search = GridSearchCV(random_forest, param_grid, cv=5, scoring=\"recall\")"
   ]
  },
  {
   "cell_type": "code",
   "execution_count": 68,
   "metadata": {},
   "outputs": [],
   "source": [
    "best_model = grid_search.fit(X_train_mod, y_train_mod)"
   ]
  },
  {
   "cell_type": "code",
   "execution_count": 69,
   "metadata": {},
   "outputs": [
    {
     "data": {
      "text/plain": [
       "{'max_features': 1.0, 'n_estimators': 21}"
      ]
     },
     "execution_count": 69,
     "metadata": {},
     "output_type": "execute_result"
    }
   ],
   "source": [
    "grid_search.best_params_"
   ]
  },
  {
   "cell_type": "code",
   "execution_count": 70,
   "metadata": {},
   "outputs": [],
   "source": [
    "random_forest_grid = RandomForestClassifier(max_features=1, n_estimators=25)\n",
    "random_forest_grid.fit(X_train_mod, y_train_mod)\n",
    "y_pred = random_forest_grid.predict(X_test_mod)"
   ]
  },
  {
   "cell_type": "code",
   "execution_count": 71,
   "metadata": {
    "scrolled": false
   },
   "outputs": [
    {
     "name": "stdout",
     "output_type": "stream",
     "text": [
      "             precision    recall  f1-score   support\n",
      "\n",
      "          0       0.95      1.00      0.97       876\n",
      "          1       0.00      0.00      0.00        48\n",
      "\n",
      "avg / total       0.90      0.95      0.92       924\n",
      "\n"
     ]
    },
    {
     "name": "stderr",
     "output_type": "stream",
     "text": [
      "/home/kevcon/anaconda3/lib/python3.6/site-packages/sklearn/metrics/classification.py:1135: UndefinedMetricWarning: Precision and F-score are ill-defined and being set to 0.0 in labels with no predicted samples.\n",
      "  'precision', 'predicted', average, warn_for)\n"
     ]
    }
   ],
   "source": [
    "print(metrics.classification_report(y_test_mod, y_pred))"
   ]
  },
  {
   "cell_type": "markdown",
   "metadata": {},
   "source": [
    "### Precision/Recall"
   ]
  },
  {
   "cell_type": "code",
   "execution_count": 72,
   "metadata": {},
   "outputs": [],
   "source": [
    "y_prob_random_forest = random_forest.predict_proba(X_test_mod)[:, 1]"
   ]
  },
  {
   "cell_type": "code",
   "execution_count": 73,
   "metadata": {},
   "outputs": [],
   "source": [
    "random_forest_p, random_forest_r, random_forest_t = precision_recall_curve(y_test_mod, y_prob_random_forest)"
   ]
  },
  {
   "cell_type": "code",
   "execution_count": 74,
   "metadata": {},
   "outputs": [
    {
     "data": {
      "image/png": "[encoded data removed]",
      "text/plain": [
       "<Figure size 864x576 with 1 Axes>"
      ]
     },
     "metadata": {},
     "output_type": "display_data"
    }
   ],
   "source": [
    "plt.plot(np.append(random_forest_t, 1), random_forest_p)\n",
    "plt.plot(np.append(random_forest_t, 1), random_forest_r);"
   ]
  },
  {
   "cell_type": "markdown",
   "metadata": {},
   "source": [
    "### Threshold Model"
   ]
  },
  {
   "cell_type": "code",
   "execution_count": 75,
   "metadata": {},
   "outputs": [],
   "source": [
    "y_pred_proba = random_forest.predict_proba(X_test_mod)"
   ]
  },
  {
   "cell_type": "code",
   "execution_count": 76,
   "metadata": {},
   "outputs": [],
   "source": [
    "y_pred = y_pred_proba >= 0.1"
   ]
  },
  {
   "cell_type": "code",
   "execution_count": 77,
   "metadata": {},
   "outputs": [
    {
     "data": {
      "text/plain": [
       "array([[622, 254],\n",
       "       [ 17,  31]])"
      ]
     },
     "execution_count": 77,
     "metadata": {},
     "output_type": "execute_result"
    }
   ],
   "source": [
    "metrics.confusion_matrix(y_test_mod, y_pred[:, 1])"
   ]
  },
  {
   "cell_type": "code",
   "execution_count": 78,
   "metadata": {},
   "outputs": [
    {
     "name": "stdout",
     "output_type": "stream",
     "text": [
      "             precision    recall  f1-score   support\n",
      "\n",
      "          0       0.97      0.71      0.82       876\n",
      "          1       0.11      0.65      0.19        48\n",
      "\n",
      "avg / total       0.93      0.71      0.79       924\n",
      "\n"
     ]
    }
   ],
   "source": [
    "print(metrics.classification_report(y_test_mod, y_pred[:, 1]))"
   ]
  },
  {
   "cell_type": "markdown",
   "metadata": {},
   "source": [
    "### Weighted Model"
   ]
  },
  {
   "cell_type": "code",
   "execution_count": 79,
   "metadata": {},
   "outputs": [],
   "source": [
    "random_forest = RandomForestClassifier(class_weight=\"balanced\")\n",
    "random_forest.fit(X_train_mod, y_train_mod)\n",
    "y_pred = random_forest.predict(X_test_mod)"
   ]
  },
  {
   "cell_type": "code",
   "execution_count": 80,
   "metadata": {},
   "outputs": [
    {
     "name": "stdout",
     "output_type": "stream",
     "text": [
      "             precision    recall  f1-score   support\n",
      "\n",
      "          0       0.95      1.00      0.97       876\n",
      "          1       0.00      0.00      0.00        48\n",
      "\n",
      "avg / total       0.90      0.95      0.92       924\n",
      "\n"
     ]
    }
   ],
   "source": [
    "print(metrics.classification_report(y_test_mod, y_pred))"
   ]
  },
  {
   "cell_type": "markdown",
   "metadata": {},
   "source": [
    "### SMOTE"
   ]
  },
  {
   "cell_type": "code",
   "execution_count": 81,
   "metadata": {},
   "outputs": [],
   "source": [
    "random_forest_smote = RandomForestClassifier()\n",
    "random_forest_smote.fit(X_train_smote, y_train_smote)\n",
    "y_pred = random_forest_smote.predict(X_test_smote)"
   ]
  },
  {
   "cell_type": "code",
   "execution_count": 82,
   "metadata": {},
   "outputs": [
    {
     "name": "stdout",
     "output_type": "stream",
     "text": [
      "             precision    recall  f1-score   support\n",
      "\n",
      "          0       0.95      0.93      0.94       876\n",
      "          1       0.12      0.17      0.14        48\n",
      "\n",
      "avg / total       0.91      0.89      0.90       924\n",
      "\n"
     ]
    }
   ],
   "source": [
    "print(metrics.classification_report(y_test_smote, y_pred))"
   ]
  },
  {
   "cell_type": "markdown",
   "metadata": {},
   "source": [
    "## SVM"
   ]
  },
  {
   "cell_type": "markdown",
   "metadata": {},
   "source": [
    "### Initial Model"
   ]
  },
  {
   "cell_type": "code",
   "execution_count": 83,
   "metadata": {},
   "outputs": [],
   "source": [
    "from sklearn import svm"
   ]
  },
  {
   "cell_type": "code",
   "execution_count": 84,
   "metadata": {},
   "outputs": [],
   "source": [
    "rbf_svm = svm.SVC(kernel='rbf', probability=True)\n",
    "rbf_svm.fit(X_train_mod, y_train_mod)\n",
    "y_pred = rbf_svm.predict(X_test_mod)"
   ]
  },
  {
   "cell_type": "code",
   "execution_count": 85,
   "metadata": {},
   "outputs": [
    {
     "name": "stdout",
     "output_type": "stream",
     "text": [
      "             precision    recall  f1-score   support\n",
      "\n",
      "          0       0.95      1.00      0.97       876\n",
      "          1       0.00      0.00      0.00        48\n",
      "\n",
      "avg / total       0.90      0.95      0.92       924\n",
      "\n"
     ]
    },
    {
     "name": "stderr",
     "output_type": "stream",
     "text": [
      "/home/kevcon/anaconda3/lib/python3.6/site-packages/sklearn/metrics/classification.py:1135: UndefinedMetricWarning: Precision and F-score are ill-defined and being set to 0.0 in labels with no predicted samples.\n",
      "  'precision', 'predicted', average, warn_for)\n"
     ]
    }
   ],
   "source": [
    "print(metrics.classification_report(y_test_mod, y_pred))"
   ]
  },
  {
   "cell_type": "code",
   "execution_count": 86,
   "metadata": {
    "scrolled": true
   },
   "outputs": [
    {
     "data": {
      "text/plain": [
       "array([[876,   0],\n",
       "       [ 48,   0]])"
      ]
     },
     "execution_count": 86,
     "metadata": {},
     "output_type": "execute_result"
    }
   ],
   "source": [
    "metrics.confusion_matrix(y_test, y_pred)"
   ]
  },
  {
   "cell_type": "code",
   "execution_count": 87,
   "metadata": {},
   "outputs": [
    {
     "data": {
      "text/plain": [
       "0.0"
      ]
     },
     "execution_count": 87,
     "metadata": {},
     "output_type": "execute_result"
    }
   ],
   "source": [
    "y_scores = cross_val_predict(rbf_svm, X_train_mod, y_train_mod, cv=10)\n",
    "np.mean(y_scores)"
   ]
  },
  {
   "cell_type": "markdown",
   "metadata": {},
   "source": [
    "### Precision/Recall"
   ]
  },
  {
   "cell_type": "code",
   "execution_count": 88,
   "metadata": {},
   "outputs": [],
   "source": [
    "y_prob_svm = rbf_svm.predict_proba(X_test_mod)[:,1]"
   ]
  },
  {
   "cell_type": "code",
   "execution_count": 89,
   "metadata": {},
   "outputs": [],
   "source": [
    "rbf_svm_p, rbf_svm_r, rbf_svm_t = precision_recall_curve(y_test_mod, y_prob_svm)"
   ]
  },
  {
   "cell_type": "markdown",
   "metadata": {},
   "source": [
    "## KNN"
   ]
  },
  {
   "cell_type": "code",
   "execution_count": 90,
   "metadata": {},
   "outputs": [],
   "source": [
    "from sklearn.neighbors import KNeighborsClassifier\n",
    "from sklearn import model_selection"
   ]
  },
  {
   "cell_type": "code",
   "execution_count": 91,
   "metadata": {},
   "outputs": [],
   "source": [
    "# search for an optimal value of K for KNN\n",
    "\n",
    "knn = KNeighborsClassifier(n_neighbors=20)\n",
    "knn.fit(X_train_mod, y_train_mod)\n",
    "y_pred = knn.predict(X_test_mod)"
   ]
  },
  {
   "cell_type": "code",
   "execution_count": 92,
   "metadata": {},
   "outputs": [
    {
     "name": "stdout",
     "output_type": "stream",
     "text": [
      "             precision    recall  f1-score   support\n",
      "\n",
      "          0       0.95      1.00      0.97       876\n",
      "          1       0.00      0.00      0.00        48\n",
      "\n",
      "avg / total       0.90      0.95      0.92       924\n",
      "\n"
     ]
    }
   ],
   "source": [
    "print(metrics.classification_report(y_test_mod, y_pred))"
   ]
  },
  {
   "cell_type": "code",
   "execution_count": 93,
   "metadata": {},
   "outputs": [
    {
     "data": {
      "text/plain": [
       "array([[875,   1],\n",
       "       [ 48,   0]])"
      ]
     },
     "execution_count": 93,
     "metadata": {},
     "output_type": "execute_result"
    }
   ],
   "source": [
    "metrics.confusion_matrix(y_test_mod, y_pred)"
   ]
  },
  {
   "cell_type": "code",
   "execution_count": 94,
   "metadata": {},
   "outputs": [
    {
     "data": {
      "text/plain": [
       "0.0"
      ]
     },
     "execution_count": 94,
     "metadata": {},
     "output_type": "execute_result"
    }
   ],
   "source": [
    "y_scores = cross_val_predict(knn, X_train_mod, y_train_mod, cv=10)\n",
    "np.mean(y_scores)"
   ]
  },
  {
   "cell_type": "markdown",
   "metadata": {},
   "source": [
    "### Precision/Recall"
   ]
  },
  {
   "cell_type": "code",
   "execution_count": 95,
   "metadata": {},
   "outputs": [],
   "source": [
    "y_prob_knn = knn.predict_proba(X_test_mod)[:,1]"
   ]
  },
  {
   "cell_type": "code",
   "execution_count": 96,
   "metadata": {},
   "outputs": [],
   "source": [
    "knn_p, knn_r, knn_t = precision_recall_curve(y_test_mod, y_prob_knn)"
   ]
  },
  {
   "cell_type": "markdown",
   "metadata": {},
   "source": [
    "## Gaussian-Bayes"
   ]
  },
  {
   "cell_type": "markdown",
   "metadata": {},
   "source": [
    "### Initial Model"
   ]
  },
  {
   "cell_type": "code",
   "execution_count": 97,
   "metadata": {},
   "outputs": [],
   "source": [
    "from sklearn import naive_bayes, metrics"
   ]
  },
  {
   "cell_type": "code",
   "execution_count": 98,
   "metadata": {},
   "outputs": [],
   "source": [
    "gb = naive_bayes.GaussianNB()\n",
    "gb.fit(X_train_mod, y_train_mod)\n",
    "y_pred = gb.predict(X_test_mod)"
   ]
  },
  {
   "cell_type": "code",
   "execution_count": 99,
   "metadata": {},
   "outputs": [
    {
     "name": "stdout",
     "output_type": "stream",
     "text": [
      "             precision    recall  f1-score   support\n",
      "\n",
      "          0       0.95      0.91      0.93       876\n",
      "          1       0.11      0.19      0.14        48\n",
      "\n",
      "avg / total       0.91      0.88      0.89       924\n",
      "\n"
     ]
    }
   ],
   "source": [
    "print(metrics.classification_report(y_test_mod, y_pred))"
   ]
  },
  {
   "cell_type": "code",
   "execution_count": 100,
   "metadata": {},
   "outputs": [
    {
     "data": {
      "text/plain": [
       "array([[801,  75],\n",
       "       [ 39,   9]])"
      ]
     },
     "execution_count": 100,
     "metadata": {},
     "output_type": "execute_result"
    }
   ],
   "source": [
    "metrics.confusion_matrix(y_test_mod, y_pred)"
   ]
  },
  {
   "cell_type": "code",
   "execution_count": 101,
   "metadata": {},
   "outputs": [
    {
     "data": {
      "text/plain": [
       "0.09791183294663573"
      ]
     },
     "execution_count": 101,
     "metadata": {},
     "output_type": "execute_result"
    }
   ],
   "source": [
    "y_scores = cross_val_predict(gb, X_train_mod, y_train_mod, cv=10)\n",
    "np.mean(y_scores)"
   ]
  },
  {
   "cell_type": "markdown",
   "metadata": {},
   "source": [
    "### Precision/Recall"
   ]
  },
  {
   "cell_type": "code",
   "execution_count": 102,
   "metadata": {},
   "outputs": [],
   "source": [
    "y_prob_gb = gb.predict_proba(X_test_mod)[:, 1]"
   ]
  },
  {
   "cell_type": "code",
   "execution_count": 103,
   "metadata": {},
   "outputs": [],
   "source": [
    "gb_p, gb_r, gb_t = precision_recall_curve(y_test_mod, y_prob_gb)"
   ]
  },
  {
   "cell_type": "markdown",
   "metadata": {},
   "source": [
    "## Precision-Recall Plot"
   ]
  },
  {
   "cell_type": "code",
   "execution_count": 104,
   "metadata": {},
   "outputs": [
    {
     "data": {
      "image/png": "[encoded data removed]",
      "text/plain": [
       "<Figure size 720x432 with 1 Axes>"
      ]
     },
     "metadata": {},
     "output_type": "display_data"
    }
   ],
   "source": [
    "# plot P-R for all models\n",
    "\n",
    "fig, ax = plt.subplots(figsize=(10, 6))\n",
    "\n",
    "# Logisitic Regression\n",
    "ax.plot(logreg_r, logreg_p, label='Logistic Regression')\n",
    "# SVM\n",
    "ax.plot(rbf_svm_r, rbf_svm_p, label='SVM')\n",
    "#ax.step(rbf_svm_r, rbf_svm_p, color='b', alpha=0.2, where='post')\n",
    "#ax.fill_between(rbf_svm_r, rbf_svm_p, step='post', alpha=0.2, color='b')\n",
    "# KNN\n",
    "ax.plot(knn_r, knn_p, label='KNN')\n",
    "# Random Forest\n",
    "ax.plot(random_forest_r, random_forest_p, label='Random Forest')\n",
    "# Gaussian-Bayes\n",
    "ax.plot(gb_r, gb_p, label='GaussianNB')\n",
    "\n",
    "# ax.set_xlim(0, 1.01)\n",
    "# ax.set_ylim(0, 1)\n",
    "ax.set_title('Precision-Recall Curve', fontsize=22)\n",
    "ax.set_ylabel('Precision', fontsize=18)\n",
    "ax.set_xlabel('Recall', fontsize=18)\n",
    "ax.legend(loc='upper right', fontsize=16)\n",
    "ax.tick_params(axis = 'both', which = 'major', labelsize = 16)\n",
    "\n",
    "plt.show()\n",
    "# fig.savefig(\"presentation/prcurve.png\")"
   ]
  },
  {
   "cell_type": "code",
   "execution_count": 105,
   "metadata": {},
   "outputs": [
    {
     "data": {
      "image/png": "[encoded data removed]",
      "text/plain": [
       "<Figure size 720x432 with 1 Axes>"
      ]
     },
     "metadata": {},
     "output_type": "display_data"
    }
   ],
   "source": [
    "fig, ax = plt.subplots(figsize=(10, 6))\n",
    "\n",
    "# Logisitic Regression\n",
    "ax.plot(logreg_wgt_p, logreg_wgt_r, label='Logistic Regression')\n",
    "# SVM\n",
    "# ax.plot(rbf_svm_p, rbf_svm_r, label='SVM')\n",
    "#ax.step(rbf_svm_r, rbf_svm_p, color='b', alpha=0.2, where='post')\n",
    "#ax.fill_between(rbf_svm_r, rbf_svm_p, step='post', alpha=0.2, color='b')\n",
    "# KNN\n",
    "# ax.plot(knn_p, knn_r, label='KNN')\n",
    "# Random Forest\n",
    "ax.plot(random_forest_p, random_forest_r, label='Random Forest')\n",
    "# Gaussian-Bayes\n",
    "# ax.plot(gb_p, gb_r, label='GaussianNB')\n",
    "\n",
    "# ax.set_xlim(0, 1.01)\n",
    "# ax.set_ylim(0, 1)\n",
    "ax.set_title('Precision-Recall Curve')\n",
    "ax.set_ylabel('Recall')\n",
    "ax.set_xlabel('Precision')\n",
    "ax.legend(loc='upper right')\n",
    "\n",
    "plt.show()"
   ]
  },
  {
   "cell_type": "code",
   "execution_count": null,
   "metadata": {},
   "outputs": [],
   "source": []
  }
 ],
 "metadata": {
  "kernelspec": {
   "display_name": "Python 3",
   "language": "python",
   "name": "python3"
  },
  "language_info": {
   "codemirror_mode": {
    "name": "ipython",
    "version": 3
   },
   "file_extension": ".py",
   "mimetype": "text/x-python",
   "name": "python",
   "nbconvert_exporter": "python",
   "pygments_lexer": "ipython3",
   "version": "3.6.5"
  }
 },
 "nbformat": 4,
 "nbformat_minor": 2
}
