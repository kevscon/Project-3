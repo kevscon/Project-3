{
 "cells": [
  {
   "cell_type": "markdown",
   "metadata": {},
   "source": [
    "# Model"
   ]
  },
  {
   "cell_type": "code",
   "execution_count": 212,
   "metadata": {},
   "outputs": [],
   "source": [
    "import pandas as pd\n",
    "import numpy as np\n",
    "import matplotlib.pyplot as plt"
   ]
  },
  {
   "cell_type": "code",
   "execution_count": 266,
   "metadata": {},
   "outputs": [],
   "source": [
    "df = pd.read_pickle('dataframe_2.pkl')"
   ]
  },
  {
   "cell_type": "code",
   "execution_count": 267,
   "metadata": {},
   "outputs": [
    {
     "data": {
      "text/html": [
       "<div>\n",
       "<style scoped>\n",
       "    .dataframe tbody tr th:only-of-type {\n",
       "        vertical-align: middle;\n",
       "    }\n",
       "\n",
       "    .dataframe tbody tr th {\n",
       "        vertical-align: top;\n",
       "    }\n",
       "\n",
       "    .dataframe thead th {\n",
       "        text-align: right;\n",
       "    }\n",
       "</style>\n",
       "<table border=\"1\" class=\"dataframe\">\n",
       "  <thead>\n",
       "    <tr style=\"text-align: right;\">\n",
       "      <th></th>\n",
       "      <th>population</th>\n",
       "      <th>growth</th>\n",
       "      <th>households</th>\n",
       "      <th>median_age</th>\n",
       "      <th>per_cap_income</th>\n",
       "      <th>hh_income</th>\n",
       "      <th>unempl_rate</th>\n",
       "      <th>poverty_rate</th>\n",
       "      <th>hs_rate</th>\n",
       "      <th>college_rate</th>\n",
       "      <th>density</th>\n",
       "      <th>white_rate</th>\n",
       "      <th>hisp_rate</th>\n",
       "      <th>close_elect</th>\n",
       "    </tr>\n",
       "  </thead>\n",
       "  <tbody>\n",
       "    <tr>\n",
       "      <th>0</th>\n",
       "      <td>55504.0</td>\n",
       "      <td>1.7</td>\n",
       "      <td>20800.0</td>\n",
       "      <td>37.8</td>\n",
       "      <td>39721.0</td>\n",
       "      <td>54487.0</td>\n",
       "      <td>3.9</td>\n",
       "      <td>13.5</td>\n",
       "      <td>87.6</td>\n",
       "      <td>24.6</td>\n",
       "      <td>93.371913</td>\n",
       "      <td>0.762305</td>\n",
       "      <td>0.025512</td>\n",
       "      <td>0</td>\n",
       "    </tr>\n",
       "    <tr>\n",
       "      <th>1</th>\n",
       "      <td>212628.0</td>\n",
       "      <td>16.7</td>\n",
       "      <td>75149.0</td>\n",
       "      <td>42.3</td>\n",
       "      <td>41286.0</td>\n",
       "      <td>56460.0</td>\n",
       "      <td>4.0</td>\n",
       "      <td>11.7</td>\n",
       "      <td>90.0</td>\n",
       "      <td>29.5</td>\n",
       "      <td>133.746808</td>\n",
       "      <td>0.810999</td>\n",
       "      <td>0.040973</td>\n",
       "      <td>0</td>\n",
       "    </tr>\n",
       "    <tr>\n",
       "      <th>2</th>\n",
       "      <td>25270.0</td>\n",
       "      <td>-8.0</td>\n",
       "      <td>9122.0</td>\n",
       "      <td>38.7</td>\n",
       "      <td>31788.0</td>\n",
       "      <td>32884.0</td>\n",
       "      <td>5.9</td>\n",
       "      <td>29.9</td>\n",
       "      <td>73.8</td>\n",
       "      <td>12.9</td>\n",
       "      <td>28.557545</td>\n",
       "      <td>0.491888</td>\n",
       "      <td>0.045390</td>\n",
       "      <td>0</td>\n",
       "    </tr>\n",
       "    <tr>\n",
       "      <th>3</th>\n",
       "      <td>22668.0</td>\n",
       "      <td>-1.1</td>\n",
       "      <td>7048.0</td>\n",
       "      <td>40.2</td>\n",
       "      <td>29264.0</td>\n",
       "      <td>43079.0</td>\n",
       "      <td>4.4</td>\n",
       "      <td>20.1</td>\n",
       "      <td>80.7</td>\n",
       "      <td>12.0</td>\n",
       "      <td>36.409779</td>\n",
       "      <td>0.766278</td>\n",
       "      <td>0.022146</td>\n",
       "      <td>0</td>\n",
       "    </tr>\n",
       "    <tr>\n",
       "      <th>4</th>\n",
       "      <td>58013.0</td>\n",
       "      <td>1.2</td>\n",
       "      <td>20619.0</td>\n",
       "      <td>40.8</td>\n",
       "      <td>31470.0</td>\n",
       "      <td>47213.0</td>\n",
       "      <td>4.0</td>\n",
       "      <td>14.1</td>\n",
       "      <td>80.0</td>\n",
       "      <td>13.0</td>\n",
       "      <td>89.973324</td>\n",
       "      <td>0.949322</td>\n",
       "      <td>0.086808</td>\n",
       "      <td>0</td>\n",
       "    </tr>\n",
       "  </tbody>\n",
       "</table>\n",
       "</div>"
      ],
      "text/plain": [
       "   population  growth  households  median_age  per_cap_income  hh_income  \\\n",
       "0     55504.0     1.7     20800.0        37.8         39721.0    54487.0   \n",
       "1    212628.0    16.7     75149.0        42.3         41286.0    56460.0   \n",
       "2     25270.0    -8.0      9122.0        38.7         31788.0    32884.0   \n",
       "3     22668.0    -1.1      7048.0        40.2         29264.0    43079.0   \n",
       "4     58013.0     1.2     20619.0        40.8         31470.0    47213.0   \n",
       "\n",
       "   unempl_rate  poverty_rate  hs_rate  college_rate     density  white_rate  \\\n",
       "0          3.9          13.5     87.6          24.6   93.371913    0.762305   \n",
       "1          4.0          11.7     90.0          29.5  133.746808    0.810999   \n",
       "2          5.9          29.9     73.8          12.9   28.557545    0.491888   \n",
       "3          4.4          20.1     80.7          12.0   36.409779    0.766278   \n",
       "4          4.0          14.1     80.0          13.0   89.973324    0.949322   \n",
       "\n",
       "   hisp_rate  close_elect  \n",
       "0   0.025512            0  \n",
       "1   0.040973            0  \n",
       "2   0.045390            0  \n",
       "3   0.022146            0  \n",
       "4   0.086808            0  "
      ]
     },
     "execution_count": 267,
     "metadata": {},
     "output_type": "execute_result"
    }
   ],
   "source": [
    "df.head()"
   ]
  },
  {
   "cell_type": "code",
   "execution_count": 285,
   "metadata": {},
   "outputs": [],
   "source": [
    "close = (df['close_elect'] == 1).sum()\n",
    "not_close = (df['close_elect'] == 0).sum()"
   ]
  },
  {
   "cell_type": "code",
   "execution_count": 286,
   "metadata": {},
   "outputs": [
    {
     "data": {
      "image/png": "[encoded data removed]",
      "text/plain": [
       "<matplotlib.figure.Figure at 0x1a198ec7b8>"
      ]
     },
     "metadata": {},
     "output_type": "display_data"
    },
    {
     "data": {
      "text/plain": [
       "<matplotlib.figure.Figure at 0x1a197afac8>"
      ]
     },
     "metadata": {},
     "output_type": "display_data"
    }
   ],
   "source": [
    "labels = ['Not Close', 'Close']\n",
    "sizes = [not_close, close]\n",
    "explode = (0, 0.1)\n",
    "\n",
    "colors = ['grey','yellow']\n",
    "\n",
    "fig1, ax1 = plt.subplots()\n",
    "ax1.pie(sizes, explode=explode, colors=colors,\n",
    "        shadow=True, startangle=90)\n",
    "ax1.axis('equal')  # Equal aspect ratio ensures that pie is drawn as a circle.\n",
    "\n",
    "plt.show()\n",
    "plt.savefig(\"pie.png\")"
   ]
  },
  {
   "cell_type": "code",
   "execution_count": 287,
   "metadata": {},
   "outputs": [],
   "source": [
    "# drop rows with nans\n",
    "\n",
    "df = df.dropna()"
   ]
  },
  {
   "cell_type": "code",
   "execution_count": 288,
   "metadata": {
    "scrolled": true
   },
   "outputs": [
    {
     "data": {
      "text/html": [
       "<div>\n",
       "<style scoped>\n",
       "    .dataframe tbody tr th:only-of-type {\n",
       "        vertical-align: middle;\n",
       "    }\n",
       "\n",
       "    .dataframe tbody tr th {\n",
       "        vertical-align: top;\n",
       "    }\n",
       "\n",
       "    .dataframe thead th {\n",
       "        text-align: right;\n",
       "    }\n",
       "</style>\n",
       "<table border=\"1\" class=\"dataframe\">\n",
       "  <thead>\n",
       "    <tr style=\"text-align: right;\">\n",
       "      <th></th>\n",
       "      <th>population</th>\n",
       "      <th>growth</th>\n",
       "      <th>households</th>\n",
       "      <th>median_age</th>\n",
       "      <th>per_cap_income</th>\n",
       "      <th>hh_income</th>\n",
       "      <th>unempl_rate</th>\n",
       "      <th>poverty_rate</th>\n",
       "      <th>hs_rate</th>\n",
       "      <th>college_rate</th>\n",
       "      <th>density</th>\n",
       "      <th>white_rate</th>\n",
       "      <th>hisp_rate</th>\n",
       "    </tr>\n",
       "    <tr>\n",
       "      <th>close_elect</th>\n",
       "      <th></th>\n",
       "      <th></th>\n",
       "      <th></th>\n",
       "      <th></th>\n",
       "      <th></th>\n",
       "      <th></th>\n",
       "      <th></th>\n",
       "      <th></th>\n",
       "      <th></th>\n",
       "      <th></th>\n",
       "      <th></th>\n",
       "      <th></th>\n",
       "      <th></th>\n",
       "    </tr>\n",
       "  </thead>\n",
       "  <tbody>\n",
       "    <tr>\n",
       "      <th>0</th>\n",
       "      <td>97754.622861</td>\n",
       "      <td>0.673854</td>\n",
       "      <td>35383.793292</td>\n",
       "      <td>41.180151</td>\n",
       "      <td>40647.942847</td>\n",
       "      <td>49173.193018</td>\n",
       "      <td>4.611328</td>\n",
       "      <td>15.914203</td>\n",
       "      <td>85.657392</td>\n",
       "      <td>20.269884</td>\n",
       "      <td>251.164202</td>\n",
       "      <td>0.838362</td>\n",
       "      <td>0.088684</td>\n",
       "    </tr>\n",
       "    <tr>\n",
       "      <th>1</th>\n",
       "      <td>213686.159236</td>\n",
       "      <td>2.568153</td>\n",
       "      <td>77334.891720</td>\n",
       "      <td>38.888535</td>\n",
       "      <td>42207.388535</td>\n",
       "      <td>53773.019108</td>\n",
       "      <td>4.530573</td>\n",
       "      <td>15.549045</td>\n",
       "      <td>88.495541</td>\n",
       "      <td>27.620382</td>\n",
       "      <td>317.779807</td>\n",
       "      <td>0.760183</td>\n",
       "      <td>0.095176</td>\n",
       "    </tr>\n",
       "  </tbody>\n",
       "</table>\n",
       "</div>"
      ],
      "text/plain": [
       "                population    growth    households  median_age  \\\n",
       "close_elect                                                      \n",
       "0             97754.622861  0.673854  35383.793292   41.180151   \n",
       "1            213686.159236  2.568153  77334.891720   38.888535   \n",
       "\n",
       "             per_cap_income     hh_income  unempl_rate  poverty_rate  \\\n",
       "close_elect                                                            \n",
       "0              40647.942847  49173.193018     4.611328     15.914203   \n",
       "1              42207.388535  53773.019108     4.530573     15.549045   \n",
       "\n",
       "               hs_rate  college_rate     density  white_rate  hisp_rate  \n",
       "close_elect                                                              \n",
       "0            85.657392     20.269884  251.164202    0.838362   0.088684  \n",
       "1            88.495541     27.620382  317.779807    0.760183   0.095176  "
      ]
     },
     "execution_count": 288,
     "metadata": {},
     "output_type": "execute_result"
    }
   ],
   "source": [
    "# inspect mean values of features for not-close vs close outcomes\n",
    "\n",
    "df.groupby('close_elect').mean()"
   ]
  },
  {
   "cell_type": "code",
   "execution_count": 289,
   "metadata": {},
   "outputs": [
    {
     "data": {
      "text/plain": [
       "population        103666.039298\n",
       "growth                 0.770445\n",
       "households         37522.904190\n",
       "median_age            41.063300\n",
       "per_cap_income     40727.459890\n",
       "hh_income          49407.740825\n",
       "unempl_rate            4.607210\n",
       "poverty_rate          15.895583\n",
       "hs_rate               85.802111\n",
       "college_rate          20.644690\n",
       "density              254.560970\n",
       "white_rate             0.834376\n",
       "hisp_rate              0.089015\n",
       "close_elect            0.050991\n",
       "dtype: float64"
      ]
     },
     "execution_count": 289,
     "metadata": {},
     "output_type": "execute_result"
    }
   ],
   "source": [
    "df.mean()"
   ]
  },
  {
   "cell_type": "markdown",
   "metadata": {},
   "source": [
    "## Model Preprocessing\n",
    "- Calculate null accuracy\n",
    "- Define feature matrix and response vector\n",
    "- Split data into test/train\n",
    "- Scale feature (X) matricies"
   ]
  },
  {
   "cell_type": "code",
   "execution_count": 217,
   "metadata": {},
   "outputs": [
    {
     "data": {
      "text/plain": [
       "0.9490094186424164"
      ]
     },
     "execution_count": 217,
     "metadata": {},
     "output_type": "execute_result"
    }
   ],
   "source": [
    "# baseline, null model accuracy - guess '0' every time\n",
    "\n",
    "(df['close_elect'] == 0).sum() / len(df)"
   ]
  },
  {
   "cell_type": "code",
   "execution_count": 218,
   "metadata": {},
   "outputs": [],
   "source": [
    "# initialize feature matrix and observed outcome\n",
    "\n",
    "X = df.iloc[:, 0:13]\n",
    "y = df.iloc[:, 13]"
   ]
  },
  {
   "cell_type": "code",
   "execution_count": 219,
   "metadata": {},
   "outputs": [],
   "source": [
    "# test/train split\n",
    "\n",
    "from sklearn.model_selection import train_test_split\n",
    "\n",
    "X_train, X_test, y_train, y_test = train_test_split(X, y, test_size=0.3, random_state=0)"
   ]
  },
  {
   "cell_type": "code",
   "execution_count": 220,
   "metadata": {},
   "outputs": [],
   "source": [
    "# standardize training set\n",
    "from sklearn import preprocessing\n",
    "\n",
    "scaler = preprocessing.StandardScaler()\n",
    "scaler.fit(X_train)\n",
    "\n",
    "# transform train data\n",
    "X_train = scaler.transform(X_train)\n",
    "X_train = pd.DataFrame(X_train)\n",
    "\n",
    "# transform test data\n",
    "X_test = scaler.transform(X_test)\n",
    "X_test = pd.DataFrame(X_test)"
   ]
  },
  {
   "cell_type": "markdown",
   "metadata": {},
   "source": [
    "## PCA"
   ]
  },
  {
   "cell_type": "code",
   "execution_count": 221,
   "metadata": {},
   "outputs": [
    {
     "name": "stdout",
     "output_type": "stream",
     "text": [
      "Populating the interactive namespace from numpy and matplotlib\n"
     ]
    },
    {
     "data": {
      "image/png": "[encoded data removed]",
      "text/plain": [
       "<matplotlib.figure.Figure at 0x1a180ff1d0>"
      ]
     },
     "metadata": {},
     "output_type": "display_data"
    }
   ],
   "source": [
    "import seaborn as sns\n",
    "%pylab inline\n",
    "\n",
    "y_colors = sns.color_palette(\"hls\", 2)\n",
    "sns.palplot(y_colors)"
   ]
  },
  {
   "cell_type": "code",
   "execution_count": 222,
   "metadata": {},
   "outputs": [],
   "source": [
    "from sklearn import decomposition"
   ]
  },
  {
   "cell_type": "code",
   "execution_count": 254,
   "metadata": {},
   "outputs": [],
   "source": [
    "def plot_PCA_2D(data, target):\n",
    "\n",
    "    pca = decomposition.PCA(n_components=2)\n",
    "    pca.fit(data)\n",
    "    pcafeatures = pca.transform(data)\n",
    "    \n",
    "    target_labels = ['Not Close', 'Close']\n",
    "    \n",
    "    #print(pca.components_)\n",
    "    \n",
    "    for i, label in enumerate(target_labels):\n",
    "        plt.scatter(pcafeatures[target == i, 0], pcafeatures[target == i, 1],\n",
    "                   c=y_colors[i], label=label, alpha=.75, edgecolors=\"none\")\n",
    "    xlabel(\"1st pricinple component\", fontsize=18)\n",
    "    ylabel(\"2nd pricinple component\", fontsize=18)\n",
    "    plt.title(\"PCA\", fontsize=22)\n",
    "    plt.xticks([])\n",
    "    plt.yticks([])\n",
    "    legend(fontsize=16)\n",
    "    \n",
    "    plt.savefig(\"pca.png\")"
   ]
  },
  {
   "cell_type": "code",
   "execution_count": 257,
   "metadata": {},
   "outputs": [
    {
     "data": {
      "image/png": "[encoded data removed]",
      "text/plain": [
       "<matplotlib.figure.Figure at 0x1a1967e320>"
      ]
     },
     "metadata": {},
     "output_type": "display_data"
    }
   ],
   "source": [
    "figsize(12,8)\n",
    "plot_PCA_2D(X_train, y_train)"
   ]
  },
  {
   "cell_type": "markdown",
   "metadata": {},
   "source": [
    "## Model Preprocessing"
   ]
  },
  {
   "cell_type": "code",
   "execution_count": 14,
   "metadata": {},
   "outputs": [],
   "source": [
    "# test/train split\n",
    "\n",
    "from sklearn.model_selection import train_test_split\n",
    "\n",
    "X_train, X_test, y_train, y_test = train_test_split(X, y, test_size=0.3, random_state=0)"
   ]
  },
  {
   "cell_type": "code",
   "execution_count": 15,
   "metadata": {},
   "outputs": [],
   "source": [
    "# smote to increase underrepresented sampling\n",
    "\n",
    "from imblearn.over_sampling import SMOTE\n",
    "\n",
    "sm = SMOTE(random_state=0)\n",
    "X_res, y_res = sm.fit_sample(X_train, y_train)"
   ]
  },
  {
   "cell_type": "code",
   "execution_count": 16,
   "metadata": {},
   "outputs": [],
   "source": [
    "# standardize training set\n",
    "from sklearn import preprocessing\n",
    "\n",
    "scaler = preprocessing.StandardScaler()\n",
    "scaler.fit(X_res)\n",
    "\n",
    "# transform train data\n",
    "X_train_trans = scaler.transform(X_res)\n",
    "X_train_trans = pd.DataFrame(X_train_trans)\n",
    "\n",
    "# transform test data\n",
    "X_test_trans = scaler.transform(X_test)\n",
    "X_test_trans = pd.DataFrame(X_test_trans)\n",
    "\n",
    "# model input\n",
    "X_train_mod = X_train_trans\n",
    "y_train_mod = y_res\n",
    "\n",
    "X_test_mod = X_test_trans\n",
    "y_test_mod = y_test"
   ]
  },
  {
   "cell_type": "markdown",
   "metadata": {},
   "source": [
    "# standardize training set\n",
    "from sklearn import preprocessing\n",
    "\n",
    "scaler = preprocessing.StandardScaler()\n",
    "scaler.fit(X_train)\n",
    "\n",
    "# transform train data\n",
    "X_train_trans = scaler.transform(X_train)\n",
    "X_train_trans = pd.DataFrame(X_train_trans)\n",
    "\n",
    "# transform test data\n",
    "X_test_trans = scaler.transform(X_test)\n",
    "X_test_trans = pd.DataFrame(X_test_trans)\n",
    "\n",
    "# model input\n",
    "X_train_mod = X_train_trans\n",
    "y_train_mod = y_train\n",
    "\n",
    "X_test_mod = X_test_trans\n",
    "y_test_mod = y_test"
   ]
  },
  {
   "cell_type": "code",
   "execution_count": 102,
   "metadata": {},
   "outputs": [],
   "source": [
    "from sklearn import metrics\n",
    "from sklearn.model_selection import cross_val_score\n",
    "from sklearn.model_selection import cross_val_predict\n",
    "from sklearn.metrics import precision_recall_curve\n",
    "from sklearn.model_selection import GridSearchCV"
   ]
  },
  {
   "cell_type": "markdown",
   "metadata": {},
   "source": [
    "## Logistic Regression"
   ]
  },
  {
   "cell_type": "code",
   "execution_count": 108,
   "metadata": {},
   "outputs": [],
   "source": [
    "from sklearn.linear_model import LogisticRegression\n",
    "\n",
    "logreg = LogisticRegression()\n",
    "logreg.fit(X_train_mod, y_train_mod)\n",
    "y_pred = logreg.predict(X_test_mod)"
   ]
  },
  {
   "cell_type": "code",
   "execution_count": 109,
   "metadata": {},
   "outputs": [
    {
     "name": "stdout",
     "output_type": "stream",
     "text": [
      "             precision    recall  f1-score   support\n",
      "\n",
      "          0       0.97      0.78      0.86       876\n",
      "          1       0.13      0.60      0.21        48\n",
      "\n",
      "avg / total       0.93      0.77      0.83       924\n",
      "\n"
     ]
    }
   ],
   "source": [
    "print(metrics.classification_report(y_test_mod, y_pred))"
   ]
  },
  {
   "cell_type": "code",
   "execution_count": 27,
   "metadata": {},
   "outputs": [
    {
     "data": {
      "text/plain": [
       "array([[679, 197],\n",
       "       [ 19,  29]])"
      ]
     },
     "execution_count": 27,
     "metadata": {},
     "output_type": "execute_result"
    }
   ],
   "source": [
    "metrics.confusion_matrix(y_test_mod, y_pred)"
   ]
  },
  {
   "cell_type": "code",
   "execution_count": 106,
   "metadata": {},
   "outputs": [
    {
     "data": {
      "text/plain": [
       "0.5427663734115347"
      ]
     },
     "execution_count": 106,
     "metadata": {},
     "output_type": "execute_result"
    }
   ],
   "source": [
    "y_scores = cross_val_predict(logreg, X_train_mod, y_train_mod, cv=10)\n",
    "np.mean(y_scores)"
   ]
  },
  {
   "cell_type": "code",
   "execution_count": 85,
   "metadata": {},
   "outputs": [],
   "source": [
    "y_prob_logreg = logreg.predict_proba(X_test_mod)[:,1]"
   ]
  },
  {
   "cell_type": "code",
   "execution_count": 86,
   "metadata": {},
   "outputs": [],
   "source": [
    "logreg_p, logreg_r, logreg_t = precision_recall_curve(y_test_mod, y_prob_logreg)"
   ]
  },
  {
   "cell_type": "code",
   "execution_count": 140,
   "metadata": {},
   "outputs": [],
   "source": [
    "# grid search\n",
    "\n",
    "param_grid = {'C': np.logspace(-5, 5, 100)}\n",
    "grid_search = GridSearchCV(logreg, param_grid, cv=5, scoring=\"recall\")"
   ]
  },
  {
   "cell_type": "code",
   "execution_count": 141,
   "metadata": {},
   "outputs": [],
   "source": [
    "best_model = grid_search.fit(X_train_mod, y_train_mod)"
   ]
  },
  {
   "cell_type": "code",
   "execution_count": 142,
   "metadata": {},
   "outputs": [
    {
     "data": {
      "text/plain": [
       "{'C': 0.7054802310718645}"
      ]
     },
     "execution_count": 142,
     "metadata": {},
     "output_type": "execute_result"
    }
   ],
   "source": [
    "grid_search.best_params_"
   ]
  },
  {
   "cell_type": "code",
   "execution_count": 143,
   "metadata": {},
   "outputs": [],
   "source": [
    "logreg2 = LogisticRegression(C=0.7054802310718645)\n",
    "logreg2.fit(X_train, y_train)\n",
    "y_pred = logreg2.predict(X_test_mod)"
   ]
  },
  {
   "cell_type": "code",
   "execution_count": 195,
   "metadata": {},
   "outputs": [
    {
     "data": {
      "text/plain": [
       "<Container object of 13 artists>"
      ]
     },
     "execution_count": 195,
     "metadata": {},
     "output_type": "execute_result"
    },
    {
     "data": {
      "image/png": "[encoded data removed]",
      "text/plain": [
       "<matplotlib.figure.Figure at 0x1a18c38a58>"
      ]
     },
     "metadata": {},
     "output_type": "display_data"
    }
   ],
   "source": [
    "plt.bar(df.columns[0:-1], logreg.coef_[0])\n",
    "plt.xlabels()"
   ]
  },
  {
   "cell_type": "code",
   "execution_count": 146,
   "metadata": {},
   "outputs": [
    {
     "name": "stdout",
     "output_type": "stream",
     "text": [
      "             precision    recall  f1-score   support\n",
      "\n",
      "          0       0.97      0.78      0.86       876\n",
      "          1       0.11      0.52      0.19        48\n",
      "\n",
      "avg / total       0.92      0.76      0.83       924\n",
      "\n"
     ]
    }
   ],
   "source": [
    "print(metrics.classification_report(y_test_mod, y_pred))"
   ]
  },
  {
   "cell_type": "code",
   "execution_count": 191,
   "metadata": {
    "scrolled": true
   },
   "outputs": [
    {
     "data": {
      "text/plain": [
       "array([-5.26830931e-06, -4.12490307e-02,  1.70708571e-05, -4.25345569e-02,\n",
       "       -8.15261734e-05,  2.40175809e-05,  7.85596774e-04, -1.40645425e-02,\n",
       "       -1.55236754e-02,  1.04606570e-01, -2.39199019e-04, -4.59989507e-03,\n",
       "       -3.40612247e-04])"
      ]
     },
     "execution_count": 191,
     "metadata": {},
     "output_type": "execute_result"
    }
   ],
   "source": [
    "logreg2.coef_[0]"
   ]
  },
  {
   "cell_type": "code",
   "execution_count": 189,
   "metadata": {},
   "outputs": [
    {
     "data": {
      "text/plain": [
       "Index(['population', 'growth', 'households', 'median_age', 'per_cap_income',\n",
       "       'hh_income', 'unempl_rate', 'poverty_rate', 'hs_rate', 'college_rate',\n",
       "       'density', 'white_rate', 'hisp_rate'],\n",
       "      dtype='object')"
      ]
     },
     "execution_count": 189,
     "metadata": {},
     "output_type": "execute_result"
    }
   ],
   "source": [
    "df.columns[0:-1]"
   ]
  },
  {
   "cell_type": "code",
   "execution_count": 192,
   "metadata": {},
   "outputs": [
    {
     "data": {
      "text/plain": [
       "<Container object of 13 artists>"
      ]
     },
     "execution_count": 192,
     "metadata": {},
     "output_type": "execute_result"
    },
    {
     "data": {
      "image/png": "[encoded data removed]",
      "text/plain": [
       "<matplotlib.figure.Figure at 0x1a17ccd438>"
      ]
     },
     "metadata": {},
     "output_type": "display_data"
    }
   ],
   "source": [
    "plt.bar(df.columns[0:-1], logreg2.coef_[0])"
   ]
  },
  {
   "cell_type": "markdown",
   "metadata": {},
   "source": [
    "## SVM"
   ]
  },
  {
   "cell_type": "code",
   "execution_count": 40,
   "metadata": {},
   "outputs": [],
   "source": [
    "from sklearn import svm"
   ]
  },
  {
   "cell_type": "code",
   "execution_count": 41,
   "metadata": {},
   "outputs": [],
   "source": [
    "rbf_svm = svm.SVC(kernel='rbf', probability=True)\n",
    "rbf_svm.fit(X_train_mod, y_train_mod)\n",
    "y_pred = rbf_svm.predict(X_test_mod)"
   ]
  },
  {
   "cell_type": "code",
   "execution_count": 42,
   "metadata": {},
   "outputs": [
    {
     "name": "stdout",
     "output_type": "stream",
     "text": [
      "             precision    recall  f1-score   support\n",
      "\n",
      "          0       0.97      0.83      0.90       876\n",
      "          1       0.15      0.56      0.24        48\n",
      "\n",
      "avg / total       0.93      0.82      0.86       924\n",
      "\n"
     ]
    }
   ],
   "source": [
    "print(metrics.classification_report(y_test_mod, y_pred))"
   ]
  },
  {
   "cell_type": "code",
   "execution_count": 43,
   "metadata": {
    "scrolled": true
   },
   "outputs": [
    {
     "data": {
      "text/plain": [
       "array([[728, 148],\n",
       "       [ 21,  27]])"
      ]
     },
     "execution_count": 43,
     "metadata": {},
     "output_type": "execute_result"
    }
   ],
   "source": [
    "metrics.confusion_matrix(y_test, y_pred)"
   ]
  },
  {
   "cell_type": "code",
   "execution_count": 44,
   "metadata": {},
   "outputs": [
    {
     "data": {
      "text/plain": [
       "0.5786901270772239"
      ]
     },
     "execution_count": 44,
     "metadata": {},
     "output_type": "execute_result"
    }
   ],
   "source": [
    "y_scores = cross_val_predict(rbf_svm, X_train_mod, y_train_mod, cv=10)\n",
    "np.mean(y_scores)"
   ]
  },
  {
   "cell_type": "code",
   "execution_count": 87,
   "metadata": {},
   "outputs": [],
   "source": [
    "y_prob_svm = rbf_svm.predict_proba(X_test_mod)[:,1]"
   ]
  },
  {
   "cell_type": "code",
   "execution_count": 89,
   "metadata": {},
   "outputs": [],
   "source": [
    "rbf_svm_p, rbf_svm_r, rbf_svm_t = precision_recall_curve(y_test_mod, y_prob_svm)"
   ]
  },
  {
   "cell_type": "code",
   "execution_count": null,
   "metadata": {},
   "outputs": [],
   "source": []
  },
  {
   "cell_type": "markdown",
   "metadata": {},
   "source": [
    "## KNN"
   ]
  },
  {
   "cell_type": "code",
   "execution_count": 46,
   "metadata": {},
   "outputs": [],
   "source": [
    "from sklearn.neighbors import KNeighborsClassifier\n",
    "from sklearn import model_selection"
   ]
  },
  {
   "cell_type": "code",
   "execution_count": 47,
   "metadata": {},
   "outputs": [],
   "source": [
    "# search for an optimal value of K for KNN\n",
    "\n",
    "knn = KNeighborsClassifier(n_neighbors=20)\n",
    "knn.fit(X_train_mod, y_train_mod)\n",
    "y_pred = knn.predict(X_test_mod)"
   ]
  },
  {
   "cell_type": "code",
   "execution_count": 48,
   "metadata": {},
   "outputs": [
    {
     "name": "stdout",
     "output_type": "stream",
     "text": [
      "             precision    recall  f1-score   support\n",
      "\n",
      "          0       0.98      0.72      0.83       876\n",
      "          1       0.13      0.73      0.21        48\n",
      "\n",
      "avg / total       0.94      0.72      0.80       924\n",
      "\n"
     ]
    }
   ],
   "source": [
    "print(metrics.classification_report(y_test_mod, y_pred))"
   ]
  },
  {
   "cell_type": "code",
   "execution_count": 49,
   "metadata": {},
   "outputs": [
    {
     "data": {
      "text/plain": [
       "array([[633, 243],\n",
       "       [ 13,  35]])"
      ]
     },
     "execution_count": 49,
     "metadata": {},
     "output_type": "execute_result"
    }
   ],
   "source": [
    "metrics.confusion_matrix(y_test, y_pred)"
   ]
  },
  {
   "cell_type": "code",
   "execution_count": 50,
   "metadata": {},
   "outputs": [
    {
     "data": {
      "text/plain": [
       "0.6307429130009775"
      ]
     },
     "execution_count": 50,
     "metadata": {},
     "output_type": "execute_result"
    }
   ],
   "source": [
    "y_scores = cross_val_predict(knn, X_train_mod, y_train_mod, cv=10)\n",
    "np.mean(y_scores)"
   ]
  },
  {
   "cell_type": "code",
   "execution_count": 284,
   "metadata": {},
   "outputs": [],
   "source": [
    "y_prob_knn = knn.predict_proba(X_test_mod)[:,1]"
   ]
  },
  {
   "cell_type": "code",
   "execution_count": 91,
   "metadata": {},
   "outputs": [],
   "source": [
    "knn_p, knn_r, knn_t = precision_recall_curve(y_test_mod, y_prob_knn)"
   ]
  },
  {
   "cell_type": "code",
   "execution_count": null,
   "metadata": {},
   "outputs": [],
   "source": []
  },
  {
   "cell_type": "code",
   "execution_count": 44,
   "metadata": {},
   "outputs": [],
   "source": [
    "from sklearn.model_selection import GridSearchCV"
   ]
  },
  {
   "cell_type": "code",
   "execution_count": 84,
   "metadata": {},
   "outputs": [],
   "source": [
    "k_range = list(range(1, 20))\n",
    "param_grid = dict(n_neighbors=k_range)"
   ]
  },
  {
   "cell_type": "code",
   "execution_count": 85,
   "metadata": {},
   "outputs": [
    {
     "data": {
      "text/plain": [
       "GridSearchCV(cv=10, error_score='raise',\n",
       "       estimator=KNeighborsClassifier(algorithm='auto', leaf_size=30, metric='minkowski',\n",
       "           metric_params=None, n_jobs=1, n_neighbors=20, p=2,\n",
       "           weights='uniform'),\n",
       "       fit_params=None, iid=True, n_jobs=1,\n",
       "       param_grid={'n_neighbors': [1, 2, 3, 4, 5, 6, 7, 8, 9, 10, 11, 12, 13, 14, 15, 16, 17, 18, 19]},\n",
       "       pre_dispatch='2*n_jobs', refit=True, return_train_score='warn',\n",
       "       scoring='recall', verbose=0)"
      ]
     },
     "execution_count": 85,
     "metadata": {},
     "output_type": "execute_result"
    }
   ],
   "source": [
    "grid = GridSearchCV(knn, param_grid, cv=10, scoring='recall')\n",
    "grid.fit(X_train_mod, y_train_mod)"
   ]
  },
  {
   "cell_type": "code",
   "execution_count": 86,
   "metadata": {},
   "outputs": [
    {
     "name": "stdout",
     "output_type": "stream",
     "text": [
      "0.9941348973607038\n",
      "{'n_neighbors': 5}\n"
     ]
    }
   ],
   "source": [
    "print(grid.best_score_)\n",
    "print(grid.best_params_)"
   ]
  },
  {
   "cell_type": "code",
   "execution_count": 87,
   "metadata": {},
   "outputs": [],
   "source": [
    "knn = KNeighborsClassifier(n_neighbors=5)\n",
    "knn.fit(X_train_mod, y_train_mod)\n",
    "y_pred = knn.predict(X_test_mod)"
   ]
  },
  {
   "cell_type": "code",
   "execution_count": 88,
   "metadata": {
    "scrolled": true
   },
   "outputs": [
    {
     "name": "stdout",
     "output_type": "stream",
     "text": [
      "             precision    recall  f1-score   support\n",
      "\n",
      "          0       0.97      0.79      0.87       876\n",
      "          1       0.12      0.54      0.20        48\n",
      "\n",
      "avg / total       0.93      0.78      0.84       924\n",
      "\n"
     ]
    }
   ],
   "source": [
    "print(metrics.classification_report(y_test_mod, y_pred))"
   ]
  },
  {
   "cell_type": "markdown",
   "metadata": {},
   "source": [
    "## Random Forest"
   ]
  },
  {
   "cell_type": "code",
   "execution_count": 260,
   "metadata": {},
   "outputs": [],
   "source": [
    "from sklearn.ensemble import RandomForestClassifier"
   ]
  },
  {
   "cell_type": "code",
   "execution_count": 261,
   "metadata": {},
   "outputs": [],
   "source": [
    "random_forest = RandomForestClassifier()\n",
    "random_forest.fit(X_train_mod, y_train_mod)\n",
    "y_pred = random_forest.predict(X_test_mod)"
   ]
  },
  {
   "cell_type": "code",
   "execution_count": 262,
   "metadata": {
    "scrolled": true
   },
   "outputs": [
    {
     "name": "stdout",
     "output_type": "stream",
     "text": [
      "             precision    recall  f1-score   support\n",
      "\n",
      "          0       0.95      0.93      0.94       876\n",
      "          1       0.13      0.19      0.15        48\n",
      "\n",
      "avg / total       0.91      0.89      0.90       924\n",
      "\n"
     ]
    }
   ],
   "source": [
    "print(metrics.classification_report(y_test_mod, y_pred))"
   ]
  },
  {
   "cell_type": "code",
   "execution_count": 263,
   "metadata": {},
   "outputs": [
    {
     "data": {
      "text/plain": [
       "array([[814,  62],\n",
       "       [ 39,   9]])"
      ]
     },
     "execution_count": 263,
     "metadata": {},
     "output_type": "execute_result"
    }
   ],
   "source": [
    "metrics.confusion_matrix(y_test_mod, y_pred)"
   ]
  },
  {
   "cell_type": "code",
   "execution_count": 264,
   "metadata": {},
   "outputs": [
    {
     "data": {
      "text/plain": [
       "0.5112414467253177"
      ]
     },
     "execution_count": 264,
     "metadata": {},
     "output_type": "execute_result"
    }
   ],
   "source": [
    "y_scores = cross_val_predict(random_forest, X_train_mod, y_train_mod, cv=10)\n",
    "np.mean(y_scores)"
   ]
  },
  {
   "cell_type": "code",
   "execution_count": 92,
   "metadata": {},
   "outputs": [],
   "source": [
    "y_prob_random_forest = random_forest.predict_proba(X_test_mod)[:, 1]"
   ]
  },
  {
   "cell_type": "code",
   "execution_count": 93,
   "metadata": {},
   "outputs": [],
   "source": [
    "random_forest_p, random_forest_r, random_forest_t = precision_recall_curve(y_test_mod, y_prob_random_forest)"
   ]
  },
  {
   "cell_type": "code",
   "execution_count": 178,
   "metadata": {},
   "outputs": [],
   "source": [
    "# grid-search\n",
    "\n",
    "param_grid = {'n_estimators': range(20, 40), 'max_features': np.linspace(1, 40, 1)}\n",
    "grid_search = GridSearchCV(random_forest, param_grid, cv=5, scoring=\"recall\")"
   ]
  },
  {
   "cell_type": "code",
   "execution_count": null,
   "metadata": {},
   "outputs": [],
   "source": []
  },
  {
   "cell_type": "code",
   "execution_count": 179,
   "metadata": {},
   "outputs": [],
   "source": [
    "best_model = grid_search.fit(X_train_mod, y_train_mod)"
   ]
  },
  {
   "cell_type": "code",
   "execution_count": 180,
   "metadata": {},
   "outputs": [
    {
     "data": {
      "text/plain": [
       "{'max_features': 1.0, 'n_estimators': 33}"
      ]
     },
     "execution_count": 180,
     "metadata": {},
     "output_type": "execute_result"
    }
   ],
   "source": [
    "grid_search.best_params_"
   ]
  },
  {
   "cell_type": "code",
   "execution_count": 181,
   "metadata": {},
   "outputs": [],
   "source": [
    "rf2 = RandomForestClassifier(max_features=1, n_estimators=33)\n",
    "rf2.fit(X_train, y_train)\n",
    "y_pred = rf2.predict(X_test_mod)"
   ]
  },
  {
   "cell_type": "code",
   "execution_count": 182,
   "metadata": {},
   "outputs": [
    {
     "name": "stdout",
     "output_type": "stream",
     "text": [
      "             precision    recall  f1-score   support\n",
      "\n",
      "          0       0.95      1.00      0.97       876\n",
      "          1       0.00      0.00      0.00        48\n",
      "\n",
      "avg / total       0.90      0.95      0.92       924\n",
      "\n"
     ]
    },
    {
     "name": "stderr",
     "output_type": "stream",
     "text": [
      "/anaconda3/lib/python3.6/site-packages/sklearn/metrics/classification.py:1135: UndefinedMetricWarning: Precision and F-score are ill-defined and being set to 0.0 in labels with no predicted samples.\n",
      "  'precision', 'predicted', average, warn_for)\n"
     ]
    }
   ],
   "source": [
    "print(metrics.classification_report(y_test_mod, y_pred))"
   ]
  },
  {
   "cell_type": "code",
   "execution_count": 183,
   "metadata": {},
   "outputs": [
    {
     "data": {
      "text/plain": [
       "array([0.0959552 , 0.05756425, 0.08459062, 0.04226979, 0.0557679 ,\n",
       "       0.06070618, 0.04870465, 0.06210336, 0.06016775, 0.15300364,\n",
       "       0.08078879, 0.15566586, 0.04271202])"
      ]
     },
     "execution_count": 183,
     "metadata": {},
     "output_type": "execute_result"
    }
   ],
   "source": [
    "random_forest.feature_importances_"
   ]
  },
  {
   "cell_type": "code",
   "execution_count": 187,
   "metadata": {},
   "outputs": [
    {
     "data": {
      "text/plain": [
       "[('population', 0.09595519945152745),\n",
       " ('growth', 0.05756424745802885),\n",
       " ('households', 0.08459061528609149),\n",
       " ('median_age', 0.042269785609668584),\n",
       " ('per_cap_income', 0.055767903023828794),\n",
       " ('hh_income', 0.06070618248165849),\n",
       " ('unempl_rate', 0.048704648555357895),\n",
       " ('poverty_rate', 0.062103356361851825),\n",
       " ('hs_rate', 0.06016774787806378),\n",
       " ('college_rate', 0.1530036362448059),\n",
       " ('density', 0.0807887881843627),\n",
       " ('white_rate', 0.15566586495845866),\n",
       " ('hisp_rate', 0.04271202450629558)]"
      ]
     },
     "execution_count": 187,
     "metadata": {},
     "output_type": "execute_result"
    }
   ],
   "source": [
    "list(zip(df.columns[0:-1], random_forest.feature_importances_))"
   ]
  },
  {
   "cell_type": "code",
   "execution_count": 292,
   "metadata": {},
   "outputs": [
    {
     "data": {
      "text/plain": [
       "<Container object of 13 artists>"
      ]
     },
     "execution_count": 292,
     "metadata": {},
     "output_type": "execute_result"
    },
    {
     "data": {
      "image/png": "[encoded data removed]",
      "text/plain": [
       "<matplotlib.figure.Figure at 0x1a17918198>"
      ]
     },
     "metadata": {},
     "output_type": "display_data"
    }
   ],
   "source": [
    "plt.xticks(rotation=90)\n",
    "plt.bar(df.columns[0:-1], random_forest.feature_importances_)"
   ]
  },
  {
   "cell_type": "markdown",
   "metadata": {},
   "source": [
    "## Gaussian-Bayes"
   ]
  },
  {
   "cell_type": "code",
   "execution_count": 58,
   "metadata": {},
   "outputs": [],
   "source": [
    "from sklearn import naive_bayes, metrics"
   ]
  },
  {
   "cell_type": "code",
   "execution_count": 59,
   "metadata": {},
   "outputs": [],
   "source": [
    "gb = naive_bayes.GaussianNB()\n",
    "gb.fit(X_train_mod, y_train_mod)\n",
    "y_pred = gb.predict(X_test_mod)"
   ]
  },
  {
   "cell_type": "code",
   "execution_count": 60,
   "metadata": {},
   "outputs": [
    {
     "name": "stdout",
     "output_type": "stream",
     "text": [
      "             precision    recall  f1-score   support\n",
      "\n",
      "          0       0.97      0.53      0.68       876\n",
      "          1       0.08      0.73      0.14        48\n",
      "\n",
      "avg / total       0.93      0.54      0.65       924\n",
      "\n"
     ]
    }
   ],
   "source": [
    "print(metrics.classification_report(y_test_mod, y_pred))"
   ]
  },
  {
   "cell_type": "code",
   "execution_count": 61,
   "metadata": {},
   "outputs": [
    {
     "data": {
      "text/plain": [
       "array([[461, 415],\n",
       "       [ 13,  35]])"
      ]
     },
     "execution_count": 61,
     "metadata": {},
     "output_type": "execute_result"
    }
   ],
   "source": [
    "metrics.confusion_matrix(y_test_mod, y_pred)"
   ]
  },
  {
   "cell_type": "code",
   "execution_count": 63,
   "metadata": {},
   "outputs": [
    {
     "data": {
      "text/plain": [
       "0.6373411534701857"
      ]
     },
     "execution_count": 63,
     "metadata": {},
     "output_type": "execute_result"
    }
   ],
   "source": [
    "y_scores = cross_val_predict(gb, X_train_mod, y_train_mod, cv=10)\n",
    "np.mean(y_scores)"
   ]
  },
  {
   "cell_type": "code",
   "execution_count": 94,
   "metadata": {},
   "outputs": [],
   "source": [
    "y_prob_gb = gb.predict_proba(X_test_mod)[:, 1]"
   ]
  },
  {
   "cell_type": "code",
   "execution_count": 95,
   "metadata": {},
   "outputs": [],
   "source": [
    "gb_p, gb_r, random_forest_t = precision_recall_curve(y_test_mod, y_prob_gb)"
   ]
  },
  {
   "cell_type": "code",
   "execution_count": null,
   "metadata": {},
   "outputs": [],
   "source": []
  },
  {
   "cell_type": "markdown",
   "metadata": {},
   "source": [
    "## Precision-Recall Plot"
   ]
  },
  {
   "cell_type": "code",
   "execution_count": 259,
   "metadata": {},
   "outputs": [
    {
     "data": {
      "image/png": "[encoded data removed]",
      "text/plain": [
       "<matplotlib.figure.Figure at 0x1a18241b38>"
      ]
     },
     "metadata": {},
     "output_type": "display_data"
    }
   ],
   "source": [
    "# plot P-R for all models\n",
    "\n",
    "fig, ax = plt.subplots(figsize=(10, 6))\n",
    "\n",
    "# Logisitic Regression\n",
    "ax.plot(logreg_r, logreg_p, label='Logistic Regression')\n",
    "# SVM\n",
    "ax.plot(rbf_svm_r, rbf_svm_p, label='SVM')\n",
    "# KNN\n",
    "ax.plot(knn_r, knn_p, label='KNN')\n",
    "# Random Forest\n",
    "ax.plot(random_forest_r, random_forest_p, label='Random Forest')\n",
    "# Gaussian-Bayes\n",
    "ax.plot(gb_r, gb_p, label='GaussianNB')\n",
    "\n",
    "# ax.set_xlim(0, 1.01)\n",
    "# ax.set_ylim(0, 1)\n",
    "ax.set_title('Precision-Recall Curve', fontsize=22)\n",
    "ax.set_ylabel('Precision', fontsize=18)\n",
    "ax.set_xlabel('Recall', fontsize=18)\n",
    "ax.legend(loc='upper right', fontsize=16)\n",
    "ax.tick_params(axis = 'both', which = 'major', labelsize = 16)\n",
    "\n",
    "plt.show()\n",
    "fig.savefig(\"prcurve.png\")"
   ]
  },
  {
   "cell_type": "code",
   "execution_count": 203,
   "metadata": {},
   "outputs": [
    {
     "data": {
      "text/plain": [
       "<matplotlib.legend.Legend at 0x1a18721320>"
      ]
     },
     "execution_count": 203,
     "metadata": {},
     "output_type": "execute_result"
    },
    {
     "data": {
      "image/png": "[encoded data removed]",
      "text/plain": [
       "<matplotlib.figure.Figure at 0x1a18c70f60>"
      ]
     },
     "metadata": {},
     "output_type": "display_data"
    }
   ],
   "source": [
    "# plot P-R for all models\n",
    "\n",
    "fig, ax = plt.subplots(figsize=(10, 6))\n",
    "\n",
    "# Logisitic Regression\n",
    "logreg_t=np.vstack([logreg_t.reshape([-1,1]),1])\n",
    "ax.plot(logreg_t, logreg_p, label='Precision')\n",
    "ax.plot(logreg_r, logreg_t, label='Recall')\n",
    "# SVM\n",
    "#ax.plot(rbf_svm_r, rbf_svm_p, label='SVM')\n",
    "# KNN\n",
    "#ax.plot(knn_r, knn_p, label='KNN')\n",
    "# Random Forest\n",
    "#ax.plot(random_forest_r, random_forest_p, label='Random Forest')\n",
    "# Gaussian-Bayes\n",
    "#ax.plot(gb_r, gb_p, label='GaussianNB')\n",
    "\n",
    "# ax.set_xlim(0, 1.01)\n",
    "# ax.set_ylim(0, 1)\n",
    "ax.set_title('Precision-Recall Curve')\n",
    "ax.set_ylabel('Precision')\n",
    "ax.set_xlabel('Recall')\n",
    "ax.legend(loc='upper right')"
   ]
  },
  {
   "cell_type": "markdown",
   "metadata": {},
   "source": [
    "## ROC-AUC"
   ]
  },
  {
   "cell_type": "code",
   "execution_count": 74,
   "metadata": {},
   "outputs": [],
   "source": [
    "from sklearn.metrics import roc_curve"
   ]
  },
  {
   "cell_type": "code",
   "execution_count": 45,
   "metadata": {},
   "outputs": [],
   "source": [
    "fpr, tpr, thresholds = metrics.roc_curve(y_test, y_prob_logreg)"
   ]
  },
  {
   "cell_type": "code",
   "execution_count": 46,
   "metadata": {},
   "outputs": [
    {
     "data": {
      "image/png": "[encoded data removed]",
      "text/plain": [
       "<matplotlib.figure.Figure at 0x1a12dcdfd0>"
      ]
     },
     "metadata": {},
     "output_type": "display_data"
    }
   ],
   "source": [
    "fpr, tpr, thresholds = metrics.roc_curve(y_test, y_prob_logreg)\n",
    "plt.plot(fpr, tpr)\n",
    "#fpr, tpr, thresholds = metrics.roc_curve(y_test, y_pred_prob_logreg)\n",
    "plt.xlim([0.0, 1.0])\n",
    "plt.ylim([0.0, 1.1])\n",
    "plt.title('ROC curve')\n",
    "plt.xlabel('False Positive Rate (1 - Specificity)')\n",
    "plt.ylabel('True Positive Rate (Sensitivity)')\n",
    "plt.grid(True)"
   ]
  },
  {
   "cell_type": "code",
   "execution_count": 42,
   "metadata": {},
   "outputs": [],
   "source": [
    "from sklearn.metrics import precision_recall_curve"
   ]
  },
  {
   "cell_type": "code",
   "execution_count": 87,
   "metadata": {},
   "outputs": [],
   "source": [
    "p,r,t=precision_recall_curve(y_test,y_prob_logreg)\n",
    "t=np.vstack([t.reshape([-1,1]),1])"
   ]
  },
  {
   "cell_type": "code",
   "execution_count": 88,
   "metadata": {},
   "outputs": [
    {
     "data": {
      "image/png": "[encoded data removed]",
      "text/plain": [
       "<matplotlib.figure.Figure at 0x1a1d8f6f28>"
      ]
     },
     "metadata": {},
     "output_type": "display_data"
    }
   ],
   "source": [
    "\n",
    "plt.plot(p,t)\n",
    "plt.plot(r,t);\n",
    "plt.title('Precision Recall Curve');"
   ]
  },
  {
   "cell_type": "code",
   "execution_count": 44,
   "metadata": {},
   "outputs": [
    {
     "data": {
      "image/png": "[encoded data removed]",
      "text/plain": [
       "<matplotlib.figure.Figure at 0x1a12de1320>"
      ]
     },
     "metadata": {},
     "output_type": "display_data"
    }
   ],
   "source": [
    "# plot learning curve\n",
    "\n",
    "#plt.style.use('default')\n",
    "\n",
    "fig, ax = plt.subplots(figsize=(10, 6))\n",
    "\n",
    "# plot P-R for all models\n",
    "p,r,t=precision_recall_curve(y_test, y_prob_logreg)\n",
    "ax.plot(r, p, label='Logistic Regression')\n",
    "p,r,t=precision_recall_curve(y_test, y_prob_svm)\n",
    "ax.plot(r, p, label='SVM')\n",
    "#p,r,t=precision_recall_curve(y_test, y_prob_knn)\n",
    "#ax.plot(r, p, label='KNN')\n",
    "p,r,t=precision_recall_curve(y_test, y_prob_random_forest)\n",
    "ax.plot(r, p, label='Random Forest')\n",
    "p,r,t=precision_recall_curve(y_test, y_prob_gb)\n",
    "ax.plot(r, p, label='GaussianNB')\n",
    "\n",
    "y_prob_gb\n",
    "\n",
    "ax.set_xlim(0, 1.01)\n",
    "ax.set_ylim(0, 1)\n",
    "ax.set_title('Precision-Recall Curve')\n",
    "ax.set_ylabel('Precision')\n",
    "ax.set_xlabel('Recall')\n",
    "ax.legend(loc='lower left')\n",
    "\n",
    "plt.show()"
   ]
  },
  {
   "cell_type": "markdown",
   "metadata": {},
   "source": [
    "## Conclusion\n",
    "Choose logistic regression has best recall and decent precision. More concerned with capturing all close counties. Logistic also provides parameter info."
   ]
  },
  {
   "cell_type": "code",
   "execution_count": null,
   "metadata": {},
   "outputs": [],
   "source": []
  }
 ],
 "metadata": {
  "kernelspec": {
   "display_name": "Python 3",
   "language": "python",
   "name": "python3"
  },
  "language_info": {
   "codemirror_mode": {
    "name": "ipython",
    "version": 3
   },
   "file_extension": ".py",
   "mimetype": "text/x-python",
   "name": "python",
   "nbconvert_exporter": "python",
   "pygments_lexer": "ipython3",
   "version": "3.6.4"
  }
 },
 "nbformat": 4,
 "nbformat_minor": 2
}
