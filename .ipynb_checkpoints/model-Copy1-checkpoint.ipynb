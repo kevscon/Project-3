{
 "cells": [
  {
   "cell_type": "markdown",
   "metadata": {},
   "source": [
    "# Model"
   ]
  },
  {
   "cell_type": "code",
   "execution_count": 1,
   "metadata": {},
   "outputs": [
    {
     "name": "stdout",
     "output_type": "stream",
     "text": [
      "Populating the interactive namespace from numpy and matplotlib\n"
     ]
    }
   ],
   "source": [
    "import pandas as pd\n",
    "import numpy as np\n",
    "import matplotlib.pyplot as plt"
   ]
  },
  {
   "cell_type": "code",
   "execution_count": 2,
   "metadata": {},
   "outputs": [],
   "source": [
    "df = pd.read_pickle('dataframe.pkl')"
   ]
  },
  {
   "cell_type": "code",
   "execution_count": 3,
   "metadata": {},
   "outputs": [
    {
     "data": {
      "text/html": [
       "<div>\n",
       "<style scoped>\n",
       "    .dataframe tbody tr th:only-of-type {\n",
       "        vertical-align: middle;\n",
       "    }\n",
       "\n",
       "    .dataframe tbody tr th {\n",
       "        vertical-align: top;\n",
       "    }\n",
       "\n",
       "    .dataframe thead th {\n",
       "        text-align: right;\n",
       "    }\n",
       "</style>\n",
       "<table border=\"1\" class=\"dataframe\">\n",
       "  <thead>\n",
       "    <tr style=\"text-align: right;\">\n",
       "      <th></th>\n",
       "      <th>population</th>\n",
       "      <th>growth</th>\n",
       "      <th>households</th>\n",
       "      <th>median_age</th>\n",
       "      <th>per_cap_income</th>\n",
       "      <th>hh_income</th>\n",
       "      <th>labor_force</th>\n",
       "      <th>unempl_rate</th>\n",
       "      <th>poverty_rate</th>\n",
       "      <th>hs_rate</th>\n",
       "      <th>college_rate</th>\n",
       "      <th>close_elect</th>\n",
       "    </tr>\n",
       "  </thead>\n",
       "  <tbody>\n",
       "    <tr>\n",
       "      <th>0</th>\n",
       "      <td>55504.0</td>\n",
       "      <td>1.7</td>\n",
       "      <td>20800.0</td>\n",
       "      <td>37.8</td>\n",
       "      <td>39721.0</td>\n",
       "      <td>54487.0</td>\n",
       "      <td>25909.0</td>\n",
       "      <td>3.9</td>\n",
       "      <td>13.5</td>\n",
       "      <td>87.6</td>\n",
       "      <td>24.6</td>\n",
       "      <td>0</td>\n",
       "    </tr>\n",
       "    <tr>\n",
       "      <th>1</th>\n",
       "      <td>212628.0</td>\n",
       "      <td>16.7</td>\n",
       "      <td>75149.0</td>\n",
       "      <td>42.3</td>\n",
       "      <td>41286.0</td>\n",
       "      <td>56460.0</td>\n",
       "      <td>91567.0</td>\n",
       "      <td>4.0</td>\n",
       "      <td>11.7</td>\n",
       "      <td>90.0</td>\n",
       "      <td>29.5</td>\n",
       "      <td>0</td>\n",
       "    </tr>\n",
       "    <tr>\n",
       "      <th>2</th>\n",
       "      <td>25270.0</td>\n",
       "      <td>-8.0</td>\n",
       "      <td>9122.0</td>\n",
       "      <td>38.7</td>\n",
       "      <td>31788.0</td>\n",
       "      <td>32884.0</td>\n",
       "      <td>8236.0</td>\n",
       "      <td>5.9</td>\n",
       "      <td>29.9</td>\n",
       "      <td>73.8</td>\n",
       "      <td>12.9</td>\n",
       "      <td>1</td>\n",
       "    </tr>\n",
       "    <tr>\n",
       "      <th>3</th>\n",
       "      <td>22668.0</td>\n",
       "      <td>-1.1</td>\n",
       "      <td>7048.0</td>\n",
       "      <td>40.2</td>\n",
       "      <td>29264.0</td>\n",
       "      <td>43079.0</td>\n",
       "      <td>8506.0</td>\n",
       "      <td>4.4</td>\n",
       "      <td>20.1</td>\n",
       "      <td>80.7</td>\n",
       "      <td>12.0</td>\n",
       "      <td>0</td>\n",
       "    </tr>\n",
       "    <tr>\n",
       "      <th>4</th>\n",
       "      <td>58013.0</td>\n",
       "      <td>1.2</td>\n",
       "      <td>20619.0</td>\n",
       "      <td>40.8</td>\n",
       "      <td>31470.0</td>\n",
       "      <td>47213.0</td>\n",
       "      <td>24494.0</td>\n",
       "      <td>4.0</td>\n",
       "      <td>14.1</td>\n",
       "      <td>80.0</td>\n",
       "      <td>13.0</td>\n",
       "      <td>0</td>\n",
       "    </tr>\n",
       "  </tbody>\n",
       "</table>\n",
       "</div>"
      ],
      "text/plain": [
       "   population  growth  households  median_age  per_cap_income  hh_income  \\\n",
       "0     55504.0     1.7     20800.0        37.8         39721.0    54487.0   \n",
       "1    212628.0    16.7     75149.0        42.3         41286.0    56460.0   \n",
       "2     25270.0    -8.0      9122.0        38.7         31788.0    32884.0   \n",
       "3     22668.0    -1.1      7048.0        40.2         29264.0    43079.0   \n",
       "4     58013.0     1.2     20619.0        40.8         31470.0    47213.0   \n",
       "\n",
       "   labor_force  unempl_rate  poverty_rate  hs_rate  college_rate  close_elect  \n",
       "0      25909.0          3.9          13.5     87.6          24.6            0  \n",
       "1      91567.0          4.0          11.7     90.0          29.5            0  \n",
       "2       8236.0          5.9          29.9     73.8          12.9            1  \n",
       "3       8506.0          4.4          20.1     80.7          12.0            0  \n",
       "4      24494.0          4.0          14.1     80.0          13.0            0  "
      ]
     },
     "execution_count": 3,
     "metadata": {},
     "output_type": "execute_result"
    }
   ],
   "source": [
    "df.head()"
   ]
  },
  {
   "cell_type": "code",
   "execution_count": 4,
   "metadata": {},
   "outputs": [],
   "source": [
    "# drop rows with nans\n",
    "\n",
    "df = df.dropna()"
   ]
  },
  {
   "cell_type": "code",
   "execution_count": 5,
   "metadata": {},
   "outputs": [
    {
     "data": {
      "text/html": [
       "<div>\n",
       "<style scoped>\n",
       "    .dataframe tbody tr th:only-of-type {\n",
       "        vertical-align: middle;\n",
       "    }\n",
       "\n",
       "    .dataframe tbody tr th {\n",
       "        vertical-align: top;\n",
       "    }\n",
       "\n",
       "    .dataframe thead th {\n",
       "        text-align: right;\n",
       "    }\n",
       "</style>\n",
       "<table border=\"1\" class=\"dataframe\">\n",
       "  <thead>\n",
       "    <tr style=\"text-align: right;\">\n",
       "      <th></th>\n",
       "      <th>population</th>\n",
       "      <th>growth</th>\n",
       "      <th>households</th>\n",
       "      <th>median_age</th>\n",
       "      <th>per_cap_income</th>\n",
       "      <th>hh_income</th>\n",
       "      <th>labor_force</th>\n",
       "      <th>unempl_rate</th>\n",
       "      <th>poverty_rate</th>\n",
       "      <th>hs_rate</th>\n",
       "      <th>college_rate</th>\n",
       "    </tr>\n",
       "    <tr>\n",
       "      <th>close_elect</th>\n",
       "      <th></th>\n",
       "      <th></th>\n",
       "      <th></th>\n",
       "      <th></th>\n",
       "      <th></th>\n",
       "      <th></th>\n",
       "      <th></th>\n",
       "      <th></th>\n",
       "      <th></th>\n",
       "      <th></th>\n",
       "      <th></th>\n",
       "    </tr>\n",
       "  </thead>\n",
       "  <tbody>\n",
       "    <tr>\n",
       "      <th>0</th>\n",
       "      <td>96130.213511</td>\n",
       "      <td>0.654778</td>\n",
       "      <td>34849.730837</td>\n",
       "      <td>41.203920</td>\n",
       "      <td>40616.088554</td>\n",
       "      <td>49092.827791</td>\n",
       "      <td>47259.882744</td>\n",
       "      <td>4.601295</td>\n",
       "      <td>15.904970</td>\n",
       "      <td>85.634162</td>\n",
       "      <td>20.188939</td>\n",
       "    </tr>\n",
       "    <tr>\n",
       "      <th>1</th>\n",
       "      <td>200647.364865</td>\n",
       "      <td>2.259009</td>\n",
       "      <td>71924.959459</td>\n",
       "      <td>39.253604</td>\n",
       "      <td>42160.738739</td>\n",
       "      <td>53460.472973</td>\n",
       "      <td>100270.324324</td>\n",
       "      <td>4.683333</td>\n",
       "      <td>15.774775</td>\n",
       "      <td>87.963514</td>\n",
       "      <td>26.509910</td>\n",
       "    </tr>\n",
       "  </tbody>\n",
       "</table>\n",
       "</div>"
      ],
      "text/plain": [
       "                population    growth    households  median_age  \\\n",
       "close_elect                                                      \n",
       "0             96130.213511  0.654778  34849.730837   41.203920   \n",
       "1            200647.364865  2.259009  71924.959459   39.253604   \n",
       "\n",
       "             per_cap_income     hh_income    labor_force  unempl_rate  \\\n",
       "close_elect                                                             \n",
       "0              40616.088554  49092.827791   47259.882744     4.601295   \n",
       "1              42160.738739  53460.472973  100270.324324     4.683333   \n",
       "\n",
       "             poverty_rate    hs_rate  college_rate  \n",
       "close_elect                                         \n",
       "0               15.904970  85.634162     20.188939  \n",
       "1               15.774775  87.963514     26.509910  "
      ]
     },
     "execution_count": 5,
     "metadata": {},
     "output_type": "execute_result"
    }
   ],
   "source": [
    "# inspect mean values of features for not-close vs close outcomes\n",
    "\n",
    "df.groupby('close_elect').mean()"
   ]
  },
  {
   "cell_type": "code",
   "execution_count": null,
   "metadata": {},
   "outputs": [],
   "source": []
  },
  {
   "cell_type": "markdown",
   "metadata": {},
   "source": [
    "## Model Preprocessing\n",
    "- Calculate null accuracy\n",
    "- Define feature matrix and response vector\n",
    "- Split data into test/train\n",
    "- Scale feature (X) matricies"
   ]
  },
  {
   "cell_type": "code",
   "execution_count": 7,
   "metadata": {},
   "outputs": [],
   "source": [
    "# check test accuracy\n",
    "# confusion matrix - precision, recall, accuracy\n",
    "# feature importance\n",
    "# future use of model, predictions\n",
    "# look where model fails\n",
    "# cost of being wrong for FP and FN\n",
    "# logistic regression assumes normal distribution?"
   ]
  },
  {
   "cell_type": "code",
   "execution_count": 8,
   "metadata": {},
   "outputs": [
    {
     "data": {
      "text/plain": [
       "0.9278986683988308"
      ]
     },
     "execution_count": 8,
     "metadata": {},
     "output_type": "execute_result"
    }
   ],
   "source": [
    "# null model accuracy - guess '0' every time\n",
    "\n",
    "(df['close_elect'] == 0).sum() / len(df)"
   ]
  },
  {
   "cell_type": "code",
   "execution_count": 9,
   "metadata": {},
   "outputs": [],
   "source": [
    "# initialize feature matrix and observed outcome\n",
    "\n",
    "X = df.iloc[:, 0:11]\n",
    "y = df.iloc[:, 11]"
   ]
  },
  {
   "cell_type": "code",
   "execution_count": 10,
   "metadata": {},
   "outputs": [],
   "source": [
    "from sklearn.cross_validation import train_test_split\n",
    "\n",
    "# test/train split\n",
    "\n",
    "X_train, X_test, y_train, y_test = train_test_split(X, y, test_size=0.3, random_state=0)"
   ]
  },
  {
   "cell_type": "code",
   "execution_count": 20,
   "metadata": {},
   "outputs": [],
   "source": [
    "from imblearn.over_sampling import SMOTE\n",
    "\n",
    "# smote\n",
    "\n",
    "sm = SMOTE(random_state=42)\n",
    "X_res, y_res = sm.fit_sample(X_train, y_train)"
   ]
  },
  {
   "cell_type": "code",
   "execution_count": 28,
   "metadata": {},
   "outputs": [],
   "source": [
    "# standardize training set\n",
    "from sklearn import preprocessing\n",
    "\n",
    "scaler = preprocessing.StandardScaler()\n",
    "scaler.fit(X_res)\n",
    "\n",
    "# transform train data\n",
    "X_train_trans = scaler.transform(X_res)\n",
    "X_train_trans = pd.DataFrame(X_train_trans)\n",
    "\n",
    "# transform test data\n",
    "X_test_trans = scaler.transform(X_test)\n",
    "X_test_trans = pd.DataFrame(X_test_trans)"
   ]
  },
  {
   "cell_type": "markdown",
   "metadata": {},
   "source": [
    "## Random Forest"
   ]
  },
  {
   "cell_type": "code",
   "execution_count": 29,
   "metadata": {},
   "outputs": [
    {
     "data": {
      "text/plain": [
       "4002"
      ]
     },
     "execution_count": 29,
     "metadata": {},
     "output_type": "execute_result"
    }
   ],
   "source": [
    "len(X_train_trans)"
   ]
  },
  {
   "cell_type": "code",
   "execution_count": 30,
   "metadata": {},
   "outputs": [
    {
     "data": {
      "text/plain": [
       "0.512743628185907"
      ]
     },
     "execution_count": 30,
     "metadata": {},
     "output_type": "execute_result"
    }
   ],
   "source": [
    "# Random Forest\n",
    "from sklearn.ensemble import RandomForestClassifier\n",
    "from sklearn.model_selection import cross_val_predict\n",
    "\n",
    "random_forest = RandomForestClassifier()\n",
    "random_forest.fit(X_train_trans, y_res)\n",
    "\n",
    "y_train_pred = cross_val_predict(random_forest, X_train_trans, y_res, cv=10)\n",
    "#np.mean(model_selection.cross_val_score(random_forest, X_train, y_train, cv=kfold))\n",
    "#np.mean(model_selection.cross_val_score(random_forest, X_test, y_test, cv=kfold))\n",
    "y_train_pred.mean()"
   ]
  },
  {
   "cell_type": "code",
   "execution_count": 31,
   "metadata": {},
   "outputs": [
    {
     "data": {
      "text/plain": [
       "array([[1818,  183],\n",
       "       [ 132, 1869]])"
      ]
     },
     "execution_count": 31,
     "metadata": {},
     "output_type": "execute_result"
    }
   ],
   "source": [
    "from sklearn.metrics import confusion_matrix\n",
    "\n",
    "confusion_matrix(y_res, y_train_pred)"
   ]
  },
  {
   "cell_type": "code",
   "execution_count": 32,
   "metadata": {},
   "outputs": [
    {
     "name": "stdout",
     "output_type": "stream",
     "text": [
      "Precision:  0.9108187134502924\n",
      "Recall:  0.9340329835082459\n"
     ]
    }
   ],
   "source": [
    "from sklearn.metrics import precision_score, recall_score\n",
    "\n",
    "# report precision and recall values\n",
    "print(\"Precision: \", precision_score(y_res, y_train_pred))\n",
    "print(\"Recall: \", recall_score(y_res, y_train_pred))"
   ]
  },
  {
   "cell_type": "code",
   "execution_count": 33,
   "metadata": {},
   "outputs": [
    {
     "name": "stdout",
     "output_type": "stream",
     "text": [
      "F1:  0.9222797927461142\n"
     ]
    }
   ],
   "source": [
    "from sklearn.metrics import f1_score\n",
    "\n",
    "print(\"F1: \", f1_score(y_res, y_train_pred))"
   ]
  },
  {
   "cell_type": "code",
   "execution_count": 42,
   "metadata": {},
   "outputs": [
    {
     "data": {
      "text/plain": [
       "array([[0.6, 0.4],\n",
       "       [0.6, 0.4],\n",
       "       [0.8, 0.2],\n",
       "       ...,\n",
       "       [0.6, 0.4],\n",
       "       [0.8, 0.2],\n",
       "       [0.8, 0.2]])"
      ]
     },
     "execution_count": 42,
     "metadata": {},
     "output_type": "execute_result"
    }
   ],
   "source": [
    "random_forest.predict_proba(X_test)"
   ]
  },
  {
   "cell_type": "code",
   "execution_count": 43,
   "metadata": {},
   "outputs": [],
   "source": [
    "# grid search"
   ]
  },
  {
   "cell_type": "code",
   "execution_count": 40,
   "metadata": {},
   "outputs": [
    {
     "name": "stdout",
     "output_type": "stream",
     "text": [
      "             precision    recall  f1-score   support\n",
      "\n",
      "          0       0.93      1.00      0.96       856\n",
      "          1       0.00      0.00      0.00        68\n",
      "\n",
      "avg / total       0.86      0.93      0.89       924\n",
      "\n"
     ]
    },
    {
     "name": "stderr",
     "output_type": "stream",
     "text": [
      "/anaconda3/lib/python3.6/site-packages/sklearn/metrics/classification.py:1135: UndefinedMetricWarning: Precision and F-score are ill-defined and being set to 0.0 in labels with no predicted samples.\n",
      "  'precision', 'predicted', average, warn_for)\n"
     ]
    }
   ],
   "source": [
    "from sklearn.metrics import classification_report\n",
    "\n",
    "y_test_pred = random_forest.predict(X_test)\n",
    "print(classification_report(y_test, y_test_pred))"
   ]
  },
  {
   "cell_type": "code",
   "execution_count": 34,
   "metadata": {},
   "outputs": [],
   "source": [
    "from sklearn.metrics import precision_recall_curve\n",
    "\n",
    "#y_train_scores = cross_val_predict(random_forest, X_train_trans, y_train, cv=10,\n",
    " #                                method=\"decision_function\")\n",
    "\n",
    "precisions, recalls, thresholds = precision_recall_curve(y_res, y_train_pred)"
   ]
  },
  {
   "cell_type": "code",
   "execution_count": 35,
   "metadata": {},
   "outputs": [
    {
     "data": {
      "image/png": "[encoded data removed]",
      "text/plain": [
       "<matplotlib.figure.Figure at 0x1a08d13ef0>"
      ]
     },
     "metadata": {},
     "output_type": "display_data"
    }
   ],
   "source": [
    "def plot_precision_recall_vs_threshold(precisions, recalls, thresholds): \n",
    "    plt.plot(thresholds, precisions[:-1], \"b--\", label=\"Precision\") \n",
    "    plt.plot(thresholds, recalls[:-1], \"g-\", label=\"Recall\") \n",
    "    plt.xlabel(\"Threshold\")\n",
    "    plt.legend(loc=\"upper left\")\n",
    "    plt.ylim([0, 1])\n",
    "    \n",
    "plot_precision_recall_vs_threshold(precisions, recalls, thresholds)\n",
    "plt.show()"
   ]
  },
  {
   "cell_type": "code",
   "execution_count": null,
   "metadata": {},
   "outputs": [],
   "source": []
  },
  {
   "cell_type": "code",
   "execution_count": null,
   "metadata": {},
   "outputs": [],
   "source": []
  },
  {
   "cell_type": "code",
   "execution_count": 36,
   "metadata": {},
   "outputs": [
    {
     "data": {
      "text/plain": [
       "array([0.09619245, 0.08090887, 0.07233008, 0.06548903, 0.08520077,\n",
       "       0.07662663, 0.1017595 , 0.07168259, 0.081677  , 0.08928076,\n",
       "       0.17885233])"
      ]
     },
     "execution_count": 36,
     "metadata": {},
     "output_type": "execute_result"
    }
   ],
   "source": [
    "random_forest.feature_importances_"
   ]
  },
  {
   "cell_type": "code",
   "execution_count": 37,
   "metadata": {},
   "outputs": [
    {
     "data": {
      "text/plain": [
       "[('population', 0.09619245104254423),\n",
       " ('growth', 0.08090886535467415),\n",
       " ('households', 0.07233008425730365),\n",
       " ('median_age', 0.06548903309389023),\n",
       " ('per_cap_income', 0.08520076627673559),\n",
       " ('hh_income', 0.0766266290309737),\n",
       " ('labor_force', 0.10175949954022057),\n",
       " ('unempl_rate', 0.07168258651918491),\n",
       " ('poverty_rate', 0.08167699540216622),\n",
       " ('hs_rate', 0.08928076082936764),\n",
       " ('college_rate', 0.17885232865293904)]"
      ]
     },
     "execution_count": 37,
     "metadata": {},
     "output_type": "execute_result"
    }
   ],
   "source": [
    "list(zip(df.columns[0:-1], random_forest.feature_importances_))"
   ]
  },
  {
   "cell_type": "markdown",
   "metadata": {},
   "source": [
    "## Logistic Regression"
   ]
  },
  {
   "cell_type": "code",
   "execution_count": null,
   "metadata": {},
   "outputs": [],
   "source": []
  },
  {
   "cell_type": "markdown",
   "metadata": {},
   "source": [
    "## SVM"
   ]
  },
  {
   "cell_type": "code",
   "execution_count": null,
   "metadata": {},
   "outputs": [],
   "source": []
  },
  {
   "cell_type": "markdown",
   "metadata": {},
   "source": [
    "## Decision Tree"
   ]
  },
  {
   "cell_type": "code",
   "execution_count": null,
   "metadata": {},
   "outputs": [],
   "source": []
  }
 ],
 "metadata": {
  "kernelspec": {
   "display_name": "Python 3",
   "language": "python",
   "name": "python3"
  },
  "language_info": {
   "codemirror_mode": {
    "name": "ipython",
    "version": 3
   },
   "file_extension": ".py",
   "mimetype": "text/x-python",
   "name": "python",
   "nbconvert_exporter": "python",
   "pygments_lexer": "ipython3",
   "version": "3.6.4"
  }
 },
 "nbformat": 4,
 "nbformat_minor": 2
}
